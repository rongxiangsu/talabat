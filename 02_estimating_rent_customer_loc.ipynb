{
 "cells": [
  {
   "cell_type": "code",
   "execution_count": null,
   "metadata": {},
   "outputs": [],
   "source": [
    "import datetime\n",
    "import geopandas as gpd\n",
    "import matplotlib.pyplot as plt\n",
    "import pandas as pd\n",
    "import numpy as np\n",
    "from shapely.geometry import Point\n",
    "from geopandas import GeoDataFrame\n",
    "import os\n",
    "pd.options.display.float_format = '{:.5f}'.format\n",
    "\n",
    "import seaborn as sns\n",
    "pd.set_option(\"display.max_colwidth\", 0)\n",
    "pd.set_option(\"display.max_rows\", 500)\n",
    "pd.set_option(\"display.max_columns\", 500)\n",
    "pd.set_option(\"display.width\", 1000)\n",
    "import warnings\n",
    "warnings.filterwarnings(\"ignore\")"
   ]
  },
  {
   "cell_type": "code",
   "execution_count": null,
   "metadata": {},
   "outputs": [],
   "source": [
    "import sys\n",
    "import logging\n",
    "\n",
    "nblog = open(\"./logs/rent_\"+str(datetime.datetime.now())+\".log\", \"a+\")\n",
    "sys.stdout.echo = nblog\n",
    "sys.stderr.echo = nblog\n",
    "\n",
    "get_ipython().log.handlers[0].stream = nblog\n",
    "get_ipython().log.setLevel(logging.INFO)\n",
    "\n",
    "%autosave 5"
   ]
  },
  {
   "cell_type": "code",
   "execution_count": null,
   "metadata": {},
   "outputs": [],
   "source": [
    "%%time\n",
    "df_localness = pd.read_csv('./data/food_localness_oct.csv',header=0) #,nrows=10\n",
    "df_localness['customer_loc_id'] = df_localness['customer_lon'].astype(str)+df_localness['customer_lat'].astype(str)"
   ]
  },
  {
   "cell_type": "code",
   "execution_count": null,
   "metadata": {},
   "outputs": [],
   "source": [
    "# create geodf for rental locations\n",
    "\n",
    "df_rent = pd.read_csv('./data/units_for_rent.csv', sep=',', header=0,thousands=',')\n",
    "df_rent['price_persqt'] = df_rent['price']/df_rent['floorsize']\n",
    "df_rent = df_rent[['longitude','latitude','price_persqt']]\n",
    "geometry = [Point(xy) for xy in zip(df_rent.longitude, df_rent.latitude)]\n",
    "gdf_rent = GeoDataFrame(df_rent, crs=\"EPSG:4326\", geometry=geometry)\n",
    "gdf_rent = gdf_rent.to_crs(epsg=3857)\n",
    "print(gdf_rent.shape[0])"
   ]
  },
  {
   "cell_type": "code",
   "execution_count": null,
   "metadata": {},
   "outputs": [],
   "source": [
    "%%time\n",
    "# create geodf for customer locations\n",
    "\n",
    "df_unique_customers = df_localness[['customer_loc_id','customer_lon','customer_lat']].drop_duplicates()\n",
    "print(df_unique_customers.shape[0])\n",
    "geometry = [Point(xy) for xy in zip(df_unique_customers.customer_lon, df_unique_customers.customer_lat)]\n",
    "gdf_customer_loc = GeoDataFrame(df_unique_customers, crs=\"EPSG:4326\", geometry=geometry)\n",
    "gdf_customer_loc = gdf_customer_loc.to_crs(epsg=3857)#convert customer locations to 3857\n",
    "gdf_customer_loc = gdf_customer_loc.rename(columns={\"geometry\": \"customer_geometry\"})"
   ]
  },
  {
   "cell_type": "code",
   "execution_count": null,
   "metadata": {},
   "outputs": [],
   "source": [
    "import numpy as np\n",
    "from scipy.spatial import cKDTree\n",
    "\n",
    "def ckdnearest_n(gdA, gdB, nearest_n):\n",
    "    nA = np.array(list(gdA.customer_geometry.apply(lambda x: (x.x, x.y)))) # customer location\n",
    "    nB = np.array(list(gdB.geometry.apply(lambda x: (x.x, x.y)))) # rent location\n",
    "    btree = cKDTree(nB)\n",
    "    # identify the nearest n rentals according to the Euclidean distance if using cKDTree (that's why I convert the coordinates to epsg:3857!!!)\n",
    "    dist, idx = btree.query(nA, k=nearest_n, distance_upper_bound=2000)\n",
    "    allrent = []\n",
    "    for i in range(0,len(idx)): # each loop for one customer location\n",
    "        distance = dist[i]\n",
    "        distance[~np.isfinite(distance)] = -1\n",
    "        distance = [item for item in distance if item >= 0]\n",
    "        if len(distance) == 0: \n",
    "            allrent.append(0)\n",
    "            continue\n",
    "\n",
    "        idlist = idx[i]\n",
    "        idlist = [item for item in idlist if item < gdB.shape[0]]\n",
    "        \n",
    "        if i%1000==0: print(datetime.datetime.now(),i,'/',len(idx))\n",
    "\n",
    "        weights = np.array(gdB.iloc[idlist]['price_persqt'].tolist())\n",
    "        distances = np.array(distance)\n",
    "        # Compute inverse distance weights\n",
    "        id_weights = 1 / distances**2  # assuming p = 2\n",
    "        # Calculate the weighted average\n",
    "        rent_onelocation = np.sum(id_weights * weights) / np.sum(id_weights)\n",
    "        allrent.append(rent_onelocation)\n",
    "    gdA['approxi_rent'] = allrent\n",
    "    return gdA"
   ]
  },
  {
   "cell_type": "code",
   "execution_count": null,
   "metadata": {},
   "outputs": [],
   "source": [
    "%%time\n",
    "import traceback\n",
    "try:\n",
    "    # unique_customerlocs_withrent = ckdnearest_ten(unique_customerlocs.iloc[23:], gdf_rent)\n",
    "    unique_customerlocs_withrent = ckdnearest_n(gdf_customer_loc, gdf_rent, 20)\n",
    "except Exception:\n",
    "    traceback.print_exc()"
   ]
  },
  {
   "cell_type": "code",
   "execution_count": null,
   "metadata": {},
   "outputs": [],
   "source": [
    "print(unique_customerlocs_withrent.shape[0])\n",
    "unique_customerlocs_withrent.head()"
   ]
  },
  {
   "cell_type": "code",
   "execution_count": null,
   "metadata": {},
   "outputs": [],
   "source": [
    "unique_customerlocs_withrent[['customer_loc_id','approxi_rent']].to_csv('./data/estimated_rent_customerlocations_oct.csv',index=False)"
   ]
  },
  {
   "cell_type": "code",
   "execution_count": null,
   "metadata": {},
   "outputs": [],
   "source": []
  },
  {
   "cell_type": "code",
   "execution_count": null,
   "metadata": {},
   "outputs": [],
   "source": []
  }
 ],
 "metadata": {
  "kernelspec": {
   "display_name": "python3.8",
   "language": "python",
   "name": "python3.8"
  },
  "language_info": {
   "codemirror_mode": {
    "name": "ipython",
    "version": 3
   },
   "file_extension": ".py",
   "mimetype": "text/x-python",
   "name": "python",
   "nbconvert_exporter": "python",
   "pygments_lexer": "ipython3",
   "version": "3.8.5"
  }
 },
 "nbformat": 4,
 "nbformat_minor": 2
}
