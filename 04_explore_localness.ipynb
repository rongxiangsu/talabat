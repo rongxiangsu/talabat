{
 "cells": [
  {
   "cell_type": "code",
   "execution_count": 3,
   "metadata": {},
   "outputs": [],
   "source": [
    "import datetime\n",
    "import geopandas as gpd\n",
    "import matplotlib.pyplot as plt\n",
    "import pandas as pd\n",
    "import numpy as np\n",
    "from shapely.geometry import Point\n",
    "from geopandas import GeoDataFrame\n",
    "import os\n",
    "\n",
    "import seaborn as sns\n",
    "pd.set_option(\"display.max_colwidth\", 0)\n",
    "pd.set_option(\"display.max_rows\", 500)\n",
    "pd.set_option(\"display.max_columns\", 500)\n",
    "pd.set_option(\"display.width\", 1000)\n",
    "pd.options.display.float_format = '{:.5f}'.format\n",
    "\n",
    "import warnings\n",
    "warnings.filterwarnings(\"ignore\")"
   ]
  },
  {
   "cell_type": "code",
   "execution_count": 4,
   "metadata": {},
   "outputs": [
    {
     "data": {
      "application/javascript": [
       "IPython.notebook.set_autosave_interval(5000)"
      ]
     },
     "metadata": {},
     "output_type": "display_data"
    },
    {
     "name": "stdout",
     "output_type": "stream",
     "text": [
      "Autosaving every 5 seconds\n"
     ]
    }
   ],
   "source": [
    "import sys\n",
    "import logging\n",
    "import datetime\n",
    "\n",
    "nblog = open(\"./logs/explore_localness_\"+str(datetime.datetime.now())+\".log\", \"a+\")\n",
    "sys.stdout.echo = nblog\n",
    "sys.stderr.echo = nblog\n",
    "\n",
    "get_ipython().log.handlers[0].stream = nblog\n",
    "get_ipython().log.setLevel(logging.INFO)\n",
    "\n",
    "%autosave 5"
   ]
  },
  {
   "cell_type": "code",
   "execution_count": 5,
   "metadata": {},
   "outputs": [
    {
     "name": "stdout",
     "output_type": "stream",
     "text": [
      "unique orders: 2767286\n",
      "unique accounts: 555121\n",
      "CPU times: user 19.5 s, sys: 6.89 s, total: 26.3 s\n",
      "Wall time: 28.8 s\n"
     ]
    },
    {
     "data": {
      "text/html": [
       "<div>\n",
       "<style scoped>\n",
       "    .dataframe tbody tr th:only-of-type {\n",
       "        vertical-align: middle;\n",
       "    }\n",
       "\n",
       "    .dataframe tbody tr th {\n",
       "        vertical-align: top;\n",
       "    }\n",
       "\n",
       "    .dataframe thead th {\n",
       "        text-align: right;\n",
       "    }\n",
       "</style>\n",
       "<table border=\"1\" class=\"dataframe\">\n",
       "  <thead>\n",
       "    <tr style=\"text-align: right;\">\n",
       "      <th></th>\n",
       "      <th>account_id</th>\n",
       "      <th>order_id</th>\n",
       "      <th>order_date</th>\n",
       "      <th>order_time</th>\n",
       "      <th>vendor_id</th>\n",
       "      <th>vendor_name</th>\n",
       "      <th>main_cuisine</th>\n",
       "      <th>vertical</th>\n",
       "      <th>delivery_fee_amount_lc</th>\n",
       "      <th>service_fee_amount_lc</th>\n",
       "      <th>basket_amount_lc</th>\n",
       "      <th>is_incentive_applied</th>\n",
       "      <th>incentive_amount_lc</th>\n",
       "      <th>pickup_id</th>\n",
       "      <th>customer_lon</th>\n",
       "      <th>customer_lat</th>\n",
       "      <th>vendor_lon</th>\n",
       "      <th>vendor_lat</th>\n",
       "      <th>order_time_hour</th>\n",
       "      <th>delivery_duration</th>\n",
       "      <th>total_duration</th>\n",
       "      <th>node_id</th>\n",
       "      <th>nearest_dist1</th>\n",
       "      <th>poi1</th>\n",
       "      <th>n_vertical</th>\n",
       "      <th>n_vendor_id</th>\n",
       "      <th>n_main_cuisine</th>\n",
       "      <th>n_vendor_name</th>\n",
       "      <th>n_vendor_lon</th>\n",
       "      <th>n_vendor_lat</th>\n",
       "      <th>vendor_index</th>\n",
       "      <th>pandana_distance_realdist</th>\n",
       "      <th>pandana_localness</th>\n",
       "      <th>speed</th>\n",
       "      <th>isweekend</th>\n",
       "      <th>price_per_item</th>\n",
       "      <th>customer_loc_id</th>\n",
       "      <th>entropy_0.5km</th>\n",
       "      <th>restaurant_count_0.5km</th>\n",
       "      <th>entropy_1km</th>\n",
       "      <th>poi_count_1km</th>\n",
       "      <th>entropy_2km</th>\n",
       "      <th>poi_count_2km</th>\n",
       "      <th>entropy_3km</th>\n",
       "      <th>poi_count_3km</th>\n",
       "      <th>entropy_4km</th>\n",
       "      <th>poi_count_4km</th>\n",
       "      <th>entropy_5km</th>\n",
       "      <th>poi_count_5km</th>\n",
       "      <th>restaurant_count_0.5_1km</th>\n",
       "      <th>restaurant_count_1_2km</th>\n",
       "      <th>restaurant_count_2_3km</th>\n",
       "      <th>restaurant_count_3_4km</th>\n",
       "      <th>restaurant_count_4_5km</th>\n",
       "      <th>estimated_rent</th>\n",
       "      <th>compensation</th>\n",
       "      <th>discounted delivery</th>\n",
       "      <th>free delivery</th>\n",
       "      <th>gem</th>\n",
       "      <th>item discount</th>\n",
       "      <th>menu discount</th>\n",
       "      <th>voucher wallet</th>\n",
       "      <th>incentives_type</th>\n",
       "      <th>incentive_delivery</th>\n",
       "      <th>incentive_menu_discount</th>\n",
       "      <th>incentive_voucher_wallet</th>\n",
       "      <th>rating</th>\n",
       "      <th>n_rating</th>\n",
       "      <th>total_orders</th>\n",
       "      <th>consistency</th>\n",
       "    </tr>\n",
       "  </thead>\n",
       "  <tbody>\n",
       "    <tr>\n",
       "      <th>0</th>\n",
       "      <td>7051337</td>\n",
       "      <td>1305576462</td>\n",
       "      <td>2023-10-10</td>\n",
       "      <td>2023-10-10 15:30:22</td>\n",
       "      <td>50868</td>\n",
       "      <td>SHAGHF, Jumeirah 3</td>\n",
       "      <td>coffee</td>\n",
       "      <td>food</td>\n",
       "      <td>0.00000</td>\n",
       "      <td>1.73000</td>\n",
       "      <td>57.75000</td>\n",
       "      <td>True</td>\n",
       "      <td>10.00000</td>\n",
       "      <td>249162013.00000</td>\n",
       "      <td>55.21388</td>\n",
       "      <td>25.15585</td>\n",
       "      <td>55.23119</td>\n",
       "      <td>25.18903</td>\n",
       "      <td>15</td>\n",
       "      <td>17</td>\n",
       "      <td>27</td>\n",
       "      <td>7584090309</td>\n",
       "      <td>0.65435</td>\n",
       "      <td>840</td>\n",
       "      <td>food</td>\n",
       "      <td>697762</td>\n",
       "      <td>coffee</td>\n",
       "      <td>Awaken Cafe, Al Wasl</td>\n",
       "      <td>55.21303</td>\n",
       "      <td>25.15146</td>\n",
       "      <td>840</td>\n",
       "      <td>4.61510</td>\n",
       "      <td>0.14179</td>\n",
       "      <td>10.25355</td>\n",
       "      <td>No</td>\n",
       "      <td>30.06471</td>\n",
       "      <td>55.21387725.155851</td>\n",
       "      <td>0.00000</td>\n",
       "      <td>0.00000</td>\n",
       "      <td>0.47137</td>\n",
       "      <td>21.00000</td>\n",
       "      <td>0.65855</td>\n",
       "      <td>105.00000</td>\n",
       "      <td>0.66518</td>\n",
       "      <td>198.00000</td>\n",
       "      <td>0.69070</td>\n",
       "      <td>296.00000</td>\n",
       "      <td>0.70457</td>\n",
       "      <td>582.00000</td>\n",
       "      <td>21.00000</td>\n",
       "      <td>84.00000</td>\n",
       "      <td>93.00000</td>\n",
       "      <td>98.00000</td>\n",
       "      <td>286.00000</td>\n",
       "      <td>90.44289</td>\n",
       "      <td>0.00000</td>\n",
       "      <td>0.00000</td>\n",
       "      <td>0.00000</td>\n",
       "      <td>0.00000</td>\n",
       "      <td>0.00000</td>\n",
       "      <td>0.00000</td>\n",
       "      <td>10.00000</td>\n",
       "      <td>voucher wallet</td>\n",
       "      <td>No</td>\n",
       "      <td>No</td>\n",
       "      <td>Yes</td>\n",
       "      <td>1.Amazing</td>\n",
       "      <td>5.None</td>\n",
       "      <td>58</td>\n",
       "      <td>0.85783</td>\n",
       "    </tr>\n",
       "    <tr>\n",
       "      <th>1</th>\n",
       "      <td>7051337</td>\n",
       "      <td>1313167366</td>\n",
       "      <td>2023-10-16</td>\n",
       "      <td>2023-10-16 16:43:34</td>\n",
       "      <td>50868</td>\n",
       "      <td>SHAGHF, Jumeirah 3</td>\n",
       "      <td>coffee</td>\n",
       "      <td>food</td>\n",
       "      <td>7.50000</td>\n",
       "      <td>0.90000</td>\n",
       "      <td>26.25000</td>\n",
       "      <td>True</td>\n",
       "      <td>10.00000</td>\n",
       "      <td>250948408.00000</td>\n",
       "      <td>55.21389</td>\n",
       "      <td>25.15572</td>\n",
       "      <td>55.23119</td>\n",
       "      <td>25.18903</td>\n",
       "      <td>16</td>\n",
       "      <td>13</td>\n",
       "      <td>31</td>\n",
       "      <td>7584090309</td>\n",
       "      <td>0.65435</td>\n",
       "      <td>840</td>\n",
       "      <td>food</td>\n",
       "      <td>697762</td>\n",
       "      <td>coffee</td>\n",
       "      <td>Awaken Cafe, Al Wasl</td>\n",
       "      <td>55.21303</td>\n",
       "      <td>25.15146</td>\n",
       "      <td>840</td>\n",
       "      <td>4.61510</td>\n",
       "      <td>0.14179</td>\n",
       "      <td>8.93051</td>\n",
       "      <td>No</td>\n",
       "      <td>30.06471</td>\n",
       "      <td>55.213885121047525.1557155663109</td>\n",
       "      <td>0.00000</td>\n",
       "      <td>0.00000</td>\n",
       "      <td>0.47137</td>\n",
       "      <td>21.00000</td>\n",
       "      <td>0.65855</td>\n",
       "      <td>105.00000</td>\n",
       "      <td>0.66603</td>\n",
       "      <td>197.00000</td>\n",
       "      <td>0.69169</td>\n",
       "      <td>295.00000</td>\n",
       "      <td>0.70585</td>\n",
       "      <td>587.00000</td>\n",
       "      <td>21.00000</td>\n",
       "      <td>84.00000</td>\n",
       "      <td>92.00000</td>\n",
       "      <td>98.00000</td>\n",
       "      <td>292.00000</td>\n",
       "      <td>90.65273</td>\n",
       "      <td>0.00000</td>\n",
       "      <td>0.00000</td>\n",
       "      <td>0.00000</td>\n",
       "      <td>0.00000</td>\n",
       "      <td>0.00000</td>\n",
       "      <td>0.00000</td>\n",
       "      <td>10.00000</td>\n",
       "      <td>voucher wallet</td>\n",
       "      <td>No</td>\n",
       "      <td>No</td>\n",
       "      <td>Yes</td>\n",
       "      <td>1.Amazing</td>\n",
       "      <td>5.None</td>\n",
       "      <td>58</td>\n",
       "      <td>0.85783</td>\n",
       "    </tr>\n",
       "  </tbody>\n",
       "</table>\n",
       "</div>"
      ],
      "text/plain": [
       "   account_id    order_id  order_date           order_time  vendor_id         vendor_name main_cuisine vertical  delivery_fee_amount_lc  service_fee_amount_lc  basket_amount_lc is_incentive_applied  incentive_amount_lc       pickup_id  customer_lon  customer_lat  vendor_lon  vendor_lat  order_time_hour  delivery_duration  total_duration     node_id  nearest_dist1  poi1 n_vertical  n_vendor_id n_main_cuisine         n_vendor_name  n_vendor_lon  n_vendor_lat  vendor_index  pandana_distance_realdist  pandana_localness    speed isweekend  price_per_item                   customer_loc_id  entropy_0.5km  restaurant_count_0.5km  entropy_1km  poi_count_1km  entropy_2km  poi_count_2km  entropy_3km  poi_count_3km  entropy_4km  poi_count_4km  entropy_5km  poi_count_5km  restaurant_count_0.5_1km  restaurant_count_1_2km  restaurant_count_2_3km  restaurant_count_3_4km  restaurant_count_4_5km  estimated_rent  compensation  discounted delivery  free delivery     gem  item discount  menu discount  \\\n",
       "0  7051337     1305576462  2023-10-10  2023-10-10 15:30:22  50868      SHAGHF, Jumeirah 3  coffee       food    0.00000                 1.73000                57.75000           True                10.00000             249162013.00000 55.21388      25.15585      55.23119    25.18903     15               17                 27              7584090309 0.65435         840   food       697762       coffee         Awaken Cafe, Al Wasl 55.21303      25.15146       840          4.61510                    0.14179            10.25355  No       30.06471         55.21387725.155851               0.00000        0.00000                 0.47137      21.00000       0.65855      105.00000      0.66518      198.00000      0.69070      296.00000      0.70457      582.00000      21.00000                  84.00000                93.00000                98.00000                286.00000               90.44289        0.00000       0.00000              0.00000        0.00000 0.00000        0.00000          \n",
       "1  7051337     1313167366  2023-10-16  2023-10-16 16:43:34  50868      SHAGHF, Jumeirah 3  coffee       food    7.50000                 0.90000                26.25000           True                10.00000             250948408.00000 55.21389      25.15572      55.23119    25.18903     16               13                 31              7584090309 0.65435         840   food       697762       coffee         Awaken Cafe, Al Wasl 55.21303      25.15146       840          4.61510                    0.14179            8.93051   No       30.06471         55.213885121047525.1557155663109 0.00000        0.00000                 0.47137      21.00000       0.65855      105.00000      0.66603      197.00000      0.69169      295.00000      0.70585      587.00000      21.00000                  84.00000                92.00000                98.00000                292.00000               90.65273        0.00000       0.00000              0.00000        0.00000 0.00000        0.00000          \n",
       "\n",
       "   voucher wallet incentives_type incentive_delivery incentive_menu_discount incentive_voucher_wallet     rating n_rating  total_orders  consistency  \n",
       "0 10.00000         voucher wallet  No                 No                      Yes                      1.Amazing  5.None   58           0.85783       \n",
       "1 10.00000         voucher wallet  No                 No                      Yes                      1.Amazing  5.None   58           0.85783       "
      ]
     },
     "execution_count": 5,
     "metadata": {},
     "output_type": "execute_result"
    }
   ],
   "source": [
    "%%time\n",
    "df_localness = pd.read_csv('./data/food_localness_final_oct.csv')\n",
    "print('unique orders:',df_localness.shape[0])\n",
    "print('unique accounts:',df_localness.account_id.unique().shape[0])\n",
    "df_localness.head(2)"
   ]
  },
  {
   "cell_type": "code",
   "execution_count": 6,
   "metadata": {},
   "outputs": [
    {
     "name": "stdout",
     "output_type": "stream",
     "text": [
      "Percentage of incentivized orders:  0.3747787543463162\n"
     ]
    }
   ],
   "source": [
    "print('Percentage of incentivized orders: ',df_localness[df_localness.incentive_amount_lc>0].shape[0]/df_localness.shape[0]*100)\n",
    "print('Percentage of localness=1:',df_localness[df_localness.pandana_localness>=1].shape[0]/df_localness.shape[0]*100)"
   ]
  },
  {
   "cell_type": "markdown",
   "metadata": {},
   "source": [
    "# Distribution of localness"
   ]
  },
  {
   "cell_type": "code",
   "execution_count": 113,
   "metadata": {},
   "outputs": [
    {
     "name": "stdout",
     "output_type": "stream",
     "text": [
      "count   2767286.00000\n",
      "mean    5.64242      \n",
      "std     4.06497      \n",
      "min     0.00100      \n",
      "25%     2.47065      \n",
      "50%     4.74789      \n",
      "75%     7.98122      \n",
      "max     46.27418     \n",
      "Name: pandana_distance_realdist, dtype: float64\n"
     ]
    },
    {
     "data": {
      "image/png": "[encoded data removed]",
      "text/plain": [
       "<Figure size 288x432 with 1 Axes>"
      ]
     },
     "metadata": {},
     "output_type": "display_data"
    }
   ],
   "source": [
    "sns.set_theme(rc={'figure.figsize':(4,6)},style='white') \n",
    "plt.rcParams.update({'font.size': 14})\n",
    "print(df_localness['pandana_distance_realdist'].describe())\n",
    "ax = df_localness['pandana_distance_realdist'].hist(bins=50,ec='None')\n",
    "ax.grid(False)\n",
    "# plt.title('Food order distance (km) (n='+str(df_nearest_compute.shape[0])+')')\n",
    "meanv = round(df_localness['pandana_distance_realdist'].mean(),2)\n",
    "medianv = round(df_localness['pandana_distance_realdist'].median(),2)\n",
    "plt.axvline(x=meanv,color='r',label='mean='+str(meanv)+'km',ls='--')\n",
    "plt.axvline(x=medianv,color='g',label='median='+str(medianv)+'km',ls='--')\n",
    "plt.ylabel('Order counts')\n",
    "plt.xlabel('Order distance (km)')\n",
    "plt.legend()\n",
    "plt.savefig('./output/plot_orderdistance.pdf', bbox_inches=\"tight\")"
   ]
  },
  {
   "cell_type": "code",
   "execution_count": 115,
   "metadata": {},
   "outputs": [
    {
     "name": "stdout",
     "output_type": "stream",
     "text": [
      "count    2767286.000000\n",
      "mean     0.338345      \n",
      "std      0.307076      \n",
      "min      0.000029      \n",
      "25%      0.095152      \n",
      "50%      0.230439      \n",
      "75%      0.508636      \n",
      "max      1.000000      \n",
      "Name: pandana_localness, dtype: object\n"
     ]
    },
    {
     "data": {
      "image/png": "[encoded data removed]",
      "text/plain": [
       "<Figure size 288x432 with 1 Axes>"
      ]
     },
     "metadata": {},
     "output_type": "display_data"
    }
   ],
   "source": [
    "sns.set_theme(rc={'figure.figsize':(4,6)},style='white') \n",
    "plt.rcParams.update({'font.size': 14})\n",
    "print(df_localness['pandana_localness'].describe().apply(lambda x: format(x, 'f')))\n",
    "ax = df_localness['pandana_localness'].hist(bins=40,ec='None')\n",
    "ax.grid(False)\n",
    "meanv = round(df_localness['pandana_localness'].mean(),2)\n",
    "medianv = round(df_localness['pandana_localness'].median(),2)\n",
    "plt.axvline(x=meanv,color='r',label='mean='+str(meanv),ls='--')\n",
    "plt.axvline(x=medianv,color='g',label='median='+str(medianv),ls='--')\n",
    "plt.legend(loc=(0.4,0.88)) #loc=(0.4,0.85)\n",
    "# plt.title('Food order localness (n='+str(df_nearest_compute.shape[0])+')')\n",
    "plt.ylabel('Order counts')\n",
    "plt.xlabel('Localness')\n",
    "plt.savefig('./output/plot_localness.pdf', bbox_inches=\"tight\")"
   ]
  },
  {
   "cell_type": "code",
   "execution_count": 116,
   "metadata": {},
   "outputs": [
    {
     "name": "stdout",
     "output_type": "stream",
     "text": [
      "count   2767286.00000\n",
      "mean    1.48226      \n",
      "std     1.82575      \n",
      "min     0.00100      \n",
      "25%     0.41658      \n",
      "50%     0.90772      \n",
      "75%     1.82504      \n",
      "max     27.19615     \n",
      "Name: nearest_dist1, dtype: float64\n"
     ]
    },
    {
     "data": {
      "image/png": "[encoded data removed]",
      "text/plain": [
       "<Figure size 288x432 with 1 Axes>"
      ]
     },
     "metadata": {},
     "output_type": "display_data"
    }
   ],
   "source": [
    "sns.set_theme(rc={'figure.figsize':(4,6)},style='white') \n",
    "plt.rcParams.update({'font.size': 14})\n",
    "print(df_localness['nearest_dist1'].describe())\n",
    "ax = df_localness['nearest_dist1'].hist(bins=50,ec='None')\n",
    "ax.grid(False)\n",
    "# plt.title('Food order distance (km) (n='+str(df_nearest_compute.shape[0])+')')\n",
    "meanv = round(df_localness['nearest_dist1'].mean(),2)\n",
    "medianv = round(df_localness['nearest_dist1'].median(),2)\n",
    "plt.axvline(x=meanv,color='r',label='mean='+str(meanv)+'km',ls='--')\n",
    "plt.axvline(x=medianv,color='g',label='median='+str(medianv)+'km',ls='--')\n",
    "plt.ylabel('Order counts')\n",
    "plt.xlabel('Distance to the nearest resturant (km)')\n",
    "plt.legend()\n",
    "plt.savefig('./output/plot_distance_to_nearest.pdf', bbox_inches=\"tight\")"
   ]
  },
  {
   "cell_type": "code",
   "execution_count": 117,
   "metadata": {},
   "outputs": [],
   "source": [
    "top10 = df_localness.groupby('main_cuisine').pandana_localness.mean().sort_values(ascending=False).head(10).index.tolist()\n",
    "tail20 = df_localness.groupby('main_cuisine').pandana_localness.mean().sort_values(ascending=False).tail(20).index.tolist()"
   ]
  },
  {
   "cell_type": "code",
   "execution_count": 118,
   "metadata": {},
   "outputs": [
    {
     "name": "stdout",
     "output_type": "stream",
     "text": [
      "CPU times: user 2.11 s, sys: 8.67 s, total: 10.8 s\n",
      "Wall time: 10.6 s\n"
     ]
    },
    {
     "data": {
      "image/png": "[encoded data removed]",
      "text/plain": [
       "<Figure size 576x432 with 1 Axes>"
      ]
     },
     "metadata": {},
     "output_type": "display_data"
    }
   ],
   "source": [
    "%%time\n",
    "df_localness_select10 = df_localness[df_localness['main_cuisine'].isin(tail20)]\n",
    "sns.set_theme(rc={'figure.figsize':(8,6)},font_scale=1.2)\n",
    "# sns.violinplot(data=df_nearest_compute,x='main_cuisine',y='localness')\n",
    "my_order = df_localness_select10.groupby(by=[\"main_cuisine\"])[\"pandana_localness\"].median().sort_values().index\n",
    "sns.boxplot(data=df_localness_select10,x='main_cuisine',y='pandana_localness',order=my_order, showfliers=False)\n",
    "plt.xticks(rotation=90)\n",
    "plt.xlabel('')\n",
    "plt.ylabel('Localness')\n",
    "plt.savefig('./output/plot_tenleastlocalcusines.pdf', bbox_inches=\"tight\")"
   ]
  },
  {
   "cell_type": "markdown",
   "metadata": {},
   "source": [
    "# Time of day pattern of food order localness"
   ]
  },
  {
   "cell_type": "code",
   "execution_count": 119,
   "metadata": {},
   "outputs": [
    {
     "data": {
      "image/png": "[encoded data removed]",
      "text/plain": [
       "<Figure size 720x432 with 1 Axes>"
      ]
     },
     "metadata": {},
     "output_type": "display_data"
    }
   ],
   "source": [
    "sns.set_theme(rc={'figure.figsize':(10,6)},font_scale=1.2)\n",
    "sns.boxplot(data=df_localness,x='order_time_hour',y='pandana_localness')\n",
    "# plt.xticks() # rotation=90\n",
    "plt.xlabel('Hour')\n",
    "plt.ylabel('Localness')\n",
    "plt.savefig('./output/plot_localness_timeofday.pdf', bbox_inches=\"tight\")"
   ]
  },
  {
   "cell_type": "code",
   "execution_count": 120,
   "metadata": {},
   "outputs": [
    {
     "data": {
      "text/plain": [
       "Text(0, 0.5, 'Order distance (km)')"
      ]
     },
     "execution_count": 120,
     "metadata": {},
     "output_type": "execute_result"
    },
    {
     "data": {
      "image/png": "[encoded data removed]",
      "text/plain": [
       "<Figure size 720x432 with 1 Axes>"
      ]
     },
     "metadata": {},
     "output_type": "display_data"
    }
   ],
   "source": [
    "sns.set_theme(rc={'figure.figsize':(10,6)},font_scale=1.2)\n",
    "sns.boxplot(data=df_localness,x='order_time_hour',y='pandana_distance_realdist', showfliers=False)\n",
    "# plt.title('Order travel distance (km)')\n",
    "plt.xlabel('Hour')\n",
    "plt.ylabel('Order distance (km)')"
   ]
  },
  {
   "cell_type": "markdown",
   "metadata": {},
   "source": [
    "# Total distance change if all orders were from the nearest restaurant\n",
    "Economic cost of localness - delivery travel distance perspective"
   ]
  },
  {
   "cell_type": "code",
   "execution_count": 148,
   "metadata": {},
   "outputs": [
    {
     "data": {
      "text/html": [
       "<div>\n",
       "<style scoped>\n",
       "    .dataframe tbody tr th:only-of-type {\n",
       "        vertical-align: middle;\n",
       "    }\n",
       "\n",
       "    .dataframe tbody tr th {\n",
       "        vertical-align: top;\n",
       "    }\n",
       "\n",
       "    .dataframe thead th {\n",
       "        text-align: right;\n",
       "    }\n",
       "</style>\n",
       "<table border=\"1\" class=\"dataframe\">\n",
       "  <thead>\n",
       "    <tr style=\"text-align: right;\">\n",
       "      <th></th>\n",
       "      <th>pandana_localness</th>\n",
       "      <th>pandana_distance_realdist</th>\n",
       "      <th>nearest_dist1</th>\n",
       "    </tr>\n",
       "  </thead>\n",
       "  <tbody>\n",
       "    <tr>\n",
       "      <th>0</th>\n",
       "      <td>0.14179</td>\n",
       "      <td>4.61510</td>\n",
       "      <td>0.65435</td>\n",
       "    </tr>\n",
       "    <tr>\n",
       "      <th>1</th>\n",
       "      <td>0.14179</td>\n",
       "      <td>4.61510</td>\n",
       "      <td>0.65435</td>\n",
       "    </tr>\n",
       "  </tbody>\n",
       "</table>\n",
       "</div>"
      ],
      "text/plain": [
       "   pandana_localness  pandana_distance_realdist  nearest_dist1\n",
       "0 0.14179            4.61510                    0.65435       \n",
       "1 0.14179            4.61510                    0.65435       "
      ]
     },
     "execution_count": 148,
     "metadata": {},
     "output_type": "execute_result"
    }
   ],
   "source": [
    "df_quantifycost = df_localness[['pandana_localness','pandana_distance_realdist','nearest_dist1']]\n",
    "df_quantifycost.head(2)"
   ]
  },
  {
   "cell_type": "code",
   "execution_count": 149,
   "metadata": {},
   "outputs": [],
   "source": [
    "for i in range(1,11,1):\n",
    "    field = 'delta_percent' + str(i)\n",
    "    step = i/10 # increment is 0.1 of localness\n",
    "    df_quantifycost[field] = df_quantifycost['nearest_dist1']/(df_quantifycost['pandana_localness'] + step)\n",
    "    df_quantifycost.loc[df_quantifycost[field]<=df_quantifycost['nearest_dist1'],field] = df_quantifycost['nearest_dist1']\n",
    "    df_quantifycost[field] = (df_quantifycost['pandana_distance_realdist']-df_quantifycost[field])/df_quantifycost['pandana_distance_realdist']\n",
    "    df_quantifycost.loc[df_quantifycost[field]<=0,field] = 0"
   ]
  },
  {
   "cell_type": "code",
   "execution_count": 150,
   "metadata": {},
   "outputs": [],
   "source": [
    "for i in range(1,11,1):\n",
    "    field2 = 'estimate_dist' + str(i)\n",
    "    step = i/10 # increment is 0.1 of localness\n",
    "    df_quantifycost[field2] = df_quantifycost['nearest_dist1']/(df_quantifycost['pandana_localness'] + step)\n",
    "    df_quantifycost.loc[df_quantifycost[field2]<=df_quantifycost['nearest_dist1'],field2] = df_quantifycost['nearest_dist1']"
   ]
  },
  {
   "cell_type": "code",
   "execution_count": 151,
   "metadata": {},
   "outputs": [
    {
     "data": {
      "text/html": [
       "<div>\n",
       "<style scoped>\n",
       "    .dataframe tbody tr th:only-of-type {\n",
       "        vertical-align: middle;\n",
       "    }\n",
       "\n",
       "    .dataframe tbody tr th {\n",
       "        vertical-align: top;\n",
       "    }\n",
       "\n",
       "    .dataframe thead th {\n",
       "        text-align: right;\n",
       "    }\n",
       "</style>\n",
       "<table border=\"1\" class=\"dataframe\">\n",
       "  <thead>\n",
       "    <tr style=\"text-align: right;\">\n",
       "      <th></th>\n",
       "      <th>pandana_localness</th>\n",
       "      <th>pandana_distance_realdist</th>\n",
       "      <th>nearest_dist1</th>\n",
       "      <th>delta_percent1</th>\n",
       "      <th>delta_percent2</th>\n",
       "      <th>delta_percent3</th>\n",
       "      <th>delta_percent4</th>\n",
       "      <th>delta_percent5</th>\n",
       "      <th>delta_percent6</th>\n",
       "      <th>delta_percent7</th>\n",
       "      <th>delta_percent8</th>\n",
       "      <th>delta_percent9</th>\n",
       "      <th>delta_percent10</th>\n",
       "      <th>estimate_dist1</th>\n",
       "      <th>estimate_dist2</th>\n",
       "      <th>estimate_dist3</th>\n",
       "      <th>estimate_dist4</th>\n",
       "      <th>estimate_dist5</th>\n",
       "      <th>estimate_dist6</th>\n",
       "      <th>estimate_dist7</th>\n",
       "      <th>estimate_dist8</th>\n",
       "      <th>estimate_dist9</th>\n",
       "      <th>estimate_dist10</th>\n",
       "    </tr>\n",
       "  </thead>\n",
       "  <tbody>\n",
       "    <tr>\n",
       "      <th>0</th>\n",
       "      <td>0.14179</td>\n",
       "      <td>4.61510</td>\n",
       "      <td>0.65435</td>\n",
       "      <td>0.41359</td>\n",
       "      <td>0.58516</td>\n",
       "      <td>0.67906</td>\n",
       "      <td>0.73830</td>\n",
       "      <td>0.77908</td>\n",
       "      <td>0.80886</td>\n",
       "      <td>0.83157</td>\n",
       "      <td>0.84945</td>\n",
       "      <td>0.85821</td>\n",
       "      <td>0.85821</td>\n",
       "      <td>2.70634</td>\n",
       "      <td>1.91452</td>\n",
       "      <td>1.48116</td>\n",
       "      <td>1.20777</td>\n",
       "      <td>1.01958</td>\n",
       "      <td>0.88213</td>\n",
       "      <td>0.77734</td>\n",
       "      <td>0.69480</td>\n",
       "      <td>0.65435</td>\n",
       "      <td>0.65435</td>\n",
       "    </tr>\n",
       "    <tr>\n",
       "      <th>1</th>\n",
       "      <td>0.14179</td>\n",
       "      <td>4.61510</td>\n",
       "      <td>0.65435</td>\n",
       "      <td>0.41359</td>\n",
       "      <td>0.58516</td>\n",
       "      <td>0.67906</td>\n",
       "      <td>0.73830</td>\n",
       "      <td>0.77908</td>\n",
       "      <td>0.80886</td>\n",
       "      <td>0.83157</td>\n",
       "      <td>0.84945</td>\n",
       "      <td>0.85821</td>\n",
       "      <td>0.85821</td>\n",
       "      <td>2.70634</td>\n",
       "      <td>1.91452</td>\n",
       "      <td>1.48116</td>\n",
       "      <td>1.20777</td>\n",
       "      <td>1.01958</td>\n",
       "      <td>0.88213</td>\n",
       "      <td>0.77734</td>\n",
       "      <td>0.69480</td>\n",
       "      <td>0.65435</td>\n",
       "      <td>0.65435</td>\n",
       "    </tr>\n",
       "  </tbody>\n",
       "</table>\n",
       "</div>"
      ],
      "text/plain": [
       "   pandana_localness  pandana_distance_realdist  nearest_dist1  delta_percent1  delta_percent2  delta_percent3  delta_percent4  delta_percent5  delta_percent6  delta_percent7  delta_percent8  delta_percent9  delta_percent10  estimate_dist1  estimate_dist2  estimate_dist3  estimate_dist4  estimate_dist5  estimate_dist6  estimate_dist7  estimate_dist8  estimate_dist9  estimate_dist10\n",
       "0 0.14179            4.61510                    0.65435        0.41359         0.58516         0.67906         0.73830         0.77908         0.80886         0.83157         0.84945         0.85821         0.85821          2.70634         1.91452         1.48116         1.20777         1.01958         0.88213         0.77734         0.69480         0.65435         0.65435         \n",
       "1 0.14179            4.61510                    0.65435        0.41359         0.58516         0.67906         0.73830         0.77908         0.80886         0.83157         0.84945         0.85821         0.85821          2.70634         1.91452         1.48116         1.20777         1.01958         0.88213         0.77734         0.69480         0.65435         0.65435         "
      ]
     },
     "execution_count": 151,
     "metadata": {},
     "output_type": "execute_result"
    }
   ],
   "source": [
    "df_quantifycost.head(2)"
   ]
  },
  {
   "cell_type": "code",
   "execution_count": 164,
   "metadata": {},
   "outputs": [],
   "source": [
    "# df_quantifycost[df_quantifycost['delta_percent10']<0.9]"
   ]
  },
  {
   "cell_type": "code",
   "execution_count": 154,
   "metadata": {},
   "outputs": [],
   "source": [
    "# df_quantifycost.columns"
   ]
  },
  {
   "cell_type": "code",
   "execution_count": 155,
   "metadata": {},
   "outputs": [],
   "source": [
    "df_quantifycost_melt_percent = pd.melt(df_quantifycost[['delta_percent1', 'delta_percent2', 'delta_percent3', 'delta_percent4', \n",
    "                                           'delta_percent5', 'delta_percent6', 'delta_percent7', 'delta_percent8', 'delta_percent9', 'delta_percent10']])\n",
    "\n",
    "df_quantifycost_melt_distancechange = pd.melt(df_quantifycost[['pandana_distance_realdist', 'estimate_dist1', 'estimate_dist2', 'estimate_dist3',\n",
    "                                                               'estimate_dist4', 'estimate_dist5', 'estimate_dist6', 'estimate_dist7', 'estimate_dist8', \n",
    "                                                               'estimate_dist9', 'estimate_dist10']])"
   ]
  },
  {
   "cell_type": "code",
   "execution_count": 167,
   "metadata": {},
   "outputs": [
    {
     "name": "stdout",
     "output_type": "stream",
     "text": [
      "CPU times: user 7.39 s, sys: 1.8 s, total: 9.19 s\n",
      "Wall time: 9.18 s\n"
     ]
    },
    {
     "data": {
      "text/plain": [
       "[Text(0.5, 0, 'Delta_localness'),\n",
       " Text(0, 0.5, 'Pecentage reduction in order travel distance')]"
      ]
     },
     "execution_count": 167,
     "metadata": {},
     "output_type": "execute_result"
    },
    {
     "data": {
      "image/png": "[encoded data removed]",
      "text/plain": [
       "<Figure size 720x432 with 1 Axes>"
      ]
     },
     "metadata": {},
     "output_type": "display_data"
    }
   ],
   "source": [
    "%%time \n",
    "import seaborn as sns\n",
    "import matplotlib.pyplot as plt\n",
    "\n",
    "sns.boxplot(x=\"variable\", y=\"value\", data=df_quantifycost_melt_percent,showfliers=False).set(\n",
    "    xlabel='Delta_localness', \n",
    "    ylabel='Pecentage reduction in order travel distance'\n",
    ")"
   ]
  },
  {
   "cell_type": "code",
   "execution_count": 166,
   "metadata": {},
   "outputs": [
    {
     "data": {
      "text/plain": [
       "[Text(0.5, 0, 'Delta_localness'),\n",
       " Text(0, 0.5, 'Estimated order travel distance')]"
      ]
     },
     "execution_count": 166,
     "metadata": {},
     "output_type": "execute_result"
    },
    {
     "data": {
      "image/png": "[encoded data removed]",
      "text/plain": [
       "<Figure size 720x432 with 1 Axes>"
      ]
     },
     "metadata": {},
     "output_type": "display_data"
    }
   ],
   "source": [
    "sns.boxplot(x=\"variable\", y=\"value\", data=df_quantifycost_melt_distancechange,showfliers=False).set(\n",
    "    xlabel='Delta_localness', \n",
    "    ylabel='Estimated order travel distance'\n",
    ")"
   ]
  },
  {
   "cell_type": "markdown",
   "metadata": {},
   "source": [
    "# OLS"
   ]
  },
  {
   "cell_type": "code",
   "execution_count": 8,
   "metadata": {},
   "outputs": [],
   "source": [
    "import statsmodels.api as sm"
   ]
  },
  {
   "cell_type": "code",
   "execution_count": 7,
   "metadata": {},
   "outputs": [
    {
     "data": {
      "text/plain": [
       "Index(['account_id', 'order_id', 'order_date', 'order_time', 'vendor_id', 'vendor_name', 'main_cuisine', 'vertical', 'delivery_fee_amount_lc', 'service_fee_amount_lc', 'basket_amount_lc', 'is_incentive_applied', 'incentive_amount_lc', 'pickup_id', 'customer_lon', 'customer_lat', 'vendor_lon', 'vendor_lat', 'order_time_hour', 'delivery_duration', 'total_duration', 'node_id', 'nearest_dist1', 'poi1', 'n_vertical', 'n_vendor_id', 'n_main_cuisine', 'n_vendor_name', 'n_vendor_lon', 'n_vendor_lat', 'vendor_index', 'pandana_distance_realdist', 'pandana_localness', 'speed', 'isweekend', 'price_per_item', 'customer_loc_id', 'entropy_0.5km', 'restaurant_count_0.5km', 'entropy_1km', 'poi_count_1km', 'entropy_2km', 'poi_count_2km', 'entropy_3km', 'poi_count_3km', 'entropy_4km', 'poi_count_4km', 'entropy_5km', 'poi_count_5km', 'restaurant_count_0.5_1km', 'restaurant_count_1_2km', 'restaurant_count_2_3km', 'restaurant_count_3_4km', 'restaurant_count_4_5km', 'estimated_rent', 'compensation',\n",
       "       'discounted delivery', 'free delivery', 'gem', 'item discount', 'menu discount', 'voucher wallet', 'incentives_type', 'incentive_delivery', 'incentive_menu_discount', 'incentive_voucher_wallet', 'rating', 'n_rating', 'total_orders', 'consistency'],\n",
       "      dtype='object')"
      ]
     },
     "execution_count": 7,
     "metadata": {},
     "output_type": "execute_result"
    }
   ],
   "source": [
    "df_localness.columns"
   ]
  },
  {
   "cell_type": "code",
   "execution_count": 9,
   "metadata": {},
   "outputs": [],
   "source": [
    "df_localness.rename(columns={\"restaurant_count_0.5_1km\": \"restaurant_count_05_1km\",\n",
    "                             \"entropy_0.5km\": \"entropy_05km\",\n",
    "                             \"restaurant_count_0.5km\": \"restaurant_count_05km\"\n",
    "                            }, inplace=True)"
   ]
  },
  {
   "cell_type": "code",
   "execution_count": 10,
   "metadata": {},
   "outputs": [],
   "source": [
    "df_localness['log_pandana_localness'] = np.log(df_localness['pandana_localness']+0.0000001)"
   ]
  },
  {
   "cell_type": "code",
   "execution_count": 11,
   "metadata": {},
   "outputs": [
    {
     "data": {
      "text/plain": [
       "count   2767286.00000\n",
       "mean    -1.79770     \n",
       "std     1.72109      \n",
       "min     -10.44724    \n",
       "25%     -2.35228     \n",
       "50%     -1.46777     \n",
       "75%     -0.67602     \n",
       "max     0.00000      \n",
       "Name: log_pandana_localness, dtype: float64"
      ]
     },
     "execution_count": 11,
     "metadata": {},
     "output_type": "execute_result"
    }
   ],
   "source": [
    "df_localness.log_pandana_localness.describe()"
   ]
  },
  {
   "cell_type": "code",
   "execution_count": 12,
   "metadata": {},
   "outputs": [
    {
     "name": "stdout",
     "output_type": "stream",
     "text": [
      "                            OLS Regression Results                            \n",
      "==============================================================================\n",
      "Dep. Variable:      pandana_localness   R-squared:                       0.271\n",
      "Model:                            OLS   Adj. R-squared:                  0.271\n",
      "Method:                 Least Squares   F-statistic:                 1.095e+04\n",
      "Date:                Fri, 21 Jun 2024   Prob (F-statistic):               0.00\n",
      "Time:                        17:04:29   Log-Likelihood:            -2.2175e+05\n",
      "No. Observations:             2767286   AIC:                         4.437e+05\n",
      "Df Residuals:                 2767191   BIC:                         4.449e+05\n",
      "Df Model:                          94                                         \n",
      "Covariance Type:            nonrobust                                         \n",
      "======================================================================================================\n",
      "                                         coef    std err          t      P>|t|      [0.025      0.975]\n",
      "------------------------------------------------------------------------------------------------------\n",
      "Intercept                              1.1305      0.003    377.725      0.000       1.125       1.136\n",
      "C(isweekend)[T.Yes]                   -0.0128      0.000    -37.605      0.000      -0.014      -0.012\n",
      "C(incentive_delivery)[T.Yes]          -0.0353      0.001    -49.629      0.000      -0.037      -0.034\n",
      "C(incentive_menu_discount)[T.Yes]      0.0067      0.001     12.985      0.000       0.006       0.008\n",
      "C(incentive_voucher_wallet)[T.Yes]    -0.0064      0.001     -7.242      0.000      -0.008      -0.005\n",
      "C(rating)[T.2.Very good]              -0.0074      0.000    -19.361      0.000      -0.008      -0.007\n",
      "C(rating)[T.3.Good]                   -0.0106      0.001     -8.310      0.000      -0.013      -0.008\n",
      "C(rating)[T.4.OK]                      0.0105      0.014      0.753      0.451      -0.017       0.038\n",
      "C(rating)[T.5.None]                    0.0465      0.001     87.193      0.000       0.045       0.048\n",
      "C(n_rating)[T.2.Very good]            -0.0029      0.000     -6.890      0.000      -0.004      -0.002\n",
      "C(n_rating)[T.3.Good]                  0.0087      0.001     10.651      0.000       0.007       0.010\n",
      "C(n_rating)[T.4.OK]                   -0.0733      0.003    -23.188      0.000      -0.079      -0.067\n",
      "C(n_rating)[T.5.None]                 -0.0073      0.001    -14.534      0.000      -0.008      -0.006\n",
      "C(main_cuisine)[T.afghani]             0.1801      0.005     39.886      0.000       0.171       0.189\n",
      "C(main_cuisine)[T.african]             0.1422      0.004     33.838      0.000       0.134       0.150\n",
      "C(main_cuisine)[T.american]           -0.1167      0.002    -52.423      0.000      -0.121      -0.112\n",
      "C(main_cuisine)[T.arabic]             -0.2305      0.002   -111.923      0.000      -0.234      -0.226\n",
      "C(main_cuisine)[T.argentinian]         0.0466      0.038      1.230      0.219      -0.028       0.121\n",
      "C(main_cuisine)[T.asian]              -0.1459      0.002    -60.502      0.000      -0.151      -0.141\n",
      "C(main_cuisine)[T.bbq]                -0.2151      0.002    -99.716      0.000      -0.219      -0.211\n",
      "C(main_cuisine)[T.bowls]               0.2459      0.005     46.244      0.000       0.235       0.256\n",
      "C(main_cuisine)[T.brazilian]           0.4619      0.012     37.985      0.000       0.438       0.486\n",
      "C(main_cuisine)[T.breakfast]          -0.1415      0.002    -60.881      0.000      -0.146      -0.137\n",
      "C(main_cuisine)[T.british]             0.3656      0.015     25.129      0.000       0.337       0.394\n",
      "C(main_cuisine)[T.chicken]             0.1805      0.004     44.606      0.000       0.173       0.188\n",
      "C(main_cuisine)[T.chinese]            -0.0751      0.002    -33.399      0.000      -0.079      -0.071\n",
      "C(main_cuisine)[T.coffee]             -0.2015      0.002    -95.834      0.000      -0.206      -0.197\n",
      "C(main_cuisine)[T.dessert]            -0.2583      0.002   -123.344      0.000      -0.262      -0.254\n",
      "C(main_cuisine)[T.egyptian]           -0.0618      0.002    -26.787      0.000      -0.066      -0.057\n",
      "C(main_cuisine)[T.emirati]            -0.0340      0.003    -12.070      0.000      -0.040      -0.028\n",
      "C(main_cuisine)[T.european]            0.2487      0.007     37.506      0.000       0.236       0.262\n",
      "C(main_cuisine)[T.fast food]          -0.2894      0.002   -142.272      0.000      -0.293      -0.285\n",
      "C(main_cuisine)[T.filipino]            0.0353      0.003     13.796      0.000       0.030       0.040\n",
      "C(main_cuisine)[T.french]              0.5475      0.030     18.517      0.000       0.490       0.605\n",
      "C(main_cuisine)[T.georgian]            0.3932      0.012     32.502      0.000       0.370       0.417\n",
      "C(main_cuisine)[T.gluten free]         0.4302      0.018     23.467      0.000       0.394       0.466\n",
      "C(main_cuisine)[T.greek]               0.2377      0.008     28.767      0.000       0.222       0.254\n",
      "C(main_cuisine)[T.healthy]            -0.1830      0.002    -85.829      0.000      -0.187      -0.179\n",
      "C(main_cuisine)[T.indian]             -0.2852      0.002   -137.739      0.000      -0.289      -0.281\n",
      "C(main_cuisine)[T.indonesian]          0.4042      0.006     64.674      0.000       0.392       0.416\n",
      "C(main_cuisine)[T.international]      -0.0672      0.002    -27.566      0.000      -0.072      -0.062\n",
      "C(main_cuisine)[T.iranian]             0.0347      0.003     11.865      0.000       0.029       0.040\n",
      "C(main_cuisine)[T.iraqi]               0.5439      0.017     32.813      0.000       0.511       0.576\n",
      "C(main_cuisine)[T.italian]            -0.1616      0.002    -71.199      0.000      -0.166      -0.157\n",
      "C(main_cuisine)[T.japanese]           -0.1076      0.002    -47.101      0.000      -0.112      -0.103\n",
      "C(main_cuisine)[T.jordanian]           0.2567      0.004     60.469      0.000       0.248       0.265\n",
      "C(main_cuisine)[T.keto]                0.1474      0.006     25.225      0.000       0.136       0.159\n",
      "C(main_cuisine)[T.korean]              0.2783      0.005     56.656      0.000       0.269       0.288\n",
      "C(main_cuisine)[T.kuwaiti]             0.4229      0.011     39.723      0.000       0.402       0.444\n",
      "C(main_cuisine)[T.latin american]      0.4861      0.076      6.420      0.000       0.338       0.634\n",
      "C(main_cuisine)[T.lebanese]           -0.1299      0.002    -61.318      0.000      -0.134      -0.126\n",
      "C(main_cuisine)[T.mediterranean]       0.2313      0.008     27.598      0.000       0.215       0.248\n",
      "C(main_cuisine)[T.mexican]             0.0495      0.003     17.819      0.000       0.044       0.055\n",
      "C(main_cuisine)[T.middle eastern]      0.2452      0.010     25.061      0.000       0.226       0.264\n",
      "C(main_cuisine)[T.mongolian]           0.5621      0.012     47.774      0.000       0.539       0.585\n",
      "C(main_cuisine)[T.moroccan]            0.2523      0.003     76.344      0.000       0.246       0.259\n",
      "C(main_cuisine)[T.nepalese]            0.3739      0.006     58.517      0.000       0.361       0.386\n",
      "C(main_cuisine)[T.pakistani]          -0.0310      0.002    -12.584      0.000      -0.036      -0.026\n",
      "C(main_cuisine)[T.palestinian]         0.1516      0.003     57.889      0.000       0.146       0.157\n",
      "C(main_cuisine)[T.peruvian]            0.5269      0.076      6.959      0.000       0.378       0.675\n",
      "C(main_cuisine)[T.portuguese]          0.4736      0.031     15.084      0.000       0.412       0.535\n",
      "C(main_cuisine)[T.russian]             0.1942      0.003     71.795      0.000       0.189       0.199\n",
      "C(main_cuisine)[T.salad]              -0.0471      0.003    -16.616      0.000      -0.053      -0.042\n",
      "C(main_cuisine)[T.saudi]               0.3323      0.006     58.090      0.000       0.321       0.343\n",
      "C(main_cuisine)[T.seafood]            -0.1219      0.003    -48.539      0.000      -0.127      -0.117\n",
      "C(main_cuisine)[T.singaporean]         0.4532      0.012     36.418      0.000       0.429       0.478\n",
      "C(main_cuisine)[T.sliders]             0.3463      0.017     20.112      0.000       0.313       0.380\n",
      "C(main_cuisine)[T.soup]                0.2637      0.004     60.680      0.000       0.255       0.272\n",
      "C(main_cuisine)[T.spanish]             0.6276      0.185      3.385      0.001       0.264       0.991\n",
      "C(main_cuisine)[T.specialty store]     0.5285      0.047     11.215      0.000       0.436       0.621\n",
      "C(main_cuisine)[T.syrian]              0.3729      0.008     46.533      0.000       0.357       0.389\n",
      "C(main_cuisine)[T.thai]                0.0445      0.003     12.990      0.000       0.038       0.051\n",
      "C(main_cuisine)[T.tunisian]            0.5313      0.005    101.243      0.000       0.521       0.542\n",
      "C(main_cuisine)[T.turkish]            -0.0463      0.003    -17.303      0.000      -0.051      -0.041\n",
      "C(main_cuisine)[T.uzbek]               0.1780      0.004     43.854      0.000       0.170       0.186\n",
      "C(main_cuisine)[T.vegetarian]          0.1566      0.005     28.832      0.000       0.146       0.167\n",
      "C(main_cuisine)[T.vietnamese]          0.2879      0.006     48.804      0.000       0.276       0.300\n",
      "C(main_cuisine)[T.yemeni]             -0.0815      0.003    -32.244      0.000      -0.086      -0.077\n",
      "order_time_hour                        0.0019   2.89e-05     66.538      0.000       0.002       0.002\n",
      "total_duration                        -0.0057   1.15e-05   -494.364      0.000      -0.006      -0.006\n",
      "estimated_rent                         0.0003   4.87e-06     66.540      0.000       0.000       0.000\n",
      "entropy_05km                          -0.2026      0.001   -198.575      0.000      -0.205      -0.201\n",
      "entropy_2km                           -0.2481      0.002   -121.774      0.000      -0.252      -0.244\n",
      "entropy_5km                           -0.2945      0.004    -82.658      0.000      -0.301      -0.288\n",
      "consistency                           -0.0070      0.001    -13.315      0.000      -0.008      -0.006\n",
      "total_orders                          -0.0004   1.19e-05    -29.438      0.000      -0.000      -0.000\n",
      "incentive_amount_lc                   -0.0004   1.67e-05    -24.285      0.000      -0.000      -0.000\n",
      "restaurant_count_05km                 -0.0003   6.81e-06    -46.018      0.000      -0.000      -0.000\n",
      "restaurant_count_05_1km            -7.216e-05   3.54e-06    -20.412      0.000   -7.91e-05   -6.52e-05\n",
      "restaurant_count_1_2km              1.201e-05    1.9e-06      6.310      0.000    8.28e-06    1.57e-05\n",
      "restaurant_count_2_3km              5.456e-05   1.55e-06     35.169      0.000    5.15e-05    5.76e-05\n",
      "restaurant_count_3_4km             -5.012e-06   1.45e-06     -3.459      0.001   -7.85e-06   -2.17e-06\n",
      "restaurant_count_4_5km             -1.105e-05   1.27e-06     -8.708      0.000   -1.35e-05   -8.56e-06\n",
      "basket_amount_lc                       0.0002    3.3e-06     57.349      0.000       0.000       0.000\n",
      "price_per_item                         0.0002   1.25e-05     14.280      0.000       0.000       0.000\n",
      "==============================================================================\n",
      "Omnibus:                   310098.174   Durbin-Watson:                   1.240\n",
      "Prob(Omnibus):                  0.000   Jarque-Bera (JB):           424466.017\n",
      "Skew:                           0.933   Prob(JB):                         0.00\n",
      "Kurtosis:                       3.444   Cond. No.                     5.21e+05\n",
      "==============================================================================\n",
      "\n",
      "Notes:\n",
      "[1] Standard Errors assume that the covariance matrix of the errors is correctly specified.\n",
      "[2] The condition number is large, 5.21e+05. This might indicate that there are\n",
      "strong multicollinearity or other numerical problems.\n",
      "CPU times: user 4min 51s, sys: 1min 37s, total: 6min 29s\n",
      "Wall time: 1min 12s\n"
     ]
    }
   ],
   "source": [
    "%%time\n",
    "from statsmodels.formula.api import ols\n",
    "\n",
    "# Fit the linear regression model\n",
    "model = ols('pandana_localness ~ order_time_hour + total_duration + estimated_rent +  entropy_05km+ entropy_2km + entropy_5km + consistency + \\\n",
    "total_orders + incentive_amount_lc +  restaurant_count_05km + restaurant_count_05_1km + restaurant_count_1_2km + restaurant_count_2_3km + \\\n",
    "restaurant_count_3_4km + restaurant_count_4_5km + basket_amount_lc + price_per_item + C(isweekend) + C(incentive_delivery) + C(incentive_menu_discount) + \\\n",
    "C(incentive_voucher_wallet) + C(rating) + C(n_rating) + C(main_cuisine)', data=df_localness).fit()\n",
    "\n",
    "# Print the model summary with significance levels\n",
    "print(model.summary())"
   ]
  },
  {
   "cell_type": "code",
   "execution_count": 17,
   "metadata": {},
   "outputs": [],
   "source": [
    "# %%time\n",
    "# from statsmodels.formula.api import ols\n",
    "\n",
    "# # Fit the linear regression model\n",
    "# model = ols('log_pandana_localness ~ order_time_hour + total_duration + estimated_rent +  entropy_05km+ entropy_2km + entropy_5km + consistency + \\\n",
    "# total_orders + incentive_amount_lc +  restaurant_count_05km + restaurant_count_05_1km + restaurant_count_1_2km + restaurant_count_2_3km + \\\n",
    "# restaurant_count_3_4km + restaurant_count_4_5km + basket_amount_lc + price_per_item + C(isweekend) + C(incentive_delivery) + C(incentive_menu_discount) + \\\n",
    "# C(incentive_voucher_wallet) + C(rating) + C(n_rating) + C(main_cuisine)', data=df_localness).fit()\n",
    "\n",
    "# # Print the model summary with significance levels\n",
    "# print(model.summary())"
   ]
  },
  {
   "cell_type": "code",
   "execution_count": 12,
   "metadata": {},
   "outputs": [
    {
     "data": {
      "text/plain": [
       "2.Very good    1593856\n",
       "1.Amazing      737925 \n",
       "5.None         388748 \n",
       "3.Good         46401  \n",
       "4.OK           356    \n",
       "Name: rating, dtype: int64"
      ]
     },
     "execution_count": 12,
     "metadata": {},
     "output_type": "execute_result"
    }
   ],
   "source": [
    "# df_localness.rating.value_counts()"
   ]
  },
  {
   "cell_type": "code",
   "execution_count": 13,
   "metadata": {},
   "outputs": [
    {
     "data": {
      "text/plain": [
       "2.Very good    1490883\n",
       "5.None         574897 \n",
       "1.Amazing      563732 \n",
       "3.Good         130681 \n",
       "4.OK           7093   \n",
       "Name: n_rating, dtype: int64"
      ]
     },
     "execution_count": 13,
     "metadata": {},
     "output_type": "execute_result"
    }
   ],
   "source": [
    "# df_localness.n_rating.value_counts()"
   ]
  },
  {
   "cell_type": "code",
   "execution_count": null,
   "metadata": {},
   "outputs": [],
   "source": []
  },
  {
   "cell_type": "code",
   "execution_count": null,
   "metadata": {},
   "outputs": [],
   "source": []
  },
  {
   "cell_type": "code",
   "execution_count": null,
   "metadata": {},
   "outputs": [],
   "source": []
  },
  {
   "cell_type": "code",
   "execution_count": null,
   "metadata": {},
   "outputs": [],
   "source": []
  },
  {
   "cell_type": "code",
   "execution_count": null,
   "metadata": {},
   "outputs": [],
   "source": []
  },
  {
   "cell_type": "code",
   "execution_count": null,
   "metadata": {},
   "outputs": [],
   "source": []
  },
  {
   "cell_type": "code",
   "execution_count": null,
   "metadata": {},
   "outputs": [],
   "source": []
  },
  {
   "cell_type": "code",
   "execution_count": null,
   "metadata": {},
   "outputs": [],
   "source": []
  },
  {
   "cell_type": "code",
   "execution_count": null,
   "metadata": {},
   "outputs": [],
   "source": []
  },
  {
   "cell_type": "code",
   "execution_count": null,
   "metadata": {},
   "outputs": [],
   "source": []
  },
  {
   "cell_type": "code",
   "execution_count": null,
   "metadata": {},
   "outputs": [],
   "source": []
  },
  {
   "cell_type": "code",
   "execution_count": null,
   "metadata": {},
   "outputs": [],
   "source": []
  }
 ],
 "metadata": {
  "kernelspec": {
   "display_name": "python3.8",
   "language": "python",
   "name": "python3.8"
  },
  "language_info": {
   "codemirror_mode": {
    "name": "ipython",
    "version": 3
   },
   "file_extension": ".py",
   "mimetype": "text/x-python",
   "name": "python",
   "nbconvert_exporter": "python",
   "pygments_lexer": "ipython3",
   "version": "3.8.5"
  }
 },
 "nbformat": 4,
 "nbformat_minor": 2
}
