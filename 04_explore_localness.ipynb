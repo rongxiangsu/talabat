{
 "cells": [
  {
   "cell_type": "code",
   "execution_count": 2,
   "metadata": {},
   "outputs": [],
   "source": [
    "import datetime\n",
    "import geopandas as gpd\n",
    "import matplotlib.pyplot as plt\n",
    "import pandas as pd\n",
    "import numpy as np\n",
    "from shapely.geometry import Point\n",
    "from geopandas import GeoDataFrame\n",
    "import os\n",
    "\n",
    "import seaborn as sns\n",
    "pd.set_option(\"display.max_colwidth\", 0)\n",
    "pd.set_option(\"display.max_rows\", 500)\n",
    "pd.set_option(\"display.max_columns\", 500)\n",
    "pd.set_option(\"display.width\", 1000)\n",
    "pd.options.display.float_format = '{:.5f}'.format\n",
    "\n",
    "import warnings\n",
    "warnings.filterwarnings(\"ignore\")"
   ]
  },
  {
   "cell_type": "code",
   "execution_count": 3,
   "metadata": {},
   "outputs": [
    {
     "data": {
      "application/javascript": [
       "IPython.notebook.set_autosave_interval(5000)"
      ]
     },
     "metadata": {},
     "output_type": "display_data"
    },
    {
     "name": "stdout",
     "output_type": "stream",
     "text": [
      "Autosaving every 5 seconds\n"
     ]
    }
   ],
   "source": [
    "import sys\n",
    "import logging\n",
    "import datetime\n",
    "\n",
    "nblog = open(\"./logs/explore_localness_\"+str(datetime.datetime.now())+\".log\", \"a+\")\n",
    "sys.stdout.echo = nblog\n",
    "sys.stderr.echo = nblog\n",
    "\n",
    "get_ipython().log.handlers[0].stream = nblog\n",
    "get_ipython().log.setLevel(logging.INFO)\n",
    "\n",
    "%autosave 5"
   ]
  },
  {
   "cell_type": "code",
   "execution_count": 4,
   "metadata": {},
   "outputs": [
    {
     "name": "stdout",
     "output_type": "stream",
     "text": [
      "unique orders: 2767286\n",
      "unique accounts: 555121\n",
      "CPU times: user 27.6 s, sys: 4.19 s, total: 31.8 s\n",
      "Wall time: 41.4 s\n"
     ]
    },
    {
     "data": {
      "text/html": [
       "<div>\n",
       "<style scoped>\n",
       "    .dataframe tbody tr th:only-of-type {\n",
       "        vertical-align: middle;\n",
       "    }\n",
       "\n",
       "    .dataframe tbody tr th {\n",
       "        vertical-align: top;\n",
       "    }\n",
       "\n",
       "    .dataframe thead th {\n",
       "        text-align: right;\n",
       "    }\n",
       "</style>\n",
       "<table border=\"1\" class=\"dataframe\">\n",
       "  <thead>\n",
       "    <tr style=\"text-align: right;\">\n",
       "      <th></th>\n",
       "      <th>account_id</th>\n",
       "      <th>order_id</th>\n",
       "      <th>order_date</th>\n",
       "      <th>order_time</th>\n",
       "      <th>vendor_id</th>\n",
       "      <th>vendor_name</th>\n",
       "      <th>main_cuisine</th>\n",
       "      <th>vertical</th>\n",
       "      <th>delivery_fee_amount_lc</th>\n",
       "      <th>service_fee_amount_lc</th>\n",
       "      <th>basket_amount_lc</th>\n",
       "      <th>is_incentive_applied</th>\n",
       "      <th>incentive_amount_lc</th>\n",
       "      <th>pickup_id</th>\n",
       "      <th>customer_lon</th>\n",
       "      <th>customer_lat</th>\n",
       "      <th>vendor_lon</th>\n",
       "      <th>vendor_lat</th>\n",
       "      <th>order_time_hour</th>\n",
       "      <th>delivery_duration</th>\n",
       "      <th>total_duration</th>\n",
       "      <th>node_id</th>\n",
       "      <th>nearest_dist1</th>\n",
       "      <th>poi1</th>\n",
       "      <th>n_vertical</th>\n",
       "      <th>n_vendor_id</th>\n",
       "      <th>n_main_cuisine</th>\n",
       "      <th>n_vendor_name</th>\n",
       "      <th>n_vendor_lon</th>\n",
       "      <th>n_vendor_lat</th>\n",
       "      <th>vendor_index</th>\n",
       "      <th>pandana_distance_realdist</th>\n",
       "      <th>pandana_localness</th>\n",
       "      <th>speed</th>\n",
       "      <th>isweekend</th>\n",
       "      <th>item_price</th>\n",
       "      <th>customer_loc_id</th>\n",
       "      <th>entropy_0.5km</th>\n",
       "      <th>poi_count_0.5km</th>\n",
       "      <th>entropy_1km</th>\n",
       "      <th>poi_count_1km</th>\n",
       "      <th>entropy_2km</th>\n",
       "      <th>poi_count_2km</th>\n",
       "      <th>entropy_3km</th>\n",
       "      <th>poi_count_3km</th>\n",
       "      <th>entropy_4km</th>\n",
       "      <th>poi_count_4km</th>\n",
       "      <th>entropy_5km</th>\n",
       "      <th>poi_count_5km</th>\n",
       "      <th>poi_count_0.5_1km</th>\n",
       "      <th>poi_count_1_2km</th>\n",
       "      <th>poi_count_2_3km</th>\n",
       "      <th>poi_count_3_4km</th>\n",
       "      <th>poi_count_4_5km</th>\n",
       "      <th>approxi_rent</th>\n",
       "      <th>compensation</th>\n",
       "      <th>discounted delivery</th>\n",
       "      <th>free delivery</th>\n",
       "      <th>gem</th>\n",
       "      <th>item discount</th>\n",
       "      <th>menu discount</th>\n",
       "      <th>voucher wallet</th>\n",
       "      <th>incentives_type</th>\n",
       "      <th>incentive_delivery</th>\n",
       "      <th>incentive_menu_discount</th>\n",
       "      <th>incentive_voucher_wallet</th>\n",
       "      <th>rating</th>\n",
       "      <th>n_rating</th>\n",
       "      <th>total_orders</th>\n",
       "      <th>consistency</th>\n",
       "    </tr>\n",
       "  </thead>\n",
       "  <tbody>\n",
       "    <tr>\n",
       "      <th>0</th>\n",
       "      <td>7051337</td>\n",
       "      <td>1305576462</td>\n",
       "      <td>2023-10-10</td>\n",
       "      <td>2023-10-10 15:30:22</td>\n",
       "      <td>50868</td>\n",
       "      <td>SHAGHF, Jumeirah 3</td>\n",
       "      <td>coffee</td>\n",
       "      <td>food</td>\n",
       "      <td>0.00000</td>\n",
       "      <td>1.73000</td>\n",
       "      <td>57.75000</td>\n",
       "      <td>True</td>\n",
       "      <td>10.00000</td>\n",
       "      <td>249162013.00000</td>\n",
       "      <td>55.21388</td>\n",
       "      <td>25.15585</td>\n",
       "      <td>55.23119</td>\n",
       "      <td>25.18903</td>\n",
       "      <td>15</td>\n",
       "      <td>17</td>\n",
       "      <td>27</td>\n",
       "      <td>7584090309</td>\n",
       "      <td>0.65335</td>\n",
       "      <td>840</td>\n",
       "      <td>food</td>\n",
       "      <td>697762</td>\n",
       "      <td>coffee</td>\n",
       "      <td>Awaken Cafe, Al Wasl</td>\n",
       "      <td>55.21303</td>\n",
       "      <td>25.15146</td>\n",
       "      <td>840</td>\n",
       "      <td>4.61410</td>\n",
       "      <td>0.14160</td>\n",
       "      <td>10.25355</td>\n",
       "      <td>False</td>\n",
       "      <td>30.06471</td>\n",
       "      <td>55.21387725.155851</td>\n",
       "      <td>0.00000</td>\n",
       "      <td>0.00000</td>\n",
       "      <td>0.47137</td>\n",
       "      <td>21.00000</td>\n",
       "      <td>0.65855</td>\n",
       "      <td>105.00000</td>\n",
       "      <td>0.66518</td>\n",
       "      <td>198.00000</td>\n",
       "      <td>0.69070</td>\n",
       "      <td>296.00000</td>\n",
       "      <td>0.70457</td>\n",
       "      <td>582.00000</td>\n",
       "      <td>21.00000</td>\n",
       "      <td>84.00000</td>\n",
       "      <td>93.00000</td>\n",
       "      <td>98.00000</td>\n",
       "      <td>286.00000</td>\n",
       "      <td>90.44289</td>\n",
       "      <td>0.00000</td>\n",
       "      <td>0.00000</td>\n",
       "      <td>0.00000</td>\n",
       "      <td>0.00000</td>\n",
       "      <td>0.00000</td>\n",
       "      <td>0.00000</td>\n",
       "      <td>10.00000</td>\n",
       "      <td>voucher wallet</td>\n",
       "      <td>False</td>\n",
       "      <td>False</td>\n",
       "      <td>True</td>\n",
       "      <td>Amazing</td>\n",
       "      <td>None</td>\n",
       "      <td>58</td>\n",
       "      <td>0.85783</td>\n",
       "    </tr>\n",
       "    <tr>\n",
       "      <th>1</th>\n",
       "      <td>7051337</td>\n",
       "      <td>1313167366</td>\n",
       "      <td>2023-10-16</td>\n",
       "      <td>2023-10-16 16:43:34</td>\n",
       "      <td>50868</td>\n",
       "      <td>SHAGHF, Jumeirah 3</td>\n",
       "      <td>coffee</td>\n",
       "      <td>food</td>\n",
       "      <td>7.50000</td>\n",
       "      <td>0.90000</td>\n",
       "      <td>26.25000</td>\n",
       "      <td>True</td>\n",
       "      <td>10.00000</td>\n",
       "      <td>250948408.00000</td>\n",
       "      <td>55.21389</td>\n",
       "      <td>25.15572</td>\n",
       "      <td>55.23119</td>\n",
       "      <td>25.18903</td>\n",
       "      <td>16</td>\n",
       "      <td>13</td>\n",
       "      <td>31</td>\n",
       "      <td>7584090309</td>\n",
       "      <td>0.65335</td>\n",
       "      <td>840</td>\n",
       "      <td>food</td>\n",
       "      <td>697762</td>\n",
       "      <td>coffee</td>\n",
       "      <td>Awaken Cafe, Al Wasl</td>\n",
       "      <td>55.21303</td>\n",
       "      <td>25.15146</td>\n",
       "      <td>840</td>\n",
       "      <td>4.61410</td>\n",
       "      <td>0.14160</td>\n",
       "      <td>8.93051</td>\n",
       "      <td>False</td>\n",
       "      <td>30.06471</td>\n",
       "      <td>55.213885121047525.1557155663109</td>\n",
       "      <td>0.00000</td>\n",
       "      <td>0.00000</td>\n",
       "      <td>0.47137</td>\n",
       "      <td>21.00000</td>\n",
       "      <td>0.65855</td>\n",
       "      <td>105.00000</td>\n",
       "      <td>0.66603</td>\n",
       "      <td>197.00000</td>\n",
       "      <td>0.69169</td>\n",
       "      <td>295.00000</td>\n",
       "      <td>0.70585</td>\n",
       "      <td>587.00000</td>\n",
       "      <td>21.00000</td>\n",
       "      <td>84.00000</td>\n",
       "      <td>92.00000</td>\n",
       "      <td>98.00000</td>\n",
       "      <td>292.00000</td>\n",
       "      <td>90.65273</td>\n",
       "      <td>0.00000</td>\n",
       "      <td>0.00000</td>\n",
       "      <td>0.00000</td>\n",
       "      <td>0.00000</td>\n",
       "      <td>0.00000</td>\n",
       "      <td>0.00000</td>\n",
       "      <td>10.00000</td>\n",
       "      <td>voucher wallet</td>\n",
       "      <td>False</td>\n",
       "      <td>False</td>\n",
       "      <td>True</td>\n",
       "      <td>Amazing</td>\n",
       "      <td>None</td>\n",
       "      <td>58</td>\n",
       "      <td>0.85783</td>\n",
       "    </tr>\n",
       "  </tbody>\n",
       "</table>\n",
       "</div>"
      ],
      "text/plain": [
       "   account_id    order_id  order_date           order_time  vendor_id         vendor_name main_cuisine vertical  delivery_fee_amount_lc  service_fee_amount_lc  basket_amount_lc is_incentive_applied  incentive_amount_lc       pickup_id  customer_lon  customer_lat  vendor_lon  vendor_lat  order_time_hour  delivery_duration  total_duration     node_id  nearest_dist1  poi1 n_vertical  n_vendor_id n_main_cuisine         n_vendor_name  n_vendor_lon  n_vendor_lat  vendor_index  pandana_distance_realdist  pandana_localness    speed  isweekend  item_price                   customer_loc_id  entropy_0.5km  poi_count_0.5km  entropy_1km  poi_count_1km  entropy_2km  poi_count_2km  entropy_3km  poi_count_3km  entropy_4km  poi_count_4km  entropy_5km  poi_count_5km  poi_count_0.5_1km  poi_count_1_2km  poi_count_2_3km  poi_count_3_4km  poi_count_4_5km  approxi_rent  compensation  discounted delivery  free delivery     gem  item discount  menu discount  voucher wallet incentives_type  \\\n",
       "0  7051337     1305576462  2023-10-10  2023-10-10 15:30:22  50868      SHAGHF, Jumeirah 3  coffee       food    0.00000                 1.73000                57.75000           True                10.00000             249162013.00000 55.21388      25.15585      55.23119    25.18903     15               17                 27              7584090309 0.65335         840   food       697762       coffee         Awaken Cafe, Al Wasl 55.21303      25.15146       840          4.61410                    0.14160            10.25355  False     30.06471     55.21387725.155851               0.00000        0.00000          0.47137      21.00000       0.65855      105.00000      0.66518      198.00000      0.69070      296.00000      0.70457      582.00000      21.00000           84.00000         93.00000         98.00000         286.00000        90.44289      0.00000       0.00000              0.00000        0.00000 0.00000        0.00000        10.00000         voucher wallet   \n",
       "1  7051337     1313167366  2023-10-16  2023-10-16 16:43:34  50868      SHAGHF, Jumeirah 3  coffee       food    7.50000                 0.90000                26.25000           True                10.00000             250948408.00000 55.21389      25.15572      55.23119    25.18903     16               13                 31              7584090309 0.65335         840   food       697762       coffee         Awaken Cafe, Al Wasl 55.21303      25.15146       840          4.61410                    0.14160            8.93051   False     30.06471     55.213885121047525.1557155663109 0.00000        0.00000          0.47137      21.00000       0.65855      105.00000      0.66603      197.00000      0.69169      295.00000      0.70585      587.00000      21.00000           84.00000         92.00000         98.00000         292.00000        90.65273      0.00000       0.00000              0.00000        0.00000 0.00000        0.00000        10.00000         voucher wallet   \n",
       "\n",
       "   incentive_delivery  incentive_menu_discount  incentive_voucher_wallet   rating n_rating  total_orders  consistency  \n",
       "0  False               False                    True                      Amazing  None     58           0.85783       \n",
       "1  False               False                    True                      Amazing  None     58           0.85783       "
      ]
     },
     "execution_count": 4,
     "metadata": {},
     "output_type": "execute_result"
    }
   ],
   "source": [
    "%%time\n",
    "df_localness = pd.read_csv('./data/food_localness_final_oct.csv')\n",
    "print('unique orders:',df_localness.shape[0])\n",
    "print('unique accounts:',df_localness.account_id.unique().shape[0])\n",
    "df_localness.head(2)"
   ]
  },
  {
   "cell_type": "markdown",
   "metadata": {},
   "source": [
    "# Distribution of localness"
   ]
  },
  {
   "cell_type": "code",
   "execution_count": 26,
   "metadata": {},
   "outputs": [
    {
     "name": "stdout",
     "output_type": "stream",
     "text": [
      "count   2767286.00000\n",
      "mean    5.64142      \n",
      "std     4.06497      \n",
      "min     0.00000      \n",
      "25%     2.46965      \n",
      "50%     4.74689      \n",
      "75%     7.98022      \n",
      "max     46.27318     \n",
      "Name: pandana_distance_realdist, dtype: float64\n"
     ]
    },
    {
     "data": {
      "image/png": "[encoded data removed]",
      "text/plain": [
       "<Figure size 288x432 with 1 Axes>"
      ]
     },
     "metadata": {},
     "output_type": "display_data"
    }
   ],
   "source": [
    "sns.set_theme(rc={'figure.figsize':(4,6)},style='white') \n",
    "plt.rcParams.update({'font.size': 14})\n",
    "print(df_localness['pandana_distance_realdist'].describe())\n",
    "ax = df_localness['pandana_distance_realdist'].hist(bins=50,ec='None')\n",
    "ax.grid(False)\n",
    "# plt.title('Food order distance (km) (n='+str(df_nearest_compute.shape[0])+')')\n",
    "meanv = round(df_localness['pandana_distance_realdist'].mean(),2)\n",
    "medianv = round(df_localness['pandana_distance_realdist'].median(),2)\n",
    "plt.axvline(x=meanv,color='r',label='mean='+str(meanv)+'km',ls='--')\n",
    "plt.axvline(x=medianv,color='g',label='median='+str(medianv)+'km',ls='--')\n",
    "plt.ylabel('Order counts')\n",
    "plt.xlabel('Order distance (km)')\n",
    "plt.legend()\n",
    "plt.savefig('./output/plot_orderdistance.pdf', bbox_inches=\"tight\")"
   ]
  },
  {
   "cell_type": "code",
   "execution_count": 27,
   "metadata": {},
   "outputs": [
    {
     "name": "stdout",
     "output_type": "stream",
     "text": [
      "count    2767286.000000\n",
      "mean     0.335338      \n",
      "std      0.305679      \n",
      "min      0.000000      \n",
      "25%      0.093791      \n",
      "50%      0.228303      \n",
      "75%      0.503491      \n",
      "max      1.000000      \n",
      "Name: pandana_localness, dtype: object\n"
     ]
    },
    {
     "data": {
      "image/png": "[encoded data removed]",
      "text/plain": [
       "<Figure size 288x432 with 1 Axes>"
      ]
     },
     "metadata": {},
     "output_type": "display_data"
    }
   ],
   "source": [
    "sns.set_theme(rc={'figure.figsize':(4,6)},style='white') \n",
    "plt.rcParams.update({'font.size': 14})\n",
    "print(df_localness['pandana_localness'].describe().apply(lambda x: format(x, 'f')))\n",
    "ax = df_localness['pandana_localness'].hist(bins=40,ec='None')\n",
    "ax.grid(False)\n",
    "meanv = round(df_localness['pandana_localness'].mean(),2)\n",
    "medianv = round(df_localness['pandana_localness'].median(),2)\n",
    "plt.axvline(x=meanv,color='r',label='mean='+str(meanv),ls='--')\n",
    "plt.axvline(x=medianv,color='g',label='median='+str(medianv),ls='--')\n",
    "plt.legend(loc=(0.4,0.88)) #loc=(0.4,0.85)\n",
    "# plt.title('Food order localness (n='+str(df_nearest_compute.shape[0])+')')\n",
    "plt.ylabel('Order counts')\n",
    "plt.xlabel('Localness')\n",
    "plt.savefig('./output/plot_localness.pdf', bbox_inches=\"tight\")"
   ]
  },
  {
   "cell_type": "code",
   "execution_count": 9,
   "metadata": {},
   "outputs": [
    {
     "name": "stdout",
     "output_type": "stream",
     "text": [
      "count   2767286.00000\n",
      "mean    1.48126      \n",
      "std     1.82575      \n",
      "min     0.00000      \n",
      "25%     0.41558      \n",
      "50%     0.90672      \n",
      "75%     1.82404      \n",
      "max     27.19515     \n",
      "Name: nearest_dist1, dtype: float64\n"
     ]
    },
    {
     "data": {
      "image/png": "[encoded data removed]",
      "text/plain": [
       "<Figure size 288x432 with 1 Axes>"
      ]
     },
     "metadata": {},
     "output_type": "display_data"
    }
   ],
   "source": [
    "sns.set_theme(rc={'figure.figsize':(4,6)},style='white') \n",
    "plt.rcParams.update({'font.size': 14})\n",
    "print(df_localness['nearest_dist1'].describe())\n",
    "ax = df_localness['nearest_dist1'].hist(bins=50,ec='None')\n",
    "ax.grid(False)\n",
    "# plt.title('Food order distance (km) (n='+str(df_nearest_compute.shape[0])+')')\n",
    "meanv = round(df_localness['nearest_dist1'].mean(),2)\n",
    "medianv = round(df_localness['nearest_dist1'].median(),2)\n",
    "plt.axvline(x=meanv,color='r',label='mean='+str(meanv)+'km',ls='--')\n",
    "plt.axvline(x=medianv,color='g',label='median='+str(medianv)+'km',ls='--')\n",
    "plt.ylabel('Order counts')\n",
    "plt.xlabel('Distance to the nearest resturant (km)')\n",
    "plt.legend()\n",
    "plt.savefig('./output/plot_distance_to_nearest.pdf', bbox_inches=\"tight\")"
   ]
  },
  {
   "cell_type": "code",
   "execution_count": 21,
   "metadata": {},
   "outputs": [],
   "source": [
    "top10 = df_localness.groupby('main_cuisine').pandana_localness.mean().sort_values(ascending=False).head(10).index.tolist()\n",
    "tail20 = df_localness.groupby('main_cuisine').pandana_localness.mean().sort_values(ascending=False).tail(20).index.tolist()"
   ]
  },
  {
   "cell_type": "code",
   "execution_count": 41,
   "metadata": {},
   "outputs": [
    {
     "name": "stdout",
     "output_type": "stream",
     "text": [
      "CPU times: user 2.37 s, sys: 1.32 s, total: 3.69 s\n",
      "Wall time: 6.62 s\n"
     ]
    },
    {
     "data": {
      "image/png": "[encoded data removed]",
      "text/plain": [
       "<Figure size 576x432 with 1 Axes>"
      ]
     },
     "metadata": {},
     "output_type": "display_data"
    }
   ],
   "source": [
    "%%time\n",
    "df_localness_select10 = df_localness[df_localness['main_cuisine'].isin(tail20)]\n",
    "sns.set_theme(rc={'figure.figsize':(8,6)},font_scale=1.2)\n",
    "# sns.violinplot(data=df_nearest_compute,x='main_cuisine',y='localness')\n",
    "my_order = df_localness_select10.groupby(by=[\"main_cuisine\"])[\"pandana_localness\"].median().sort_values().index\n",
    "sns.boxplot(data=df_localness_select10,x='main_cuisine',y='pandana_localness',order=my_order, showfliers=False)\n",
    "plt.xticks(rotation=90)\n",
    "plt.xlabel('')\n",
    "plt.ylabel('Localness')\n",
    "plt.savefig('./output/plot_tenleastlocalcusines.pdf', bbox_inches=\"tight\")"
   ]
  },
  {
   "cell_type": "markdown",
   "metadata": {},
   "source": [
    "# Time of day pattern of food order localness"
   ]
  },
  {
   "cell_type": "code",
   "execution_count": 38,
   "metadata": {},
   "outputs": [
    {
     "data": {
      "image/png": "[encoded data removed]",
      "text/plain": [
       "<Figure size 720x432 with 1 Axes>"
      ]
     },
     "metadata": {},
     "output_type": "display_data"
    }
   ],
   "source": [
    "sns.set_theme(rc={'figure.figsize':(10,6)},font_scale=1.2)\n",
    "sns.boxplot(data=df_localness,x='order_time_hour',y='pandana_localness')\n",
    "# plt.xticks() # rotation=90\n",
    "plt.xlabel('Hour')\n",
    "plt.ylabel('Localness')\n",
    "plt.savefig('./output/plot_localness_timeofday.pdf', bbox_inches=\"tight\")"
   ]
  },
  {
   "cell_type": "code",
   "execution_count": 39,
   "metadata": {},
   "outputs": [
    {
     "data": {
      "text/plain": [
       "Text(0, 0.5, 'Order distance (km)')"
      ]
     },
     "execution_count": 39,
     "metadata": {},
     "output_type": "execute_result"
    },
    {
     "data": {
      "image/png": "[encoded data removed]",
      "text/plain": [
       "<Figure size 720x432 with 1 Axes>"
      ]
     },
     "metadata": {},
     "output_type": "display_data"
    }
   ],
   "source": [
    "sns.set_theme(rc={'figure.figsize':(10,6)},font_scale=1.2)\n",
    "sns.boxplot(data=df_localness,x='order_time_hour',y='pandana_distance_realdist', showfliers=False)\n",
    "# plt.title('Order travel distance (km)')\n",
    "plt.xlabel('Hour')\n",
    "plt.ylabel('Order distance (km)')"
   ]
  },
  {
   "cell_type": "markdown",
   "metadata": {},
   "source": [
    "# Total distance change if all orders were from the nearest restaurant"
   ]
  },
  {
   "cell_type": "code",
   "execution_count": 5,
   "metadata": {},
   "outputs": [
    {
     "data": {
      "text/html": [
       "<div>\n",
       "<style scoped>\n",
       "    .dataframe tbody tr th:only-of-type {\n",
       "        vertical-align: middle;\n",
       "    }\n",
       "\n",
       "    .dataframe tbody tr th {\n",
       "        vertical-align: top;\n",
       "    }\n",
       "\n",
       "    .dataframe thead th {\n",
       "        text-align: right;\n",
       "    }\n",
       "</style>\n",
       "<table border=\"1\" class=\"dataframe\">\n",
       "  <thead>\n",
       "    <tr style=\"text-align: right;\">\n",
       "      <th></th>\n",
       "      <th>account_id</th>\n",
       "      <th>order_id</th>\n",
       "      <th>order_date</th>\n",
       "      <th>order_time</th>\n",
       "      <th>vendor_id</th>\n",
       "      <th>vendor_name</th>\n",
       "      <th>main_cuisine</th>\n",
       "      <th>vertical</th>\n",
       "      <th>delivery_fee_amount_lc</th>\n",
       "      <th>service_fee_amount_lc</th>\n",
       "      <th>basket_amount_lc</th>\n",
       "      <th>is_incentive_applied</th>\n",
       "      <th>incentive_amount_lc</th>\n",
       "      <th>pickup_id</th>\n",
       "      <th>customer_lon</th>\n",
       "      <th>customer_lat</th>\n",
       "      <th>vendor_lon</th>\n",
       "      <th>vendor_lat</th>\n",
       "      <th>order_time_hour</th>\n",
       "      <th>delivery_duration</th>\n",
       "      <th>total_duration</th>\n",
       "      <th>node_id</th>\n",
       "      <th>nearest_dist1</th>\n",
       "      <th>poi1</th>\n",
       "      <th>n_vertical</th>\n",
       "      <th>n_vendor_id</th>\n",
       "      <th>n_main_cuisine</th>\n",
       "      <th>n_vendor_name</th>\n",
       "      <th>n_vendor_lon</th>\n",
       "      <th>n_vendor_lat</th>\n",
       "      <th>vendor_index</th>\n",
       "      <th>pandana_distance_realdist</th>\n",
       "      <th>pandana_localness</th>\n",
       "      <th>speed</th>\n",
       "      <th>isweekend</th>\n",
       "      <th>item_price</th>\n",
       "      <th>customer_loc_id</th>\n",
       "      <th>entropy_0.5km</th>\n",
       "      <th>poi_count_0.5km</th>\n",
       "      <th>entropy_1km</th>\n",
       "      <th>poi_count_1km</th>\n",
       "      <th>entropy_2km</th>\n",
       "      <th>poi_count_2km</th>\n",
       "      <th>entropy_3km</th>\n",
       "      <th>poi_count_3km</th>\n",
       "      <th>entropy_4km</th>\n",
       "      <th>poi_count_4km</th>\n",
       "      <th>entropy_5km</th>\n",
       "      <th>poi_count_5km</th>\n",
       "      <th>poi_count_0.5_1km</th>\n",
       "      <th>poi_count_1_2km</th>\n",
       "      <th>poi_count_2_3km</th>\n",
       "      <th>poi_count_3_4km</th>\n",
       "      <th>poi_count_4_5km</th>\n",
       "      <th>approxi_rent</th>\n",
       "      <th>compensation</th>\n",
       "      <th>discounted delivery</th>\n",
       "      <th>free delivery</th>\n",
       "      <th>gem</th>\n",
       "      <th>item discount</th>\n",
       "      <th>menu discount</th>\n",
       "      <th>voucher wallet</th>\n",
       "      <th>incentives_type</th>\n",
       "      <th>incentive_delivery</th>\n",
       "      <th>incentive_menu_discount</th>\n",
       "      <th>incentive_voucher_wallet</th>\n",
       "      <th>rating</th>\n",
       "      <th>n_rating</th>\n",
       "      <th>total_orders</th>\n",
       "      <th>consistency</th>\n",
       "    </tr>\n",
       "  </thead>\n",
       "  <tbody>\n",
       "    <tr>\n",
       "      <th>0</th>\n",
       "      <td>7051337</td>\n",
       "      <td>1305576462</td>\n",
       "      <td>2023-10-10</td>\n",
       "      <td>2023-10-10 15:30:22</td>\n",
       "      <td>50868</td>\n",
       "      <td>SHAGHF, Jumeirah 3</td>\n",
       "      <td>coffee</td>\n",
       "      <td>food</td>\n",
       "      <td>0.00000</td>\n",
       "      <td>1.73000</td>\n",
       "      <td>57.75000</td>\n",
       "      <td>True</td>\n",
       "      <td>10.00000</td>\n",
       "      <td>249162013.00000</td>\n",
       "      <td>55.21388</td>\n",
       "      <td>25.15585</td>\n",
       "      <td>55.23119</td>\n",
       "      <td>25.18903</td>\n",
       "      <td>15</td>\n",
       "      <td>17</td>\n",
       "      <td>27</td>\n",
       "      <td>7584090309</td>\n",
       "      <td>0.65335</td>\n",
       "      <td>840</td>\n",
       "      <td>food</td>\n",
       "      <td>697762</td>\n",
       "      <td>coffee</td>\n",
       "      <td>Awaken Cafe, Al Wasl</td>\n",
       "      <td>55.21303</td>\n",
       "      <td>25.15146</td>\n",
       "      <td>840</td>\n",
       "      <td>4.61410</td>\n",
       "      <td>0.14160</td>\n",
       "      <td>10.25355</td>\n",
       "      <td>False</td>\n",
       "      <td>30.06471</td>\n",
       "      <td>55.21387725.155851</td>\n",
       "      <td>0.00000</td>\n",
       "      <td>0.00000</td>\n",
       "      <td>0.47137</td>\n",
       "      <td>21.00000</td>\n",
       "      <td>0.65855</td>\n",
       "      <td>105.00000</td>\n",
       "      <td>0.66518</td>\n",
       "      <td>198.00000</td>\n",
       "      <td>0.69070</td>\n",
       "      <td>296.00000</td>\n",
       "      <td>0.70457</td>\n",
       "      <td>582.00000</td>\n",
       "      <td>21.00000</td>\n",
       "      <td>84.00000</td>\n",
       "      <td>93.00000</td>\n",
       "      <td>98.00000</td>\n",
       "      <td>286.00000</td>\n",
       "      <td>90.44289</td>\n",
       "      <td>0.00000</td>\n",
       "      <td>0.00000</td>\n",
       "      <td>0.00000</td>\n",
       "      <td>0.00000</td>\n",
       "      <td>0.00000</td>\n",
       "      <td>0.00000</td>\n",
       "      <td>10.00000</td>\n",
       "      <td>voucher wallet</td>\n",
       "      <td>False</td>\n",
       "      <td>False</td>\n",
       "      <td>True</td>\n",
       "      <td>Amazing</td>\n",
       "      <td>None</td>\n",
       "      <td>58</td>\n",
       "      <td>0.85783</td>\n",
       "    </tr>\n",
       "    <tr>\n",
       "      <th>1</th>\n",
       "      <td>7051337</td>\n",
       "      <td>1313167366</td>\n",
       "      <td>2023-10-16</td>\n",
       "      <td>2023-10-16 16:43:34</td>\n",
       "      <td>50868</td>\n",
       "      <td>SHAGHF, Jumeirah 3</td>\n",
       "      <td>coffee</td>\n",
       "      <td>food</td>\n",
       "      <td>7.50000</td>\n",
       "      <td>0.90000</td>\n",
       "      <td>26.25000</td>\n",
       "      <td>True</td>\n",
       "      <td>10.00000</td>\n",
       "      <td>250948408.00000</td>\n",
       "      <td>55.21389</td>\n",
       "      <td>25.15572</td>\n",
       "      <td>55.23119</td>\n",
       "      <td>25.18903</td>\n",
       "      <td>16</td>\n",
       "      <td>13</td>\n",
       "      <td>31</td>\n",
       "      <td>7584090309</td>\n",
       "      <td>0.65335</td>\n",
       "      <td>840</td>\n",
       "      <td>food</td>\n",
       "      <td>697762</td>\n",
       "      <td>coffee</td>\n",
       "      <td>Awaken Cafe, Al Wasl</td>\n",
       "      <td>55.21303</td>\n",
       "      <td>25.15146</td>\n",
       "      <td>840</td>\n",
       "      <td>4.61410</td>\n",
       "      <td>0.14160</td>\n",
       "      <td>8.93051</td>\n",
       "      <td>False</td>\n",
       "      <td>30.06471</td>\n",
       "      <td>55.213885121047525.1557155663109</td>\n",
       "      <td>0.00000</td>\n",
       "      <td>0.00000</td>\n",
       "      <td>0.47137</td>\n",
       "      <td>21.00000</td>\n",
       "      <td>0.65855</td>\n",
       "      <td>105.00000</td>\n",
       "      <td>0.66603</td>\n",
       "      <td>197.00000</td>\n",
       "      <td>0.69169</td>\n",
       "      <td>295.00000</td>\n",
       "      <td>0.70585</td>\n",
       "      <td>587.00000</td>\n",
       "      <td>21.00000</td>\n",
       "      <td>84.00000</td>\n",
       "      <td>92.00000</td>\n",
       "      <td>98.00000</td>\n",
       "      <td>292.00000</td>\n",
       "      <td>90.65273</td>\n",
       "      <td>0.00000</td>\n",
       "      <td>0.00000</td>\n",
       "      <td>0.00000</td>\n",
       "      <td>0.00000</td>\n",
       "      <td>0.00000</td>\n",
       "      <td>0.00000</td>\n",
       "      <td>10.00000</td>\n",
       "      <td>voucher wallet</td>\n",
       "      <td>False</td>\n",
       "      <td>False</td>\n",
       "      <td>True</td>\n",
       "      <td>Amazing</td>\n",
       "      <td>None</td>\n",
       "      <td>58</td>\n",
       "      <td>0.85783</td>\n",
       "    </tr>\n",
       "  </tbody>\n",
       "</table>\n",
       "</div>"
      ],
      "text/plain": [
       "   account_id    order_id  order_date           order_time  vendor_id         vendor_name main_cuisine vertical  delivery_fee_amount_lc  service_fee_amount_lc  basket_amount_lc is_incentive_applied  incentive_amount_lc       pickup_id  customer_lon  customer_lat  vendor_lon  vendor_lat  order_time_hour  delivery_duration  total_duration     node_id  nearest_dist1  poi1 n_vertical  n_vendor_id n_main_cuisine         n_vendor_name  n_vendor_lon  n_vendor_lat  vendor_index  pandana_distance_realdist  pandana_localness    speed  isweekend  item_price                   customer_loc_id  entropy_0.5km  poi_count_0.5km  entropy_1km  poi_count_1km  entropy_2km  poi_count_2km  entropy_3km  poi_count_3km  entropy_4km  poi_count_4km  entropy_5km  poi_count_5km  poi_count_0.5_1km  poi_count_1_2km  poi_count_2_3km  poi_count_3_4km  poi_count_4_5km  approxi_rent  compensation  discounted delivery  free delivery     gem  item discount  menu discount  voucher wallet incentives_type  \\\n",
       "0  7051337     1305576462  2023-10-10  2023-10-10 15:30:22  50868      SHAGHF, Jumeirah 3  coffee       food    0.00000                 1.73000                57.75000           True                10.00000             249162013.00000 55.21388      25.15585      55.23119    25.18903     15               17                 27              7584090309 0.65335         840   food       697762       coffee         Awaken Cafe, Al Wasl 55.21303      25.15146       840          4.61410                    0.14160            10.25355  False     30.06471     55.21387725.155851               0.00000        0.00000          0.47137      21.00000       0.65855      105.00000      0.66518      198.00000      0.69070      296.00000      0.70457      582.00000      21.00000           84.00000         93.00000         98.00000         286.00000        90.44289      0.00000       0.00000              0.00000        0.00000 0.00000        0.00000        10.00000         voucher wallet   \n",
       "1  7051337     1313167366  2023-10-16  2023-10-16 16:43:34  50868      SHAGHF, Jumeirah 3  coffee       food    7.50000                 0.90000                26.25000           True                10.00000             250948408.00000 55.21389      25.15572      55.23119    25.18903     16               13                 31              7584090309 0.65335         840   food       697762       coffee         Awaken Cafe, Al Wasl 55.21303      25.15146       840          4.61410                    0.14160            8.93051   False     30.06471     55.213885121047525.1557155663109 0.00000        0.00000          0.47137      21.00000       0.65855      105.00000      0.66603      197.00000      0.69169      295.00000      0.70585      587.00000      21.00000           84.00000         92.00000         98.00000         292.00000        90.65273      0.00000       0.00000              0.00000        0.00000 0.00000        0.00000        10.00000         voucher wallet   \n",
       "\n",
       "   incentive_delivery  incentive_menu_discount  incentive_voucher_wallet   rating n_rating  total_orders  consistency  \n",
       "0  False               False                    True                      Amazing  None     58           0.85783       \n",
       "1  False               False                    True                      Amazing  None     58           0.85783       "
      ]
     },
     "execution_count": 5,
     "metadata": {},
     "output_type": "execute_result"
    }
   ],
   "source": [
    "df_localness.head(2)"
   ]
  },
  {
   "cell_type": "code",
   "execution_count": 17,
   "metadata": {},
   "outputs": [
    {
     "data": {
      "text/plain": [
       "2767286"
      ]
     },
     "execution_count": 17,
     "metadata": {},
     "output_type": "execute_result"
    }
   ],
   "source": [
    "df_localness.order_id.unique().shape[0]"
   ]
  },
  {
   "cell_type": "code",
   "execution_count": 10,
   "metadata": {},
   "outputs": [
    {
     "data": {
      "text/plain": [
       "15611414.047119008"
      ]
     },
     "execution_count": 10,
     "metadata": {},
     "output_type": "execute_result"
    }
   ],
   "source": [
    "df_localness.pandana_distance_realdist.sum()"
   ]
  },
  {
   "cell_type": "code",
   "execution_count": 18,
   "metadata": {},
   "outputs": [
    {
     "data": {
      "text/plain": [
       "5.641416914304849"
      ]
     },
     "execution_count": 18,
     "metadata": {},
     "output_type": "execute_result"
    }
   ],
   "source": [
    "15611414.047119008/2767286"
   ]
  },
  {
   "cell_type": "code",
   "execution_count": 11,
   "metadata": {},
   "outputs": [
    {
     "data": {
      "text/plain": [
       "4099066.5244400194"
      ]
     },
     "execution_count": 11,
     "metadata": {},
     "output_type": "execute_result"
    }
   ],
   "source": [
    "df_localness.nearest_dist1.sum()"
   ]
  },
  {
   "cell_type": "code",
   "execution_count": 13,
   "metadata": {},
   "outputs": [
    {
     "data": {
      "text/plain": [
       "-73.74"
      ]
     },
     "execution_count": 13,
     "metadata": {},
     "output_type": "execute_result"
    }
   ],
   "source": [
    "round((4099066.5244400194-15611414.047119008)/15611414.047119008*100,2)"
   ]
  },
  {
   "cell_type": "code",
   "execution_count": null,
   "metadata": {},
   "outputs": [],
   "source": []
  },
  {
   "cell_type": "markdown",
   "metadata": {},
   "source": [
    "# OLS"
   ]
  },
  {
   "cell_type": "code",
   "execution_count": 4,
   "metadata": {},
   "outputs": [],
   "source": [
    "import statsmodels.api as sm"
   ]
  },
  {
   "cell_type": "code",
   "execution_count": 5,
   "metadata": {},
   "outputs": [
    {
     "data": {
      "text/plain": [
       "Index(['account_id', 'order_id', 'order_date', 'order_time', 'vendor_id', 'vendor_name', 'main_cuisine', 'vertical', 'delivery_fee_amount_lc', 'service_fee_amount_lc', 'basket_amount_lc', 'is_incentive_applied', 'incentive_amount_lc', 'pickup_id', 'customer_lon', 'customer_lat', 'vendor_lon', 'vendor_lat', 'order_time_hour', 'delivery_duration', 'total_duration', 'node_id', 'nearest_dist1', 'poi1', 'n_vertical', 'n_vendor_id', 'n_main_cuisine', 'n_vendor_name', 'n_vendor_lon', 'n_vendor_lat', 'vendor_index', 'pandana_distance_realdist', 'pandana_localness', 'speed', 'isweekend', 'item_price', 'customer_loc_id', 'entropy_0.5km', 'poi_count_0.5km', 'entropy_1km', 'poi_count_1km', 'entropy_2km', 'poi_count_2km', 'entropy_3km', 'poi_count_3km', 'entropy_4km', 'poi_count_4km', 'entropy_5km', 'poi_count_5km', 'poi_count_0.5_1km', 'poi_count_1_2km', 'poi_count_2_3km', 'poi_count_3_4km', 'poi_count_4_5km', 'approxi_rent', 'compensation', 'discounted delivery', 'free delivery', 'gem',\n",
       "       'item discount', 'menu discount', 'voucher wallet', 'incentives_type', 'incentive_delivery', 'incentive_menu_discount', 'incentive_voucher_wallet', 'rating', 'n_rating', 'total_orders', 'consistency'],\n",
       "      dtype='object')"
      ]
     },
     "execution_count": 5,
     "metadata": {},
     "output_type": "execute_result"
    }
   ],
   "source": [
    "df_localness.columns"
   ]
  },
  {
   "cell_type": "code",
   "execution_count": 16,
   "metadata": {},
   "outputs": [],
   "source": [
    "df_localness.rename(columns={\"poi_count_0.5_1km\": \"poi_count_05_1km\",\n",
    "                             \"entropy_0.5km\": \"entropy_05km\",\n",
    "                             \"poi_count_0.5km\": \"poi_count_05km\"\n",
    "                            }, inplace=True)"
   ]
  },
  {
   "cell_type": "code",
   "execution_count": 17,
   "metadata": {},
   "outputs": [
    {
     "name": "stdout",
     "output_type": "stream",
     "text": [
      "                            OLS Regression Results                            \n",
      "==============================================================================\n",
      "Dep. Variable:      pandana_localness   R-squared:                       0.125\n",
      "Model:                            OLS   Adj. R-squared:                  0.125\n",
      "Method:                 Least Squares   F-statistic:                 1.368e+04\n",
      "Date:                Wed, 05 Jun 2024   Prob (F-statistic):               0.00\n",
      "Time:                        12:20:50   Log-Likelihood:            -4.6144e+05\n",
      "No. Observations:             2767286   AIC:                         9.229e+05\n",
      "Df Residuals:                 2767256   BIC:                         9.233e+05\n",
      "Df Model:                          29                                         \n",
      "Covariance Type:            nonrobust                                         \n",
      "=======================================================================================================\n",
      "                                          coef    std err          t      P>|t|      [0.025      0.975]\n",
      "-------------------------------------------------------------------------------------------------------\n",
      "Intercept                               0.8343      0.002    347.542      0.000       0.830       0.839\n",
      "C(isweekend)[T.True]                   -0.0156      0.000    -41.848      0.000      -0.016      -0.015\n",
      "C(incentive_delivery)[T.True]          -0.0335      0.001    -43.841      0.000      -0.035      -0.032\n",
      "C(incentive_menu_discount)[T.True]      0.0197      0.001     35.968      0.000       0.019       0.021\n",
      "C(incentive_voucher_wallet)[T.True]    -0.0160      0.001    -16.670      0.000      -0.018      -0.014\n",
      "C(rating)[T.Good]                      -0.0282      0.001    -20.442      0.000      -0.031      -0.026\n",
      "C(rating)[T.None]                       0.0161      0.001     28.126      0.000       0.015       0.017\n",
      "C(rating)[T.OK]                         0.0174      0.015      1.145      0.252      -0.012       0.047\n",
      "C(rating)[T.Very good]                 -0.0149      0.000    -36.519      0.000      -0.016      -0.014\n",
      "C(n_rating)[T.Good]                    -0.0205      0.001    -23.268      0.000      -0.022      -0.019\n",
      "C(n_rating)[T.None]                    -0.0372      0.001    -68.810      0.000      -0.038      -0.036\n",
      "C(n_rating)[T.OK]                      -0.0592      0.003    -17.304      0.000      -0.066      -0.052\n",
      "C(n_rating)[T.Very good]               -0.0183      0.000    -40.679      0.000      -0.019      -0.017\n",
      "order_time_hour                         0.0017   3.12e-05     54.267      0.000       0.002       0.002\n",
      "total_duration                         -0.0047   1.24e-05   -378.068      0.000      -0.005      -0.005\n",
      "approxi_rent                            0.0004   5.29e-06     80.032      0.000       0.000       0.000\n",
      "entropy_05km                           -0.1936      0.001   -174.117      0.000      -0.196      -0.191\n",
      "entropy_2km                            -0.2234      0.002   -100.730      0.000      -0.228      -0.219\n",
      "entropy_5km                            -0.3096      0.004    -79.817      0.000      -0.317      -0.302\n",
      "consistency                             0.0293      0.001     52.203      0.000       0.028       0.030\n",
      "total_orders                           -0.0002   1.29e-05    -16.821      0.000      -0.000      -0.000\n",
      "incentive_amount_lc                    -0.0002   1.81e-05    -11.352      0.000      -0.000      -0.000\n",
      "poi_count_05km                         -0.0004   7.42e-06    -51.106      0.000      -0.000      -0.000\n",
      "poi_count_05_1km                    -6.285e-05   3.85e-06    -16.316      0.000   -7.04e-05   -5.53e-05\n",
      "poi_count_1_2km                        1.7e-05   2.07e-06      8.193      0.000    1.29e-05    2.11e-05\n",
      "poi_count_2_3km                      5.503e-05   1.69e-06     32.549      0.000    5.17e-05    5.83e-05\n",
      "poi_count_3_4km                      1.582e-06   1.58e-06      1.001      0.317   -1.51e-06    4.68e-06\n",
      "poi_count_4_5km                     -7.662e-06   1.38e-06     -5.541      0.000   -1.04e-05   -4.95e-06\n",
      "basket_amount_lc                        0.0003   3.55e-06     71.271      0.000       0.000       0.000\n",
      "item_price                              0.0016   1.24e-05    129.663      0.000       0.002       0.002\n",
      "==============================================================================\n",
      "Omnibus:                   325144.275   Durbin-Watson:                   1.021\n",
      "Prob(Omnibus):                  0.000   Jarque-Bera (JB):           455867.998\n",
      "Skew:                           0.992   Prob(JB):                         0.00\n",
      "Kurtosis:                       3.133   Cond. No.                     3.91e+04\n",
      "==============================================================================\n",
      "\n",
      "Notes:\n",
      "[1] Standard Errors assume that the covariance matrix of the errors is correctly specified.\n",
      "[2] The condition number is large, 3.91e+04. This might indicate that there are\n",
      "strong multicollinearity or other numerical problems.\n",
      "CPU times: user 49.9 s, sys: 27.6 s, total: 1min 17s\n",
      "Wall time: 37.1 s\n"
     ]
    }
   ],
   "source": [
    "%%time\n",
    "from statsmodels.formula.api import ols\n",
    "\n",
    "# Fit the linear regression model\n",
    "model = ols('pandana_localness ~ order_time_hour + total_duration + approxi_rent +  entropy_05km+ entropy_2km + entropy_5km + consistency + total_orders + incentive_amount_lc +  poi_count_05km + poi_count_05_1km + poi_count_1_2km + poi_count_2_3km + poi_count_3_4km + poi_count_4_5km + basket_amount_lc + item_price + C(isweekend) + C(incentive_delivery) + C(incentive_menu_discount) + C(incentive_voucher_wallet) + C(rating) + C(n_rating)', data=df_localness).fit()\n",
    "\n",
    "# Print the model summary with significance levels\n",
    "print(model.summary())"
   ]
  },
  {
   "cell_type": "code",
   "execution_count": null,
   "metadata": {},
   "outputs": [],
   "source": []
  },
  {
   "cell_type": "code",
   "execution_count": null,
   "metadata": {},
   "outputs": [],
   "source": []
  },
  {
   "cell_type": "code",
   "execution_count": null,
   "metadata": {},
   "outputs": [],
   "source": []
  },
  {
   "cell_type": "code",
   "execution_count": null,
   "metadata": {},
   "outputs": [],
   "source": []
  },
  {
   "cell_type": "code",
   "execution_count": null,
   "metadata": {},
   "outputs": [],
   "source": []
  },
  {
   "cell_type": "code",
   "execution_count": null,
   "metadata": {},
   "outputs": [],
   "source": []
  },
  {
   "cell_type": "code",
   "execution_count": null,
   "metadata": {},
   "outputs": [],
   "source": []
  },
  {
   "cell_type": "code",
   "execution_count": null,
   "metadata": {},
   "outputs": [],
   "source": []
  },
  {
   "cell_type": "code",
   "execution_count": null,
   "metadata": {},
   "outputs": [],
   "source": []
  },
  {
   "cell_type": "code",
   "execution_count": null,
   "metadata": {},
   "outputs": [],
   "source": []
  },
  {
   "cell_type": "code",
   "execution_count": null,
   "metadata": {},
   "outputs": [],
   "source": []
  },
  {
   "cell_type": "code",
   "execution_count": null,
   "metadata": {},
   "outputs": [],
   "source": []
  },
  {
   "cell_type": "code",
   "execution_count": null,
   "metadata": {},
   "outputs": [],
   "source": []
  },
  {
   "cell_type": "code",
   "execution_count": null,
   "metadata": {},
   "outputs": [],
   "source": []
  },
  {
   "cell_type": "code",
   "execution_count": null,
   "metadata": {},
   "outputs": [],
   "source": []
  },
  {
   "cell_type": "code",
   "execution_count": null,
   "metadata": {},
   "outputs": [],
   "source": []
  }
 ],
 "metadata": {
  "kernelspec": {
   "display_name": "python3.8",
   "language": "python",
   "name": "python3.8"
  },
  "language_info": {
   "codemirror_mode": {
    "name": "ipython",
    "version": 3
   },
   "file_extension": ".py",
   "mimetype": "text/x-python",
   "name": "python",
   "nbconvert_exporter": "python",
   "pygments_lexer": "ipython3",
   "version": "3.8.5"
  }
 },
 "nbformat": 4,
 "nbformat_minor": 2
}
