{
 "cells": [
  {
   "cell_type": "code",
   "execution_count": 82,
   "metadata": {},
   "outputs": [],
   "source": [
    "import datetime\n",
    "import geopandas as gpd\n",
    "import matplotlib.pyplot as plt\n",
    "import pandas as pd\n",
    "import numpy as np\n",
    "from shapely.geometry import Point\n",
    "from geopandas import GeoDataFrame\n",
    "import os\n",
    "import seaborn as sns\n",
    "\n",
    "pd.set_option(\"display.max_colwidth\", 0)\n",
    "pd.set_option(\"display.max_rows\", 500)\n",
    "pd.set_option(\"display.max_columns\", 500)\n",
    "pd.set_option(\"display.width\", 1000)\n",
    "pd.options.display.float_format = '{:.5f}'.format\n",
    "\n",
    "import warnings\n",
    "warnings.filterwarnings(\"ignore\")"
   ]
  },
  {
   "cell_type": "code",
   "execution_count": 2,
   "metadata": {},
   "outputs": [
    {
     "data": {
      "application/javascript": [
       "IPython.notebook.set_autosave_interval(5000)"
      ]
     },
     "metadata": {},
     "output_type": "display_data"
    },
    {
     "name": "stdout",
     "output_type": "stream",
     "text": [
      "Autosaving every 5 seconds\n"
     ]
    }
   ],
   "source": [
    "import sys\n",
    "import logging\n",
    "import datetime\n",
    "\n",
    "nblog = open(\"./logs/explore_localness_\"+str(datetime.datetime.now())+\".log\", \"a+\")\n",
    "sys.stdout.echo = nblog\n",
    "sys.stderr.echo = nblog\n",
    "\n",
    "get_ipython().log.handlers[0].stream = nblog\n",
    "get_ipython().log.setLevel(logging.INFO)\n",
    "\n",
    "%autosave 5"
   ]
  },
  {
   "cell_type": "code",
   "execution_count": 83,
   "metadata": {},
   "outputs": [
    {
     "name": "stdout",
     "output_type": "stream",
     "text": [
      "unique orders: 2767286\n",
      "unique accounts: 555121\n",
      "unique vendors: 7718\n",
      "CPU times: user 21.1 s, sys: 4.52 s, total: 25.6 s\n",
      "Wall time: 28.3 s\n"
     ]
    },
    {
     "data": {
      "text/html": [
       "<div>\n",
       "<style scoped>\n",
       "    .dataframe tbody tr th:only-of-type {\n",
       "        vertical-align: middle;\n",
       "    }\n",
       "\n",
       "    .dataframe tbody tr th {\n",
       "        vertical-align: top;\n",
       "    }\n",
       "\n",
       "    .dataframe thead th {\n",
       "        text-align: right;\n",
       "    }\n",
       "</style>\n",
       "<table border=\"1\" class=\"dataframe\">\n",
       "  <thead>\n",
       "    <tr style=\"text-align: right;\">\n",
       "      <th></th>\n",
       "      <th>account_id</th>\n",
       "      <th>order_id</th>\n",
       "      <th>order_date</th>\n",
       "      <th>order_time</th>\n",
       "      <th>vendor_id</th>\n",
       "      <th>vendor_name</th>\n",
       "      <th>main_cuisine</th>\n",
       "      <th>vertical</th>\n",
       "      <th>delivery_fee_amount_lc</th>\n",
       "      <th>service_fee_amount_lc</th>\n",
       "      <th>basket_amount_lc</th>\n",
       "      <th>is_incentive_applied</th>\n",
       "      <th>incentive_amount_lc</th>\n",
       "      <th>pickup_id</th>\n",
       "      <th>customer_lon</th>\n",
       "      <th>customer_lat</th>\n",
       "      <th>vendor_lon</th>\n",
       "      <th>vendor_lat</th>\n",
       "      <th>order_time_hour</th>\n",
       "      <th>delivery_duration</th>\n",
       "      <th>total_duration</th>\n",
       "      <th>node_id</th>\n",
       "      <th>nearest_dist1</th>\n",
       "      <th>poi1</th>\n",
       "      <th>n_vertical</th>\n",
       "      <th>n_vendor_id</th>\n",
       "      <th>n_main_cuisine</th>\n",
       "      <th>n_vendor_name</th>\n",
       "      <th>n_vendor_lon</th>\n",
       "      <th>n_vendor_lat</th>\n",
       "      <th>vendor_index</th>\n",
       "      <th>pandana_distance_realdist</th>\n",
       "      <th>pandana_localness</th>\n",
       "      <th>speed</th>\n",
       "      <th>isweekend</th>\n",
       "      <th>price_per_item</th>\n",
       "      <th>customer_loc_id</th>\n",
       "      <th>entropy_0.5km</th>\n",
       "      <th>restaurant_count_0.5km</th>\n",
       "      <th>entropy_1km</th>\n",
       "      <th>poi_count_1km</th>\n",
       "      <th>entropy_2km</th>\n",
       "      <th>poi_count_2km</th>\n",
       "      <th>entropy_3km</th>\n",
       "      <th>poi_count_3km</th>\n",
       "      <th>entropy_4km</th>\n",
       "      <th>poi_count_4km</th>\n",
       "      <th>entropy_5km</th>\n",
       "      <th>poi_count_5km</th>\n",
       "      <th>restaurant_count_0.5_1km</th>\n",
       "      <th>restaurant_count_1_2km</th>\n",
       "      <th>restaurant_count_2_3km</th>\n",
       "      <th>restaurant_count_3_4km</th>\n",
       "      <th>restaurant_count_4_5km</th>\n",
       "      <th>estimated_rent</th>\n",
       "      <th>compensation</th>\n",
       "      <th>discounted delivery</th>\n",
       "      <th>free delivery</th>\n",
       "      <th>gem</th>\n",
       "      <th>item discount</th>\n",
       "      <th>menu discount</th>\n",
       "      <th>voucher wallet</th>\n",
       "      <th>incentives_type</th>\n",
       "      <th>incentive_delivery</th>\n",
       "      <th>incentive_menu_discount</th>\n",
       "      <th>incentive_voucher_wallet</th>\n",
       "      <th>rating</th>\n",
       "      <th>n_rating</th>\n",
       "      <th>total_orders</th>\n",
       "      <th>consistency</th>\n",
       "    </tr>\n",
       "  </thead>\n",
       "  <tbody>\n",
       "    <tr>\n",
       "      <th>0</th>\n",
       "      <td>7051337</td>\n",
       "      <td>1305576462</td>\n",
       "      <td>2023-10-10</td>\n",
       "      <td>2023-10-10 15:30:22</td>\n",
       "      <td>50868</td>\n",
       "      <td>SHAGHF, Jumeirah 3</td>\n",
       "      <td>coffee</td>\n",
       "      <td>food</td>\n",
       "      <td>0.00000</td>\n",
       "      <td>1.73000</td>\n",
       "      <td>57.75000</td>\n",
       "      <td>True</td>\n",
       "      <td>10.00000</td>\n",
       "      <td>249162013.00000</td>\n",
       "      <td>55.21388</td>\n",
       "      <td>25.15585</td>\n",
       "      <td>55.23119</td>\n",
       "      <td>25.18903</td>\n",
       "      <td>15</td>\n",
       "      <td>17</td>\n",
       "      <td>27</td>\n",
       "      <td>7584090309</td>\n",
       "      <td>0.65435</td>\n",
       "      <td>840</td>\n",
       "      <td>food</td>\n",
       "      <td>697762</td>\n",
       "      <td>coffee</td>\n",
       "      <td>Awaken Cafe, Al Wasl</td>\n",
       "      <td>55.21303</td>\n",
       "      <td>25.15146</td>\n",
       "      <td>840</td>\n",
       "      <td>4.61510</td>\n",
       "      <td>0.14179</td>\n",
       "      <td>10.25355</td>\n",
       "      <td>No</td>\n",
       "      <td>30.06471</td>\n",
       "      <td>55.21387725.155851</td>\n",
       "      <td>0.00000</td>\n",
       "      <td>0.00000</td>\n",
       "      <td>0.47137</td>\n",
       "      <td>21.00000</td>\n",
       "      <td>0.65855</td>\n",
       "      <td>105.00000</td>\n",
       "      <td>0.66518</td>\n",
       "      <td>198.00000</td>\n",
       "      <td>0.69070</td>\n",
       "      <td>296.00000</td>\n",
       "      <td>0.70457</td>\n",
       "      <td>582.00000</td>\n",
       "      <td>21.00000</td>\n",
       "      <td>84.00000</td>\n",
       "      <td>93.00000</td>\n",
       "      <td>98.00000</td>\n",
       "      <td>286.00000</td>\n",
       "      <td>90.44289</td>\n",
       "      <td>0.00000</td>\n",
       "      <td>0.00000</td>\n",
       "      <td>0.00000</td>\n",
       "      <td>0.00000</td>\n",
       "      <td>0.00000</td>\n",
       "      <td>0.00000</td>\n",
       "      <td>10.00000</td>\n",
       "      <td>voucher wallet</td>\n",
       "      <td>No</td>\n",
       "      <td>No</td>\n",
       "      <td>Yes</td>\n",
       "      <td>1.Amazing</td>\n",
       "      <td>5.None</td>\n",
       "      <td>58</td>\n",
       "      <td>0.85783</td>\n",
       "    </tr>\n",
       "    <tr>\n",
       "      <th>1</th>\n",
       "      <td>7051337</td>\n",
       "      <td>1313167366</td>\n",
       "      <td>2023-10-16</td>\n",
       "      <td>2023-10-16 16:43:34</td>\n",
       "      <td>50868</td>\n",
       "      <td>SHAGHF, Jumeirah 3</td>\n",
       "      <td>coffee</td>\n",
       "      <td>food</td>\n",
       "      <td>7.50000</td>\n",
       "      <td>0.90000</td>\n",
       "      <td>26.25000</td>\n",
       "      <td>True</td>\n",
       "      <td>10.00000</td>\n",
       "      <td>250948408.00000</td>\n",
       "      <td>55.21389</td>\n",
       "      <td>25.15572</td>\n",
       "      <td>55.23119</td>\n",
       "      <td>25.18903</td>\n",
       "      <td>16</td>\n",
       "      <td>13</td>\n",
       "      <td>31</td>\n",
       "      <td>7584090309</td>\n",
       "      <td>0.65435</td>\n",
       "      <td>840</td>\n",
       "      <td>food</td>\n",
       "      <td>697762</td>\n",
       "      <td>coffee</td>\n",
       "      <td>Awaken Cafe, Al Wasl</td>\n",
       "      <td>55.21303</td>\n",
       "      <td>25.15146</td>\n",
       "      <td>840</td>\n",
       "      <td>4.61510</td>\n",
       "      <td>0.14179</td>\n",
       "      <td>8.93051</td>\n",
       "      <td>No</td>\n",
       "      <td>30.06471</td>\n",
       "      <td>55.213885121047525.1557155663109</td>\n",
       "      <td>0.00000</td>\n",
       "      <td>0.00000</td>\n",
       "      <td>0.47137</td>\n",
       "      <td>21.00000</td>\n",
       "      <td>0.65855</td>\n",
       "      <td>105.00000</td>\n",
       "      <td>0.66603</td>\n",
       "      <td>197.00000</td>\n",
       "      <td>0.69169</td>\n",
       "      <td>295.00000</td>\n",
       "      <td>0.70585</td>\n",
       "      <td>587.00000</td>\n",
       "      <td>21.00000</td>\n",
       "      <td>84.00000</td>\n",
       "      <td>92.00000</td>\n",
       "      <td>98.00000</td>\n",
       "      <td>292.00000</td>\n",
       "      <td>90.65273</td>\n",
       "      <td>0.00000</td>\n",
       "      <td>0.00000</td>\n",
       "      <td>0.00000</td>\n",
       "      <td>0.00000</td>\n",
       "      <td>0.00000</td>\n",
       "      <td>0.00000</td>\n",
       "      <td>10.00000</td>\n",
       "      <td>voucher wallet</td>\n",
       "      <td>No</td>\n",
       "      <td>No</td>\n",
       "      <td>Yes</td>\n",
       "      <td>1.Amazing</td>\n",
       "      <td>5.None</td>\n",
       "      <td>58</td>\n",
       "      <td>0.85783</td>\n",
       "    </tr>\n",
       "  </tbody>\n",
       "</table>\n",
       "</div>"
      ],
      "text/plain": [
       "   account_id    order_id  order_date           order_time  vendor_id         vendor_name main_cuisine vertical  delivery_fee_amount_lc  service_fee_amount_lc  basket_amount_lc is_incentive_applied  incentive_amount_lc       pickup_id  customer_lon  customer_lat  vendor_lon  vendor_lat  order_time_hour  delivery_duration  total_duration     node_id  nearest_dist1  poi1 n_vertical  n_vendor_id n_main_cuisine         n_vendor_name  n_vendor_lon  n_vendor_lat  vendor_index  pandana_distance_realdist  pandana_localness    speed isweekend  price_per_item                   customer_loc_id  entropy_0.5km  restaurant_count_0.5km  entropy_1km  poi_count_1km  entropy_2km  poi_count_2km  entropy_3km  poi_count_3km  entropy_4km  poi_count_4km  entropy_5km  poi_count_5km  restaurant_count_0.5_1km  restaurant_count_1_2km  restaurant_count_2_3km  restaurant_count_3_4km  restaurant_count_4_5km  estimated_rent  compensation  discounted delivery  free delivery     gem  item discount  menu discount  \\\n",
       "0  7051337     1305576462  2023-10-10  2023-10-10 15:30:22  50868      SHAGHF, Jumeirah 3  coffee       food    0.00000                 1.73000                57.75000           True                10.00000             249162013.00000 55.21388      25.15585      55.23119    25.18903     15               17                 27              7584090309 0.65435         840   food       697762       coffee         Awaken Cafe, Al Wasl 55.21303      25.15146       840          4.61510                    0.14179            10.25355  No       30.06471         55.21387725.155851               0.00000        0.00000                 0.47137      21.00000       0.65855      105.00000      0.66518      198.00000      0.69070      296.00000      0.70457      582.00000      21.00000                  84.00000                93.00000                98.00000                286.00000               90.44289        0.00000       0.00000              0.00000        0.00000 0.00000        0.00000          \n",
       "1  7051337     1313167366  2023-10-16  2023-10-16 16:43:34  50868      SHAGHF, Jumeirah 3  coffee       food    7.50000                 0.90000                26.25000           True                10.00000             250948408.00000 55.21389      25.15572      55.23119    25.18903     16               13                 31              7584090309 0.65435         840   food       697762       coffee         Awaken Cafe, Al Wasl 55.21303      25.15146       840          4.61510                    0.14179            8.93051   No       30.06471         55.213885121047525.1557155663109 0.00000        0.00000                 0.47137      21.00000       0.65855      105.00000      0.66603      197.00000      0.69169      295.00000      0.70585      587.00000      21.00000                  84.00000                92.00000                98.00000                292.00000               90.65273        0.00000       0.00000              0.00000        0.00000 0.00000        0.00000          \n",
       "\n",
       "   voucher wallet incentives_type incentive_delivery incentive_menu_discount incentive_voucher_wallet     rating n_rating  total_orders  consistency  \n",
       "0 10.00000         voucher wallet  No                 No                      Yes                      1.Amazing  5.None   58           0.85783       \n",
       "1 10.00000         voucher wallet  No                 No                      Yes                      1.Amazing  5.None   58           0.85783       "
      ]
     },
     "execution_count": 83,
     "metadata": {},
     "output_type": "execute_result"
    }
   ],
   "source": [
    "%%time\n",
    "df_localness = pd.read_csv('./data/food_localness_final_oct.csv')\n",
    "print('unique orders:',df_localness.shape[0])\n",
    "print('unique accounts:',df_localness.account_id.unique().shape[0])\n",
    "print('unique vendors:',df_localness.vendor_id.unique().shape[0])\n",
    "df_localness.head(2)"
   ]
  },
  {
   "cell_type": "code",
   "execution_count": 4,
   "metadata": {},
   "outputs": [
    {
     "name": "stdout",
     "output_type": "stream",
     "text": [
      "Percentage of incentivized orders:  37.47787543463162\n",
      "Percentage of localness=1: 4.1142115415609375\n"
     ]
    }
   ],
   "source": [
    "print('Percentage of incentivized orders: ',df_localness[df_localness.incentive_amount_lc>0].shape[0]/df_localness.shape[0]*100)\n",
    "print('Percentage of localness=1:',df_localness[df_localness.pandana_localness>=1].shape[0]/df_localness.shape[0]*100)"
   ]
  },
  {
   "cell_type": "markdown",
   "metadata": {},
   "source": [
    "# Descriptive statistics"
   ]
  },
  {
   "cell_type": "code",
   "execution_count": 81,
   "metadata": {},
   "outputs": [
    {
     "data": {
      "text/plain": [
       "count   2767286.00000\n",
       "mean    0.74757      \n",
       "std     0.31246      \n",
       "min     0.00000      \n",
       "25%     0.73121      \n",
       "50%     0.86994      \n",
       "75%     0.93622      \n",
       "max     1.00000      \n",
       "Name: consistency, dtype: float64"
      ]
     },
     "execution_count": 81,
     "metadata": {},
     "output_type": "execute_result"
    }
   ],
   "source": [
    "df_localness.consistency.describe()"
   ]
  },
  {
   "cell_type": "code",
   "execution_count": 80,
   "metadata": {},
   "outputs": [
    {
     "data": {
      "text/plain": [
       "Yes   0.31463\n",
       "No    0.68537\n",
       "Name: isweekend, dtype: float64"
      ]
     },
     "execution_count": 80,
     "metadata": {},
     "output_type": "execute_result"
    }
   ],
   "source": [
    "df_localness.isweekend.value_counts(normalize=True).sort_index(ascending=False)"
   ]
  },
  {
   "cell_type": "code",
   "execution_count": 77,
   "metadata": {},
   "outputs": [
    {
     "data": {
      "text/plain": [
       "0.061504665582090175"
      ]
     },
     "execution_count": 77,
     "metadata": {},
     "output_type": "execute_result"
    }
   ],
   "source": [
    "170201/2767286.00000"
   ]
  },
  {
   "cell_type": "markdown",
   "metadata": {},
   "source": [
    "# Distribution of localness"
   ]
  },
  {
   "cell_type": "code",
   "execution_count": 113,
   "metadata": {},
   "outputs": [
    {
     "name": "stdout",
     "output_type": "stream",
     "text": [
      "count   2767286.00000\n",
      "mean    5.64242      \n",
      "std     4.06497      \n",
      "min     0.00100      \n",
      "25%     2.47065      \n",
      "50%     4.74789      \n",
      "75%     7.98122      \n",
      "max     46.27418     \n",
      "Name: pandana_distance_realdist, dtype: float64\n"
     ]
    },
    {
     "data": {
      "image/png": "[encoded data removed]",
      "text/plain": [
       "<Figure size 288x432 with 1 Axes>"
      ]
     },
     "metadata": {},
     "output_type": "display_data"
    }
   ],
   "source": [
    "sns.set_theme(rc={'figure.figsize':(4,6)},style='white') \n",
    "plt.rcParams.update({'font.size': 14})\n",
    "print(df_localness['pandana_distance_realdist'].describe())\n",
    "ax = df_localness['pandana_distance_realdist'].hist(bins=50,ec='None')\n",
    "ax.grid(False)\n",
    "# plt.title('Food order distance (km) (n='+str(df_nearest_compute.shape[0])+')')\n",
    "meanv = round(df_localness['pandana_distance_realdist'].mean(),2)\n",
    "medianv = round(df_localness['pandana_distance_realdist'].median(),2)\n",
    "plt.axvline(x=meanv,color='r',label='mean='+str(meanv)+'km',ls='--')\n",
    "plt.axvline(x=medianv,color='g',label='median='+str(medianv)+'km',ls='--')\n",
    "plt.ylabel('Order counts')\n",
    "plt.xlabel('Order distance (km)')\n",
    "plt.legend()\n",
    "plt.savefig('./output/plot_orderdistance.pdf', bbox_inches=\"tight\")"
   ]
  },
  {
   "cell_type": "code",
   "execution_count": 115,
   "metadata": {},
   "outputs": [
    {
     "name": "stdout",
     "output_type": "stream",
     "text": [
      "count    2767286.000000\n",
      "mean     0.338345      \n",
      "std      0.307076      \n",
      "min      0.000029      \n",
      "25%      0.095152      \n",
      "50%      0.230439      \n",
      "75%      0.508636      \n",
      "max      1.000000      \n",
      "Name: pandana_localness, dtype: object\n"
     ]
    },
    {
     "data": {
      "image/png": "[encoded data removed]",
      "text/plain": [
       "<Figure size 288x432 with 1 Axes>"
      ]
     },
     "metadata": {},
     "output_type": "display_data"
    }
   ],
   "source": [
    "sns.set_theme(rc={'figure.figsize':(4,6)},style='white') \n",
    "plt.rcParams.update({'font.size': 14})\n",
    "print(df_localness['pandana_localness'].describe().apply(lambda x: format(x, 'f')))\n",
    "ax = df_localness['pandana_localness'].hist(bins=40,ec='None')\n",
    "ax.grid(False)\n",
    "meanv = round(df_localness['pandana_localness'].mean(),2)\n",
    "medianv = round(df_localness['pandana_localness'].median(),2)\n",
    "plt.axvline(x=meanv,color='r',label='mean='+str(meanv),ls='--')\n",
    "plt.axvline(x=medianv,color='g',label='median='+str(medianv),ls='--')\n",
    "plt.legend(loc=(0.4,0.88)) #loc=(0.4,0.85)\n",
    "# plt.title('Food order localness (n='+str(df_nearest_compute.shape[0])+')')\n",
    "plt.ylabel('Order counts')\n",
    "plt.xlabel('Localness')\n",
    "plt.savefig('./output/plot_localness.pdf', bbox_inches=\"tight\")"
   ]
  },
  {
   "cell_type": "code",
   "execution_count": 116,
   "metadata": {},
   "outputs": [
    {
     "name": "stdout",
     "output_type": "stream",
     "text": [
      "count   2767286.00000\n",
      "mean    1.48226      \n",
      "std     1.82575      \n",
      "min     0.00100      \n",
      "25%     0.41658      \n",
      "50%     0.90772      \n",
      "75%     1.82504      \n",
      "max     27.19615     \n",
      "Name: nearest_dist1, dtype: float64\n"
     ]
    },
    {
     "data": {
      "image/png": "[encoded data removed]",
      "text/plain": [
       "<Figure size 288x432 with 1 Axes>"
      ]
     },
     "metadata": {},
     "output_type": "display_data"
    }
   ],
   "source": [
    "sns.set_theme(rc={'figure.figsize':(4,6)},style='white') \n",
    "plt.rcParams.update({'font.size': 14})\n",
    "print(df_localness['nearest_dist1'].describe())\n",
    "ax = df_localness['nearest_dist1'].hist(bins=50,ec='None')\n",
    "ax.grid(False)\n",
    "# plt.title('Food order distance (km) (n='+str(df_nearest_compute.shape[0])+')')\n",
    "meanv = round(df_localness['nearest_dist1'].mean(),2)\n",
    "medianv = round(df_localness['nearest_dist1'].median(),2)\n",
    "plt.axvline(x=meanv,color='r',label='mean='+str(meanv)+'km',ls='--')\n",
    "plt.axvline(x=medianv,color='g',label='median='+str(medianv)+'km',ls='--')\n",
    "plt.ylabel('Order counts')\n",
    "plt.xlabel('Distance to the nearest resturant (km)')\n",
    "plt.legend()\n",
    "plt.savefig('./output/plot_distance_to_nearest.pdf', bbox_inches=\"tight\")"
   ]
  },
  {
   "cell_type": "code",
   "execution_count": 117,
   "metadata": {},
   "outputs": [],
   "source": [
    "top10 = df_localness.groupby('main_cuisine').pandana_localness.mean().sort_values(ascending=False).head(10).index.tolist()\n",
    "tail20 = df_localness.groupby('main_cuisine').pandana_localness.mean().sort_values(ascending=False).tail(20).index.tolist()"
   ]
  },
  {
   "cell_type": "code",
   "execution_count": 118,
   "metadata": {},
   "outputs": [
    {
     "name": "stdout",
     "output_type": "stream",
     "text": [
      "CPU times: user 2.11 s, sys: 8.67 s, total: 10.8 s\n",
      "Wall time: 10.6 s\n"
     ]
    },
    {
     "data": {
      "image/png": "[encoded data removed]",
      "text/plain": [
       "<Figure size 576x432 with 1 Axes>"
      ]
     },
     "metadata": {},
     "output_type": "display_data"
    }
   ],
   "source": [
    "%%time\n",
    "df_localness_select10 = df_localness[df_localness['main_cuisine'].isin(tail20)]\n",
    "sns.set_theme(rc={'figure.figsize':(8,6)},font_scale=1.2)\n",
    "# sns.violinplot(data=df_nearest_compute,x='main_cuisine',y='localness')\n",
    "my_order = df_localness_select10.groupby(by=[\"main_cuisine\"])[\"pandana_localness\"].median().sort_values().index\n",
    "sns.boxplot(data=df_localness_select10,x='main_cuisine',y='pandana_localness',order=my_order, showfliers=False)\n",
    "plt.xticks(rotation=90)\n",
    "plt.xlabel('')\n",
    "plt.ylabel('Localness')\n",
    "plt.savefig('./output/plot_tenleastlocalcusines.pdf', bbox_inches=\"tight\")"
   ]
  },
  {
   "cell_type": "markdown",
   "metadata": {},
   "source": [
    "# Time of day pattern of food order localness"
   ]
  },
  {
   "cell_type": "code",
   "execution_count": 119,
   "metadata": {},
   "outputs": [
    {
     "data": {
      "image/png": "[encoded data removed]",
      "text/plain": [
       "<Figure size 720x432 with 1 Axes>"
      ]
     },
     "metadata": {},
     "output_type": "display_data"
    }
   ],
   "source": [
    "sns.set_theme(rc={'figure.figsize':(10,6)},font_scale=1.2)\n",
    "sns.boxplot(data=df_localness,x='order_time_hour',y='pandana_localness')\n",
    "# plt.xticks() # rotation=90\n",
    "plt.xlabel('Hour')\n",
    "plt.ylabel('Localness')\n",
    "plt.savefig('./output/plot_localness_timeofday.pdf', bbox_inches=\"tight\")"
   ]
  },
  {
   "cell_type": "code",
   "execution_count": 120,
   "metadata": {},
   "outputs": [
    {
     "data": {
      "text/plain": [
       "Text(0, 0.5, 'Order distance (km)')"
      ]
     },
     "execution_count": 120,
     "metadata": {},
     "output_type": "execute_result"
    },
    {
     "data": {
      "image/png": "[encoded data removed]",
      "text/plain": [
       "<Figure size 720x432 with 1 Axes>"
      ]
     },
     "metadata": {},
     "output_type": "display_data"
    }
   ],
   "source": [
    "sns.set_theme(rc={'figure.figsize':(10,6)},font_scale=1.2)\n",
    "sns.boxplot(data=df_localness,x='order_time_hour',y='pandana_distance_realdist', showfliers=False)\n",
    "# plt.title('Order travel distance (km)')\n",
    "plt.xlabel('Hour')\n",
    "plt.ylabel('Order distance (km)')"
   ]
  },
  {
   "cell_type": "markdown",
   "metadata": {},
   "source": [
    "# Total distance change if all orders were from the nearest restaurant\n",
    "Economic cost of localness - delivery travel distance perspective"
   ]
  },
  {
   "cell_type": "code",
   "execution_count": 5,
   "metadata": {},
   "outputs": [
    {
     "data": {
      "text/html": [
       "<div>\n",
       "<style scoped>\n",
       "    .dataframe tbody tr th:only-of-type {\n",
       "        vertical-align: middle;\n",
       "    }\n",
       "\n",
       "    .dataframe tbody tr th {\n",
       "        vertical-align: top;\n",
       "    }\n",
       "\n",
       "    .dataframe thead th {\n",
       "        text-align: right;\n",
       "    }\n",
       "</style>\n",
       "<table border=\"1\" class=\"dataframe\">\n",
       "  <thead>\n",
       "    <tr style=\"text-align: right;\">\n",
       "      <th></th>\n",
       "      <th>pandana_localness</th>\n",
       "      <th>pandana_distance_realdist</th>\n",
       "      <th>nearest_dist1</th>\n",
       "    </tr>\n",
       "  </thead>\n",
       "  <tbody>\n",
       "    <tr>\n",
       "      <th>0</th>\n",
       "      <td>0.14179</td>\n",
       "      <td>4.61510</td>\n",
       "      <td>0.65435</td>\n",
       "    </tr>\n",
       "    <tr>\n",
       "      <th>1</th>\n",
       "      <td>0.14179</td>\n",
       "      <td>4.61510</td>\n",
       "      <td>0.65435</td>\n",
       "    </tr>\n",
       "  </tbody>\n",
       "</table>\n",
       "</div>"
      ],
      "text/plain": [
       "   pandana_localness  pandana_distance_realdist  nearest_dist1\n",
       "0 0.14179            4.61510                    0.65435       \n",
       "1 0.14179            4.61510                    0.65435       "
      ]
     },
     "execution_count": 5,
     "metadata": {},
     "output_type": "execute_result"
    }
   ],
   "source": [
    "df_quantifycost = df_localness[['pandana_localness','pandana_distance_realdist','nearest_dist1']]\n",
    "df_quantifycost.head(2)"
   ]
  },
  {
   "cell_type": "code",
   "execution_count": 6,
   "metadata": {},
   "outputs": [],
   "source": [
    "for i in range(1,11,1):\n",
    "    field = 'delta_percent' + str(i)\n",
    "    step = i/10 # increment is 0.1 of localness\n",
    "    df_quantifycost[field] = df_quantifycost['nearest_dist1']/(df_quantifycost['pandana_localness'] + step)\n",
    "    df_quantifycost.loc[df_quantifycost[field]<=df_quantifycost['nearest_dist1'],field] = df_quantifycost['nearest_dist1']\n",
    "    df_quantifycost[field] = (df_quantifycost['pandana_distance_realdist']-df_quantifycost[field])/df_quantifycost['pandana_distance_realdist']\n",
    "    df_quantifycost.loc[df_quantifycost[field]<=0,field] = 0"
   ]
  },
  {
   "cell_type": "code",
   "execution_count": 7,
   "metadata": {},
   "outputs": [],
   "source": [
    "for i in range(1,11,1):\n",
    "    field2 = 'estimate_dist' + str(i)\n",
    "    step = i/10 # increment is 0.1 of localness\n",
    "    df_quantifycost[field2] = df_quantifycost['nearest_dist1']/(df_quantifycost['pandana_localness'] + step)\n",
    "    df_quantifycost.loc[df_quantifycost[field2]<=df_quantifycost['nearest_dist1'],field2] = df_quantifycost['nearest_dist1']"
   ]
  },
  {
   "cell_type": "code",
   "execution_count": 8,
   "metadata": {},
   "outputs": [
    {
     "data": {
      "text/html": [
       "<div>\n",
       "<style scoped>\n",
       "    .dataframe tbody tr th:only-of-type {\n",
       "        vertical-align: middle;\n",
       "    }\n",
       "\n",
       "    .dataframe tbody tr th {\n",
       "        vertical-align: top;\n",
       "    }\n",
       "\n",
       "    .dataframe thead th {\n",
       "        text-align: right;\n",
       "    }\n",
       "</style>\n",
       "<table border=\"1\" class=\"dataframe\">\n",
       "  <thead>\n",
       "    <tr style=\"text-align: right;\">\n",
       "      <th></th>\n",
       "      <th>pandana_localness</th>\n",
       "      <th>pandana_distance_realdist</th>\n",
       "      <th>nearest_dist1</th>\n",
       "      <th>delta_percent1</th>\n",
       "      <th>delta_percent2</th>\n",
       "      <th>delta_percent3</th>\n",
       "      <th>delta_percent4</th>\n",
       "      <th>delta_percent5</th>\n",
       "      <th>delta_percent6</th>\n",
       "      <th>delta_percent7</th>\n",
       "      <th>delta_percent8</th>\n",
       "      <th>delta_percent9</th>\n",
       "      <th>delta_percent10</th>\n",
       "      <th>estimate_dist1</th>\n",
       "      <th>estimate_dist2</th>\n",
       "      <th>estimate_dist3</th>\n",
       "      <th>estimate_dist4</th>\n",
       "      <th>estimate_dist5</th>\n",
       "      <th>estimate_dist6</th>\n",
       "      <th>estimate_dist7</th>\n",
       "      <th>estimate_dist8</th>\n",
       "      <th>estimate_dist9</th>\n",
       "      <th>estimate_dist10</th>\n",
       "    </tr>\n",
       "  </thead>\n",
       "  <tbody>\n",
       "    <tr>\n",
       "      <th>0</th>\n",
       "      <td>0.14179</td>\n",
       "      <td>4.61510</td>\n",
       "      <td>0.65435</td>\n",
       "      <td>0.41359</td>\n",
       "      <td>0.58516</td>\n",
       "      <td>0.67906</td>\n",
       "      <td>0.73830</td>\n",
       "      <td>0.77908</td>\n",
       "      <td>0.80886</td>\n",
       "      <td>0.83157</td>\n",
       "      <td>0.84945</td>\n",
       "      <td>0.85821</td>\n",
       "      <td>0.85821</td>\n",
       "      <td>2.70634</td>\n",
       "      <td>1.91452</td>\n",
       "      <td>1.48116</td>\n",
       "      <td>1.20777</td>\n",
       "      <td>1.01958</td>\n",
       "      <td>0.88213</td>\n",
       "      <td>0.77734</td>\n",
       "      <td>0.69480</td>\n",
       "      <td>0.65435</td>\n",
       "      <td>0.65435</td>\n",
       "    </tr>\n",
       "    <tr>\n",
       "      <th>1</th>\n",
       "      <td>0.14179</td>\n",
       "      <td>4.61510</td>\n",
       "      <td>0.65435</td>\n",
       "      <td>0.41359</td>\n",
       "      <td>0.58516</td>\n",
       "      <td>0.67906</td>\n",
       "      <td>0.73830</td>\n",
       "      <td>0.77908</td>\n",
       "      <td>0.80886</td>\n",
       "      <td>0.83157</td>\n",
       "      <td>0.84945</td>\n",
       "      <td>0.85821</td>\n",
       "      <td>0.85821</td>\n",
       "      <td>2.70634</td>\n",
       "      <td>1.91452</td>\n",
       "      <td>1.48116</td>\n",
       "      <td>1.20777</td>\n",
       "      <td>1.01958</td>\n",
       "      <td>0.88213</td>\n",
       "      <td>0.77734</td>\n",
       "      <td>0.69480</td>\n",
       "      <td>0.65435</td>\n",
       "      <td>0.65435</td>\n",
       "    </tr>\n",
       "  </tbody>\n",
       "</table>\n",
       "</div>"
      ],
      "text/plain": [
       "   pandana_localness  pandana_distance_realdist  nearest_dist1  delta_percent1  delta_percent2  delta_percent3  delta_percent4  delta_percent5  delta_percent6  delta_percent7  delta_percent8  delta_percent9  delta_percent10  estimate_dist1  estimate_dist2  estimate_dist3  estimate_dist4  estimate_dist5  estimate_dist6  estimate_dist7  estimate_dist8  estimate_dist9  estimate_dist10\n",
       "0 0.14179            4.61510                    0.65435        0.41359         0.58516         0.67906         0.73830         0.77908         0.80886         0.83157         0.84945         0.85821         0.85821          2.70634         1.91452         1.48116         1.20777         1.01958         0.88213         0.77734         0.69480         0.65435         0.65435         \n",
       "1 0.14179            4.61510                    0.65435        0.41359         0.58516         0.67906         0.73830         0.77908         0.80886         0.83157         0.84945         0.85821         0.85821          2.70634         1.91452         1.48116         1.20777         1.01958         0.88213         0.77734         0.69480         0.65435         0.65435         "
      ]
     },
     "execution_count": 8,
     "metadata": {},
     "output_type": "execute_result"
    }
   ],
   "source": [
    "df_quantifycost.head(2)"
   ]
  },
  {
   "cell_type": "code",
   "execution_count": 9,
   "metadata": {},
   "outputs": [],
   "source": [
    "df_quantifycost_melt_percent = pd.melt(df_quantifycost[['delta_percent1', 'delta_percent2', 'delta_percent3', 'delta_percent4', \n",
    "                                           'delta_percent5', 'delta_percent6', 'delta_percent7', 'delta_percent8', 'delta_percent9', 'delta_percent10']])\n",
    "\n",
    "df_quantifycost_melt_distancechange = pd.melt(df_quantifycost[['pandana_distance_realdist', 'estimate_dist1', 'estimate_dist2', 'estimate_dist3',\n",
    "                                                               'estimate_dist4', 'estimate_dist5', 'estimate_dist6', 'estimate_dist7', 'estimate_dist8', \n",
    "                                                               'estimate_dist9', 'estimate_dist10']])"
   ]
  },
  {
   "cell_type": "code",
   "execution_count": 45,
   "metadata": {},
   "outputs": [
    {
     "name": "stdout",
     "output_type": "stream",
     "text": [
      "CPU times: user 11.8 s, sys: 544 ms, total: 12.4 s\n",
      "Wall time: 23.8 s\n"
     ]
    },
    {
     "data": {
      "image/png": "[encoded data removed]",
      "text/plain": [
       "<Figure size 432x432 with 1 Axes>"
      ]
     },
     "metadata": {},
     "output_type": "display_data"
    }
   ],
   "source": [
    "%%time \n",
    "sns.set_theme(rc={'figure.figsize':(6,6)},font_scale=1.2)\n",
    "ax = sns.boxplot(x=\"variable\", y=\"value\", data=df_quantifycost_melt_percent,showfliers=False,color=\"#4c72b0\")\n",
    "plt.xlabel(r'$\\delta^+_{localness}$', fontsize=16)\n",
    "plt.ylabel('Pecentage reduction in order travel distance (%)', fontsize=14)\n",
    "ax.set_xticklabels([0.1,0.2,0.3,0.4,0.5,0.6,0.7,0.8,0.9,1])\n",
    "plt.savefig('./output/change_localness_percent.pdf', bbox_inches='tight')"
   ]
  },
  {
   "cell_type": "code",
   "execution_count": 44,
   "metadata": {},
   "outputs": [
    {
     "name": "stdout",
     "output_type": "stream",
     "text": [
      "CPU times: user 13.1 s, sys: 694 ms, total: 13.8 s\n",
      "Wall time: 22.1 s\n"
     ]
    },
    {
     "data": {
      "image/png": "[encoded data removed]",
      "text/plain": [
       "<Figure size 432x432 with 1 Axes>"
      ]
     },
     "metadata": {},
     "output_type": "display_data"
    }
   ],
   "source": [
    "%%time \n",
    "sns.set_theme(rc={'figure.figsize':(6,6)},font_scale=1.2)\n",
    "ax = sns.boxplot(x=\"variable\", y=\"value\", data=df_quantifycost_melt_distancechange,showfliers=False,color=\"#4c72b0\")\n",
    "plt.xlabel(r'$\\delta^+_{localness}$', fontsize=16)\n",
    "plt.ylabel('Estimated order travel distance (km)', fontsize=14)\n",
    "ax.set_xticklabels([0,0.1,0.2,0.3,0.4,0.5,0.6,0.7,0.8,0.9,1])\n",
    "plt.savefig('./output/change_localness_distance.pdf', bbox_inches='tight')"
   ]
  },
  {
   "cell_type": "code",
   "execution_count": 62,
   "metadata": {},
   "outputs": [
    {
     "name": "stdout",
     "output_type": "stream",
     "text": [
      "4.7478935 5.6424169143055725\n",
      "2.679824901429674 3.3094217479090435\n",
      "0.9077230224609376 1.4822587222431372\n"
     ]
    }
   ],
   "source": [
    "print(df_quantifycost.pandana_distance_realdist.median(),df_quantifycost.pandana_distance_realdist.mean())\n",
    "print(df_quantifycost.estimate_dist1.median(),df_quantifycost.estimate_dist1.mean())\n",
    "print(df_quantifycost.estimate_dist10.median(),df_quantifycost.estimate_dist10.mean())"
   ]
  },
  {
   "cell_type": "code",
   "execution_count": 61,
   "metadata": {},
   "outputs": [
    {
     "name": "stdout",
     "output_type": "stream",
     "text": [
      "0.7695614633293401 0.661654522811728\n"
     ]
    }
   ],
   "source": [
    "print(df_quantifycost.delta_percent10.median(),df_quantifycost.delta_percent10.mean())"
   ]
  },
  {
   "cell_type": "code",
   "execution_count": 54,
   "metadata": {},
   "outputs": [
    {
     "data": {
      "text/plain": [
       "0.3383454780112123"
      ]
     },
     "execution_count": 54,
     "metadata": {},
     "output_type": "execute_result"
    }
   ],
   "source": [
    "df_quantifycost.pandana_localness.mean()"
   ]
  },
  {
   "cell_type": "code",
   "execution_count": 53,
   "metadata": {},
   "outputs": [
    {
     "data": {
      "text/plain": [
       "5.6424169143055725"
      ]
     },
     "execution_count": 53,
     "metadata": {},
     "output_type": "execute_result"
    }
   ],
   "source": [
    "df_quantifycost.pandana_distance_realdist.mean()"
   ]
  },
  {
   "cell_type": "code",
   "execution_count": 49,
   "metadata": {},
   "outputs": [
    {
     "data": {
      "text/plain": [
       "1.4822587222431372"
      ]
     },
     "execution_count": 49,
     "metadata": {},
     "output_type": "execute_result"
    }
   ],
   "source": [
    "df_quantifycost.estimate_dist10.mean()"
   ]
  },
  {
   "cell_type": "markdown",
   "metadata": {},
   "source": [
    "# OLS"
   ]
  },
  {
   "cell_type": "code",
   "execution_count": 4,
   "metadata": {},
   "outputs": [],
   "source": [
    "import statsmodels.api as sm"
   ]
  },
  {
   "cell_type": "code",
   "execution_count": 5,
   "metadata": {},
   "outputs": [
    {
     "data": {
      "text/plain": [
       "Index(['account_id', 'order_id', 'order_date', 'order_time', 'vendor_id', 'vendor_name', 'main_cuisine', 'vertical', 'delivery_fee_amount_lc', 'service_fee_amount_lc', 'basket_amount_lc', 'is_incentive_applied', 'incentive_amount_lc', 'pickup_id', 'customer_lon', 'customer_lat', 'vendor_lon', 'vendor_lat', 'order_time_hour', 'delivery_duration', 'total_duration', 'node_id', 'nearest_dist1', 'poi1', 'n_vertical', 'n_vendor_id', 'n_main_cuisine', 'n_vendor_name', 'n_vendor_lon', 'n_vendor_lat', 'vendor_index', 'pandana_distance_realdist', 'pandana_localness', 'speed', 'isweekend', 'price_per_item', 'customer_loc_id', 'entropy_0.5km', 'restaurant_count_0.5km', 'entropy_1km', 'poi_count_1km', 'entropy_2km', 'poi_count_2km', 'entropy_3km', 'poi_count_3km', 'entropy_4km', 'poi_count_4km', 'entropy_5km', 'poi_count_5km', 'restaurant_count_0.5_1km', 'restaurant_count_1_2km', 'restaurant_count_2_3km', 'restaurant_count_3_4km', 'restaurant_count_4_5km', 'estimated_rent', 'compensation',\n",
       "       'discounted delivery', 'free delivery', 'gem', 'item discount', 'menu discount', 'voucher wallet', 'incentives_type', 'incentive_delivery', 'incentive_menu_discount', 'incentive_voucher_wallet', 'rating', 'n_rating', 'total_orders', 'consistency'],\n",
       "      dtype='object')"
      ]
     },
     "execution_count": 5,
     "metadata": {},
     "output_type": "execute_result"
    }
   ],
   "source": [
    "df_localness.columns"
   ]
  },
  {
   "cell_type": "code",
   "execution_count": 6,
   "metadata": {},
   "outputs": [],
   "source": [
    "df_localness.rename(columns={\"restaurant_count_0.5_1km\": \"restaurant_count_05_1km\",\n",
    "                             \"entropy_0.5km\": \"entropy_05km\",\n",
    "                             \"restaurant_count_0.5km\": \"restaurant_count_05km\"\n",
    "                            }, inplace=True)"
   ]
  },
  {
   "cell_type": "code",
   "execution_count": 10,
   "metadata": {},
   "outputs": [],
   "source": [
    "df_localness['log_pandana_localness'] = np.log(df_localness['pandana_localness']+0.0000001)"
   ]
  },
  {
   "cell_type": "code",
   "execution_count": 11,
   "metadata": {},
   "outputs": [
    {
     "data": {
      "text/plain": [
       "count   2767286.00000\n",
       "mean    -1.79770     \n",
       "std     1.72109      \n",
       "min     -10.44724    \n",
       "25%     -2.35228     \n",
       "50%     -1.46777     \n",
       "75%     -0.67602     \n",
       "max     0.00000      \n",
       "Name: log_pandana_localness, dtype: float64"
      ]
     },
     "execution_count": 11,
     "metadata": {},
     "output_type": "execute_result"
    }
   ],
   "source": [
    "df_localness.log_pandana_localness.describe()"
   ]
  },
  {
   "cell_type": "code",
   "execution_count": 7,
   "metadata": {},
   "outputs": [
    {
     "name": "stdout",
     "output_type": "stream",
     "text": [
      "                            OLS Regression Results                            \n",
      "==============================================================================\n",
      "Dep. Variable:      pandana_localness   R-squared:                       0.271\n",
      "Model:                            OLS   Adj. R-squared:                  0.271\n",
      "Method:                 Least Squares   F-statistic:                 1.074e+04\n",
      "Date:                Wed, 03 Jul 2024   Prob (F-statistic):               0.00\n",
      "Time:                        12:20:56   Log-Likelihood:            -2.2131e+05\n",
      "No. Observations:             2767286   AIC:                         4.428e+05\n",
      "Df Residuals:                 2767189   BIC:                         4.441e+05\n",
      "Df Model:                          96                                         \n",
      "Covariance Type:            nonrobust                                         \n",
      "======================================================================================================\n",
      "                                         coef    std err          t      P>|t|      [0.025      0.975]\n",
      "------------------------------------------------------------------------------------------------------\n",
      "Intercept                             -1.7056      0.132    -12.906      0.000      -1.965      -1.447\n",
      "C(isweekend)[T.Yes]                   -0.0130      0.000    -37.981      0.000      -0.014      -0.012\n",
      "C(incentive_delivery)[T.Yes]          -0.0356      0.001    -50.027      0.000      -0.037      -0.034\n",
      "C(incentive_menu_discount)[T.Yes]      0.0067      0.001     12.923      0.000       0.006       0.008\n",
      "C(incentive_voucher_wallet)[T.Yes]    -0.0065      0.001     -7.343      0.000      -0.008      -0.005\n",
      "C(rating)[T.2.Very good]              -0.0074      0.000    -19.331      0.000      -0.008      -0.007\n",
      "C(rating)[T.3.Good]                   -0.0109      0.001     -8.525      0.000      -0.013      -0.008\n",
      "C(rating)[T.4.OK]                      0.0107      0.014      0.767      0.443      -0.017       0.038\n",
      "C(rating)[T.5.None]                    0.0468      0.001     87.699      0.000       0.046       0.048\n",
      "C(n_rating)[T.2.Very good]            -0.0031      0.000     -7.375      0.000      -0.004      -0.002\n",
      "C(n_rating)[T.3.Good]                  0.0080      0.001      9.809      0.000       0.006       0.010\n",
      "C(n_rating)[T.4.OK]                   -0.0739      0.003    -23.406      0.000      -0.080      -0.068\n",
      "C(n_rating)[T.5.None]                 -0.0076      0.001    -15.057      0.000      -0.009      -0.007\n",
      "C(main_cuisine)[T.afghani]             0.1812      0.005     40.113      0.000       0.172       0.190\n",
      "C(main_cuisine)[T.african]             0.1417      0.004     33.728      0.000       0.133       0.150\n",
      "C(main_cuisine)[T.american]           -0.1169      0.002    -52.507      0.000      -0.121      -0.113\n",
      "C(main_cuisine)[T.arabic]             -0.2306      0.002   -112.005      0.000      -0.235      -0.227\n",
      "C(main_cuisine)[T.argentinian]         0.0483      0.038      1.274      0.203      -0.026       0.123\n",
      "C(main_cuisine)[T.asian]              -0.1458      0.002    -60.454      0.000      -0.151      -0.141\n",
      "C(main_cuisine)[T.bbq]                -0.2153      0.002    -99.818      0.000      -0.219      -0.211\n",
      "C(main_cuisine)[T.bowls]               0.2450      0.005     46.082      0.000       0.235       0.255\n",
      "C(main_cuisine)[T.brazilian]           0.4610      0.012     37.923      0.000       0.437       0.485\n",
      "C(main_cuisine)[T.breakfast]          -0.1418      0.002    -61.002      0.000      -0.146      -0.137\n",
      "C(main_cuisine)[T.british]             0.3647      0.015     25.073      0.000       0.336       0.393\n",
      "C(main_cuisine)[T.chicken]             0.1814      0.004     44.836      0.000       0.173       0.189\n",
      "C(main_cuisine)[T.chinese]            -0.0749      0.002    -33.333      0.000      -0.079      -0.071\n",
      "C(main_cuisine)[T.coffee]             -0.2014      0.002    -95.816      0.000      -0.206      -0.197\n",
      "C(main_cuisine)[T.dessert]            -0.2584      0.002   -123.369      0.000      -0.262      -0.254\n",
      "C(main_cuisine)[T.egyptian]           -0.0623      0.002    -27.029      0.000      -0.067      -0.058\n",
      "C(main_cuisine)[T.emirati]            -0.0337      0.003    -11.950      0.000      -0.039      -0.028\n",
      "C(main_cuisine)[T.european]            0.2478      0.007     37.374      0.000       0.235       0.261\n",
      "C(main_cuisine)[T.fast food]          -0.2895      0.002   -142.352      0.000      -0.294      -0.286\n",
      "C(main_cuisine)[T.filipino]            0.0373      0.003     14.560      0.000       0.032       0.042\n",
      "C(main_cuisine)[T.french]              0.5487      0.030     18.562      0.000       0.491       0.607\n",
      "C(main_cuisine)[T.georgian]            0.3935      0.012     32.524      0.000       0.370       0.417\n",
      "C(main_cuisine)[T.gluten free]         0.4319      0.018     23.559      0.000       0.396       0.468\n",
      "C(main_cuisine)[T.greek]               0.2378      0.008     28.781      0.000       0.222       0.254\n",
      "C(main_cuisine)[T.healthy]            -0.1830      0.002    -85.844      0.000      -0.187      -0.179\n",
      "C(main_cuisine)[T.indian]             -0.2847      0.002   -137.517      0.000      -0.289      -0.281\n",
      "C(main_cuisine)[T.indonesian]          0.4050      0.006     64.808      0.000       0.393       0.417\n",
      "C(main_cuisine)[T.international]      -0.0678      0.002    -27.816      0.000      -0.073      -0.063\n",
      "C(main_cuisine)[T.iranian]             0.0359      0.003     12.278      0.000       0.030       0.042\n",
      "C(main_cuisine)[T.iraqi]               0.5459      0.017     32.940      0.000       0.513       0.578\n",
      "C(main_cuisine)[T.italian]            -0.1619      0.002    -71.352      0.000      -0.166      -0.157\n",
      "C(main_cuisine)[T.japanese]           -0.1076      0.002    -47.087      0.000      -0.112      -0.103\n",
      "C(main_cuisine)[T.jordanian]           0.2553      0.004     60.124      0.000       0.247       0.264\n",
      "C(main_cuisine)[T.keto]                0.1470      0.006     25.163      0.000       0.136       0.159\n",
      "C(main_cuisine)[T.korean]              0.2784      0.005     56.681      0.000       0.269       0.288\n",
      "C(main_cuisine)[T.kuwaiti]             0.4221      0.011     39.647      0.000       0.401       0.443\n",
      "C(main_cuisine)[T.latin american]      0.4867      0.076      6.429      0.000       0.338       0.635\n",
      "C(main_cuisine)[T.lebanese]           -0.1306      0.002    -61.630      0.000      -0.135      -0.126\n",
      "C(main_cuisine)[T.mediterranean]       0.2303      0.008     27.471      0.000       0.214       0.247\n",
      "C(main_cuisine)[T.mexican]             0.0490      0.003     17.647      0.000       0.044       0.054\n",
      "C(main_cuisine)[T.middle eastern]      0.2451      0.010     25.053      0.000       0.226       0.264\n",
      "C(main_cuisine)[T.mongolian]           0.5621      0.012     47.783      0.000       0.539       0.585\n",
      "C(main_cuisine)[T.moroccan]            0.2531      0.003     76.577      0.000       0.247       0.260\n",
      "C(main_cuisine)[T.nepalese]            0.3735      0.006     58.465      0.000       0.361       0.386\n",
      "C(main_cuisine)[T.pakistani]          -0.0301      0.002    -12.201      0.000      -0.035      -0.025\n",
      "C(main_cuisine)[T.palestinian]         0.1514      0.003     57.817      0.000       0.146       0.157\n",
      "C(main_cuisine)[T.peruvian]            0.5303      0.076      7.006      0.000       0.382       0.679\n",
      "C(main_cuisine)[T.portuguese]          0.4742      0.031     15.104      0.000       0.413       0.536\n",
      "C(main_cuisine)[T.russian]             0.1946      0.003     71.941      0.000       0.189       0.200\n",
      "C(main_cuisine)[T.salad]              -0.0471      0.003    -16.628      0.000      -0.053      -0.042\n",
      "C(main_cuisine)[T.saudi]               0.3316      0.006     57.987      0.000       0.320       0.343\n",
      "C(main_cuisine)[T.seafood]            -0.1218      0.003    -48.503      0.000      -0.127      -0.117\n",
      "C(main_cuisine)[T.singaporean]         0.4513      0.012     36.269      0.000       0.427       0.476\n",
      "C(main_cuisine)[T.sliders]             0.3428      0.017     19.906      0.000       0.309       0.377\n",
      "C(main_cuisine)[T.soup]                0.2634      0.004     60.603      0.000       0.255       0.272\n",
      "C(main_cuisine)[T.spanish]             0.6281      0.185      3.389      0.001       0.265       0.991\n",
      "C(main_cuisine)[T.specialty store]     0.5297      0.047     11.240      0.000       0.437       0.622\n",
      "C(main_cuisine)[T.syrian]              0.3719      0.008     46.419      0.000       0.356       0.388\n",
      "C(main_cuisine)[T.thai]                0.0443      0.003     12.947      0.000       0.038       0.051\n",
      "C(main_cuisine)[T.tunisian]            0.5321      0.005    101.422      0.000       0.522       0.542\n",
      "C(main_cuisine)[T.turkish]            -0.0461      0.003    -17.247      0.000      -0.051      -0.041\n",
      "C(main_cuisine)[T.uzbek]               0.1788      0.004     44.033      0.000       0.171       0.187\n",
      "C(main_cuisine)[T.vegetarian]          0.1561      0.005     28.751      0.000       0.145       0.167\n",
      "C(main_cuisine)[T.vietnamese]          0.2881      0.006     48.844      0.000       0.277       0.300\n",
      "C(main_cuisine)[T.yemeni]             -0.0815      0.003    -32.247      0.000      -0.086      -0.077\n",
      "customer_lon                           0.0909      0.003     27.721      0.000       0.085       0.097\n",
      "customer_lat                          -0.0877      0.003    -27.679      0.000      -0.094      -0.081\n",
      "order_time_hour                        0.0019   2.89e-05     65.572      0.000       0.002       0.002\n",
      "total_duration                        -0.0057   1.16e-05   -490.300      0.000      -0.006      -0.006\n",
      "estimated_rent                         0.0003   5.31e-06     65.640      0.000       0.000       0.000\n",
      "entropy_05km                          -0.2032      0.001   -198.972      0.000      -0.205      -0.201\n",
      "entropy_2km                           -0.2499      0.002   -122.202      0.000      -0.254      -0.246\n",
      "entropy_5km                           -0.2881      0.004    -80.694      0.000      -0.295      -0.281\n",
      "consistency                           -0.0075      0.001    -14.309      0.000      -0.009      -0.006\n",
      "total_orders                          -0.0004   1.19e-05    -30.468      0.000      -0.000      -0.000\n",
      "incentive_amount_lc                   -0.0004   1.67e-05    -24.452      0.000      -0.000      -0.000\n",
      "restaurant_count_05km                 -0.0003   6.87e-06    -43.372      0.000      -0.000      -0.000\n",
      "restaurant_count_05_1km            -5.976e-05   3.56e-06    -16.782      0.000   -6.67e-05   -5.28e-05\n",
      "restaurant_count_1_2km              2.025e-05   1.92e-06     10.521      0.000    1.65e-05     2.4e-05\n",
      "restaurant_count_2_3km              6.328e-05   1.58e-06     39.960      0.000    6.02e-05    6.64e-05\n",
      "restaurant_count_3_4km              5.565e-06   1.49e-06      3.723      0.000    2.64e-06    8.49e-06\n",
      "restaurant_count_4_5km              1.089e-06   1.33e-06      0.816      0.414   -1.53e-06     3.7e-06\n",
      "basket_amount_lc                       0.0002    3.3e-06     56.876      0.000       0.000       0.000\n",
      "price_per_item                         0.0002   1.25e-05     13.966      0.000       0.000       0.000\n",
      "==============================================================================\n",
      "Omnibus:                   309450.769   Durbin-Watson:                   1.240\n",
      "Prob(Omnibus):                  0.000   Jarque-Bera (JB):           423319.253\n",
      "Skew:                           0.932   Prob(JB):                         0.00\n",
      "Kurtosis:                       3.445   Cond. No.                     5.25e+05\n",
      "==============================================================================\n",
      "\n",
      "Notes:\n",
      "[1] Standard Errors assume that the covariance matrix of the errors is correctly specified.\n",
      "[2] The condition number is large, 5.25e+05. This might indicate that there are\n",
      "strong multicollinearity or other numerical problems.\n",
      "CPU times: user 4min 13s, sys: 1min 49s, total: 6min 3s\n",
      "Wall time: 3min 2s\n"
     ]
    }
   ],
   "source": [
    "%%time\n",
    "from statsmodels.formula.api import ols\n",
    "\n",
    "# Fit the linear regression model\n",
    "model = ols('pandana_localness ~ customer_lon + customer_lat + order_time_hour + total_duration + estimated_rent +  entropy_05km+ entropy_2km + entropy_5km + consistency + \\\n",
    "total_orders + incentive_amount_lc +  restaurant_count_05km + restaurant_count_05_1km + restaurant_count_1_2km + restaurant_count_2_3km + \\\n",
    "restaurant_count_3_4km + restaurant_count_4_5km + basket_amount_lc + price_per_item + C(isweekend) + C(incentive_delivery) + C(incentive_menu_discount) + \\\n",
    "C(incentive_voucher_wallet) + C(rating) + C(n_rating) + C(main_cuisine)', data=df_localness).fit()\n",
    "\n",
    "# Print the model summary with significance levels\n",
    "print(model.summary())"
   ]
  },
  {
   "cell_type": "code",
   "execution_count": 17,
   "metadata": {},
   "outputs": [],
   "source": [
    "# %%time\n",
    "# from statsmodels.formula.api import ols\n",
    "\n",
    "# # Fit the linear regression model\n",
    "# model = ols('log_pandana_localness ~ order_time_hour + total_duration + estimated_rent +  entropy_05km+ entropy_2km + entropy_5km + consistency + \\\n",
    "# total_orders + incentive_amount_lc +  restaurant_count_05km + restaurant_count_05_1km + restaurant_count_1_2km + restaurant_count_2_3km + \\\n",
    "# restaurant_count_3_4km + restaurant_count_4_5km + basket_amount_lc + price_per_item + C(isweekend) + C(incentive_delivery) + C(incentive_menu_discount) + \\\n",
    "# C(incentive_voucher_wallet) + C(rating) + C(n_rating) + C(main_cuisine)', data=df_localness).fit()\n",
    "\n",
    "# # Print the model summary with significance levels\n",
    "# print(model.summary())"
   ]
  },
  {
   "cell_type": "code",
   "execution_count": 12,
   "metadata": {},
   "outputs": [
    {
     "data": {
      "text/plain": [
       "2.Very good    1593856\n",
       "1.Amazing      737925 \n",
       "5.None         388748 \n",
       "3.Good         46401  \n",
       "4.OK           356    \n",
       "Name: rating, dtype: int64"
      ]
     },
     "execution_count": 12,
     "metadata": {},
     "output_type": "execute_result"
    }
   ],
   "source": [
    "# df_localness.rating.value_counts()"
   ]
  },
  {
   "cell_type": "code",
   "execution_count": 13,
   "metadata": {},
   "outputs": [
    {
     "data": {
      "text/plain": [
       "2.Very good    1490883\n",
       "5.None         574897 \n",
       "1.Amazing      563732 \n",
       "3.Good         130681 \n",
       "4.OK           7093   \n",
       "Name: n_rating, dtype: int64"
      ]
     },
     "execution_count": 13,
     "metadata": {},
     "output_type": "execute_result"
    }
   ],
   "source": [
    "# df_localness.n_rating.value_counts()"
   ]
  },
  {
   "cell_type": "code",
   "execution_count": null,
   "metadata": {},
   "outputs": [],
   "source": []
  },
  {
   "cell_type": "code",
   "execution_count": null,
   "metadata": {},
   "outputs": [],
   "source": []
  },
  {
   "cell_type": "code",
   "execution_count": null,
   "metadata": {},
   "outputs": [],
   "source": []
  },
  {
   "cell_type": "code",
   "execution_count": null,
   "metadata": {},
   "outputs": [],
   "source": []
  },
  {
   "cell_type": "code",
   "execution_count": null,
   "metadata": {},
   "outputs": [],
   "source": []
  },
  {
   "cell_type": "code",
   "execution_count": null,
   "metadata": {},
   "outputs": [],
   "source": []
  },
  {
   "cell_type": "code",
   "execution_count": null,
   "metadata": {},
   "outputs": [],
   "source": []
  },
  {
   "cell_type": "code",
   "execution_count": null,
   "metadata": {},
   "outputs": [],
   "source": []
  },
  {
   "cell_type": "code",
   "execution_count": null,
   "metadata": {},
   "outputs": [],
   "source": []
  },
  {
   "cell_type": "code",
   "execution_count": null,
   "metadata": {},
   "outputs": [],
   "source": []
  },
  {
   "cell_type": "code",
   "execution_count": null,
   "metadata": {},
   "outputs": [],
   "source": []
  },
  {
   "cell_type": "code",
   "execution_count": null,
   "metadata": {},
   "outputs": [],
   "source": []
  }
 ],
 "metadata": {
  "kernelspec": {
   "display_name": "python3.8",
   "language": "python",
   "name": "python3.8"
  },
  "language_info": {
   "codemirror_mode": {
    "name": "ipython",
    "version": 3
   },
   "file_extension": ".py",
   "mimetype": "text/x-python",
   "name": "python",
   "nbconvert_exporter": "python",
   "pygments_lexer": "ipython3",
   "version": "3.8.5"
  }
 },
 "nbformat": 4,
 "nbformat_minor": 2
}
