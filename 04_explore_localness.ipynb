{
 "cells": [
  {
   "cell_type": "code",
   "execution_count": 2,
   "metadata": {},
   "outputs": [],
   "source": [
    "import datetime\n",
    "import geopandas as gpd\n",
    "import matplotlib.pyplot as plt\n",
    "import pandas as pd\n",
    "import numpy as np\n",
    "from shapely.geometry import Point\n",
    "from geopandas import GeoDataFrame\n",
    "import os\n",
    "import seaborn as sns\n",
    "\n",
    "pd.set_option(\"display.max_colwidth\", 0)\n",
    "pd.set_option(\"display.max_rows\", 500)\n",
    "pd.set_option(\"display.max_columns\", 500)\n",
    "pd.set_option(\"display.width\", 1000)\n",
    "pd.options.display.float_format = '{:.5f}'.format\n",
    "\n",
    "import warnings\n",
    "warnings.filterwarnings(\"ignore\")"
   ]
  },
  {
   "cell_type": "code",
   "execution_count": 3,
   "metadata": {},
   "outputs": [
    {
     "data": {
      "application/javascript": [
       "IPython.notebook.set_autosave_interval(5000)"
      ]
     },
     "metadata": {},
     "output_type": "display_data"
    },
    {
     "name": "stdout",
     "output_type": "stream",
     "text": [
      "Autosaving every 5 seconds\n"
     ]
    }
   ],
   "source": [
    "import sys\n",
    "import logging\n",
    "import datetime\n",
    "\n",
    "nblog = open(\"./logs/explore_localness_\"+str(datetime.datetime.now())+\".log\", \"a+\")\n",
    "sys.stdout.echo = nblog\n",
    "sys.stderr.echo = nblog\n",
    "\n",
    "get_ipython().log.handlers[0].stream = nblog\n",
    "get_ipython().log.setLevel(logging.INFO)\n",
    "\n",
    "%autosave 5"
   ]
  },
  {
   "cell_type": "code",
   "execution_count": 3,
   "metadata": {},
   "outputs": [
    {
     "name": "stdout",
     "output_type": "stream",
     "text": [
      "unique orders: 2782961\n",
      "unique accounts: 556124\n",
      "unique vendors: 7794\n",
      "CPU times: user 51.3 s, sys: 10.2 s, total: 1min 1s\n",
      "Wall time: 1min 7s\n"
     ]
    },
    {
     "data": {
      "text/html": [
       "<div>\n",
       "<style scoped>\n",
       "    .dataframe tbody tr th:only-of-type {\n",
       "        vertical-align: middle;\n",
       "    }\n",
       "\n",
       "    .dataframe tbody tr th {\n",
       "        vertical-align: top;\n",
       "    }\n",
       "\n",
       "    .dataframe thead th {\n",
       "        text-align: right;\n",
       "    }\n",
       "</style>\n",
       "<table border=\"1\" class=\"dataframe\">\n",
       "  <thead>\n",
       "    <tr style=\"text-align: right;\">\n",
       "      <th></th>\n",
       "      <th>account_id</th>\n",
       "      <th>order_id</th>\n",
       "      <th>order_date</th>\n",
       "      <th>order_time</th>\n",
       "      <th>vendor_id</th>\n",
       "      <th>vendor_name</th>\n",
       "      <th>main_cuisine</th>\n",
       "      <th>vertical</th>\n",
       "      <th>delivery_fee_amount_lc</th>\n",
       "      <th>service_fee_amount_lc</th>\n",
       "      <th>basket_amount_lc</th>\n",
       "      <th>is_incentive_applied</th>\n",
       "      <th>incentive_amount_lc</th>\n",
       "      <th>pickup_id</th>\n",
       "      <th>customer_lon</th>\n",
       "      <th>customer_lat</th>\n",
       "      <th>vendor_lon</th>\n",
       "      <th>vendor_lat</th>\n",
       "      <th>order_time_hour</th>\n",
       "      <th>delivery_duration</th>\n",
       "      <th>total_duration</th>\n",
       "      <th>node_id</th>\n",
       "      <th>nearest_dist1</th>\n",
       "      <th>poi1</th>\n",
       "      <th>n_vertical</th>\n",
       "      <th>n_vendor_id</th>\n",
       "      <th>n_main_cuisine</th>\n",
       "      <th>n_vendor_name</th>\n",
       "      <th>n_vendor_lon</th>\n",
       "      <th>n_vendor_lat</th>\n",
       "      <th>vendor_index</th>\n",
       "      <th>pandana_distance_realdist</th>\n",
       "      <th>pandana_localness</th>\n",
       "      <th>speed</th>\n",
       "      <th>customer_loc_id</th>\n",
       "      <th>isweekend</th>\n",
       "      <th>price_per_item</th>\n",
       "      <th>entropy_0.5km</th>\n",
       "      <th>restaurant_count_0.5km</th>\n",
       "      <th>entropy_1km</th>\n",
       "      <th>poi_count_1km</th>\n",
       "      <th>entropy_2km</th>\n",
       "      <th>poi_count_2km</th>\n",
       "      <th>entropy_3km</th>\n",
       "      <th>poi_count_3km</th>\n",
       "      <th>entropy_4km</th>\n",
       "      <th>poi_count_4km</th>\n",
       "      <th>entropy_5km</th>\n",
       "      <th>poi_count_5km</th>\n",
       "      <th>restaurant_count_0.5_1km</th>\n",
       "      <th>restaurant_count_1_2km</th>\n",
       "      <th>restaurant_count_2_3km</th>\n",
       "      <th>restaurant_count_3_4km</th>\n",
       "      <th>restaurant_count_4_5km</th>\n",
       "      <th>estimated_rent</th>\n",
       "      <th>compensation</th>\n",
       "      <th>discounted delivery</th>\n",
       "      <th>free delivery</th>\n",
       "      <th>gem</th>\n",
       "      <th>item discount</th>\n",
       "      <th>menu discount</th>\n",
       "      <th>voucher wallet</th>\n",
       "      <th>incentives_type</th>\n",
       "      <th>incentive_delivery</th>\n",
       "      <th>incentive_menu_discount</th>\n",
       "      <th>incentive_voucher_wallet</th>\n",
       "      <th>rating</th>\n",
       "      <th>n_rating</th>\n",
       "      <th>consistency</th>\n",
       "      <th>total_orders</th>\n",
       "    </tr>\n",
       "  </thead>\n",
       "  <tbody>\n",
       "    <tr>\n",
       "      <th>0</th>\n",
       "      <td>1237695</td>\n",
       "      <td>1304769890</td>\n",
       "      <td>2023-10-10</td>\n",
       "      <td>2023-10-10 00:54:08</td>\n",
       "      <td>701885</td>\n",
       "      <td>Subz, AlBarsha 3</td>\n",
       "      <td>american</td>\n",
       "      <td>food</td>\n",
       "      <td>7.50000</td>\n",
       "      <td>1.92000</td>\n",
       "      <td>64.00000</td>\n",
       "      <td>True</td>\n",
       "      <td>30.00000</td>\n",
       "      <td>249052903.00000</td>\n",
       "      <td>55.14407</td>\n",
       "      <td>25.06988</td>\n",
       "      <td>55.19383</td>\n",
       "      <td>25.08783</td>\n",
       "      <td>0</td>\n",
       "      <td>21</td>\n",
       "      <td>50</td>\n",
       "      <td>2669233716</td>\n",
       "      <td>0.68807</td>\n",
       "      <td>1778</td>\n",
       "      <td>food</td>\n",
       "      <td>660366</td>\n",
       "      <td>american</td>\n",
       "      <td>Cheat Day - Burgers &amp; Salads, Jumeirah Lakes Towers</td>\n",
       "      <td>55.14022</td>\n",
       "      <td>25.06550</td>\n",
       "      <td>1778</td>\n",
       "      <td>7.29895</td>\n",
       "      <td>0.09427</td>\n",
       "      <td>8.75754</td>\n",
       "      <td>55.14406625.069883</td>\n",
       "      <td>No</td>\n",
       "      <td>0.00000</td>\n",
       "      <td>0.70242</td>\n",
       "      <td>169.00000</td>\n",
       "      <td>0.73641</td>\n",
       "      <td>322.00000</td>\n",
       "      <td>0.74026</td>\n",
       "      <td>782.00000</td>\n",
       "      <td>0.73911</td>\n",
       "      <td>853.00000</td>\n",
       "      <td>0.73745</td>\n",
       "      <td>933.00000</td>\n",
       "      <td>0.73241</td>\n",
       "      <td>1138.00000</td>\n",
       "      <td>153.00000</td>\n",
       "      <td>460.00000</td>\n",
       "      <td>71.00000</td>\n",
       "      <td>80.00000</td>\n",
       "      <td>205.00000</td>\n",
       "      <td>87.94369</td>\n",
       "      <td>0.00000</td>\n",
       "      <td>0.00000</td>\n",
       "      <td>0.00000</td>\n",
       "      <td>0.00000</td>\n",
       "      <td>0.00000</td>\n",
       "      <td>30.00000</td>\n",
       "      <td>0.00000</td>\n",
       "      <td>menu discount</td>\n",
       "      <td>False</td>\n",
       "      <td>True</td>\n",
       "      <td>False</td>\n",
       "      <td>5.None</td>\n",
       "      <td>2.Very good</td>\n",
       "      <td>0.87874</td>\n",
       "      <td>11</td>\n",
       "    </tr>\n",
       "    <tr>\n",
       "      <th>1</th>\n",
       "      <td>1027548</td>\n",
       "      <td>1304769334</td>\n",
       "      <td>2023-10-10</td>\n",
       "      <td>2023-10-10 00:53:16</td>\n",
       "      <td>701885</td>\n",
       "      <td>Subz, AlBarsha 3</td>\n",
       "      <td>american</td>\n",
       "      <td>food</td>\n",
       "      <td>7.50000</td>\n",
       "      <td>1.92000</td>\n",
       "      <td>64.00000</td>\n",
       "      <td>True</td>\n",
       "      <td>30.00000</td>\n",
       "      <td>249052903.00000</td>\n",
       "      <td>55.14435</td>\n",
       "      <td>25.06983</td>\n",
       "      <td>55.19383</td>\n",
       "      <td>25.08783</td>\n",
       "      <td>0</td>\n",
       "      <td>16</td>\n",
       "      <td>46</td>\n",
       "      <td>2669233716</td>\n",
       "      <td>0.68807</td>\n",
       "      <td>1778</td>\n",
       "      <td>food</td>\n",
       "      <td>660366</td>\n",
       "      <td>american</td>\n",
       "      <td>Cheat Day - Burgers &amp; Salads, Jumeirah Lakes Towers</td>\n",
       "      <td>55.14022</td>\n",
       "      <td>25.06550</td>\n",
       "      <td>1778</td>\n",
       "      <td>7.29895</td>\n",
       "      <td>0.09427</td>\n",
       "      <td>9.51906</td>\n",
       "      <td>55.1443525.06983</td>\n",
       "      <td>No</td>\n",
       "      <td>0.00000</td>\n",
       "      <td>0.65899</td>\n",
       "      <td>121.00000</td>\n",
       "      <td>0.73415</td>\n",
       "      <td>318.00000</td>\n",
       "      <td>0.74026</td>\n",
       "      <td>782.00000</td>\n",
       "      <td>0.73911</td>\n",
       "      <td>853.00000</td>\n",
       "      <td>0.73800</td>\n",
       "      <td>933.00000</td>\n",
       "      <td>0.73241</td>\n",
       "      <td>1138.00000</td>\n",
       "      <td>197.00000</td>\n",
       "      <td>464.00000</td>\n",
       "      <td>71.00000</td>\n",
       "      <td>80.00000</td>\n",
       "      <td>205.00000</td>\n",
       "      <td>88.00245</td>\n",
       "      <td>0.00000</td>\n",
       "      <td>0.00000</td>\n",
       "      <td>0.00000</td>\n",
       "      <td>0.00000</td>\n",
       "      <td>0.00000</td>\n",
       "      <td>30.00000</td>\n",
       "      <td>0.00000</td>\n",
       "      <td>menu discount</td>\n",
       "      <td>False</td>\n",
       "      <td>True</td>\n",
       "      <td>False</td>\n",
       "      <td>5.None</td>\n",
       "      <td>2.Very good</td>\n",
       "      <td>0.88989</td>\n",
       "      <td>23</td>\n",
       "    </tr>\n",
       "  </tbody>\n",
       "</table>\n",
       "</div>"
      ],
      "text/plain": [
       "   account_id    order_id  order_date           order_time  vendor_id       vendor_name main_cuisine vertical  delivery_fee_amount_lc  service_fee_amount_lc  basket_amount_lc is_incentive_applied  incentive_amount_lc       pickup_id  customer_lon  customer_lat  vendor_lon  vendor_lat  order_time_hour  delivery_duration  total_duration     node_id  nearest_dist1  poi1 n_vertical  n_vendor_id n_main_cuisine                                        n_vendor_name  n_vendor_lon  n_vendor_lat  vendor_index  pandana_distance_realdist  pandana_localness   speed     customer_loc_id isweekend  price_per_item  entropy_0.5km  restaurant_count_0.5km  entropy_1km  poi_count_1km  entropy_2km  poi_count_2km  entropy_3km  poi_count_3km  entropy_4km  poi_count_4km  entropy_5km  poi_count_5km  restaurant_count_0.5_1km  restaurant_count_1_2km  restaurant_count_2_3km  restaurant_count_3_4km  restaurant_count_4_5km  estimated_rent  compensation  discounted delivery  free delivery     gem  item discount  \\\n",
       "0  1237695     1304769890  2023-10-10  2023-10-10 00:54:08  701885     Subz, AlBarsha 3  american     food    7.50000                 1.92000                64.00000           True                30.00000             249052903.00000 55.14407      25.06988      55.19383    25.08783     0                21                 50              2669233716 0.68807         1778  food       660366       american       Cheat Day - Burgers & Salads, Jumeirah Lakes Towers 55.14022      25.06550       1778         7.29895                    0.09427            8.75754  55.14406625.069883  No       0.00000         0.70242        169.00000               0.73641      322.00000      0.74026      782.00000      0.73911      853.00000      0.73745      933.00000      0.73241      1138.00000     153.00000                 460.00000               71.00000                80.00000                205.00000               87.94369        0.00000       0.00000              0.00000        0.00000 0.00000          \n",
       "1  1027548     1304769334  2023-10-10  2023-10-10 00:53:16  701885     Subz, AlBarsha 3  american     food    7.50000                 1.92000                64.00000           True                30.00000             249052903.00000 55.14435      25.06983      55.19383    25.08783     0                16                 46              2669233716 0.68807         1778  food       660366       american       Cheat Day - Burgers & Salads, Jumeirah Lakes Towers 55.14022      25.06550       1778         7.29895                    0.09427            9.51906  55.1443525.06983    No       0.00000         0.65899        121.00000               0.73415      318.00000      0.74026      782.00000      0.73911      853.00000      0.73800      933.00000      0.73241      1138.00000     197.00000                 464.00000               71.00000                80.00000                205.00000               88.00245        0.00000       0.00000              0.00000        0.00000 0.00000          \n",
       "\n",
       "   menu discount  voucher wallet incentives_type  incentive_delivery  incentive_menu_discount  incentive_voucher_wallet  rating     n_rating  consistency  total_orders  \n",
       "0 30.00000       0.00000          menu discount   False               True                     False                     5.None  2.Very good 0.87874       11            \n",
       "1 30.00000       0.00000          menu discount   False               True                     False                     5.None  2.Very good 0.88989       23            "
      ]
     },
     "execution_count": 3,
     "metadata": {},
     "output_type": "execute_result"
    }
   ],
   "source": [
    "%%time\n",
    "df_localness = pd.read_csv('./data/food_localness_final_oct_new.csv')\n",
    "print('unique orders:',df_localness.shape[0])\n",
    "print('unique accounts:',df_localness.account_id.unique().shape[0])\n",
    "print('unique vendors:',df_localness.vendor_id.unique().shape[0])\n",
    "df_localness.head(2)"
   ]
  },
  {
   "cell_type": "code",
   "execution_count": 4,
   "metadata": {},
   "outputs": [
    {
     "name": "stdout",
     "output_type": "stream",
     "text": [
      "Percentage of incentivized orders:  37.32901754641909\n",
      "Percentage of localness=1: 5.064785313196987\n"
     ]
    }
   ],
   "source": [
    "print('Percentage of incentivized orders: ',df_localness[df_localness.incentive_amount_lc>0].shape[0]/df_localness.shape[0]*100)\n",
    "print('Percentage of localness=1:',df_localness[df_localness.pandana_localness>=1].shape[0]/df_localness.shape[0]*100)"
   ]
  },
  {
   "cell_type": "markdown",
   "metadata": {},
   "source": [
    "# Descriptive statistics"
   ]
  },
  {
   "cell_type": "code",
   "execution_count": 6,
   "metadata": {},
   "outputs": [
    {
     "data": {
      "text/plain": [
       "count   2782961.00000\n",
       "mean    0.74775      \n",
       "std     0.31139      \n",
       "min     0.00000      \n",
       "25%     0.73062      \n",
       "50%     0.86992      \n",
       "75%     0.93594      \n",
       "max     1.00000      \n",
       "Name: consistency, dtype: float64"
      ]
     },
     "execution_count": 6,
     "metadata": {},
     "output_type": "execute_result"
    }
   ],
   "source": [
    "df_localness.consistency.describe()"
   ]
  },
  {
   "cell_type": "code",
   "execution_count": 7,
   "metadata": {},
   "outputs": [
    {
     "data": {
      "text/plain": [
       "Yes   0.31468\n",
       "No    0.68532\n",
       "Name: isweekend, dtype: float64"
      ]
     },
     "execution_count": 7,
     "metadata": {},
     "output_type": "execute_result"
    }
   ],
   "source": [
    "df_localness.isweekend.value_counts(normalize=True).sort_index(ascending=False)"
   ]
  },
  {
   "cell_type": "code",
   "execution_count": 77,
   "metadata": {},
   "outputs": [
    {
     "data": {
      "text/plain": [
       "0.061504665582090175"
      ]
     },
     "execution_count": 77,
     "metadata": {},
     "output_type": "execute_result"
    }
   ],
   "source": [
    "# 170201/2767286.00000"
   ]
  },
  {
   "cell_type": "markdown",
   "metadata": {},
   "source": [
    "# Distribution of localness"
   ]
  },
  {
   "cell_type": "code",
   "execution_count": 40,
   "metadata": {},
   "outputs": [
    {
     "name": "stdout",
     "output_type": "stream",
     "text": [
      "CPU times: user 10.3 s, sys: 2.8 s, total: 13.1 s\n",
      "Wall time: 8.28 s\n"
     ]
    },
    {
     "data": {
      "image/png": "[encoded data removed]",
      "text/plain": [
       "<Figure size 288x432 with 1 Axes>"
      ]
     },
     "metadata": {},
     "output_type": "display_data"
    }
   ],
   "source": [
    "%%time\n",
    "import seaborn as sns\n",
    "\n",
    "sns.set_theme(rc={'figure.figsize':(4,6)}) \n",
    "sns.set(font_scale=1.3)\n",
    "ax = sns.violinplot(data=df_localness[['pandana_distance_realdist', 'nearest_dist1']], inner='quartile', cut=0) \n",
    "\n",
    "# Calculate means and medians\n",
    "means = df_localness[['pandana_distance_realdist', 'nearest_dist1']].mean()\n",
    "\n",
    "# Overlay mean and median lines\n",
    "plt.scatter(x=range(len(means)),y=means,c=\"white\",marker='^',edgecolors='black', s=100)\n",
    "\n",
    "ax.set_xticklabels(['Order travel \\n distance','Distance to the \\n nearest resturant'])\n",
    "plt.ylabel(\"Distance (km)\")\n",
    "# plt.show()\n",
    "plt.savefig('./output/plot_orderdistance_and_nearest_distance.pdf',bbox_inches='tight')"
   ]
  },
  {
   "cell_type": "code",
   "execution_count": 11,
   "metadata": {},
   "outputs": [
    {
     "name": "stdout",
     "output_type": "stream",
     "text": [
      "       pandana_distance_realdist  nearest_dist1\n",
      "count 2782961.00000              2782961.00000 \n",
      "mean  5.62868                    1.65729       \n",
      "std   4.06135                    1.96222       \n",
      "min   0.00100                    0.00100       \n",
      "25%   2.45902                    0.48570       \n",
      "50%   4.72788                    1.03133       \n",
      "75%   7.96135                    2.06877       \n",
      "max   46.27418                   32.12371      \n"
     ]
    }
   ],
   "source": [
    "print(df_localness[['pandana_distance_realdist', 'nearest_dist1']].describe())"
   ]
  },
  {
   "cell_type": "code",
   "execution_count": 39,
   "metadata": {},
   "outputs": [
    {
     "name": "stdout",
     "output_type": "stream",
     "text": [
      "CPU times: user 6 s, sys: 1.49 s, total: 7.49 s\n",
      "Wall time: 4.94 s\n"
     ]
    },
    {
     "data": {
      "image/png": "[encoded data removed]",
      "text/plain": [
       "<Figure size 288x432 with 1 Axes>"
      ]
     },
     "metadata": {},
     "output_type": "display_data"
    }
   ],
   "source": [
    "%%time\n",
    "sns.set_theme(rc={'figure.figsize':(4,6)}) \n",
    "sns.set(font_scale=1.3)\n",
    "ax = sns.violinplot(data=df_localness[['pandana_localness']], inner=\"quartile\", cut=0)\n",
    "# Calculate means and medians\n",
    "means = df_localness[['pandana_localness']].mean()\n",
    "\n",
    "# Overlay mean and median lines\n",
    "plt.scatter(x=range(len(means)),y=means,c=\"white\",marker='^',edgecolors='black', s=100)\n",
    "ax.set_xticklabels(['All orders'])\n",
    "plt.ylabel(\"Localness index\")\n",
    "# plt.show()\n",
    "plt.savefig('./output/plot_localness.pdf',bbox_inches='tight')"
   ]
  },
  {
   "cell_type": "code",
   "execution_count": 9,
   "metadata": {},
   "outputs": [
    {
     "name": "stdout",
     "output_type": "stream",
     "text": [
      "       pandana_localness\n",
      "count 2782961.00000     \n",
      "mean  0.37470           \n",
      "std   0.31854           \n",
      "min   0.00003           \n",
      "25%   0.11333           \n",
      "50%   0.26982           \n",
      "75%   0.58136           \n",
      "max   1.00000           \n"
     ]
    }
   ],
   "source": [
    "print(df_localness[['pandana_localness']].describe())"
   ]
  },
  {
   "cell_type": "code",
   "execution_count": 47,
   "metadata": {},
   "outputs": [],
   "source": [
    "# sns.set_theme(rc={'figure.figsize':(4,6)},style='white') \n",
    "# plt.rcParams.update({'font.size': 14})\n",
    "# print(df_localness['pandana_distance_realdist'].describe())\n",
    "# ax = df_localness['pandana_distance_realdist'].hist(bins=50,ec='None')\n",
    "# ax.grid(False)\n",
    "# # plt.title('Food order distance (km) (n='+str(df_nearest_compute.shape[0])+')')\n",
    "# meanv = round(df_localness['pandana_distance_realdist'].mean(),2)\n",
    "# medianv = round(df_localness['pandana_distance_realdist'].median(),2)\n",
    "# plt.axvline(x=meanv,color='r',label='mean='+str(meanv)+'km',ls='--')\n",
    "# plt.axvline(x=medianv,color='g',label='median='+str(medianv)+'km',ls='--')\n",
    "# plt.ylabel('Order counts')\n",
    "# plt.xlabel('Order distance (km)')\n",
    "# ax.set_xlim([-2, 30])\n",
    "# plt.legend()\n",
    "# plt.savefig('./output/plot_orderdistance.pdf', bbox_inches=\"tight\")"
   ]
  },
  {
   "cell_type": "code",
   "execution_count": 48,
   "metadata": {},
   "outputs": [],
   "source": [
    "# sns.set_theme(rc={'figure.figsize':(4,6)},style='white') \n",
    "# plt.rcParams.update({'font.size': 14})\n",
    "# print(df_localness['nearest_dist1'].describe())\n",
    "# ax = df_localness['nearest_dist1'].hist(bins=15,ec='None')\n",
    "# ax.grid(False)\n",
    "# # plt.title('Food order distance (km) (n='+str(df_nearest_compute.shape[0])+')')\n",
    "# meanv = round(df_localness['nearest_dist1'].mean(),2)\n",
    "# medianv = round(df_localness['nearest_dist1'].median(),2)\n",
    "# plt.axvline(x=meanv,color='r',label='mean='+str(meanv)+'km',ls='--')\n",
    "# plt.axvline(x=medianv,color='g',label='median='+str(medianv)+'km',ls='--')\n",
    "# plt.ylabel('Order counts')\n",
    "# plt.xlabel('Distance to the nearest resturant (km)')\n",
    "# ax.set_xlim([-2, 30])\n",
    "# plt.legend()\n",
    "# plt.savefig('./output/plot_distance_to_nearest.pdf', bbox_inches=\"tight\")"
   ]
  },
  {
   "cell_type": "code",
   "execution_count": 76,
   "metadata": {},
   "outputs": [],
   "source": [
    "# sns.set_theme(rc={'figure.figsize':(4,6)},style='white') \n",
    "# plt.rcParams.update({'font.size': 14})\n",
    "# print(df_localness['pandana_localness'].describe().apply(lambda x: format(x, 'f')))\n",
    "# ax = df_localness['pandana_localness'].hist(bins=40,ec='None')\n",
    "# ax.grid(False)\n",
    "# meanv = round(df_localness['pandana_localness'].mean(),2)\n",
    "# medianv = round(df_localness['pandana_localness'].median(),2)\n",
    "# plt.axvline(x=meanv,color='r',label='mean='+str(meanv),ls='--')\n",
    "# plt.axvline(x=medianv,color='g',label='median='+str(medianv),ls='--')\n",
    "# plt.legend(loc=(0.4,0.88)) #loc=(0.4,0.85)\n",
    "# # plt.title('Food order localness (n='+str(df_nearest_compute.shape[0])+')')\n",
    "# plt.ylabel('Order counts')\n",
    "# plt.xlabel('Localness')\n",
    "# plt.savefig('./output/plot_localness.pdf', bbox_inches=\"tight\")"
   ]
  },
  {
   "cell_type": "code",
   "execution_count": 6,
   "metadata": {},
   "outputs": [],
   "source": [
    "top10 = df_localness.groupby('main_cuisine').pandana_localness.mean().sort_values(ascending=False).head(10).index.tolist()\n",
    "tail20 = df_localness.groupby('main_cuisine').pandana_localness.mean().sort_values(ascending=False).tail(20).index.tolist()"
   ]
  },
  {
   "cell_type": "code",
   "execution_count": 18,
   "metadata": {},
   "outputs": [
    {
     "name": "stdout",
     "output_type": "stream",
     "text": [
      "CPU times: user 2.77 s, sys: 4.1 s, total: 6.86 s\n",
      "Wall time: 6.76 s\n"
     ]
    },
    {
     "data": {
      "image/png": "[encoded data removed]",
      "text/plain": [
       "<Figure size 576x432 with 1 Axes>"
      ]
     },
     "metadata": {},
     "output_type": "display_data"
    }
   ],
   "source": [
    "%%time\n",
    "df_localness_select10 = df_localness[df_localness['main_cuisine'].isin(tail20)]\n",
    "sns.set_theme(rc={'figure.figsize':(8,6)},font_scale=1.3)\n",
    "# sns.violinplot(data=df_nearest_compute,x='main_cuisine',y='localness')\n",
    "# my_order = df_localness_select10.groupby(by=[\"main_cuisine\"])[\"pandana_localness\"].median().sort_values().index\n",
    "my_order = df_localness_select10.groupby(by=[\"main_cuisine\"])[\"pandana_localness\"].mean().sort_values().index\n",
    "meanprops = {\"marker\": \"^\", \"markerfacecolor\": \"white\", \"markeredgecolor\": \"black\", \"markersize\": 10}\n",
    "sns.boxplot(data=df_localness_select10,x='main_cuisine',y='pandana_localness',order=my_order, showfliers=False, showmeans=True,meanprops=meanprops)\n",
    "\n",
    "# Add mean points on top of the boxplot\n",
    "# sns.pointplot(data=df_localness_select10, x='main_cuisine', y='pandana_localness', \n",
    "#               order=my_order, estimator='mean', color='red', markers='D', linestyles='')\n",
    "\n",
    "plt.xticks(rotation=90)\n",
    "plt.xlabel('')\n",
    "plt.ylabel('Localness index')\n",
    "plt.savefig('./output/plot_tenleastlocalcusines.pdf', bbox_inches=\"tight\")"
   ]
  },
  {
   "cell_type": "markdown",
   "metadata": {},
   "source": [
    "# Time of day pattern of food order localness"
   ]
  },
  {
   "cell_type": "code",
   "execution_count": 16,
   "metadata": {},
   "outputs": [
    {
     "data": {
      "image/png": "[encoded data removed]",
      "text/plain": [
       "<Figure size 720x432 with 1 Axes>"
      ]
     },
     "metadata": {},
     "output_type": "display_data"
    }
   ],
   "source": [
    "sns.set_theme(rc={'figure.figsize':(10,6)},font_scale=1.3)\n",
    "meanprops = {\"marker\": \"^\", \"markerfacecolor\": \"white\", \"markeredgecolor\": \"black\", \"markersize\": 10}\n",
    "sns.boxplot(data=df_localness,x='order_time_hour',y='pandana_localness', showmeans=True,meanprops=meanprops)\n",
    "# plt.xticks() # rotation=90\n",
    "plt.xlabel('Time of day (hour)')\n",
    "plt.ylabel('Localness index')\n",
    "plt.savefig('./output/plot_localness_timeofday.pdf', bbox_inches=\"tight\")\n",
    "### *** Sep 5, 2024 This is very interesting changes after considering opening hours of restaurants. Localness after midnight substantially increases!!! "
   ]
  },
  {
   "cell_type": "code",
   "execution_count": 41,
   "metadata": {},
   "outputs": [
    {
     "data": {
      "text/html": [
       "<div>\n",
       "<style scoped>\n",
       "    .dataframe tbody tr th:only-of-type {\n",
       "        vertical-align: middle;\n",
       "    }\n",
       "\n",
       "    .dataframe tbody tr th {\n",
       "        vertical-align: top;\n",
       "    }\n",
       "\n",
       "    .dataframe thead th {\n",
       "        text-align: right;\n",
       "    }\n",
       "</style>\n",
       "<table border=\"1\" class=\"dataframe\">\n",
       "  <thead>\n",
       "    <tr style=\"text-align: right;\">\n",
       "      <th></th>\n",
       "      <th>account_id</th>\n",
       "      <th>order_id</th>\n",
       "      <th>order_date</th>\n",
       "      <th>order_time</th>\n",
       "      <th>vendor_id</th>\n",
       "      <th>vendor_name</th>\n",
       "      <th>main_cuisine</th>\n",
       "      <th>vertical</th>\n",
       "      <th>delivery_fee_amount_lc</th>\n",
       "      <th>service_fee_amount_lc</th>\n",
       "      <th>basket_amount_lc</th>\n",
       "      <th>is_incentive_applied</th>\n",
       "      <th>incentive_amount_lc</th>\n",
       "      <th>pickup_id</th>\n",
       "      <th>customer_lon</th>\n",
       "      <th>customer_lat</th>\n",
       "      <th>vendor_lon</th>\n",
       "      <th>vendor_lat</th>\n",
       "      <th>order_time_hour</th>\n",
       "      <th>delivery_duration</th>\n",
       "      <th>total_duration</th>\n",
       "      <th>node_id</th>\n",
       "      <th>nearest_dist1</th>\n",
       "      <th>poi1</th>\n",
       "      <th>n_vertical</th>\n",
       "      <th>n_vendor_id</th>\n",
       "      <th>n_main_cuisine</th>\n",
       "      <th>n_vendor_name</th>\n",
       "      <th>n_vendor_lon</th>\n",
       "      <th>n_vendor_lat</th>\n",
       "      <th>vendor_index</th>\n",
       "      <th>pandana_distance_realdist</th>\n",
       "      <th>pandana_localness</th>\n",
       "      <th>speed</th>\n",
       "      <th>customer_loc_id</th>\n",
       "      <th>isweekend</th>\n",
       "      <th>price_per_item</th>\n",
       "      <th>entropy_05km</th>\n",
       "      <th>restaurant_count_05km</th>\n",
       "      <th>entropy_1km</th>\n",
       "      <th>poi_count_1km</th>\n",
       "      <th>entropy_2km</th>\n",
       "      <th>poi_count_2km</th>\n",
       "      <th>entropy_3km</th>\n",
       "      <th>poi_count_3km</th>\n",
       "      <th>entropy_4km</th>\n",
       "      <th>poi_count_4km</th>\n",
       "      <th>entropy_5km</th>\n",
       "      <th>poi_count_5km</th>\n",
       "      <th>restaurant_count_05_1km</th>\n",
       "      <th>restaurant_count_1_2km</th>\n",
       "      <th>restaurant_count_2_3km</th>\n",
       "      <th>restaurant_count_3_4km</th>\n",
       "      <th>restaurant_count_4_5km</th>\n",
       "      <th>estimated_rent</th>\n",
       "      <th>compensation</th>\n",
       "      <th>discounted delivery</th>\n",
       "      <th>free delivery</th>\n",
       "      <th>gem</th>\n",
       "      <th>item discount</th>\n",
       "      <th>menu discount</th>\n",
       "      <th>voucher wallet</th>\n",
       "      <th>incentives_type</th>\n",
       "      <th>incentive_delivery</th>\n",
       "      <th>incentive_menu_discount</th>\n",
       "      <th>incentive_voucher_wallet</th>\n",
       "      <th>rating</th>\n",
       "      <th>n_rating</th>\n",
       "      <th>consistency</th>\n",
       "      <th>total_orders</th>\n",
       "      <th>log_pandana_localness</th>\n",
       "    </tr>\n",
       "  </thead>\n",
       "  <tbody>\n",
       "    <tr>\n",
       "      <th>0</th>\n",
       "      <td>1237695</td>\n",
       "      <td>1304769890</td>\n",
       "      <td>2023-10-10</td>\n",
       "      <td>2023-10-10 00:54:08</td>\n",
       "      <td>701885</td>\n",
       "      <td>Subz, AlBarsha 3</td>\n",
       "      <td>american</td>\n",
       "      <td>food</td>\n",
       "      <td>7.50000</td>\n",
       "      <td>1.92000</td>\n",
       "      <td>64.00000</td>\n",
       "      <td>True</td>\n",
       "      <td>30.00000</td>\n",
       "      <td>249052903.00000</td>\n",
       "      <td>55.14407</td>\n",
       "      <td>25.06988</td>\n",
       "      <td>55.19383</td>\n",
       "      <td>25.08783</td>\n",
       "      <td>0</td>\n",
       "      <td>21</td>\n",
       "      <td>50</td>\n",
       "      <td>2669233716</td>\n",
       "      <td>0.68807</td>\n",
       "      <td>1778</td>\n",
       "      <td>food</td>\n",
       "      <td>660366</td>\n",
       "      <td>american</td>\n",
       "      <td>Cheat Day - Burgers &amp; Salads, Jumeirah Lakes Towers</td>\n",
       "      <td>55.14022</td>\n",
       "      <td>25.06550</td>\n",
       "      <td>1778</td>\n",
       "      <td>7.29895</td>\n",
       "      <td>0.09427</td>\n",
       "      <td>8.75754</td>\n",
       "      <td>55.14406625.069883</td>\n",
       "      <td>No</td>\n",
       "      <td>0.00000</td>\n",
       "      <td>0.70242</td>\n",
       "      <td>169.00000</td>\n",
       "      <td>0.73641</td>\n",
       "      <td>322.00000</td>\n",
       "      <td>0.74026</td>\n",
       "      <td>782.00000</td>\n",
       "      <td>0.73911</td>\n",
       "      <td>853.00000</td>\n",
       "      <td>0.73745</td>\n",
       "      <td>933.00000</td>\n",
       "      <td>0.73241</td>\n",
       "      <td>1138.00000</td>\n",
       "      <td>153.00000</td>\n",
       "      <td>460.00000</td>\n",
       "      <td>71.00000</td>\n",
       "      <td>80.00000</td>\n",
       "      <td>205.00000</td>\n",
       "      <td>87.94369</td>\n",
       "      <td>0.00000</td>\n",
       "      <td>0.00000</td>\n",
       "      <td>0.00000</td>\n",
       "      <td>0.00000</td>\n",
       "      <td>0.00000</td>\n",
       "      <td>30.00000</td>\n",
       "      <td>0.00000</td>\n",
       "      <td>menu discount</td>\n",
       "      <td>False</td>\n",
       "      <td>True</td>\n",
       "      <td>False</td>\n",
       "      <td>5.None</td>\n",
       "      <td>2.Very good</td>\n",
       "      <td>0.87874</td>\n",
       "      <td>11</td>\n",
       "      <td>-2.36160</td>\n",
       "    </tr>\n",
       "  </tbody>\n",
       "</table>\n",
       "</div>"
      ],
      "text/plain": [
       "   account_id    order_id  order_date           order_time  vendor_id       vendor_name main_cuisine vertical  delivery_fee_amount_lc  service_fee_amount_lc  basket_amount_lc is_incentive_applied  incentive_amount_lc       pickup_id  customer_lon  customer_lat  vendor_lon  vendor_lat  order_time_hour  delivery_duration  total_duration     node_id  nearest_dist1  poi1 n_vertical  n_vendor_id n_main_cuisine                                        n_vendor_name  n_vendor_lon  n_vendor_lat  vendor_index  pandana_distance_realdist  pandana_localness   speed     customer_loc_id isweekend  price_per_item  entropy_05km  restaurant_count_05km  entropy_1km  poi_count_1km  entropy_2km  poi_count_2km  entropy_3km  poi_count_3km  entropy_4km  poi_count_4km  entropy_5km  poi_count_5km  restaurant_count_05_1km  restaurant_count_1_2km  restaurant_count_2_3km  restaurant_count_3_4km  restaurant_count_4_5km  estimated_rent  compensation  discounted delivery  free delivery     gem  item discount  \\\n",
       "0  1237695     1304769890  2023-10-10  2023-10-10 00:54:08  701885     Subz, AlBarsha 3  american     food    7.50000                 1.92000                64.00000           True                30.00000             249052903.00000 55.14407      25.06988      55.19383    25.08783     0                21                 50              2669233716 0.68807         1778  food       660366       american       Cheat Day - Burgers & Salads, Jumeirah Lakes Towers 55.14022      25.06550       1778         7.29895                    0.09427            8.75754  55.14406625.069883  No       0.00000         0.70242       169.00000              0.73641      322.00000      0.74026      782.00000      0.73911      853.00000      0.73745      933.00000      0.73241      1138.00000     153.00000                460.00000               71.00000                80.00000                205.00000               87.94369        0.00000       0.00000              0.00000        0.00000 0.00000          \n",
       "\n",
       "   menu discount  voucher wallet incentives_type  incentive_delivery  incentive_menu_discount  incentive_voucher_wallet  rating     n_rating  consistency  total_orders  log_pandana_localness  \n",
       "0 30.00000       0.00000          menu discount   False               True                     False                     5.None  2.Very good 0.87874       11           -2.36160                "
      ]
     },
     "execution_count": 41,
     "metadata": {},
     "output_type": "execute_result"
    }
   ],
   "source": [
    "df_localness.head(1)"
   ]
  },
  {
   "cell_type": "code",
   "execution_count": 45,
   "metadata": {},
   "outputs": [
    {
     "data": {
      "image/png": "[encoded data removed]",
      "text/plain": [
       "<Figure size 720x432 with 1 Axes>"
      ]
     },
     "metadata": {},
     "output_type": "display_data"
    }
   ],
   "source": [
    "sns.set_theme(rc={'figure.figsize':(10,6)},font_scale=1.3)\n",
    "meanprops = {\"marker\": \"^\", \"markerfacecolor\": \"white\", \"markeredgecolor\": \"black\", \"markersize\": 10}\n",
    "sns.boxplot(data=df_localness,x='order_time_hour',y='nearest_dist1', showfliers=False,showmeans=True,meanprops=meanprops)\n",
    "# plt.title('Order travel distance (km)')\n",
    "plt.xlabel('Time of day (hour)')\n",
    "plt.ylabel('Distance to the nearest restaurant (km)')\n",
    "plt.savefig('./output/plot_distancenearest_timeofday.pdf', bbox_inches=\"tight\")"
   ]
  },
  {
   "cell_type": "code",
   "execution_count": 44,
   "metadata": {},
   "outputs": [
    {
     "data": {
      "image/png": "[encoded data removed]",
      "text/plain": [
       "<Figure size 720x432 with 1 Axes>"
      ]
     },
     "metadata": {},
     "output_type": "display_data"
    }
   ],
   "source": [
    "sns.set_theme(rc={'figure.figsize':(10,6)},font_scale=1.3)\n",
    "meanprops = {\"marker\": \"^\", \"markerfacecolor\": \"white\", \"markeredgecolor\": \"black\", \"markersize\": 10}\n",
    "sns.boxplot(data=df_localness,x='order_time_hour',y='pandana_distance_realdist', showfliers=False,showmeans=True,meanprops=meanprops)\n",
    "# plt.title('Order travel distance (km)')\n",
    "plt.xlabel('Time of day (hour)')\n",
    "plt.ylabel('Order distance (km)')\n",
    "plt.savefig('./output/plot_orderdistance_timeofday.pdf', bbox_inches=\"tight\")"
   ]
  },
  {
   "cell_type": "markdown",
   "metadata": {},
   "source": [
    "# Total distance change if all orders were from the nearest restaurant\n",
    "Economic cost of localness - delivery travel distance perspective"
   ]
  },
  {
   "cell_type": "code",
   "execution_count": 19,
   "metadata": {},
   "outputs": [
    {
     "data": {
      "text/html": [
       "<div>\n",
       "<style scoped>\n",
       "    .dataframe tbody tr th:only-of-type {\n",
       "        vertical-align: middle;\n",
       "    }\n",
       "\n",
       "    .dataframe tbody tr th {\n",
       "        vertical-align: top;\n",
       "    }\n",
       "\n",
       "    .dataframe thead th {\n",
       "        text-align: right;\n",
       "    }\n",
       "</style>\n",
       "<table border=\"1\" class=\"dataframe\">\n",
       "  <thead>\n",
       "    <tr style=\"text-align: right;\">\n",
       "      <th></th>\n",
       "      <th>pandana_localness</th>\n",
       "      <th>pandana_distance_realdist</th>\n",
       "      <th>nearest_dist1</th>\n",
       "    </tr>\n",
       "  </thead>\n",
       "  <tbody>\n",
       "    <tr>\n",
       "      <th>0</th>\n",
       "      <td>0.09427</td>\n",
       "      <td>7.29895</td>\n",
       "      <td>0.68807</td>\n",
       "    </tr>\n",
       "    <tr>\n",
       "      <th>1</th>\n",
       "      <td>0.09427</td>\n",
       "      <td>7.29895</td>\n",
       "      <td>0.68807</td>\n",
       "    </tr>\n",
       "  </tbody>\n",
       "</table>\n",
       "</div>"
      ],
      "text/plain": [
       "   pandana_localness  pandana_distance_realdist  nearest_dist1\n",
       "0 0.09427            7.29895                    0.68807       \n",
       "1 0.09427            7.29895                    0.68807       "
      ]
     },
     "execution_count": 19,
     "metadata": {},
     "output_type": "execute_result"
    }
   ],
   "source": [
    "df_quantifycost = df_localness[['pandana_localness','pandana_distance_realdist','nearest_dist1']]\n",
    "df_quantifycost.head(2)"
   ]
  },
  {
   "cell_type": "code",
   "execution_count": 20,
   "metadata": {},
   "outputs": [],
   "source": [
    "for i in range(1,11,1):\n",
    "    field = 'delta_percent' + str(i)\n",
    "    step = i/10 # increment is 0.1 of localness\n",
    "    df_quantifycost[field] = df_quantifycost['nearest_dist1']/(df_quantifycost['pandana_localness'] + step)\n",
    "    df_quantifycost.loc[df_quantifycost[field]<=df_quantifycost['nearest_dist1'],field] = df_quantifycost['nearest_dist1']\n",
    "    df_quantifycost[field] = (df_quantifycost['pandana_distance_realdist']-df_quantifycost[field])/df_quantifycost['pandana_distance_realdist']\n",
    "    df_quantifycost.loc[df_quantifycost[field]<=0,field] = 0"
   ]
  },
  {
   "cell_type": "code",
   "execution_count": 21,
   "metadata": {},
   "outputs": [],
   "source": [
    "for i in range(1,11,1):\n",
    "    field2 = 'estimate_dist' + str(i)\n",
    "    step = i/10 # increment is 0.1 of localness\n",
    "    df_quantifycost[field2] = df_quantifycost['nearest_dist1']/(df_quantifycost['pandana_localness'] + step)\n",
    "    df_quantifycost.loc[df_quantifycost[field2]<=df_quantifycost['nearest_dist1'],field2] = df_quantifycost['nearest_dist1']"
   ]
  },
  {
   "cell_type": "code",
   "execution_count": 22,
   "metadata": {},
   "outputs": [
    {
     "data": {
      "text/html": [
       "<div>\n",
       "<style scoped>\n",
       "    .dataframe tbody tr th:only-of-type {\n",
       "        vertical-align: middle;\n",
       "    }\n",
       "\n",
       "    .dataframe tbody tr th {\n",
       "        vertical-align: top;\n",
       "    }\n",
       "\n",
       "    .dataframe thead th {\n",
       "        text-align: right;\n",
       "    }\n",
       "</style>\n",
       "<table border=\"1\" class=\"dataframe\">\n",
       "  <thead>\n",
       "    <tr style=\"text-align: right;\">\n",
       "      <th></th>\n",
       "      <th>pandana_localness</th>\n",
       "      <th>pandana_distance_realdist</th>\n",
       "      <th>nearest_dist1</th>\n",
       "      <th>delta_percent1</th>\n",
       "      <th>delta_percent2</th>\n",
       "      <th>delta_percent3</th>\n",
       "      <th>delta_percent4</th>\n",
       "      <th>delta_percent5</th>\n",
       "      <th>delta_percent6</th>\n",
       "      <th>delta_percent7</th>\n",
       "      <th>delta_percent8</th>\n",
       "      <th>delta_percent9</th>\n",
       "      <th>delta_percent10</th>\n",
       "      <th>estimate_dist1</th>\n",
       "      <th>estimate_dist2</th>\n",
       "      <th>estimate_dist3</th>\n",
       "      <th>estimate_dist4</th>\n",
       "      <th>estimate_dist5</th>\n",
       "      <th>estimate_dist6</th>\n",
       "      <th>estimate_dist7</th>\n",
       "      <th>estimate_dist8</th>\n",
       "      <th>estimate_dist9</th>\n",
       "      <th>estimate_dist10</th>\n",
       "    </tr>\n",
       "  </thead>\n",
       "  <tbody>\n",
       "    <tr>\n",
       "      <th>0</th>\n",
       "      <td>0.09427</td>\n",
       "      <td>7.29895</td>\n",
       "      <td>0.68807</td>\n",
       "      <td>0.51475</td>\n",
       "      <td>0.67965</td>\n",
       "      <td>0.76090</td>\n",
       "      <td>0.80928</td>\n",
       "      <td>0.84137</td>\n",
       "      <td>0.86422</td>\n",
       "      <td>0.88131</td>\n",
       "      <td>0.89459</td>\n",
       "      <td>0.90519</td>\n",
       "      <td>0.90573</td>\n",
       "      <td>3.54182</td>\n",
       "      <td>2.33822</td>\n",
       "      <td>1.74517</td>\n",
       "      <td>1.39209</td>\n",
       "      <td>1.15784</td>\n",
       "      <td>0.99107</td>\n",
       "      <td>0.86629</td>\n",
       "      <td>0.76942</td>\n",
       "      <td>0.69203</td>\n",
       "      <td>0.68807</td>\n",
       "    </tr>\n",
       "    <tr>\n",
       "      <th>1</th>\n",
       "      <td>0.09427</td>\n",
       "      <td>7.29895</td>\n",
       "      <td>0.68807</td>\n",
       "      <td>0.51475</td>\n",
       "      <td>0.67965</td>\n",
       "      <td>0.76090</td>\n",
       "      <td>0.80928</td>\n",
       "      <td>0.84137</td>\n",
       "      <td>0.86422</td>\n",
       "      <td>0.88131</td>\n",
       "      <td>0.89459</td>\n",
       "      <td>0.90519</td>\n",
       "      <td>0.90573</td>\n",
       "      <td>3.54182</td>\n",
       "      <td>2.33822</td>\n",
       "      <td>1.74517</td>\n",
       "      <td>1.39209</td>\n",
       "      <td>1.15784</td>\n",
       "      <td>0.99107</td>\n",
       "      <td>0.86629</td>\n",
       "      <td>0.76942</td>\n",
       "      <td>0.69203</td>\n",
       "      <td>0.68807</td>\n",
       "    </tr>\n",
       "  </tbody>\n",
       "</table>\n",
       "</div>"
      ],
      "text/plain": [
       "   pandana_localness  pandana_distance_realdist  nearest_dist1  delta_percent1  delta_percent2  delta_percent3  delta_percent4  delta_percent5  delta_percent6  delta_percent7  delta_percent8  delta_percent9  delta_percent10  estimate_dist1  estimate_dist2  estimate_dist3  estimate_dist4  estimate_dist5  estimate_dist6  estimate_dist7  estimate_dist8  estimate_dist9  estimate_dist10\n",
       "0 0.09427            7.29895                    0.68807        0.51475         0.67965         0.76090         0.80928         0.84137         0.86422         0.88131         0.89459         0.90519         0.90573          3.54182         2.33822         1.74517         1.39209         1.15784         0.99107         0.86629         0.76942         0.69203         0.68807         \n",
       "1 0.09427            7.29895                    0.68807        0.51475         0.67965         0.76090         0.80928         0.84137         0.86422         0.88131         0.89459         0.90519         0.90573          3.54182         2.33822         1.74517         1.39209         1.15784         0.99107         0.86629         0.76942         0.69203         0.68807         "
      ]
     },
     "execution_count": 22,
     "metadata": {},
     "output_type": "execute_result"
    }
   ],
   "source": [
    "df_quantifycost.head(2)"
   ]
  },
  {
   "cell_type": "code",
   "execution_count": 23,
   "metadata": {},
   "outputs": [],
   "source": [
    "df_quantifycost_melt_percent = pd.melt(df_quantifycost[['delta_percent1', 'delta_percent2', 'delta_percent3', 'delta_percent4', \n",
    "                                           'delta_percent5', 'delta_percent6', 'delta_percent7', 'delta_percent8', 'delta_percent9', 'delta_percent10']])\n",
    "\n",
    "df_quantifycost_melt_distancechange = pd.melt(df_quantifycost[['pandana_distance_realdist', 'estimate_dist1', 'estimate_dist2', 'estimate_dist3',\n",
    "                                                               'estimate_dist4', 'estimate_dist5', 'estimate_dist6', 'estimate_dist7', 'estimate_dist8', \n",
    "                                                               'estimate_dist9', 'estimate_dist10']])"
   ]
  },
  {
   "cell_type": "code",
   "execution_count": 51,
   "metadata": {},
   "outputs": [
    {
     "name": "stdout",
     "output_type": "stream",
     "text": [
      "CPU times: user 7.79 s, sys: 585 ms, total: 8.38 s\n",
      "Wall time: 8.22 s\n"
     ]
    },
    {
     "data": {
      "image/png": "[encoded data removed]",
      "text/plain": [
       "<Figure size 432x432 with 1 Axes>"
      ]
     },
     "metadata": {},
     "output_type": "display_data"
    }
   ],
   "source": [
    "%%time \n",
    "\n",
    "meanprops = {\"marker\": \"^\", \"markerfacecolor\": \"white\", \"markeredgecolor\": \"black\", \"markersize\": 10}\n",
    "sns.set_theme(rc={'figure.figsize':(6,6)},font_scale=1.2)\n",
    "ax = sns.boxplot(x=\"variable\", y=\"value\", data=df_quantifycost_melt_percent,showfliers=False,palette=\"husl\",showmeans=True,meanprops=meanprops)\n",
    "plt.xlabel(r'$\\delta^+_{localness}$', fontsize=16)\n",
    "plt.ylabel('Pecentage reduction in order distance (%)', fontsize=14)\n",
    "ax.set_xticklabels([0.1,0.2,0.3,0.4,0.5,0.6,0.7,0.8,0.9,1])\n",
    "plt.savefig('./output/change_localness_percent.pdf', bbox_inches='tight')"
   ]
  },
  {
   "cell_type": "code",
   "execution_count": 50,
   "metadata": {},
   "outputs": [
    {
     "name": "stdout",
     "output_type": "stream",
     "text": [
      "CPU times: user 8.55 s, sys: 667 ms, total: 9.22 s\n",
      "Wall time: 9.11 s\n"
     ]
    },
    {
     "data": {
      "image/png": "[encoded data removed]",
      "text/plain": [
       "<Figure size 432x432 with 1 Axes>"
      ]
     },
     "metadata": {},
     "output_type": "display_data"
    }
   ],
   "source": [
    "%%time \n",
    "sns.set_theme(rc={'figure.figsize':(6,6)},font_scale=1.2)\n",
    "meanprops = {\"marker\": \"^\", \"markerfacecolor\": \"white\", \"markeredgecolor\": \"black\", \"markersize\": 10}\n",
    "ax = sns.boxplot(x=\"variable\", y=\"value\", data=df_quantifycost_melt_distancechange,showfliers=False,palette=\"husl\",showmeans=True,meanprops=meanprops)\n",
    "plt.xlabel(r'$\\delta^+_{localness}$', fontsize=16)\n",
    "plt.ylabel('Estimated order travel distance (km)', fontsize=14)\n",
    "ax.set_xticklabels([0,0.1,0.2,0.3,0.4,0.5,0.6,0.7,0.8,0.9,1])\n",
    "plt.savefig('./output/change_localness_distance.pdf', bbox_inches='tight')"
   ]
  },
  {
   "cell_type": "code",
   "execution_count": 28,
   "metadata": {},
   "outputs": [
    {
     "name": "stdout",
     "output_type": "stream",
     "text": [
      "4.727882 5.628681506053588\n",
      "2.8253269042968747 3.4722881844274975\n",
      "1.0313339843749998 1.657288739921169\n"
     ]
    }
   ],
   "source": [
    "print(df_quantifycost.pandana_distance_realdist.median(),df_quantifycost.pandana_distance_realdist.mean())\n",
    "print(df_quantifycost.estimate_dist1.median(),df_quantifycost.estimate_dist1.mean())\n",
    "print(df_quantifycost.estimate_dist10.median(),df_quantifycost.estimate_dist10.mean())"
   ]
  },
  {
   "cell_type": "code",
   "execution_count": 29,
   "metadata": {},
   "outputs": [
    {
     "name": "stdout",
     "output_type": "stream",
     "text": [
      "0.7301806687601872 0.6253035862098473\n"
     ]
    }
   ],
   "source": [
    "print(df_quantifycost.delta_percent10.median(),df_quantifycost.delta_percent10.mean())"
   ]
  },
  {
   "cell_type": "code",
   "execution_count": 30,
   "metadata": {},
   "outputs": [
    {
     "name": "stdout",
     "output_type": "stream",
     "text": [
      "0.3746964148193625\n",
      "5.628681506053588\n",
      "1.657288739921169\n"
     ]
    }
   ],
   "source": [
    "print(df_quantifycost.pandana_localness.mean())\n",
    "print(df_quantifycost.pandana_distance_realdist.mean())\n",
    "print(df_quantifycost.estimate_dist10.mean())"
   ]
  },
  {
   "cell_type": "code",
   "execution_count": null,
   "metadata": {},
   "outputs": [],
   "source": []
  },
  {
   "cell_type": "markdown",
   "metadata": {},
   "source": [
    "# OLS"
   ]
  },
  {
   "cell_type": "code",
   "execution_count": 31,
   "metadata": {},
   "outputs": [],
   "source": [
    "import statsmodels.api as sm"
   ]
  },
  {
   "cell_type": "code",
   "execution_count": 32,
   "metadata": {},
   "outputs": [
    {
     "data": {
      "text/plain": [
       "Index(['account_id', 'order_id', 'order_date', 'order_time', 'vendor_id', 'vendor_name', 'main_cuisine', 'vertical', 'delivery_fee_amount_lc', 'service_fee_amount_lc', 'basket_amount_lc', 'is_incentive_applied', 'incentive_amount_lc', 'pickup_id', 'customer_lon', 'customer_lat', 'vendor_lon', 'vendor_lat', 'order_time_hour', 'delivery_duration', 'total_duration', 'node_id', 'nearest_dist1', 'poi1', 'n_vertical', 'n_vendor_id', 'n_main_cuisine', 'n_vendor_name', 'n_vendor_lon', 'n_vendor_lat', 'vendor_index', 'pandana_distance_realdist', 'pandana_localness', 'speed', 'customer_loc_id', 'isweekend', 'price_per_item', 'entropy_0.5km', 'restaurant_count_0.5km', 'entropy_1km', 'poi_count_1km', 'entropy_2km', 'poi_count_2km', 'entropy_3km', 'poi_count_3km', 'entropy_4km', 'poi_count_4km', 'entropy_5km', 'poi_count_5km', 'restaurant_count_0.5_1km', 'restaurant_count_1_2km', 'restaurant_count_2_3km', 'restaurant_count_3_4km', 'restaurant_count_4_5km', 'estimated_rent', 'compensation',\n",
       "       'discounted delivery', 'free delivery', 'gem', 'item discount', 'menu discount', 'voucher wallet', 'incentives_type', 'incentive_delivery', 'incentive_menu_discount', 'incentive_voucher_wallet', 'rating', 'n_rating', 'consistency', 'total_orders'],\n",
       "      dtype='object')"
      ]
     },
     "execution_count": 32,
     "metadata": {},
     "output_type": "execute_result"
    }
   ],
   "source": [
    "df_localness.columns"
   ]
  },
  {
   "cell_type": "code",
   "execution_count": 33,
   "metadata": {},
   "outputs": [],
   "source": [
    "df_localness.rename(columns={\"restaurant_count_0.5_1km\": \"restaurant_count_05_1km\",\n",
    "                             \"entropy_0.5km\": \"entropy_05km\",\n",
    "                             \"restaurant_count_0.5km\": \"restaurant_count_05km\"\n",
    "                            }, inplace=True)"
   ]
  },
  {
   "cell_type": "code",
   "execution_count": 34,
   "metadata": {},
   "outputs": [],
   "source": [
    "df_localness['log_pandana_localness'] = np.log(df_localness['pandana_localness']+0.0000001)"
   ]
  },
  {
   "cell_type": "code",
   "execution_count": 11,
   "metadata": {},
   "outputs": [
    {
     "data": {
      "text/plain": [
       "count   2767286.00000\n",
       "mean    -1.79770     \n",
       "std     1.72109      \n",
       "min     -10.44724    \n",
       "25%     -2.35228     \n",
       "50%     -1.46777     \n",
       "75%     -0.67602     \n",
       "max     0.00000      \n",
       "Name: log_pandana_localness, dtype: float64"
      ]
     },
     "execution_count": 11,
     "metadata": {},
     "output_type": "execute_result"
    }
   ],
   "source": [
    "df_localness.log_pandana_localness.describe()"
   ]
  },
  {
   "cell_type": "code",
   "execution_count": 35,
   "metadata": {},
   "outputs": [
    {
     "name": "stdout",
     "output_type": "stream",
     "text": [
      "                            OLS Regression Results                            \n",
      "==============================================================================\n",
      "Dep. Variable:      pandana_localness   R-squared:                       0.265\n",
      "Model:                            OLS   Adj. R-squared:                  0.265\n",
      "Method:                 Least Squares   F-statistic:                 1.046e+04\n",
      "Date:                Fri, 13 Sep 2024   Prob (F-statistic):               0.00\n",
      "Time:                        10:03:40   Log-Likelihood:            -3.3651e+05\n",
      "No. Observations:             2782961   AIC:                         6.732e+05\n",
      "Df Residuals:                 2782864   BIC:                         6.745e+05\n",
      "Df Model:                          96                                         \n",
      "Covariance Type:            nonrobust                                         \n",
      "=======================================================================================================\n",
      "                                          coef    std err          t      P>|t|      [0.025      0.975]\n",
      "-------------------------------------------------------------------------------------------------------\n",
      "Intercept                              -0.8412      0.137     -6.121      0.000      -1.111      -0.572\n",
      "C(isweekend)[T.Yes]                    -0.0113      0.000    -31.751      0.000      -0.012      -0.011\n",
      "C(incentive_delivery)[T.True]          -0.0388      0.001    -52.300      0.000      -0.040      -0.037\n",
      "C(incentive_menu_discount)[T.True]      0.0080      0.001     14.835      0.000       0.007       0.009\n",
      "C(incentive_voucher_wallet)[T.True]    -0.0077      0.001     -8.373      0.000      -0.010      -0.006\n",
      "C(rating)[T.2.Very good]               -0.0063      0.000    -15.834      0.000      -0.007      -0.006\n",
      "C(rating)[T.3.Good]                    -0.0043      0.001     -3.205      0.001      -0.007      -0.002\n",
      "C(rating)[T.4.OK]                       0.0245      0.014      1.690      0.091      -0.004       0.053\n",
      "C(rating)[T.5.None]                     0.0526      0.001     95.464      0.000       0.051       0.054\n",
      "C(n_rating)[T.2.Very good]             -0.0036      0.000     -8.427      0.000      -0.004      -0.003\n",
      "C(n_rating)[T.3.Good]                   0.0032      0.001      3.393      0.001       0.001       0.005\n",
      "C(n_rating)[T.4.OK]                    -0.0779      0.006    -13.216      0.000      -0.089      -0.066\n",
      "C(n_rating)[T.5.None]                   0.0006      0.001      1.121      0.262      -0.000       0.002\n",
      "C(main_cuisine)[T.afghani]              0.1954      0.005     41.542      0.000       0.186       0.205\n",
      "C(main_cuisine)[T.african]              0.1488      0.004     34.001      0.000       0.140       0.157\n",
      "C(main_cuisine)[T.american]            -0.0817      0.002    -35.257      0.000      -0.086      -0.077\n",
      "C(main_cuisine)[T.arabic]              -0.2102      0.002    -97.997      0.000      -0.214      -0.206\n",
      "C(main_cuisine)[T.argentinian]          0.4319      0.039     10.942      0.000       0.355       0.509\n",
      "C(main_cuisine)[T.asian]               -0.1233      0.003    -49.100      0.000      -0.128      -0.118\n",
      "C(main_cuisine)[T.bbq]                 -0.2012      0.002    -89.572      0.000      -0.206      -0.197\n",
      "C(main_cuisine)[T.bowls]                0.2365      0.006     42.703      0.000       0.226       0.247\n",
      "C(main_cuisine)[T.brazilian]            0.4691      0.013     37.034      0.000       0.444       0.494\n",
      "C(main_cuisine)[T.breakfast]           -0.1337      0.002    -55.240      0.000      -0.138      -0.129\n",
      "C(main_cuisine)[T.british]              0.3679      0.015     24.278      0.000       0.338       0.398\n",
      "C(main_cuisine)[T.chicken]              0.2028      0.004     48.129      0.000       0.195       0.211\n",
      "C(main_cuisine)[T.chinese]             -0.0667      0.002    -28.474      0.000      -0.071      -0.062\n",
      "C(main_cuisine)[T.coffee]              -0.1904      0.002    -86.964      0.000      -0.195      -0.186\n",
      "C(main_cuisine)[T.dessert]             -0.2422      0.002   -111.052      0.000      -0.247      -0.238\n",
      "C(main_cuisine)[T.egyptian]            -0.0449      0.002    -18.678      0.000      -0.050      -0.040\n",
      "C(main_cuisine)[T.emirati]             -0.0263      0.003     -8.954      0.000      -0.032      -0.021\n",
      "C(main_cuisine)[T.european]             0.2858      0.007     41.385      0.000       0.272       0.299\n",
      "C(main_cuisine)[T.fast food]           -0.2769      0.002   -130.704      0.000      -0.281      -0.273\n",
      "C(main_cuisine)[T.filipino]             0.0471      0.003     17.656      0.000       0.042       0.052\n",
      "C(main_cuisine)[T.french]               0.5313      0.031     17.254      0.000       0.471       0.592\n",
      "C(main_cuisine)[T.georgian]             0.4106      0.013     32.582      0.000       0.386       0.435\n",
      "C(main_cuisine)[T.gluten free]          0.4285      0.019     22.438      0.000       0.391       0.466\n",
      "C(main_cuisine)[T.greek]                0.2665      0.009     31.261      0.000       0.250       0.283\n",
      "C(main_cuisine)[T.healthy]             -0.1716      0.002    -77.268      0.000      -0.176      -0.167\n",
      "C(main_cuisine)[T.indian]              -0.2724      0.002   -126.314      0.000      -0.277      -0.268\n",
      "C(main_cuisine)[T.indonesian]           0.4076      0.007     62.607      0.000       0.395       0.420\n",
      "C(main_cuisine)[T.international]       -0.0084      0.003     -3.325      0.001      -0.013      -0.003\n",
      "C(main_cuisine)[T.iranian]              0.0454      0.003     14.920      0.000       0.039       0.051\n",
      "C(main_cuisine)[T.iraqi]                0.5358      0.017     31.034      0.000       0.502       0.570\n",
      "C(main_cuisine)[T.italian]             -0.1319      0.002    -55.891      0.000      -0.137      -0.127\n",
      "C(main_cuisine)[T.japanese]            -0.0834      0.002    -35.039      0.000      -0.088      -0.079\n",
      "C(main_cuisine)[T.jordanian]            0.2510      0.004     56.752      0.000       0.242       0.260\n",
      "C(main_cuisine)[T.keto]                 0.1736      0.006     28.520      0.000       0.162       0.186\n",
      "C(main_cuisine)[T.korean]               0.2787      0.005     54.478      0.000       0.269       0.289\n",
      "C(main_cuisine)[T.kuwaiti]              0.3922      0.011     35.370      0.000       0.371       0.414\n",
      "C(main_cuisine)[T.latin american]       0.4424      0.079      5.610      0.000       0.288       0.597\n",
      "C(main_cuisine)[T.lebanese]            -0.1192      0.002    -53.995      0.000      -0.123      -0.115\n",
      "C(main_cuisine)[T.mediterranean]        0.2669      0.009     30.561      0.000       0.250       0.284\n",
      "C(main_cuisine)[T.mexican]              0.0727      0.003     25.136      0.000       0.067       0.078\n",
      "C(main_cuisine)[T.middle eastern]       0.2967      0.010     29.114      0.000       0.277       0.317\n",
      "C(main_cuisine)[T.mongolian]            0.5435      0.012     44.352      0.000       0.520       0.568\n",
      "C(main_cuisine)[T.moroccan]             0.2688      0.003     78.074      0.000       0.262       0.276\n",
      "C(main_cuisine)[T.nepalese]             0.3741      0.007     56.201      0.000       0.361       0.387\n",
      "C(main_cuisine)[T.pakistani]           -0.0277      0.003    -10.807      0.000      -0.033      -0.023\n",
      "C(main_cuisine)[T.palestinian]          0.1365      0.003     50.028      0.000       0.131       0.142\n",
      "C(main_cuisine)[T.peruvian]             0.5231      0.079      6.634      0.000       0.369       0.678\n",
      "C(main_cuisine)[T.portuguese]           0.4805      0.033     14.690      0.000       0.416       0.545\n",
      "C(main_cuisine)[T.russian]              0.2052      0.003     72.814      0.000       0.200       0.211\n",
      "C(main_cuisine)[T.salad]               -0.0218      0.003     -7.406      0.000      -0.028      -0.016\n",
      "C(main_cuisine)[T.saudi]                0.3527      0.006     59.204      0.000       0.341       0.364\n",
      "C(main_cuisine)[T.seafood]             -0.1079      0.003    -41.254      0.000      -0.113      -0.103\n",
      "C(main_cuisine)[T.singaporean]          0.4354      0.013     33.587      0.000       0.410       0.461\n",
      "C(main_cuisine)[T.sliders]              0.4042      0.018     22.534      0.000       0.369       0.439\n",
      "C(main_cuisine)[T.soup]                 0.2668      0.005     58.928      0.000       0.258       0.276\n",
      "C(main_cuisine)[T.spanish]              0.6108      0.193      3.163      0.002       0.232       0.989\n",
      "C(main_cuisine)[T.specialty store]      0.5208      0.049     10.608      0.000       0.425       0.617\n",
      "C(main_cuisine)[T.syrian]               0.3622      0.008     43.387      0.000       0.346       0.379\n",
      "C(main_cuisine)[T.thai]                 0.0679      0.004     19.034      0.000       0.061       0.075\n",
      "C(main_cuisine)[T.tunisian]             0.5191      0.005     94.972      0.000       0.508       0.530\n",
      "C(main_cuisine)[T.turkish]             -0.0235      0.003     -8.416      0.000      -0.029      -0.018\n",
      "C(main_cuisine)[T.uzbek]                0.2144      0.004     50.664      0.000       0.206       0.223\n",
      "C(main_cuisine)[T.vegetarian]           0.1631      0.006     29.573      0.000       0.152       0.174\n",
      "C(main_cuisine)[T.vietnamese]           0.3249      0.006     52.864      0.000       0.313       0.337\n",
      "C(main_cuisine)[T.yemeni]              -0.0662      0.003    -25.153      0.000      -0.071      -0.061\n",
      "customer_lon                            0.0761      0.003     22.292      0.000       0.069       0.083\n",
      "customer_lat                           -0.0841      0.003    -25.532      0.000      -0.091      -0.078\n",
      "order_time_hour                        -0.0039      3e-05   -128.413      0.000      -0.004      -0.004\n",
      "total_duration                         -0.0060    1.2e-05   -503.001      0.000      -0.006      -0.006\n",
      "estimated_rent                          0.0004   5.53e-06     73.163      0.000       0.000       0.000\n",
      "entropy_05km                           -0.1744      0.001   -164.417      0.000      -0.176      -0.172\n",
      "entropy_2km                            -0.2686      0.002   -126.511      0.000      -0.273      -0.264\n",
      "entropy_5km                            -0.2968      0.004    -79.996      0.000      -0.304      -0.290\n",
      "consistency                            -0.0091      0.001    -16.588      0.000      -0.010      -0.008\n",
      "total_orders                           -0.0003   1.23e-05    -21.146      0.000      -0.000      -0.000\n",
      "incentive_amount_lc                    -0.0005   1.74e-05    -25.888      0.000      -0.000      -0.000\n",
      "restaurant_count_05km                  -0.0005   7.16e-06    -67.176      0.000      -0.000      -0.000\n",
      "restaurant_count_05_1km             -8.286e-05   3.71e-06    -22.359      0.000   -9.01e-05   -7.56e-05\n",
      "restaurant_count_1_2km               1.566e-05      2e-06      7.818      0.000    1.17e-05    1.96e-05\n",
      "restaurant_count_2_3km               6.046e-05   1.65e-06     36.704      0.000    5.72e-05    6.37e-05\n",
      "restaurant_count_3_4km               1.617e-07   1.55e-06      0.104      0.917   -2.89e-06    3.21e-06\n",
      "restaurant_count_4_5km              -1.254e-05   1.39e-06     -9.037      0.000   -1.53e-05   -9.82e-06\n",
      "basket_amount_lc                        0.0002   3.43e-06     53.209      0.000       0.000       0.000\n",
      "price_per_item                          0.0002   1.28e-05     13.332      0.000       0.000       0.000\n",
      "==============================================================================\n",
      "Omnibus:                   221939.094   Durbin-Watson:                   1.401\n",
      "Prob(Omnibus):                  0.000   Jarque-Bera (JB):           280338.547\n",
      "Skew:                           0.777   Prob(JB):                         0.00\n",
      "Kurtosis:                       3.028   Cond. No.                     5.25e+05\n",
      "==============================================================================\n",
      "\n",
      "Notes:\n",
      "[1] Standard Errors assume that the covariance matrix of the errors is correctly specified.\n",
      "[2] The condition number is large, 5.25e+05. This might indicate that there are\n",
      "strong multicollinearity or other numerical problems.\n",
      "CPU times: user 4min 54s, sys: 2min 17s, total: 7min 12s\n",
      "Wall time: 1min 6s\n"
     ]
    }
   ],
   "source": [
    "%%time\n",
    "from statsmodels.formula.api import ols\n",
    "\n",
    "# Fit the linear regression model\n",
    "model = ols('pandana_localness ~ customer_lon + customer_lat + order_time_hour + total_duration + estimated_rent +  entropy_05km+ entropy_2km + entropy_5km + consistency + \\\n",
    "total_orders + incentive_amount_lc +  restaurant_count_05km + restaurant_count_05_1km + restaurant_count_1_2km + restaurant_count_2_3km + \\\n",
    "restaurant_count_3_4km + restaurant_count_4_5km + basket_amount_lc + price_per_item + C(isweekend) + C(incentive_delivery) + C(incentive_menu_discount) + \\\n",
    "C(incentive_voucher_wallet) + C(rating) + C(n_rating) + C(main_cuisine)', data=df_localness).fit()\n",
    "\n",
    "# Print the model summary with significance levels\n",
    "print(model.summary())"
   ]
  },
  {
   "cell_type": "code",
   "execution_count": 17,
   "metadata": {},
   "outputs": [],
   "source": [
    "# %%time\n",
    "# from statsmodels.formula.api import ols\n",
    "\n",
    "# # Fit the linear regression model\n",
    "# model = ols('log_pandana_localness ~ order_time_hour + total_duration + estimated_rent +  entropy_05km+ entropy_2km + entropy_5km + consistency + \\\n",
    "# total_orders + incentive_amount_lc +  restaurant_count_05km + restaurant_count_05_1km + restaurant_count_1_2km + restaurant_count_2_3km + \\\n",
    "# restaurant_count_3_4km + restaurant_count_4_5km + basket_amount_lc + price_per_item + C(isweekend) + C(incentive_delivery) + C(incentive_menu_discount) + \\\n",
    "# C(incentive_voucher_wallet) + C(rating) + C(n_rating) + C(main_cuisine)', data=df_localness).fit()\n",
    "\n",
    "# # Print the model summary with significance levels\n",
    "# print(model.summary())"
   ]
  },
  {
   "cell_type": "code",
   "execution_count": 12,
   "metadata": {},
   "outputs": [
    {
     "data": {
      "text/plain": [
       "2.Very good    1593856\n",
       "1.Amazing      737925 \n",
       "5.None         388748 \n",
       "3.Good         46401  \n",
       "4.OK           356    \n",
       "Name: rating, dtype: int64"
      ]
     },
     "execution_count": 12,
     "metadata": {},
     "output_type": "execute_result"
    }
   ],
   "source": [
    "# df_localness.rating.value_counts()"
   ]
  },
  {
   "cell_type": "code",
   "execution_count": 13,
   "metadata": {},
   "outputs": [
    {
     "data": {
      "text/plain": [
       "2.Very good    1490883\n",
       "5.None         574897 \n",
       "1.Amazing      563732 \n",
       "3.Good         130681 \n",
       "4.OK           7093   \n",
       "Name: n_rating, dtype: int64"
      ]
     },
     "execution_count": 13,
     "metadata": {},
     "output_type": "execute_result"
    }
   ],
   "source": [
    "# df_localness.n_rating.value_counts()"
   ]
  },
  {
   "cell_type": "code",
   "execution_count": null,
   "metadata": {},
   "outputs": [],
   "source": []
  },
  {
   "cell_type": "code",
   "execution_count": null,
   "metadata": {},
   "outputs": [],
   "source": []
  },
  {
   "cell_type": "code",
   "execution_count": null,
   "metadata": {},
   "outputs": [],
   "source": []
  },
  {
   "cell_type": "code",
   "execution_count": null,
   "metadata": {},
   "outputs": [],
   "source": []
  },
  {
   "cell_type": "code",
   "execution_count": null,
   "metadata": {},
   "outputs": [],
   "source": []
  },
  {
   "cell_type": "code",
   "execution_count": null,
   "metadata": {},
   "outputs": [],
   "source": []
  },
  {
   "cell_type": "code",
   "execution_count": null,
   "metadata": {},
   "outputs": [],
   "source": []
  },
  {
   "cell_type": "code",
   "execution_count": null,
   "metadata": {},
   "outputs": [],
   "source": []
  },
  {
   "cell_type": "code",
   "execution_count": null,
   "metadata": {},
   "outputs": [],
   "source": []
  },
  {
   "cell_type": "code",
   "execution_count": null,
   "metadata": {},
   "outputs": [],
   "source": []
  },
  {
   "cell_type": "code",
   "execution_count": null,
   "metadata": {},
   "outputs": [],
   "source": []
  },
  {
   "cell_type": "code",
   "execution_count": null,
   "metadata": {},
   "outputs": [],
   "source": []
  }
 ],
 "metadata": {
  "kernelspec": {
   "display_name": "python3.8",
   "language": "python",
   "name": "python3.8"
  },
  "language_info": {
   "codemirror_mode": {
    "name": "ipython",
    "version": 3
   },
   "file_extension": ".py",
   "mimetype": "text/x-python",
   "name": "python",
   "nbconvert_exporter": "python",
   "pygments_lexer": "ipython3",
   "version": "3.8.5"
  }
 },
 "nbformat": 4,
 "nbformat_minor": 2
}
