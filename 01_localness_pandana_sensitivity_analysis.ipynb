{
 "cells": [
  {
   "cell_type": "code",
   "execution_count": 2,
   "metadata": {},
   "outputs": [
    {
     "name": "stderr",
     "output_type": "stream",
     "text": [
      "/home/rongxiang/.local/lib/python3.8/site-packages/pandas/core/computation/expressions.py:20: UserWarning: Pandas requires version '2.7.3' or newer of 'numexpr' (version '2.7.1' currently installed).\n",
      "  from pandas.core.computation.check import NUMEXPR_INSTALLED\n"
     ]
    }
   ],
   "source": [
    "import numpy as np\n",
    "import pandas as pd\n",
    "# %pip install osmnet\n",
    "import pandana\n",
    "# print(pandana.__version__)\n",
    "import datetime\n",
    "import traceback\n",
    "import os \n",
    "\n",
    "pd.set_option(\"display.max_colwidth\", 0)\n",
    "pd.set_option(\"display.max_rows\", 500)\n",
    "pd.set_option(\"display.max_columns\", 500)\n",
    "pd.set_option(\"display.width\", 1000)\n",
    "pd.options.display.float_format = '{:.5f}'.format\n",
    "import warnings\n",
    "warnings.filterwarnings(\"ignore\")"
   ]
  },
  {
   "cell_type": "code",
   "execution_count": 18,
   "metadata": {},
   "outputs": [
    {
     "data": {
      "application/javascript": [
       "IPython.notebook.set_autosave_interval(5000)"
      ]
     },
     "metadata": {},
     "output_type": "display_data"
    },
    {
     "name": "stdout",
     "output_type": "stream",
     "text": [
      "Autosaving every 5 seconds\n"
     ]
    }
   ],
   "source": [
    "import sys\n",
    "import logging\n",
    "\n",
    "nblog = open(\"./logs/localness_pandana_\"+str(datetime.datetime.now())+\".log\", \"a+\")\n",
    "sys.stdout.echo = nblog\n",
    "sys.stderr.echo = nblog\n",
    "\n",
    "get_ipython().log.handlers[0].stream = nblog\n",
    "get_ipython().log.setLevel(logging.INFO)\n",
    "\n",
    "%autosave 5"
   ]
  },
  {
   "cell_type": "markdown",
   "metadata": {},
   "source": [
    "# Load order and vendor data"
   ]
  },
  {
   "cell_type": "code",
   "execution_count": 6,
   "metadata": {},
   "outputs": [
    {
     "name": "stdout",
     "output_type": "stream",
     "text": [
      "total food orders: 2920065\n",
      "2920065\n",
      "CPU times: user 8.55 s, sys: 3.59 s, total: 12.1 s\n",
      "Wall time: 14.1 s\n"
     ]
    }
   ],
   "source": [
    "%%time\n",
    "df_order = pd.read_csv(\"./data/Dubai_all_delivery_202310.csv\", sep=\",\", header=0)\n",
    "df_order = df_order[~df_order.vendor_id.isin([677914,690257])] # these vendor's location is problematic so exclude it \n",
    "df_order =  df_order[df_order.vertical=='food'] # select food order only; Grocery orders are not so reliable because Talabat mostly only deliver groceries from their own warehouses\n",
    "print('total food orders:',df_order.shape[0])\n",
    "print(df_order.shape[0])"
   ]
  },
  {
   "cell_type": "code",
   "execution_count": 10,
   "metadata": {},
   "outputs": [
    {
     "name": "stdout",
     "output_type": "stream",
     "text": [
      "123\n"
     ]
    },
    {
     "data": {
      "text/html": [
       "<div>\n",
       "<style scoped>\n",
       "    .dataframe tbody tr th:only-of-type {\n",
       "        vertical-align: middle;\n",
       "    }\n",
       "\n",
       "    .dataframe tbody tr th {\n",
       "        vertical-align: top;\n",
       "    }\n",
       "\n",
       "    .dataframe thead th {\n",
       "        text-align: right;\n",
       "    }\n",
       "</style>\n",
       "<table border=\"1\" class=\"dataframe\">\n",
       "  <thead>\n",
       "    <tr style=\"text-align: right;\">\n",
       "      <th></th>\n",
       "      <th>vertical</th>\n",
       "      <th>vendor_id</th>\n",
       "      <th>main_cuisine</th>\n",
       "      <th>vendor_name</th>\n",
       "      <th>vendor_lon</th>\n",
       "      <th>vendor_lat</th>\n",
       "      <th>vendor_index</th>\n",
       "    </tr>\n",
       "  </thead>\n",
       "  <tbody>\n",
       "    <tr>\n",
       "      <th>0</th>\n",
       "      <td>food</td>\n",
       "      <td>682312</td>\n",
       "      <td>coffee</td>\n",
       "      <td>Starbucks, Al Jada</td>\n",
       "      <td>55.48008</td>\n",
       "      <td>25.31986</td>\n",
       "      <td>0</td>\n",
       "    </tr>\n",
       "    <tr>\n",
       "      <th>1</th>\n",
       "      <td>food</td>\n",
       "      <td>663746</td>\n",
       "      <td>emirati</td>\n",
       "      <td>Harees &amp; Mahashi, Al Mujarah</td>\n",
       "      <td>55.39292</td>\n",
       "      <td>25.36944</td>\n",
       "      <td>1</td>\n",
       "    </tr>\n",
       "  </tbody>\n",
       "</table>\n",
       "</div>"
      ],
      "text/plain": [
       "  vertical  vendor_id main_cuisine                   vendor_name  vendor_lon  vendor_lat  vendor_index\n",
       "0  food     682312     coffee       Starbucks, Al Jada           55.48008    25.31986     0           \n",
       "1  food     663746     emirati      Harees & Mahashi, Al Mujarah 55.39292    25.36944     1           "
      ]
     },
     "execution_count": 10,
     "metadata": {},
     "output_type": "execute_result"
    }
   ],
   "source": [
    "df_vendor = pd.read_csv('./data/all_vendor_oct.csv',header=0)\n",
    "df_vendor = df_vendor[df_vendor.vertical=='food']\n",
    "df_vendor['vendor_index'] = df_vendor.index\n",
    "print(df_vendor.main_cuisine.unique().shape[0])\n",
    "df_vendor.head(2)"
   ]
  },
  {
   "cell_type": "code",
   "execution_count": 24,
   "metadata": {},
   "outputs": [
    {
     "name": "stdout",
     "output_type": "stream",
     "text": [
      "2025-03-17 15:23:04.405513 categorized_10 **************************************************\n",
      "unique types of cuisine: 9\n",
      "unique types of cuisine: 9\n",
      "2025-03-17 15:23:19.891028 Hour: 0 , total orders in this hour: 72378\n",
      "Number of available restaurants: 3341 3341\n",
      "2025-03-17 15:23:29.681694 Hour: 1 , total orders in this hour: 49848\n",
      "Number of available restaurants: 2709 2709\n",
      "2025-03-17 15:23:39.469032 Hour: 2 , total orders in this hour: 33304\n",
      "Number of available restaurants: 2103 2103\n",
      "2025-03-17 15:23:48.716393 Hour: 3 , total orders in this hour: 21535\n",
      "Number of available restaurants: 1492 1492\n",
      "2025-03-17 15:23:57.146042 Hour: 4 , total orders in this hour: 16240\n",
      "Number of available restaurants: 1132 1132\n",
      "2025-03-17 15:24:06.054366 Hour: 5 , total orders in this hour: 12167\n",
      "Number of available restaurants: 1058 1058\n",
      "2025-03-17 15:24:14.465009 Hour: 6 , total orders in this hour: 12989\n",
      "Number of available restaurants: 1041 1041\n",
      "2025-03-17 15:24:22.562721 Hour: 7 , total orders in this hour: 27611\n",
      "Number of available restaurants: 1562 1562\n",
      "2025-03-17 15:24:31.143947 Hour: 8 , total orders in this hour: 60346\n",
      "Number of available restaurants: 2440 2440\n",
      "2025-03-17 15:24:40.984004 Hour: 9 , total orders in this hour: 81523\n",
      "Number of available restaurants: 3032 3032\n",
      "2025-03-17 15:24:51.409647 Hour: 10 , total orders in this hour: 93640\n",
      "Number of available restaurants: 4097 4097\n",
      "2025-03-17 15:25:01.652079 Hour: 11 , total orders in this hour: 135676\n",
      "Number of available restaurants: 5689 5689\n",
      "2025-03-17 15:25:12.785065 Hour: 12 , total orders in this hour: 205737\n",
      "Number of available restaurants: 6689 6689\n",
      "2025-03-17 15:25:25.393608 Hour: 13 , total orders in this hour: 217752\n",
      "Number of available restaurants: 6844 6844\n",
      "2025-03-17 15:25:38.266822 Hour: 14 , total orders in this hour: 192542\n",
      "Number of available restaurants: 6814 6814\n",
      "2025-03-17 15:25:50.859937 Hour: 15 , total orders in this hour: 169921\n",
      "Number of available restaurants: 6670 6670\n",
      "2025-03-17 15:26:02.823959 Hour: 16 , total orders in this hour: 159401\n",
      "Number of available restaurants: 6548 6548\n",
      "2025-03-17 15:26:14.975846 Hour: 17 , total orders in this hour: 165187\n",
      "Number of available restaurants: 6532 6532\n",
      "2025-03-17 15:26:27.387244 Hour: 18 , total orders in this hour: 213923\n",
      "Number of available restaurants: 6808 6808\n",
      "2025-03-17 15:26:40.322314 Hour: 19 , total orders in this hour: 257187\n",
      "Number of available restaurants: 6948 6948\n",
      "2025-03-17 15:26:53.555697 Hour: 20 , total orders in this hour: 252441\n",
      "Number of available restaurants: 6927 6927\n",
      "2025-03-17 15:27:07.262143 Hour: 21 , total orders in this hour: 203732\n",
      "Number of available restaurants: 6786 6786\n",
      "2025-03-17 15:27:19.919846 Hour: 22 , total orders in this hour: 157684\n",
      "Number of available restaurants: 6192 6192\n",
      "2025-03-17 15:27:31.879341 Hour: 23 , total orders in this hour: 107151\n",
      "Number of available restaurants: 5073 5073\n",
      "2025-03-17 15:27:42.689820 categorized_30 **************************************************\n",
      "unique types of cuisine: 31\n",
      "unique types of cuisine: 31\n",
      "2025-03-17 15:27:58.341817 Hour: 0 , total orders in this hour: 72378\n",
      "Number of available restaurants: 3341 3341\n",
      "2025-03-17 15:28:20.500382 Hour: 1 , total orders in this hour: 49848\n",
      "Number of available restaurants: 2709 2709\n",
      "2025-03-17 15:28:40.607836 Hour: 2 , total orders in this hour: 33304\n",
      "Number of available restaurants: 2103 2103\n",
      "2025-03-17 15:29:00.744455 Hour: 3 , total orders in this hour: 21535\n",
      "Number of available restaurants: 1492 1492\n",
      "2025-03-17 15:29:18.601918 Hour: 4 , total orders in this hour: 16240\n",
      "Number of available restaurants: 1132 1132\n",
      "2025-03-17 15:29:36.524338 Hour: 5 , total orders in this hour: 12167\n",
      "Number of available restaurants: 1058 1058\n",
      "2025-03-17 15:29:54.576017 Hour: 6 , total orders in this hour: 12989\n",
      "Number of available restaurants: 1041 1041\n",
      "2025-03-17 15:30:12.074169 Hour: 7 , total orders in this hour: 27611\n",
      "Number of available restaurants: 1562 1562\n",
      "2025-03-17 15:30:30.489276 Hour: 8 , total orders in this hour: 60346\n",
      "Number of available restaurants: 2440 2440\n",
      "2025-03-17 15:30:50.842660 Hour: 9 , total orders in this hour: 81523\n",
      "Number of available restaurants: 3032 3032\n",
      "2025-03-17 15:31:11.900070 Hour: 10 , total orders in this hour: 93640\n",
      "Number of available restaurants: 4097 4097\n",
      "2025-03-17 15:31:34.910413 Hour: 11 , total orders in this hour: 135676\n",
      "Number of available restaurants: 5689 5689\n",
      "2025-03-17 15:32:00.539076 Hour: 12 , total orders in this hour: 205737\n",
      "Number of available restaurants: 6689 6689\n",
      "2025-03-17 15:32:25.650056 Hour: 13 , total orders in this hour: 217752\n",
      "Number of available restaurants: 6844 6844\n",
      "2025-03-17 15:32:52.759957 Hour: 14 , total orders in this hour: 192542\n",
      "Number of available restaurants: 6814 6814\n",
      "2025-03-17 15:33:19.244707 Hour: 15 , total orders in this hour: 169921\n",
      "Number of available restaurants: 6670 6670\n",
      "2025-03-17 15:33:45.981114 Hour: 16 , total orders in this hour: 159401\n",
      "Number of available restaurants: 6548 6548\n",
      "2025-03-17 15:34:10.965623 Hour: 17 , total orders in this hour: 165187\n",
      "Number of available restaurants: 6532 6532\n",
      "2025-03-17 15:34:36.530888 Hour: 18 , total orders in this hour: 213923\n",
      "Number of available restaurants: 6808 6808\n",
      "2025-03-17 15:35:03.205914 Hour: 19 , total orders in this hour: 257187\n",
      "Number of available restaurants: 6948 6948\n",
      "2025-03-17 15:35:30.751516 Hour: 20 , total orders in this hour: 252441\n",
      "Number of available restaurants: 6927 6927\n",
      "2025-03-17 15:35:58.087167 Hour: 21 , total orders in this hour: 203732\n",
      "Number of available restaurants: 6786 6786\n",
      "2025-03-17 15:36:25.065050 Hour: 22 , total orders in this hour: 157684\n",
      "Number of available restaurants: 6192 6192\n",
      "2025-03-17 15:36:49.881740 Hour: 23 , total orders in this hour: 107151\n",
      "Number of available restaurants: 5073 5073\n",
      "2025-03-17 15:37:12.723142 categorized_50 **************************************************\n",
      "unique types of cuisine: 52\n",
      "unique types of cuisine: 52\n",
      "2025-03-17 15:37:28.204637 Hour: 0 , total orders in this hour: 72378\n",
      "Number of available restaurants: 3341 3341\n",
      "2025-03-17 15:38:00.462889 Hour: 1 , total orders in this hour: 49848\n",
      "Number of available restaurants: 2709 2709\n",
      "2025-03-17 15:38:29.835446 Hour: 2 , total orders in this hour: 33304\n",
      "Number of available restaurants: 2103 2103\n",
      "2025-03-17 15:38:58.158111 Hour: 3 , total orders in this hour: 21535\n",
      "Number of available restaurants: 1492 1492\n",
      "2025-03-17 15:39:23.618658 Hour: 4 , total orders in this hour: 16240\n",
      "Number of available restaurants: 1132 1132\n",
      "2025-03-17 15:39:46.954736 Hour: 5 , total orders in this hour: 12167\n",
      "Number of available restaurants: 1058 1058\n",
      "2025-03-17 15:40:11.771882 Hour: 6 , total orders in this hour: 12989\n",
      "Number of available restaurants: 1041 1041\n",
      "2025-03-17 15:40:36.569508 Hour: 7 , total orders in this hour: 27611\n",
      "Number of available restaurants: 1562 1562\n",
      "2025-03-17 15:41:03.983651 Hour: 8 , total orders in this hour: 60346\n",
      "Number of available restaurants: 2440 2440\n",
      "2025-03-17 15:41:32.408620 Hour: 9 , total orders in this hour: 81523\n",
      "Number of available restaurants: 3032 3032\n",
      "2025-03-17 15:42:02.112708 Hour: 10 , total orders in this hour: 93640\n",
      "Number of available restaurants: 4097 4097\n",
      "2025-03-17 15:42:35.480220 Hour: 11 , total orders in this hour: 135676\n",
      "Number of available restaurants: 5689 5689\n",
      "2025-03-17 15:43:11.203778 Hour: 12 , total orders in this hour: 205737\n",
      "Number of available restaurants: 6689 6689\n",
      "2025-03-17 15:43:48.383100 Hour: 13 , total orders in this hour: 217752\n",
      "Number of available restaurants: 6844 6844\n",
      "2025-03-17 15:44:27.914617 Hour: 14 , total orders in this hour: 192542\n",
      "Number of available restaurants: 6814 6814\n",
      "2025-03-17 15:45:06.570605 Hour: 15 , total orders in this hour: 169921\n",
      "Number of available restaurants: 6670 6670\n",
      "2025-03-17 15:45:42.824714 Hour: 16 , total orders in this hour: 159401\n",
      "Number of available restaurants: 6548 6548\n",
      "2025-03-17 15:46:18.809067 Hour: 17 , total orders in this hour: 165187\n",
      "Number of available restaurants: 6532 6532\n",
      "2025-03-17 15:46:55.345220 Hour: 18 , total orders in this hour: 213923\n",
      "Number of available restaurants: 6808 6808\n",
      "2025-03-17 15:47:34.676054 Hour: 19 , total orders in this hour: 257187\n",
      "Number of available restaurants: 6948 6948\n",
      "2025-03-17 15:48:13.856287 Hour: 20 , total orders in this hour: 252441\n",
      "Number of available restaurants: 6927 6927\n",
      "2025-03-17 15:48:52.611821 Hour: 21 , total orders in this hour: 203732\n",
      "Number of available restaurants: 6786 6786\n",
      "2025-03-17 15:49:29.323737 Hour: 22 , total orders in this hour: 157684\n",
      "Number of available restaurants: 6192 6192\n",
      "2025-03-17 15:50:06.320268 Hour: 23 , total orders in this hour: 107151\n",
      "Number of available restaurants: 5073 5073\n",
      "2025-03-17 15:50:39.662753 categorized_70 **************************************************\n",
      "unique types of cuisine: 70\n",
      "unique types of cuisine: 70\n",
      "2025-03-17 15:50:54.939715 Hour: 0 , total orders in this hour: 72378\n",
      "Number of available restaurants: 3341 3341\n",
      "2025-03-17 15:51:36.089566 Hour: 1 , total orders in this hour: 49848\n",
      "Number of available restaurants: 2709 2709\n",
      "2025-03-17 15:52:11.581788 Hour: 2 , total orders in this hour: 33304\n",
      "Number of available restaurants: 2103 2103\n",
      "2025-03-17 15:52:45.207950 Hour: 3 , total orders in this hour: 21535\n",
      "Number of available restaurants: 1492 1492\n",
      "2025-03-17 15:53:14.177637 Hour: 4 , total orders in this hour: 16240\n",
      "Number of available restaurants: 1132 1132\n",
      "2025-03-17 15:53:40.359689 Hour: 5 , total orders in this hour: 12167\n",
      "Number of available restaurants: 1058 1058\n",
      "2025-03-17 15:54:08.084579 Hour: 6 , total orders in this hour: 12989\n",
      "Number of available restaurants: 1041 1041\n",
      "2025-03-17 15:54:35.445306 Hour: 7 , total orders in this hour: 27611\n",
      "Number of available restaurants: 1562 1562\n",
      "2025-03-17 15:55:05.588165 Hour: 8 , total orders in this hour: 60346\n",
      "Number of available restaurants: 2440 2440\n",
      "2025-03-17 15:55:38.910247 Hour: 9 , total orders in this hour: 81523\n",
      "Number of available restaurants: 3032 3032\n",
      "2025-03-17 15:56:14.460227 Hour: 10 , total orders in this hour: 93640\n",
      "Number of available restaurants: 4097 4097\n"
     ]
    },
    {
     "name": "stderr",
     "output_type": "stream",
     "text": [
      "Traceback (most recent call last):\n",
      "  File \"<timed exec>\", line 84, in <module>\n",
      "  File \"/home/rongxiang/.local/lib/python3.8/site-packages/pandana/network.py\", line 590, in get_node_ids\n",
      "    distances, indexes = self.kdtree.query(xys.values)\n",
      "  File \"sklearn/neighbors/_binary_tree.pxi\", line 1106, in sklearn.neighbors._kd_tree.BinaryTree.query\n",
      "  File \"/home/rongxiang/.local/lib/python3.8/site-packages/sklearn/utils/validation.py\", line 967, in check_array\n",
      "    raise ValueError(\n",
      "ValueError: Found array with 0 sample(s) (shape=(0, 2)) while a minimum of 1 is required.\n"
     ]
    },
    {
     "name": "stdout",
     "output_type": "stream",
     "text": [
      "Turkish Street Food\n",
      "2025-03-17 15:56:53.977703 Hour: 11 , total orders in this hour: 135676\n",
      "Number of available restaurants: 5689 5689\n",
      "2025-03-17 15:57:36.299372 Hour: 12 , total orders in this hour: 205737\n",
      "Number of available restaurants: 6689 6689\n",
      "2025-03-17 15:58:23.085798 Hour: 13 , total orders in this hour: 217752\n",
      "Number of available restaurants: 6844 6844\n",
      "2025-03-17 15:59:08.308340 Hour: 14 , total orders in this hour: 192542\n",
      "Number of available restaurants: 6814 6814\n",
      "2025-03-17 15:59:55.692543 Hour: 15 , total orders in this hour: 169921\n",
      "Number of available restaurants: 6670 6670\n",
      "2025-03-17 16:00:42.467164 Hour: 16 , total orders in this hour: 159401\n",
      "Number of available restaurants: 6548 6548\n",
      "2025-03-17 16:01:26.305458 Hour: 17 , total orders in this hour: 165187\n",
      "Number of available restaurants: 6532 6532\n",
      "2025-03-17 16:02:12.379785 Hour: 18 , total orders in this hour: 213923\n",
      "Number of available restaurants: 6808 6808\n",
      "2025-03-17 16:03:00.441460 Hour: 19 , total orders in this hour: 257187\n",
      "Number of available restaurants: 6948 6948\n",
      "2025-03-17 16:03:49.313535 Hour: 20 , total orders in this hour: 252441\n",
      "Number of available restaurants: 6927 6927\n",
      "2025-03-17 16:04:38.155165 Hour: 21 , total orders in this hour: 203732\n",
      "Number of available restaurants: 6786 6786\n",
      "2025-03-17 16:05:26.278727 Hour: 22 , total orders in this hour: 157684\n",
      "Number of available restaurants: 6192 6192\n",
      "2025-03-17 16:06:13.771974 Hour: 23 , total orders in this hour: 107151\n",
      "Number of available restaurants: 5073 5073\n",
      "2025-03-17 16:06:57.230261 categorized_90 **************************************************\n",
      "unique types of cuisine: 88\n",
      "unique types of cuisine: 88\n",
      "2025-03-17 16:07:12.946050 Hour: 0 , total orders in this hour: 72378\n",
      "Number of available restaurants: 3341 3341\n",
      "2025-03-17 16:07:58.517904 Hour: 1 , total orders in this hour: 49848\n",
      "Number of available restaurants: 2709 2709\n",
      "2025-03-17 16:08:38.163732 Hour: 2 , total orders in this hour: 33304\n",
      "Number of available restaurants: 2103 2103\n",
      "2025-03-17 16:09:17.840818 Hour: 3 , total orders in this hour: 21535\n",
      "Number of available restaurants: 1492 1492\n",
      "2025-03-17 16:09:52.958020 Hour: 4 , total orders in this hour: 16240\n",
      "Number of available restaurants: 1132 1132\n",
      "2025-03-17 16:10:23.997924 Hour: 5 , total orders in this hour: 12167\n",
      "Number of available restaurants: 1058 1058\n",
      "2025-03-17 16:10:54.888176 Hour: 6 , total orders in this hour: 12989\n",
      "Number of available restaurants: 1041 1041\n",
      "2025-03-17 16:11:27.346297 Hour: 7 , total orders in this hour: 27611\n",
      "Number of available restaurants: 1562 1562\n",
      "2025-03-17 16:12:04.509035 Hour: 8 , total orders in this hour: 60346\n",
      "Number of available restaurants: 2440 2440\n",
      "2025-03-17 16:12:43.952370 Hour: 9 , total orders in this hour: 81523\n",
      "Number of available restaurants: 3032 3032\n",
      "2025-03-17 16:13:27.170543 Hour: 10 , total orders in this hour: 93640\n",
      "Number of available restaurants: 4097 4097\n"
     ]
    },
    {
     "name": "stderr",
     "output_type": "stream",
     "text": [
      "Traceback (most recent call last):\n",
      "  File \"<timed exec>\", line 84, in <module>\n",
      "  File \"/home/rongxiang/.local/lib/python3.8/site-packages/pandana/network.py\", line 590, in get_node_ids\n",
      "    distances, indexes = self.kdtree.query(xys.values)\n",
      "  File \"sklearn/neighbors/_binary_tree.pxi\", line 1106, in sklearn.neighbors._kd_tree.BinaryTree.query\n",
      "  File \"/home/rongxiang/.local/lib/python3.8/site-packages/sklearn/utils/validation.py\", line 967, in check_array\n",
      "    raise ValueError(\n",
      "ValueError: Found array with 0 sample(s) (shape=(0, 2)) while a minimum of 1 is required.\n"
     ]
    },
    {
     "name": "stdout",
     "output_type": "stream",
     "text": [
      "Turkish Doner\n",
      "2025-03-17 16:14:15.373399 Hour: 11 , total orders in this hour: 135676\n",
      "Number of available restaurants: 5689 5689\n",
      "2025-03-17 16:15:07.309300 Hour: 12 , total orders in this hour: 205737\n",
      "Number of available restaurants: 6689 6689\n",
      "2025-03-17 16:16:02.454422 Hour: 13 , total orders in this hour: 217752\n",
      "Number of available restaurants: 6844 6844\n",
      "2025-03-17 16:17:00.008636 Hour: 14 , total orders in this hour: 192542\n",
      "Number of available restaurants: 6814 6814\n",
      "2025-03-17 16:17:55.004617 Hour: 15 , total orders in this hour: 169921\n",
      "Number of available restaurants: 6670 6670\n",
      "2025-03-17 16:18:49.878664 Hour: 16 , total orders in this hour: 159401\n",
      "Number of available restaurants: 6548 6548\n",
      "2025-03-17 16:19:43.070747 Hour: 17 , total orders in this hour: 165187\n",
      "Number of available restaurants: 6532 6532\n",
      "2025-03-17 16:20:39.220792 Hour: 18 , total orders in this hour: 213923\n",
      "Number of available restaurants: 6808 6808\n",
      "2025-03-17 16:21:36.691723 Hour: 19 , total orders in this hour: 257187\n",
      "Number of available restaurants: 6948 6948\n",
      "2025-03-17 16:22:35.483082 Hour: 20 , total orders in this hour: 252441\n",
      "Number of available restaurants: 6927 6927\n",
      "2025-03-17 16:23:32.373917 Hour: 21 , total orders in this hour: 203732\n",
      "Number of available restaurants: 6786 6786\n",
      "2025-03-17 16:24:28.267555 Hour: 22 , total orders in this hour: 157684\n",
      "Number of available restaurants: 6192 6192\n",
      "2025-03-17 16:25:23.228733 Hour: 23 , total orders in this hour: 107151\n",
      "Number of available restaurants: 5073 5073\n",
      "CPU times: user 12h 17min 22s, sys: 2min 8s, total: 12h 19min 31s\n",
      "Wall time: 1h 3min 11s\n"
     ]
    }
   ],
   "source": [
    "%%time\n",
    "\n",
    "from different_cuisine_classifications import categorized_10, categorized_30, categorized_50, categorized_70, categorized_90\n",
    "\n",
    "cate_list = [categorized_10, categorized_30, categorized_50, categorized_70, categorized_90]\n",
    "cate_name_list = 'categorized_10', 'categorized_30', 'categorized_50', 'categorized_70', 'categorized_90'\n",
    "\n",
    "max_search_resturants = 1\n",
    "max_dist = 50000 # 50km \n",
    "\n",
    "for index, one_cat_list in enumerate(cate_list):\n",
    "    print(datetime.datetime.now(), cate_name_list[index], \"*\"*50)\n",
    "    output_file = './data/food_localness_oct_'+cate_name_list[index]+'.csv'\n",
    "    \n",
    "    df_vendor_new = df_vendor.copy()\n",
    "    df_order_new = df_order.copy()\n",
    "    \n",
    "    df_vendor_new['main_cuisine'] = df_vendor_new['main_cuisine'].replace(one_cat_list)\n",
    "    df_vendor_new = df_vendor_new[~df_vendor_new['main_cuisine'].isna()]\n",
    "    \n",
    "    df_order_new['main_cuisine'] = df_order_new['main_cuisine'].replace(one_cat_list)\n",
    "    df_order_new = df_order_new[~df_order_new['main_cuisine'].isna()]\n",
    "    print('unique types of cuisine:', df_vendor_new.main_cuisine.unique().shape[0])\n",
    "    print('unique types of cuisine:', df_order_new.main_cuisine.unique().shape[0])\n",
    "\n",
    "    available_vendors_list_by_hour = df_order_new.groupby(['order_time_hour']).vendor_id.unique()\n",
    "\n",
    "    # load existing network data\n",
    "    nodes = pd.read_csv('./output/nodes.csv', index_col=0)\n",
    "    edges = pd.read_csv('./output/edges.csv', index_col=[0,1])\n",
    "    network = pandana.Network(nodes['x'], nodes['y'], edges['from'], edges['to'], edges[['distance']])\n",
    "\n",
    "    # Assign nearest network node_ids to each customer location\n",
    "    all_nodes = network.get_node_ids(df_order_new.customer_lon, df_order_new.customer_lat).values\n",
    "    df_order_new['node_id'] = all_nodes\n",
    "\n",
    "    # Identify nearest restaurants\n",
    "    df_vendor_new = df_vendor_new.rename(columns={\"vendor_id\": \"n_vendor_id\",\"main_cuisine\":\"n_main_cuisine\",'vendor_name':'n_vendor_name',\n",
    "                                       'vendor_lon':'n_vendor_lon','vendor_lat':'n_vendor_lat','vertical':'n_vertical'})\n",
    "    \n",
    "    # loop hour, for each hour we construct different network with different available restaurants\n",
    "    for hour in range(0,24):\n",
    "        df_order_byhour = df_order_new[df_order_new['order_time_hour']==hour]\n",
    "        print(datetime.datetime.now(),'Hour:',hour,', total orders in this hour:',df_order_byhour.shape[0])\n",
    "        df_vendor_byhour = df_vendor_new[df_vendor_new['n_vendor_id'].isin(available_vendors_list_by_hour[hour])]\n",
    "        print('Number of available restaurants:', len(available_vendors_list_by_hour[hour]),df_vendor_byhour.n_vendor_id.unique().shape[0])\n",
    "        \n",
    "        # Step 1. Add different types of restaurants into the network. We assume these are the available restaurants to people.\n",
    "        network = pandana.Network(nodes['x'], nodes['y'], \n",
    "                              edges['from'], edges['to'], edges[['distance']])\n",
    "        \n",
    "        for cat in df_vendor_byhour.n_main_cuisine.unique().tolist():\n",
    "            df_vendor_onetype = df_vendor_byhour[df_vendor_byhour['n_main_cuisine']==cat]\n",
    "            network.set_pois(category = cat,\n",
    "                             maxdist = max_dist,\n",
    "                             maxitems = max_search_resturants, # max number of restaurants to search\n",
    "                             x_col = df_vendor_onetype.n_vendor_lon, \n",
    "                             y_col = df_vendor_onetype.n_vendor_lat)\n",
    "        \n",
    "        # Step 2. Search the nearest same type of restaurants\n",
    "        # i = 1\n",
    "        for cat in df_vendor_byhour.n_main_cuisine.unique().tolist():\n",
    "            try:\n",
    "                # print(datetime.datetime.now(), cat, i,'/',df_vendor_byhour.n_main_cuisine.unique().shape[0])\n",
    "                # i+=1\n",
    "                # return the nearest restaurants offering the same cuisine\n",
    "                df_nearest_samerest = network.nearest_pois(distance = max_dist,\n",
    "                                           category = cat,\n",
    "                                           num_pois = max_search_resturants,\n",
    "                                           include_poi_ids = True)\n",
    "                df_nearest_samerest = df_nearest_samerest.reset_index()\n",
    "                df_nearest_samerest.dropna(inplace=True) # drop nodes without any nearest restaurants within max_dist\n",
    "                df_nearest_samerest.poi1 = df_nearest_samerest.poi1.astype(int)\n",
    "                df_nearest_samerest = df_nearest_samerest.rename(columns={\"id\": \"node_id\", 1:\"nearest_dist1\"})# nearest_dist1: this is the distance to the nearest restaurant\n",
    "                #,\"poi1\":\"vendor_index\"\n",
    "                df_nearest_samerest['nearest_dist1'] = df_nearest_samerest['nearest_dist1']/1000  # convert to km\n",
    "\n",
    "\n",
    "                # left join the identified nearest restaurant with the order data, make sure controling the same cuisine types\n",
    "                df_order_onetype = df_order_byhour[df_order_byhour['main_cuisine']==cat] \n",
    "                df_order_onetype_mergedist = df_order_onetype.merge(df_nearest_samerest, on='node_id')\n",
    "                df_order_onetype_mergedist = df_order_onetype_mergedist.merge(df_vendor_byhour,left_on='poi1',right_on='vendor_index')\n",
    "\n",
    "                # Compute shortest path (network distance) between customer and restaurants actually ordering from\n",
    "                ### first, identify the nearest node to each lon lat coordinate\n",
    "                customer_nodes = network.get_node_ids(df_order_onetype_mergedist.customer_lon, df_order_onetype_mergedist.customer_lat).values\n",
    "                vendor_nodes = network.get_node_ids(df_order_onetype_mergedist.vendor_lon, df_order_onetype_mergedist.vendor_lat).values\n",
    "                ### second, compute the shortest network distance for each pair of nodes\n",
    "                distances_order = network.shortest_path_lengths(vendor_nodes, customer_nodes)\n",
    "                ### pandana_distance_realdist: this is the real network distance between customer and the vendor\n",
    "                df_order_onetype_mergedist['pandana_distance_realdist'] = [x / 1000 for x in distances_order] # convert to km\n",
    "                df_order_onetype_mergedist['pandana_localness'] = df_order_onetype_mergedist['nearest_dist1']/df_order_onetype_mergedist['pandana_distance_realdist']\n",
    "                ### exclude some extreme or abnormal orders based on distance and speed\n",
    "                df_order_onetype_mergedist = df_order_onetype_mergedist[df_order_onetype_mergedist['pandana_distance_realdist']<50] # order distance must be less than 50km\n",
    "                df_order_onetype_mergedist['speed'] = df_order_onetype_mergedist['pandana_distance_realdist']/(df_order_onetype_mergedist['delivery_duration']/60) # order travel speed, km/h\n",
    "                df_order_onetype_mergedist = df_order_onetype_mergedist[df_order_onetype_mergedist['speed']<60] #must be < 60km/h\n",
    "                \n",
    "                if not os.path.isfile(output_file):\n",
    "                    df_order_onetype_mergedist.to_csv(output_file,index=False)\n",
    "                else: # else it exists so append without writing the header\n",
    "                    df_order_onetype_mergedist.to_csv(output_file, mode='a', header=False,index=False)\n",
    "    \n",
    "            except Exception:\n",
    "                traceback.print_exc()\n",
    "                print(cat)        "
   ]
  },
  {
   "cell_type": "markdown",
   "metadata": {},
   "source": [
    "# (Optional) Localness index exploration"
   ]
  },
  {
   "cell_type": "code",
   "execution_count": 25,
   "metadata": {},
   "outputs": [],
   "source": [
    "# before excluding abnormal values\n",
    "# print(df_localness.shape[0])\n",
    "# df_localness.pandana_distance_realdist.describe()\n",
    "# df_localness.delivery_duration.describe()\n",
    "# df_localness.total_duration.describe()\n",
    "\n",
    "# After exclude abnormal values: 2.8 million orders\n",
    "# print(df_localness.shape[0])\n",
    "# df_localness.pandana_distance_realdist.describe()"
   ]
  },
  {
   "cell_type": "code",
   "execution_count": 21,
   "metadata": {
    "scrolled": true
   },
   "outputs": [],
   "source": [
    "# df_localness.groupby('main_cuisine').pandana_localness.mean().sort_values(ascending=False)"
   ]
  },
  {
   "cell_type": "code",
   "execution_count": 22,
   "metadata": {},
   "outputs": [],
   "source": [
    "# df_localness['pandana_localness'].hist(bins=40,ec='None')"
   ]
  },
  {
   "cell_type": "code",
   "execution_count": 3,
   "metadata": {},
   "outputs": [
    {
     "name": "stdout",
     "output_type": "stream",
     "text": [
      "CPU times: user 43.6 s, sys: 3.04 s, total: 46.7 s\n",
      "Wall time: 55.9 s\n"
     ]
    }
   ],
   "source": [
    "%%time\n",
    "df1 =  pd.read_csv('./data/food_localness_oct_categorized_10.csv', sep=\",\", header=0,usecols=['order_id','main_cuisine','pandana_localness'])\n",
    "df2 =  pd.read_csv('./data/food_localness_oct_categorized_30.csv', sep=\",\", header=0,usecols=['order_id','main_cuisine','pandana_localness'])\n",
    "df3 =  pd.read_csv('./data/food_localness_oct_categorized_50.csv', sep=\",\", header=0,usecols=['order_id','main_cuisine','pandana_localness'])\n",
    "df4 =  pd.read_csv('./data/food_localness_final_oct_new.csv', sep=\",\", header=0,usecols=['order_id','main_cuisine','pandana_localness'])\n",
    "df5 =  pd.read_csv('./data/food_localness_oct_categorized_70.csv', sep=\",\", header=0,usecols=['order_id','main_cuisine','pandana_localness'])\n",
    "df6 =  pd.read_csv('./data/food_localness_oct_categorized_90.csv', sep=\",\", header=0,usecols=['order_id','main_cuisine','pandana_localness'])"
   ]
  },
  {
   "cell_type": "code",
   "execution_count": 5,
   "metadata": {},
   "outputs": [
    {
     "name": "stdout",
     "output_type": "stream",
     "text": [
      "2824594\n",
      "2824594\n",
      "2824594\n",
      "2778722\n",
      "2824594\n",
      "2824594\n"
     ]
    }
   ],
   "source": [
    "# df6.head()\n",
    "print(df1.shape[0])\n",
    "print(df2.shape[0])\n",
    "print(df3.shape[0])\n",
    "print(df4.shape[0])\n",
    "print(df5.shape[0])\n",
    "print(df6.shape[0])"
   ]
  },
  {
   "cell_type": "code",
   "execution_count": 6,
   "metadata": {},
   "outputs": [
    {
     "name": "stdout",
     "output_type": "stream",
     "text": [
      "unique types of cuisine: 9\n",
      "unique types of cuisine: 31\n",
      "unique types of cuisine: 52\n",
      "unique types of cuisine: 66\n",
      "unique types of cuisine: 70\n",
      "unique types of cuisine: 88\n"
     ]
    }
   ],
   "source": [
    "print('unique types of cuisine:', df1.main_cuisine.unique().shape[0])\n",
    "print('unique types of cuisine:', df2.main_cuisine.unique().shape[0])\n",
    "print('unique types of cuisine:', df3.main_cuisine.unique().shape[0])\n",
    "print('unique types of cuisine:', df4.main_cuisine.unique().shape[0])\n",
    "print('unique types of cuisine:', df5.main_cuisine.unique().shape[0])\n",
    "print('unique types of cuisine:', df6.main_cuisine.unique().shape[0])"
   ]
  },
  {
   "cell_type": "code",
   "execution_count": 7,
   "metadata": {},
   "outputs": [
    {
     "name": "stdout",
     "output_type": "stream",
     "text": [
      "CPU times: user 842 ms, sys: 195 ms, total: 1.04 s\n",
      "Wall time: 2.35 s\n"
     ]
    }
   ],
   "source": [
    "%%time\n",
    "import pandas as pd\n",
    "import seaborn as sns\n",
    "import matplotlib.pyplot as plt\n",
    "\n",
    "# Assume df1, df2, df3, df4, df5 are your five DataFrames\n",
    "# And 'col1', 'col2', ..., 'col5' are the respective columns you want to plot\n",
    "\n",
    "df_combined = pd.DataFrame({\n",
    "    'Categories_10': df1['pandana_localness'],\n",
    "    'Categories_30': df2['pandana_localness'],\n",
    "    'Categories_50': df3['pandana_localness'],\n",
    "    # 'Categories_66': df4['pandana_localness'],\n",
    "    'Categories_70': df5['pandana_localness'],\n",
    "    'Categories_90': df6['pandana_localness'],\n",
    "})\n",
    "\n",
    "# Convert to long format for Seaborn\n",
    "df_melted = df_combined.melt(var_name=\"Dataset\", value_name=\"Value\")"
   ]
  },
  {
   "cell_type": "code",
   "execution_count": 11,
   "metadata": {},
   "outputs": [
    {
     "data": {
      "image/png": "[encoded data removed]",
      "text/plain": [
       "<Figure size 576x432 with 1 Axes>"
      ]
     },
     "metadata": {},
     "output_type": "display_data"
    },
    {
     "name": "stdout",
     "output_type": "stream",
     "text": [
      "CPU times: user 17.6 s, sys: 2.77 s, total: 20.3 s\n",
      "Wall time: 20.2 s\n"
     ]
    }
   ],
   "source": [
    "%%time\n",
    "# Plot the boxplots\n",
    "meanprops = {\"marker\": \"^\", \"markerfacecolor\": \"white\", \"markeredgecolor\": \"black\", \"markersize\": 10}\n",
    "sns.set_theme(style=\"ticks\", rc={'figure.figsize':(8,6)},font_scale=1.2)\n",
    "ax = sns.boxplot(x=\"Dataset\", y=\"Value\", data=df_melted,showfliers=False,palette=\"husl\",showmeans=True,meanprops=meanprops)\n",
    "\n",
    "plt.xlabel(\"\")\n",
    "plt.ylabel(\"Localness index\")\n",
    "ax.set_xticklabels(['10 types', '30 types','50 types','70 types','90 types'])\n",
    "plt.savefig('./output/plot_localness_sensetivity.pdf', bbox_inches=\"tight\")\n",
    "plt.show()"
   ]
  },
  {
   "cell_type": "code",
   "execution_count": null,
   "metadata": {},
   "outputs": [],
   "source": []
  },
  {
   "cell_type": "code",
   "execution_count": null,
   "metadata": {},
   "outputs": [],
   "source": []
  }
 ],
 "metadata": {
  "kernelspec": {
   "display_name": "python3.8",
   "language": "python",
   "name": "python3.8"
  },
  "language_info": {
   "codemirror_mode": {
    "name": "ipython",
    "version": 3
   },
   "file_extension": ".py",
   "mimetype": "text/x-python",
   "name": "python",
   "nbconvert_exporter": "python",
   "pygments_lexer": "ipython3",
   "version": "3.8.5"
  }
 },
 "nbformat": 4,
 "nbformat_minor": 4
}
