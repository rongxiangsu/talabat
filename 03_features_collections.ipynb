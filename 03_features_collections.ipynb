{
 "cells": [
  {
   "cell_type": "code",
   "execution_count": 5,
   "metadata": {},
   "outputs": [],
   "source": [
    "import datetime\n",
    "import geopandas as gpd\n",
    "import matplotlib.pyplot as plt\n",
    "import pandas as pd\n",
    "import numpy as np\n",
    "from shapely.geometry import Point\n",
    "from geopandas import GeoDataFrame\n",
    "import os\n",
    "\n",
    "import seaborn as sns\n",
    "pd.set_option(\"display.max_colwidth\", 0)\n",
    "pd.set_option(\"display.max_rows\", 500)\n",
    "pd.set_option(\"display.max_columns\", 500)\n",
    "pd.set_option(\"display.width\", 1000)\n",
    "pd.options.display.float_format = '{:.5f}'.format\n",
    "\n",
    "import warnings\n",
    "warnings.filterwarnings(\"ignore\")"
   ]
  },
  {
   "cell_type": "code",
   "execution_count": 2,
   "metadata": {},
   "outputs": [
    {
     "name": "stdout",
     "output_type": "stream",
     "text": [
      "CPU times: user 13.7 s, sys: 2.22 s, total: 15.9 s\n",
      "Wall time: 46 s\n"
     ]
    }
   ],
   "source": [
    "%%time\n",
    "df_localness = pd.read_csv('./data/food_localness_oct.csv',header=0) #,nrows=10\n",
    "# df_localness"
   ]
  },
  {
   "cell_type": "code",
   "execution_count": 7,
   "metadata": {},
   "outputs": [],
   "source": [
    "df_localness['customer_loc_id'] = df_localness['customer_lon'].astype(str)+df_localness['customer_lat'].astype(str)"
   ]
  },
  {
   "cell_type": "markdown",
   "metadata": {},
   "source": [
    "## Create weekend binary column"
   ]
  },
  {
   "cell_type": "code",
   "execution_count": 3,
   "metadata": {},
   "outputs": [
    {
     "name": "stdout",
     "output_type": "stream",
     "text": [
      "CPU times: user 6.75 s, sys: 156 ms, total: 6.9 s\n",
      "Wall time: 17.6 s\n"
     ]
    }
   ],
   "source": [
    "%%time\n",
    "# Create one column to determine if it is weekend\n",
    "df_localness['order_date'] = pd.to_datetime(df_localness['order_date']) \n",
    "\n",
    "# Define a function to check if a date falls on a weekend\n",
    "def is_weekend(date):\n",
    "    return (date.dayofweek == 5) or (date.dayofweek == 6)\n",
    "\n",
    "# Apply the function to the 'Date' column\n",
    "df_localness['isweekend'] = df_localness['order_date'].apply(lambda x: is_weekend(x))"
   ]
  },
  {
   "cell_type": "markdown",
   "metadata": {},
   "source": [
    "## Merge with mean price per item (proxy for expensiveness of restaurants)"
   ]
  },
  {
   "cell_type": "code",
   "execution_count": 5,
   "metadata": {},
   "outputs": [
    {
     "name": "stdout",
     "output_type": "stream",
     "text": [
      "2828913\n"
     ]
    }
   ],
   "source": [
    "df_priceper_item = pd.read_csv('./data/mean_price_per_item.csv')\n",
    "df_localness = df_localness.merge(df_priceper_item, how='left',on='vendor_id')\n",
    "print(df_localness.shape[0])\n",
    "\n",
    "df_localness = df_localness[df_localness['item_price']!=0]\n",
    "print(df_localness.shape[0])"
   ]
  },
  {
   "cell_type": "markdown",
   "metadata": {},
   "source": [
    "## merge entropy and restaurant count data"
   ]
  },
  {
   "cell_type": "code",
   "execution_count": 8,
   "metadata": {},
   "outputs": [
    {
     "name": "stdout",
     "output_type": "stream",
     "text": [
      "2828913\n",
      "2828913\n",
      "2828913\n",
      "2828913\n",
      "2828913\n",
      "2828913\n",
      "CPU times: user 31.5 s, sys: 25.9 s, total: 57.3 s\n",
      "Wall time: 2min\n"
     ]
    }
   ],
   "source": [
    "%%time\n",
    "distance_list = [0.5, 1, 2, 3, 4, 5] #unit:km\n",
    "\n",
    "# left join various entropy indices and number of resturants\n",
    "for distance_threshold in distance_list:\n",
    "    entropy_col_name = 'entropy_'+str(distance_threshold)+'km'\n",
    "    poi_col_name = 'poi_count_'+str(distance_threshold)+'km'\n",
    "    entropy_file_path = './data/entropy_'+str(distance_threshold)+'km_customerlocations_oct.csv'\n",
    "    poicount_file_path = './data/poi_count_'+str(distance_threshold)+'km_customerlocations_oct.csv'\n",
    "    \n",
    "    entropy_bycustomerloc1 = pd.read_csv(entropy_file_path,header=0)\n",
    "    df_localness = df_localness.merge(entropy_bycustomerloc1, how='left',on='customer_loc_id')\n",
    "    df_localness[entropy_col_name] = df_localness[entropy_col_name].fillna(0)\n",
    "    \n",
    "    poi_bycustomerloc1 = pd.read_csv(poicount_file_path,header=0)\n",
    "    df_localness = df_localness.merge(poi_bycustomerloc1, how='left',on='customer_loc_id')\n",
    "    df_localness[poi_col_name] = df_localness[poi_col_name].fillna(0)\n",
    "    print(df_localness.shape[0])"
   ]
  },
  {
   "cell_type": "code",
   "execution_count": 9,
   "metadata": {},
   "outputs": [],
   "source": [
    "df_localness['poi_count_0.5_1km'] = df_localness['poi_count_1km'] - df_localness['poi_count_0.5km']\n",
    "df_localness['poi_count_1_2km'] = df_localness['poi_count_2km'] - df_localness['poi_count_1km']\n",
    "df_localness['poi_count_2_3km'] = df_localness['poi_count_3km'] - df_localness['poi_count_2km']\n",
    "df_localness['poi_count_3_4km'] = df_localness['poi_count_4km'] - df_localness['poi_count_3km']\n",
    "df_localness['poi_count_4_5km'] = df_localness['poi_count_5km'] - df_localness['poi_count_4km']"
   ]
  },
  {
   "cell_type": "markdown",
   "metadata": {},
   "source": [
    "## Merge with rent data"
   ]
  },
  {
   "cell_type": "code",
   "execution_count": 20,
   "metadata": {},
   "outputs": [
    {
     "name": "stdout",
     "output_type": "stream",
     "text": [
      "791511\n"
     ]
    },
    {
     "data": {
      "text/html": [
       "<div>\n",
       "<style scoped>\n",
       "    .dataframe tbody tr th:only-of-type {\n",
       "        vertical-align: middle;\n",
       "    }\n",
       "\n",
       "    .dataframe tbody tr th {\n",
       "        vertical-align: top;\n",
       "    }\n",
       "\n",
       "    .dataframe thead th {\n",
       "        text-align: right;\n",
       "    }\n",
       "</style>\n",
       "<table border=\"1\" class=\"dataframe\">\n",
       "  <thead>\n",
       "    <tr style=\"text-align: right;\">\n",
       "      <th></th>\n",
       "      <th>customer_loc_id</th>\n",
       "      <th>approxi_rent</th>\n",
       "    </tr>\n",
       "  </thead>\n",
       "  <tbody>\n",
       "    <tr>\n",
       "      <th>0</th>\n",
       "      <td>55.21387725.155851</td>\n",
       "      <td>90.44289</td>\n",
       "    </tr>\n",
       "    <tr>\n",
       "      <th>1</th>\n",
       "      <td>55.213885121047525.1557155663109</td>\n",
       "      <td>90.65273</td>\n",
       "    </tr>\n",
       "    <tr>\n",
       "      <th>2</th>\n",
       "      <td>55.21368825.15563</td>\n",
       "      <td>91.13944</td>\n",
       "    </tr>\n",
       "    <tr>\n",
       "      <th>3</th>\n",
       "      <td>55.2138425.155878</td>\n",
       "      <td>90.46375</td>\n",
       "    </tr>\n",
       "    <tr>\n",
       "      <th>4</th>\n",
       "      <td>55.213881433010125.1557653365541</td>\n",
       "      <td>90.57859</td>\n",
       "    </tr>\n",
       "  </tbody>\n",
       "</table>\n",
       "</div>"
      ],
      "text/plain": [
       "                    customer_loc_id  approxi_rent\n",
       "0  55.21387725.155851               90.44289     \n",
       "1  55.213885121047525.1557155663109 90.65273     \n",
       "2  55.21368825.15563                91.13944     \n",
       "3  55.2138425.155878                90.46375     \n",
       "4  55.213881433010125.1557653365541 90.57859     "
      ]
     },
     "execution_count": 20,
     "metadata": {},
     "output_type": "execute_result"
    }
   ],
   "source": [
    "unique_customerlocs_withrent = pd.read_csv('./data/estimated_rent_customerlocations_oct.csv')\n",
    "print(unique_customerlocs_withrent.shape[0])\n",
    "unique_customerlocs_withrent.head()"
   ]
  },
  {
   "cell_type": "code",
   "execution_count": 24,
   "metadata": {},
   "outputs": [
    {
     "name": "stdout",
     "output_type": "stream",
     "text": [
      "2828913\n"
     ]
    }
   ],
   "source": [
    "df_localness = df_localness.merge(unique_customerlocs_withrent, how='left',on='customer_loc_id')\n",
    "print(df_localness.shape[0])"
   ]
  },
  {
   "cell_type": "code",
   "execution_count": 25,
   "metadata": {},
   "outputs": [
    {
     "data": {
      "text/html": [
       "<div>\n",
       "<style scoped>\n",
       "    .dataframe tbody tr th:only-of-type {\n",
       "        vertical-align: middle;\n",
       "    }\n",
       "\n",
       "    .dataframe tbody tr th {\n",
       "        vertical-align: top;\n",
       "    }\n",
       "\n",
       "    .dataframe thead th {\n",
       "        text-align: right;\n",
       "    }\n",
       "</style>\n",
       "<table border=\"1\" class=\"dataframe\">\n",
       "  <thead>\n",
       "    <tr style=\"text-align: right;\">\n",
       "      <th></th>\n",
       "      <th>account_id</th>\n",
       "      <th>order_id</th>\n",
       "      <th>order_date</th>\n",
       "      <th>order_time</th>\n",
       "      <th>vendor_id</th>\n",
       "      <th>vendor_name</th>\n",
       "      <th>main_cuisine</th>\n",
       "      <th>vertical</th>\n",
       "      <th>delivery_fee_amount_lc</th>\n",
       "      <th>service_fee_amount_lc</th>\n",
       "      <th>basket_amount_lc</th>\n",
       "      <th>is_incentive_applied</th>\n",
       "      <th>incentive_amount_lc</th>\n",
       "      <th>pickup_id</th>\n",
       "      <th>customer_lon</th>\n",
       "      <th>customer_lat</th>\n",
       "      <th>vendor_lon</th>\n",
       "      <th>vendor_lat</th>\n",
       "      <th>order_time_hour</th>\n",
       "      <th>delivery_duration</th>\n",
       "      <th>total_duration</th>\n",
       "      <th>node_id</th>\n",
       "      <th>nearest_dist1</th>\n",
       "      <th>poi1</th>\n",
       "      <th>n_vertical</th>\n",
       "      <th>n_vendor_id</th>\n",
       "      <th>n_main_cuisine</th>\n",
       "      <th>n_vendor_name</th>\n",
       "      <th>n_vendor_lon</th>\n",
       "      <th>n_vendor_lat</th>\n",
       "      <th>vendor_index</th>\n",
       "      <th>pandana_distance_realdist</th>\n",
       "      <th>pandana_localness</th>\n",
       "      <th>speed</th>\n",
       "      <th>isweekend</th>\n",
       "      <th>item_price</th>\n",
       "      <th>customer_loc_id</th>\n",
       "      <th>entropy_0.5km</th>\n",
       "      <th>poi_count_0.5km</th>\n",
       "      <th>entropy_1km</th>\n",
       "      <th>poi_count_1km</th>\n",
       "      <th>entropy_2km</th>\n",
       "      <th>poi_count_2km</th>\n",
       "      <th>entropy_3km</th>\n",
       "      <th>poi_count_3km</th>\n",
       "      <th>entropy_4km</th>\n",
       "      <th>poi_count_4km</th>\n",
       "      <th>entropy_5km</th>\n",
       "      <th>poi_count_5km</th>\n",
       "      <th>poi_count_0.5_1km</th>\n",
       "      <th>poi_count_1_2km</th>\n",
       "      <th>poi_count_2_3km</th>\n",
       "      <th>poi_count_3_4km</th>\n",
       "      <th>poi_count_4_5km</th>\n",
       "      <th>approxi_rent</th>\n",
       "    </tr>\n",
       "  </thead>\n",
       "  <tbody>\n",
       "    <tr>\n",
       "      <th>0</th>\n",
       "      <td>7051337</td>\n",
       "      <td>1305576462</td>\n",
       "      <td>2023-10-10</td>\n",
       "      <td>2023-10-10 15:30:22</td>\n",
       "      <td>50868</td>\n",
       "      <td>SHAGHF, Jumeirah 3</td>\n",
       "      <td>coffee</td>\n",
       "      <td>food</td>\n",
       "      <td>0.00000</td>\n",
       "      <td>1.73000</td>\n",
       "      <td>57.75000</td>\n",
       "      <td>True</td>\n",
       "      <td>10.00000</td>\n",
       "      <td>249162013.00000</td>\n",
       "      <td>55.21388</td>\n",
       "      <td>25.15585</td>\n",
       "      <td>55.23119</td>\n",
       "      <td>25.18903</td>\n",
       "      <td>15</td>\n",
       "      <td>17</td>\n",
       "      <td>27</td>\n",
       "      <td>7584090309</td>\n",
       "      <td>0.65335</td>\n",
       "      <td>840</td>\n",
       "      <td>food</td>\n",
       "      <td>697762</td>\n",
       "      <td>coffee</td>\n",
       "      <td>Awaken Cafe, Al Wasl</td>\n",
       "      <td>55.21303</td>\n",
       "      <td>25.15146</td>\n",
       "      <td>840</td>\n",
       "      <td>4.61410</td>\n",
       "      <td>0.14160</td>\n",
       "      <td>10.25355</td>\n",
       "      <td>False</td>\n",
       "      <td>30.06471</td>\n",
       "      <td>55.21387725.155851</td>\n",
       "      <td>0.00000</td>\n",
       "      <td>0.00000</td>\n",
       "      <td>0.47137</td>\n",
       "      <td>21.00000</td>\n",
       "      <td>0.65855</td>\n",
       "      <td>105.00000</td>\n",
       "      <td>0.66518</td>\n",
       "      <td>198.00000</td>\n",
       "      <td>0.69070</td>\n",
       "      <td>296.00000</td>\n",
       "      <td>0.70457</td>\n",
       "      <td>582.00000</td>\n",
       "      <td>21.00000</td>\n",
       "      <td>84.00000</td>\n",
       "      <td>93.00000</td>\n",
       "      <td>98.00000</td>\n",
       "      <td>286.00000</td>\n",
       "      <td>90.44289</td>\n",
       "    </tr>\n",
       "    <tr>\n",
       "      <th>1</th>\n",
       "      <td>7051337</td>\n",
       "      <td>1313167366</td>\n",
       "      <td>2023-10-16</td>\n",
       "      <td>2023-10-16 16:43:34</td>\n",
       "      <td>50868</td>\n",
       "      <td>SHAGHF, Jumeirah 3</td>\n",
       "      <td>coffee</td>\n",
       "      <td>food</td>\n",
       "      <td>7.50000</td>\n",
       "      <td>0.90000</td>\n",
       "      <td>26.25000</td>\n",
       "      <td>True</td>\n",
       "      <td>10.00000</td>\n",
       "      <td>250948408.00000</td>\n",
       "      <td>55.21389</td>\n",
       "      <td>25.15572</td>\n",
       "      <td>55.23119</td>\n",
       "      <td>25.18903</td>\n",
       "      <td>16</td>\n",
       "      <td>13</td>\n",
       "      <td>31</td>\n",
       "      <td>7584090309</td>\n",
       "      <td>0.65335</td>\n",
       "      <td>840</td>\n",
       "      <td>food</td>\n",
       "      <td>697762</td>\n",
       "      <td>coffee</td>\n",
       "      <td>Awaken Cafe, Al Wasl</td>\n",
       "      <td>55.21303</td>\n",
       "      <td>25.15146</td>\n",
       "      <td>840</td>\n",
       "      <td>4.61410</td>\n",
       "      <td>0.14160</td>\n",
       "      <td>8.93051</td>\n",
       "      <td>False</td>\n",
       "      <td>30.06471</td>\n",
       "      <td>55.213885121047525.1557155663109</td>\n",
       "      <td>0.00000</td>\n",
       "      <td>0.00000</td>\n",
       "      <td>0.47137</td>\n",
       "      <td>21.00000</td>\n",
       "      <td>0.65855</td>\n",
       "      <td>105.00000</td>\n",
       "      <td>0.66603</td>\n",
       "      <td>197.00000</td>\n",
       "      <td>0.69169</td>\n",
       "      <td>295.00000</td>\n",
       "      <td>0.70585</td>\n",
       "      <td>587.00000</td>\n",
       "      <td>21.00000</td>\n",
       "      <td>84.00000</td>\n",
       "      <td>92.00000</td>\n",
       "      <td>98.00000</td>\n",
       "      <td>292.00000</td>\n",
       "      <td>90.65273</td>\n",
       "    </tr>\n",
       "  </tbody>\n",
       "</table>\n",
       "</div>"
      ],
      "text/plain": [
       "   account_id    order_id order_date           order_time  vendor_id         vendor_name main_cuisine vertical  delivery_fee_amount_lc  service_fee_amount_lc  basket_amount_lc is_incentive_applied  incentive_amount_lc       pickup_id  customer_lon  customer_lat  vendor_lon  vendor_lat  order_time_hour  delivery_duration  total_duration     node_id  nearest_dist1  poi1 n_vertical  n_vendor_id n_main_cuisine         n_vendor_name  n_vendor_lon  n_vendor_lat  vendor_index  pandana_distance_realdist  pandana_localness    speed  isweekend  item_price                   customer_loc_id  entropy_0.5km  poi_count_0.5km  entropy_1km  poi_count_1km  entropy_2km  poi_count_2km  entropy_3km  poi_count_3km  entropy_4km  poi_count_4km  entropy_5km  poi_count_5km  poi_count_0.5_1km  poi_count_1_2km  poi_count_2_3km  poi_count_3_4km  poi_count_4_5km  approxi_rent\n",
       "0  7051337     1305576462 2023-10-10  2023-10-10 15:30:22  50868      SHAGHF, Jumeirah 3  coffee       food    0.00000                 1.73000                57.75000           True                10.00000             249162013.00000 55.21388      25.15585      55.23119    25.18903     15               17                 27              7584090309 0.65335         840   food       697762       coffee         Awaken Cafe, Al Wasl 55.21303      25.15146       840          4.61410                    0.14160            10.25355  False     30.06471     55.21387725.155851               0.00000        0.00000          0.47137      21.00000       0.65855      105.00000      0.66518      198.00000      0.69070      296.00000      0.70457      582.00000      21.00000           84.00000         93.00000         98.00000         286.00000        90.44289     \n",
       "1  7051337     1313167366 2023-10-16  2023-10-16 16:43:34  50868      SHAGHF, Jumeirah 3  coffee       food    7.50000                 0.90000                26.25000           True                10.00000             250948408.00000 55.21389      25.15572      55.23119    25.18903     16               13                 31              7584090309 0.65335         840   food       697762       coffee         Awaken Cafe, Al Wasl 55.21303      25.15146       840          4.61410                    0.14160            8.93051   False     30.06471     55.213885121047525.1557155663109 0.00000        0.00000          0.47137      21.00000       0.65855      105.00000      0.66603      197.00000      0.69169      295.00000      0.70585      587.00000      21.00000           84.00000         92.00000         98.00000         292.00000        90.65273     "
      ]
     },
     "execution_count": 25,
     "metadata": {},
     "output_type": "execute_result"
    }
   ],
   "source": [
    "df_localness.head(2)"
   ]
  },
  {
   "cell_type": "markdown",
   "metadata": {},
   "source": [
    "## merge incentives data"
   ]
  },
  {
   "cell_type": "code",
   "execution_count": 32,
   "metadata": {},
   "outputs": [
    {
     "data": {
      "text/html": [
       "<div>\n",
       "<style scoped>\n",
       "    .dataframe tbody tr th:only-of-type {\n",
       "        vertical-align: middle;\n",
       "    }\n",
       "\n",
       "    .dataframe tbody tr th {\n",
       "        vertical-align: top;\n",
       "    }\n",
       "\n",
       "    .dataframe thead th {\n",
       "        text-align: right;\n",
       "    }\n",
       "</style>\n",
       "<table border=\"1\" class=\"dataframe\">\n",
       "  <thead>\n",
       "    <tr style=\"text-align: right;\">\n",
       "      <th></th>\n",
       "      <th>order_id</th>\n",
       "      <th>compensation</th>\n",
       "      <th>discounted delivery</th>\n",
       "      <th>free delivery</th>\n",
       "      <th>gem</th>\n",
       "      <th>item discount</th>\n",
       "      <th>menu discount</th>\n",
       "      <th>voucher wallet</th>\n",
       "    </tr>\n",
       "  </thead>\n",
       "  <tbody>\n",
       "    <tr>\n",
       "      <th>0</th>\n",
       "      <td>1293286909</td>\n",
       "      <td>0.00000</td>\n",
       "      <td>0.00000</td>\n",
       "      <td>0.00000</td>\n",
       "      <td>0.00000</td>\n",
       "      <td>0.00000</td>\n",
       "      <td>30.00000</td>\n",
       "      <td>0.00000</td>\n",
       "    </tr>\n",
       "    <tr>\n",
       "      <th>1</th>\n",
       "      <td>1293286912</td>\n",
       "      <td>0.00000</td>\n",
       "      <td>0.00000</td>\n",
       "      <td>0.00000</td>\n",
       "      <td>0.00000</td>\n",
       "      <td>0.00000</td>\n",
       "      <td>30.00000</td>\n",
       "      <td>0.00000</td>\n",
       "    </tr>\n",
       "  </tbody>\n",
       "</table>\n",
       "</div>"
      ],
      "text/plain": [
       "     order_id  compensation  discounted delivery  free delivery     gem  item discount  menu discount  voucher wallet\n",
       "0  1293286909 0.00000       0.00000              0.00000        0.00000 0.00000        30.00000       0.00000        \n",
       "1  1293286912 0.00000       0.00000              0.00000        0.00000 0.00000        30.00000       0.00000        "
      ]
     },
     "execution_count": 32,
     "metadata": {},
     "output_type": "execute_result"
    }
   ],
   "source": [
    "df_incentives = pd.read_csv('./data/mit_base_orders_incentives_oct.csv')\n",
    "df_incentives.head(2)"
   ]
  },
  {
   "cell_type": "code",
   "execution_count": 33,
   "metadata": {},
   "outputs": [
    {
     "name": "stdout",
     "output_type": "stream",
     "text": [
      "2828913\n",
      "2796753\n"
     ]
    }
   ],
   "source": [
    "%%time\n",
    "df_localness = df_localness.merge(df_incentives, on='order_id',how='left')\n",
    "print(df_localness.shape[0])\n",
    "df_localness.fillna(0,inplace=True)"
   ]
  },
  {
   "cell_type": "code",
   "execution_count": 34,
   "metadata": {},
   "outputs": [],
   "source": [
    "# create one categorical var for incentive types\n",
    "df_localness['incentives_type'] = 'none'\n",
    "df_localness.loc[df_localness['compensation'] != 0,'incentives_type'] = 'compensation'\n",
    "df_localness.loc[df_localness['discounted delivery'] != 0,'incentives_type'] = 'discounted delivery'\n",
    "df_localness.loc[df_localness['free delivery'] != 0,'incentives_type'] = 'free delivery'\n",
    "df_localness.loc[df_localness['gem'] != 0,'incentives_type'] = 'gem'\n",
    "df_localness.loc[df_localness['item discount'] != 0,'incentives_type'] = 'item discount'\n",
    "df_localness.loc[df_localness['menu discount'] != 0,'incentives_type'] = 'menu discount'\n",
    "df_localness.loc[df_localness['voucher wallet'] != 0,'incentives_type'] = 'voucher wallet'"
   ]
  },
  {
   "cell_type": "code",
   "execution_count": 35,
   "metadata": {},
   "outputs": [],
   "source": [
    "# create three dummy vars for three most important incentives\n",
    "df_localness['incentive_delivery'] = 'False'\n",
    "df_localness.loc[df_localness['discounted delivery'] != 0,'incentive_delivery'] = 'True'\n",
    "df_localness.loc[df_localness['free delivery'] != 0,'incentive_delivery'] = 'True'\n",
    "\n",
    "df_localness['incentive_menu_discount'] = 'False'\n",
    "df_localness.loc[df_localness['menu discount'] != 0,'incentive_menu_discount'] = 'True'\n",
    "\n",
    "df_localness['incentive_voucher_wallet'] = 'False'\n",
    "df_localness.loc[df_localness['voucher wallet'] != 0,'incentive_voucher_wallet'] = 'True'"
   ]
  },
  {
   "cell_type": "markdown",
   "metadata": {},
   "source": [
    "## Merge with rating data"
   ]
  },
  {
   "cell_type": "code",
   "execution_count": 36,
   "metadata": {},
   "outputs": [
    {
     "name": "stdout",
     "output_type": "stream",
     "text": [
      "9349\n",
      "Very good    6275\n",
      "Amazing      2239\n",
      "Good         698 \n",
      "OK           137 \n",
      "Name: rating, dtype: int64\n"
     ]
    },
    {
     "data": {
      "text/html": [
       "<div>\n",
       "<style scoped>\n",
       "    .dataframe tbody tr th:only-of-type {\n",
       "        vertical-align: middle;\n",
       "    }\n",
       "\n",
       "    .dataframe tbody tr th {\n",
       "        vertical-align: top;\n",
       "    }\n",
       "\n",
       "    .dataframe thead th {\n",
       "        text-align: right;\n",
       "    }\n",
       "</style>\n",
       "<table border=\"1\" class=\"dataframe\">\n",
       "  <thead>\n",
       "    <tr style=\"text-align: right;\">\n",
       "      <th></th>\n",
       "      <th>vendor_id</th>\n",
       "      <th>rating</th>\n",
       "    </tr>\n",
       "  </thead>\n",
       "  <tbody>\n",
       "    <tr>\n",
       "      <th>0</th>\n",
       "      <td>728391</td>\n",
       "      <td>Amazing</td>\n",
       "    </tr>\n",
       "    <tr>\n",
       "      <th>1</th>\n",
       "      <td>637519</td>\n",
       "      <td>Amazing</td>\n",
       "    </tr>\n",
       "    <tr>\n",
       "      <th>2</th>\n",
       "      <td>707758</td>\n",
       "      <td>Amazing</td>\n",
       "    </tr>\n",
       "    <tr>\n",
       "      <th>3</th>\n",
       "      <td>673790</td>\n",
       "      <td>Amazing</td>\n",
       "    </tr>\n",
       "    <tr>\n",
       "      <th>4</th>\n",
       "      <td>8440</td>\n",
       "      <td>Very good</td>\n",
       "    </tr>\n",
       "  </tbody>\n",
       "</table>\n",
       "</div>"
      ],
      "text/plain": [
       "   vendor_id     rating\n",
       "0  728391     Amazing  \n",
       "1  637519     Amazing  \n",
       "2  707758     Amazing  \n",
       "3  673790     Amazing  \n",
       "4  8440       Very good"
      ]
     },
     "execution_count": 36,
     "metadata": {},
     "output_type": "execute_result"
    }
   ],
   "source": [
    "df_ratings = pd.read_csv('./data/restaurant_ratings.csv')\n",
    "df_ratings = df_ratings[['vendor_id','rating']]\n",
    "print(df_ratings.shape[0])\n",
    "print(df_ratings.rating.value_counts())\n",
    "df_ratings.head()"
   ]
  },
  {
   "cell_type": "code",
   "execution_count": 37,
   "metadata": {},
   "outputs": [
    {
     "name": "stdout",
     "output_type": "stream",
     "text": [
      "2796753\n",
      "2796753\n"
     ]
    }
   ],
   "source": [
    "# left join with the picked resturants\n",
    "df_localness = df_localness.merge(df_ratings, how='left')\n",
    "print(df_localness.shape[0])\n",
    "df_localness['rating'] = df_localness['rating'].fillna('None')\n",
    "print(df_localness.shape[0])"
   ]
  },
  {
   "cell_type": "code",
   "execution_count": 38,
   "metadata": {},
   "outputs": [
    {
     "name": "stdout",
     "output_type": "stream",
     "text": [
      "2796753\n"
     ]
    }
   ],
   "source": [
    "# left join with nearest restaurants\n",
    "df_ratings = df_ratings.rename(columns={\"vendor_id\": \"n_vendor_id\", \"rating\":\"n_rating\"})\n",
    "df_localness = df_localness.merge(df_ratings, how='left')\n",
    "df_localness['n_rating'] = df_localness['n_rating'].fillna('None')\n",
    "print(df_localness.shape[0])"
   ]
  },
  {
   "cell_type": "markdown",
   "metadata": {},
   "source": [
    "## Individual order consistency indicator: entropy\n",
    "Lower value of entropy means high consistency"
   ]
  },
  {
   "cell_type": "code",
   "execution_count": null,
   "metadata": {},
   "outputs": [],
   "source": [
    "df_consistency = pd.read_csv('./data/order_consistency_oct.csv')\n",
    "print(df_consistency.shape[0])\n",
    "df_consistency.head(2)"
   ]
  },
  {
   "cell_type": "code",
   "execution_count": 45,
   "metadata": {},
   "outputs": [
    {
     "name": "stdout",
     "output_type": "stream",
     "text": [
      "False\n",
      "2796753\n"
     ]
    }
   ],
   "source": [
    "df_localness = df_localness.merge(df_consistency, how='left')\n",
    "print(df_localness['consistency'].isnull().values.any())\n",
    "print(df_localness.shape[0])"
   ]
  },
  {
   "cell_type": "markdown",
   "metadata": {},
   "source": [
    "## Total number of orders in one month for each individual\n",
    "entropy of consistency itself may be biased so also incorporate total number of orders each person placed in Oct"
   ]
  },
  {
   "cell_type": "code",
   "execution_count": 42,
   "metadata": {},
   "outputs": [
    {
     "name": "stdout",
     "output_type": "stream",
     "text": [
      "False\n",
      "2796753\n"
     ]
    }
   ],
   "source": [
    "df_totalorders = df_localness[['account_id','vendor_id']].groupby('account_id').count().reset_index()\n",
    "df_totalorders.columns = ['account_id', 'total_orders']\n",
    "# df_totalorders.head()\n",
    "df_localness = df_localness.merge(df_totalorders, how='left')\n",
    "print(df_localness['total_orders'].isnull().values.any())\n",
    "print(df_localness.shape[0])"
   ]
  },
  {
   "cell_type": "markdown",
   "metadata": {},
   "source": [
    "## Rename columns to avoid confusions"
   ]
  },
  {
   "cell_type": "code",
   "execution_count": 46,
   "metadata": {},
   "outputs": [
    {
     "name": "stdout",
     "output_type": "stream",
     "text": [
      "no rent data points: 29467\n",
      "2767286\n"
     ]
    }
   ],
   "source": [
    "# exclude rows without rent data\n",
    "print('no rent data points:',df_localness[df_localness.approxi_rent==0].shape[0])\n",
    "df_localness_filter = df_localness[df_localness.approxi_rent!=0]\n",
    "print(df_localness_filter.shape[0])"
   ]
  },
  {
   "cell_type": "code",
   "execution_count": 4,
   "metadata": {},
   "outputs": [],
   "source": [
    "df_localness_filter.loc[df_localness_filter.rating == 'Amazing', 'rating'] = '1.Amazing'\n",
    "df_localness_filter.loc[df_localness_filter.rating == 'Very good', 'rating'] = '2.Very good'\n",
    "df_localness_filter.loc[df_localness_filter.rating == 'Good', 'rating'] = '3.Good'\n",
    "df_localness_filter.loc[df_localness_filter.rating == 'OK', 'rating'] = '4.OK'\n",
    "df_localness_filter.loc[df_localness_filter.rating == 'None', 'rating'] = '5.None'\n",
    "\n",
    "df_localness_filter.loc[df_localness_filter.n_rating == 'Amazing', 'n_rating'] = '1.Amazing'\n",
    "df_localness_filter.loc[df_localness_filter.n_rating == 'Very good', 'n_rating'] = '2.Very good'\n",
    "df_localness_filter.loc[df_localness_filter.n_rating == 'Good', 'n_rating'] = '3.Good'\n",
    "df_localness_filter.loc[df_localness_filter.n_rating == 'OK', 'n_rating'] = '4.OK'\n",
    "df_localness_filter.loc[df_localness_filter.n_rating == 'None', 'n_rating'] = '5.None'\n",
    "\n",
    "df_localness_filter.loc[df_localness_filter.isweekend == True, 'isweekend'] = 'Yes'\n",
    "df_localness_filter.loc[df_localness_filter.isweekend == False, 'isweekend'] = 'No'\n",
    "\n",
    "df_localness_filter.loc[df_localness_filter.incentive_delivery == True, 'incentive_delivery'] = 'Yes'\n",
    "df_localness_filter.loc[df_localness_filter.incentive_delivery == False, 'incentive_delivery'] = 'No'\n",
    "\n",
    "df_localness_filter.loc[df_localness_filter.incentive_menu_discount == True, 'incentive_menu_discount'] = 'Yes'\n",
    "df_localness_filter.loc[df_localness_filter.incentive_menu_discount == False, 'incentive_menu_discount'] = 'No'\n",
    "\n",
    "df_localness_filter.loc[df_localness_filter.incentive_voucher_wallet == True, 'incentive_voucher_wallet'] = 'Yes'\n",
    "df_localness_filter.loc[df_localness_filter.incentive_voucher_wallet == False, 'incentive_voucher_wallet'] = 'No'"
   ]
  },
  {
   "cell_type": "code",
   "execution_count": 5,
   "metadata": {},
   "outputs": [],
   "source": [
    "df_localness_filter = df_localness_filter.rename(columns={\"item_price\": \"price_per_item\", \"approxi_rent\":\"estimated_rent\",\n",
    "  \"poi_count_0.5km\" : \"restaurant_count_0.5km\", \"poi_count_0.5_1km\": \"restaurant_count_0.5_1km\",\n",
    "  \"poi_count_1_2km\": \"restaurant_count_1_2km\", \"poi_count_2_3km\" : \"restaurant_count_2_3km\", \n",
    "  \"poi_count_3_4km\" : \"restaurant_count_3_4km\", \"poi_count_4_5km\" : \"restaurant_count_4_5km\"\n",
    "})"
   ]
  },
  {
   "cell_type": "markdown",
   "metadata": {},
   "source": [
    "## Correct localness value"
   ]
  },
  {
   "cell_type": "code",
   "execution_count": 12,
   "metadata": {},
   "outputs": [
    {
     "data": {
      "text/html": [
       "<div>\n",
       "<style scoped>\n",
       "    .dataframe tbody tr th:only-of-type {\n",
       "        vertical-align: middle;\n",
       "    }\n",
       "\n",
       "    .dataframe tbody tr th {\n",
       "        vertical-align: top;\n",
       "    }\n",
       "\n",
       "    .dataframe thead th {\n",
       "        text-align: right;\n",
       "    }\n",
       "</style>\n",
       "<table border=\"1\" class=\"dataframe\">\n",
       "  <thead>\n",
       "    <tr style=\"text-align: right;\">\n",
       "      <th></th>\n",
       "      <th>account_id</th>\n",
       "      <th>order_id</th>\n",
       "      <th>order_date</th>\n",
       "      <th>order_time</th>\n",
       "      <th>vendor_id</th>\n",
       "      <th>vendor_name</th>\n",
       "      <th>main_cuisine</th>\n",
       "      <th>vertical</th>\n",
       "      <th>delivery_fee_amount_lc</th>\n",
       "      <th>service_fee_amount_lc</th>\n",
       "      <th>basket_amount_lc</th>\n",
       "      <th>is_incentive_applied</th>\n",
       "      <th>incentive_amount_lc</th>\n",
       "      <th>pickup_id</th>\n",
       "      <th>customer_lon</th>\n",
       "      <th>customer_lat</th>\n",
       "      <th>vendor_lon</th>\n",
       "      <th>vendor_lat</th>\n",
       "      <th>order_time_hour</th>\n",
       "      <th>delivery_duration</th>\n",
       "      <th>total_duration</th>\n",
       "      <th>node_id</th>\n",
       "      <th>nearest_dist1</th>\n",
       "      <th>poi1</th>\n",
       "      <th>n_vertical</th>\n",
       "      <th>n_vendor_id</th>\n",
       "      <th>n_main_cuisine</th>\n",
       "      <th>n_vendor_name</th>\n",
       "      <th>n_vendor_lon</th>\n",
       "      <th>n_vendor_lat</th>\n",
       "      <th>vendor_index</th>\n",
       "      <th>pandana_distance_realdist</th>\n",
       "      <th>pandana_localness</th>\n",
       "      <th>speed</th>\n",
       "      <th>isweekend</th>\n",
       "      <th>price_per_item</th>\n",
       "      <th>customer_loc_id</th>\n",
       "      <th>entropy_0.5km</th>\n",
       "      <th>restaurant_count_0.5km</th>\n",
       "      <th>entropy_1km</th>\n",
       "      <th>poi_count_1km</th>\n",
       "      <th>entropy_2km</th>\n",
       "      <th>poi_count_2km</th>\n",
       "      <th>entropy_3km</th>\n",
       "      <th>poi_count_3km</th>\n",
       "      <th>entropy_4km</th>\n",
       "      <th>poi_count_4km</th>\n",
       "      <th>entropy_5km</th>\n",
       "      <th>poi_count_5km</th>\n",
       "      <th>restaurant_count_0.5_1km</th>\n",
       "      <th>restaurant_count_1_2km</th>\n",
       "      <th>restaurant_count_2_3km</th>\n",
       "      <th>restaurant_count_3_4km</th>\n",
       "      <th>restaurant_count_4_5km</th>\n",
       "      <th>estimated_rent</th>\n",
       "      <th>compensation</th>\n",
       "      <th>discounted delivery</th>\n",
       "      <th>free delivery</th>\n",
       "      <th>gem</th>\n",
       "      <th>item discount</th>\n",
       "      <th>menu discount</th>\n",
       "      <th>voucher wallet</th>\n",
       "      <th>incentives_type</th>\n",
       "      <th>incentive_delivery</th>\n",
       "      <th>incentive_menu_discount</th>\n",
       "      <th>incentive_voucher_wallet</th>\n",
       "      <th>rating</th>\n",
       "      <th>n_rating</th>\n",
       "      <th>total_orders</th>\n",
       "      <th>consistency</th>\n",
       "    </tr>\n",
       "  </thead>\n",
       "  <tbody>\n",
       "    <tr>\n",
       "      <th>0</th>\n",
       "      <td>7051337</td>\n",
       "      <td>1305576462</td>\n",
       "      <td>2023-10-10</td>\n",
       "      <td>2023-10-10 15:30:22</td>\n",
       "      <td>50868</td>\n",
       "      <td>SHAGHF, Jumeirah 3</td>\n",
       "      <td>coffee</td>\n",
       "      <td>food</td>\n",
       "      <td>0.00000</td>\n",
       "      <td>1.73000</td>\n",
       "      <td>57.75000</td>\n",
       "      <td>True</td>\n",
       "      <td>10.00000</td>\n",
       "      <td>249162013.00000</td>\n",
       "      <td>55.21388</td>\n",
       "      <td>25.15585</td>\n",
       "      <td>55.23119</td>\n",
       "      <td>25.18903</td>\n",
       "      <td>15</td>\n",
       "      <td>17</td>\n",
       "      <td>27</td>\n",
       "      <td>7584090309</td>\n",
       "      <td>0.65335</td>\n",
       "      <td>840</td>\n",
       "      <td>food</td>\n",
       "      <td>697762</td>\n",
       "      <td>coffee</td>\n",
       "      <td>Awaken Cafe, Al Wasl</td>\n",
       "      <td>55.21303</td>\n",
       "      <td>25.15146</td>\n",
       "      <td>840</td>\n",
       "      <td>4.61410</td>\n",
       "      <td>0.14160</td>\n",
       "      <td>10.25355</td>\n",
       "      <td>No</td>\n",
       "      <td>30.06471</td>\n",
       "      <td>55.21387725.155851</td>\n",
       "      <td>0.00000</td>\n",
       "      <td>0.00000</td>\n",
       "      <td>0.47137</td>\n",
       "      <td>21.00000</td>\n",
       "      <td>0.65855</td>\n",
       "      <td>105.00000</td>\n",
       "      <td>0.66518</td>\n",
       "      <td>198.00000</td>\n",
       "      <td>0.69070</td>\n",
       "      <td>296.00000</td>\n",
       "      <td>0.70457</td>\n",
       "      <td>582.00000</td>\n",
       "      <td>21.00000</td>\n",
       "      <td>84.00000</td>\n",
       "      <td>93.00000</td>\n",
       "      <td>98.00000</td>\n",
       "      <td>286.00000</td>\n",
       "      <td>90.44289</td>\n",
       "      <td>0.00000</td>\n",
       "      <td>0.00000</td>\n",
       "      <td>0.00000</td>\n",
       "      <td>0.00000</td>\n",
       "      <td>0.00000</td>\n",
       "      <td>0.00000</td>\n",
       "      <td>10.00000</td>\n",
       "      <td>voucher wallet</td>\n",
       "      <td>No</td>\n",
       "      <td>No</td>\n",
       "      <td>Yes</td>\n",
       "      <td>1.Amazing</td>\n",
       "      <td>5.None</td>\n",
       "      <td>58</td>\n",
       "      <td>0.85783</td>\n",
       "    </tr>\n",
       "    <tr>\n",
       "      <th>1</th>\n",
       "      <td>7051337</td>\n",
       "      <td>1313167366</td>\n",
       "      <td>2023-10-16</td>\n",
       "      <td>2023-10-16 16:43:34</td>\n",
       "      <td>50868</td>\n",
       "      <td>SHAGHF, Jumeirah 3</td>\n",
       "      <td>coffee</td>\n",
       "      <td>food</td>\n",
       "      <td>7.50000</td>\n",
       "      <td>0.90000</td>\n",
       "      <td>26.25000</td>\n",
       "      <td>True</td>\n",
       "      <td>10.00000</td>\n",
       "      <td>250948408.00000</td>\n",
       "      <td>55.21389</td>\n",
       "      <td>25.15572</td>\n",
       "      <td>55.23119</td>\n",
       "      <td>25.18903</td>\n",
       "      <td>16</td>\n",
       "      <td>13</td>\n",
       "      <td>31</td>\n",
       "      <td>7584090309</td>\n",
       "      <td>0.65335</td>\n",
       "      <td>840</td>\n",
       "      <td>food</td>\n",
       "      <td>697762</td>\n",
       "      <td>coffee</td>\n",
       "      <td>Awaken Cafe, Al Wasl</td>\n",
       "      <td>55.21303</td>\n",
       "      <td>25.15146</td>\n",
       "      <td>840</td>\n",
       "      <td>4.61410</td>\n",
       "      <td>0.14160</td>\n",
       "      <td>8.93051</td>\n",
       "      <td>No</td>\n",
       "      <td>30.06471</td>\n",
       "      <td>55.213885121047525.1557155663109</td>\n",
       "      <td>0.00000</td>\n",
       "      <td>0.00000</td>\n",
       "      <td>0.47137</td>\n",
       "      <td>21.00000</td>\n",
       "      <td>0.65855</td>\n",
       "      <td>105.00000</td>\n",
       "      <td>0.66603</td>\n",
       "      <td>197.00000</td>\n",
       "      <td>0.69169</td>\n",
       "      <td>295.00000</td>\n",
       "      <td>0.70585</td>\n",
       "      <td>587.00000</td>\n",
       "      <td>21.00000</td>\n",
       "      <td>84.00000</td>\n",
       "      <td>92.00000</td>\n",
       "      <td>98.00000</td>\n",
       "      <td>292.00000</td>\n",
       "      <td>90.65273</td>\n",
       "      <td>0.00000</td>\n",
       "      <td>0.00000</td>\n",
       "      <td>0.00000</td>\n",
       "      <td>0.00000</td>\n",
       "      <td>0.00000</td>\n",
       "      <td>0.00000</td>\n",
       "      <td>10.00000</td>\n",
       "      <td>voucher wallet</td>\n",
       "      <td>No</td>\n",
       "      <td>No</td>\n",
       "      <td>Yes</td>\n",
       "      <td>1.Amazing</td>\n",
       "      <td>5.None</td>\n",
       "      <td>58</td>\n",
       "      <td>0.85783</td>\n",
       "    </tr>\n",
       "  </tbody>\n",
       "</table>\n",
       "</div>"
      ],
      "text/plain": [
       "   account_id    order_id  order_date           order_time  vendor_id         vendor_name main_cuisine vertical  delivery_fee_amount_lc  service_fee_amount_lc  basket_amount_lc is_incentive_applied  incentive_amount_lc       pickup_id  customer_lon  customer_lat  vendor_lon  vendor_lat  order_time_hour  delivery_duration  total_duration     node_id  nearest_dist1  poi1 n_vertical  n_vendor_id n_main_cuisine         n_vendor_name  n_vendor_lon  n_vendor_lat  vendor_index  pandana_distance_realdist  pandana_localness    speed isweekend  price_per_item                   customer_loc_id  entropy_0.5km  restaurant_count_0.5km  entropy_1km  poi_count_1km  entropy_2km  poi_count_2km  entropy_3km  poi_count_3km  entropy_4km  poi_count_4km  entropy_5km  poi_count_5km  restaurant_count_0.5_1km  restaurant_count_1_2km  restaurant_count_2_3km  restaurant_count_3_4km  restaurant_count_4_5km  estimated_rent  compensation  discounted delivery  free delivery     gem  item discount  menu discount  \\\n",
       "0  7051337     1305576462  2023-10-10  2023-10-10 15:30:22  50868      SHAGHF, Jumeirah 3  coffee       food    0.00000                 1.73000                57.75000           True                10.00000             249162013.00000 55.21388      25.15585      55.23119    25.18903     15               17                 27              7584090309 0.65335         840   food       697762       coffee         Awaken Cafe, Al Wasl 55.21303      25.15146       840          4.61410                    0.14160            10.25355  No       30.06471         55.21387725.155851               0.00000        0.00000                 0.47137      21.00000       0.65855      105.00000      0.66518      198.00000      0.69070      296.00000      0.70457      582.00000      21.00000                  84.00000                93.00000                98.00000                286.00000               90.44289        0.00000       0.00000              0.00000        0.00000 0.00000        0.00000          \n",
       "1  7051337     1313167366  2023-10-16  2023-10-16 16:43:34  50868      SHAGHF, Jumeirah 3  coffee       food    7.50000                 0.90000                26.25000           True                10.00000             250948408.00000 55.21389      25.15572      55.23119    25.18903     16               13                 31              7584090309 0.65335         840   food       697762       coffee         Awaken Cafe, Al Wasl 55.21303      25.15146       840          4.61410                    0.14160            8.93051   No       30.06471         55.213885121047525.1557155663109 0.00000        0.00000                 0.47137      21.00000       0.65855      105.00000      0.66603      197.00000      0.69169      295.00000      0.70585      587.00000      21.00000                  84.00000                92.00000                98.00000                292.00000               90.65273        0.00000       0.00000              0.00000        0.00000 0.00000        0.00000          \n",
       "\n",
       "   voucher wallet incentives_type incentive_delivery incentive_menu_discount incentive_voucher_wallet     rating n_rating  total_orders  consistency  \n",
       "0 10.00000         voucher wallet  No                 No                      Yes                      1.Amazing  5.None   58           0.85783       \n",
       "1 10.00000         voucher wallet  No                 No                      Yes                      1.Amazing  5.None   58           0.85783       "
      ]
     },
     "execution_count": 12,
     "metadata": {},
     "output_type": "execute_result"
    }
   ],
   "source": [
    "df_localness_filter.head(2)"
   ]
  },
  {
   "cell_type": "code",
   "execution_count": 13,
   "metadata": {},
   "outputs": [],
   "source": [
    "df_localness_filter['nearest_dist1'] = df_localness_filter['nearest_dist1']+0.001 # plus one meter to correct zero localness when both pandana_distance_realdist and nearest_dist1 are zero\n",
    "df_localness_filter['pandana_distance_realdist'] = df_localness_filter['pandana_distance_realdist']+0.001\n",
    "df_localness_filter['pandana_localness'] = df_localness_filter['nearest_dist1']/df_localness_filter['pandana_distance_realdist']"
   ]
  },
  {
   "cell_type": "code",
   "execution_count": null,
   "metadata": {},
   "outputs": [],
   "source": []
  },
  {
   "cell_type": "markdown",
   "metadata": {},
   "source": [
    "## Save processed data for ML model"
   ]
  },
  {
   "cell_type": "code",
   "execution_count": 16,
   "metadata": {},
   "outputs": [
    {
     "name": "stdout",
     "output_type": "stream",
     "text": [
      "CPU times: user 1min 21s, sys: 1.49 s, total: 1min 23s\n",
      "Wall time: 1min 24s\n"
     ]
    }
   ],
   "source": [
    "%%time\n",
    "df_localness_filter.to_csv('./data/food_localness_final_oct.csv',index=False)"
   ]
  },
  {
   "cell_type": "code",
   "execution_count": 52,
   "metadata": {},
   "outputs": [
    {
     "name": "stdout",
     "output_type": "stream",
     "text": [
      "CPU times: user 2min 38s, sys: 1.96 s, total: 2min 40s\n",
      "Wall time: 4min 49s\n"
     ]
    }
   ],
   "source": [
    "# %%time\n",
    "# df_localness.to_csv('./data/food_localness_final_oct(withoutfilter_rent).csv',index=False)"
   ]
  },
  {
   "cell_type": "code",
   "execution_count": null,
   "metadata": {},
   "outputs": [],
   "source": []
  },
  {
   "cell_type": "code",
   "execution_count": 11,
   "metadata": {},
   "outputs": [
    {
     "name": "stdout",
     "output_type": "stream",
     "text": [
      "2767286\n"
     ]
    }
   ],
   "source": [
    "# import pandas as pd\n",
    "\n",
    "# df_localness_filter = pd.read_csv('./data/food_localness_final_oct.csv')\n",
    "# print(df_localness_filter.shape[0])"
   ]
  },
  {
   "cell_type": "code",
   "execution_count": null,
   "metadata": {},
   "outputs": [],
   "source": []
  },
  {
   "cell_type": "code",
   "execution_count": null,
   "metadata": {},
   "outputs": [],
   "source": []
  },
  {
   "cell_type": "code",
   "execution_count": null,
   "metadata": {},
   "outputs": [],
   "source": []
  },
  {
   "cell_type": "code",
   "execution_count": null,
   "metadata": {},
   "outputs": [],
   "source": []
  }
 ],
 "metadata": {
  "kernelspec": {
   "display_name": "python3.8",
   "language": "python",
   "name": "python3.8"
  },
  "language_info": {
   "codemirror_mode": {
    "name": "ipython",
    "version": 3
   },
   "file_extension": ".py",
   "mimetype": "text/x-python",
   "name": "python",
   "nbconvert_exporter": "python",
   "pygments_lexer": "ipython3",
   "version": "3.8.5"
  }
 },
 "nbformat": 4,
 "nbformat_minor": 2
}
