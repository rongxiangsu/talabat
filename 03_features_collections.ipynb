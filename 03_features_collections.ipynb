{
 "cells": [
  {
   "cell_type": "code",
   "execution_count": 1,
   "metadata": {},
   "outputs": [],
   "source": [
    "import datetime\n",
    "import geopandas as gpd\n",
    "import matplotlib.pyplot as plt\n",
    "import pandas as pd\n",
    "import numpy as np\n",
    "from shapely.geometry import Point\n",
    "from geopandas import GeoDataFrame\n",
    "import os\n",
    "\n",
    "import seaborn as sns\n",
    "pd.set_option(\"display.max_colwidth\", 0)\n",
    "pd.set_option(\"display.max_rows\", 500)\n",
    "pd.set_option(\"display.max_columns\", 500)\n",
    "pd.set_option(\"display.width\", 1000)\n",
    "pd.options.display.float_format = '{:.5f}'.format\n",
    "\n",
    "import warnings\n",
    "warnings.filterwarnings(\"ignore\")"
   ]
  },
  {
   "cell_type": "code",
   "execution_count": 2,
   "metadata": {},
   "outputs": [
    {
     "name": "stdout",
     "output_type": "stream",
     "text": [
      "CPU times: user 10.8 s, sys: 4.41 s, total: 15.2 s\n",
      "Wall time: 21.7 s\n"
     ]
    }
   ],
   "source": [
    "%%time\n",
    "df_localness = pd.read_csv('./data/food_localness_oct.csv',header=0) #,nrows=10\n",
    "# df_localness"
   ]
  },
  {
   "cell_type": "code",
   "execution_count": 3,
   "metadata": {},
   "outputs": [],
   "source": [
    "df_localness['customer_loc_id'] = df_localness['customer_lon'].astype(str)+df_localness['customer_lat'].astype(str)"
   ]
  },
  {
   "cell_type": "markdown",
   "metadata": {},
   "source": [
    "## Create weekend binary column"
   ]
  },
  {
   "cell_type": "code",
   "execution_count": 4,
   "metadata": {},
   "outputs": [
    {
     "name": "stdout",
     "output_type": "stream",
     "text": [
      "CPU times: user 5.13 s, sys: 122 ms, total: 5.25 s\n",
      "Wall time: 5.52 s\n"
     ]
    }
   ],
   "source": [
    "%%time\n",
    "# Create one column to determine if it is weekend\n",
    "df_localness['order_date'] = pd.to_datetime(df_localness['order_date']) \n",
    "\n",
    "# Define a function to check if a date falls on a weekend\n",
    "def is_weekend(date):\n",
    "    return (date.dayofweek == 5) or (date.dayofweek == 6)\n",
    "\n",
    "# Apply the function to the 'Date' column\n",
    "df_localness['isweekend'] = df_localness['order_date'].apply(lambda x: is_weekend(x))"
   ]
  },
  {
   "cell_type": "markdown",
   "metadata": {},
   "source": [
    "## Merge with mean price per item (proxy for expensiveness of restaurants)"
   ]
  },
  {
   "cell_type": "code",
   "execution_count": 5,
   "metadata": {},
   "outputs": [
    {
     "name": "stdout",
     "output_type": "stream",
     "text": [
      "2824594\n",
      "2809076\n"
     ]
    }
   ],
   "source": [
    "df_priceper_item = pd.read_csv('./data/mean_price_per_item.csv')\n",
    "df_localness = df_localness.merge(df_priceper_item, how='left',on='vendor_id')\n",
    "print(df_localness.shape[0])\n",
    "\n",
    "df_localness = df_localness[df_localness['item_price']!=0]\n",
    "print(df_localness.shape[0])"
   ]
  },
  {
   "cell_type": "markdown",
   "metadata": {},
   "source": [
    "## merge entropy and restaurant count data"
   ]
  },
  {
   "cell_type": "code",
   "execution_count": 8,
   "metadata": {},
   "outputs": [
    {
     "name": "stdout",
     "output_type": "stream",
     "text": [
      "2813376\n",
      "2813376\n",
      "2813376\n",
      "2813376\n",
      "2813376\n",
      "2813376\n",
      "CPU times: user 30.1 s, sys: 20.9 s, total: 51 s\n",
      "Wall time: 52.8 s\n"
     ]
    }
   ],
   "source": [
    "# %%time\n",
    "# distance_list = [0.5, 1, 2, 3, 4, 5] #unit:km\n",
    "\n",
    "# # left join various entropy indices and number of resturants\n",
    "# for distance_threshold in distance_list:\n",
    "#     entropy_col_name = 'entropy_'+str(distance_threshold)+'km'\n",
    "#     poi_col_name = 'poi_count_'+str(distance_threshold)+'km'\n",
    "#     entropy_file_path = './data/entropy_'+str(distance_threshold)+'km_customerlocations_oct.csv'\n",
    "#     poicount_file_path = './data/poi_count_'+str(distance_threshold)+'km_customerlocations_oct.csv'\n",
    "    \n",
    "#     entropy_bycustomerloc1 = pd.read_csv(entropy_file_path,header=0)\n",
    "#     df_localness = df_localness.merge(entropy_bycustomerloc1, how='left',on='customer_loc_id')\n",
    "#     df_localness[entropy_col_name] = df_localness[entropy_col_name].fillna(0)\n",
    "    \n",
    "#     poi_bycustomerloc1 = pd.read_csv(poicount_file_path,header=0)\n",
    "#     df_localness = df_localness.merge(poi_bycustomerloc1, how='left',on='customer_loc_id')\n",
    "#     df_localness[poi_col_name] = df_localness[poi_col_name].fillna(0)\n",
    "#     print(df_localness.shape[0])"
   ]
  },
  {
   "cell_type": "code",
   "execution_count": 6,
   "metadata": {},
   "outputs": [
    {
     "name": "stdout",
     "output_type": "stream",
     "text": [
      "2809076\n",
      "2809076\n",
      "2809076\n",
      "2809076\n",
      "2809076\n",
      "2809076\n",
      "CPU times: user 24 s, sys: 26.1 s, total: 50.1 s\n",
      "Wall time: 1min 4s\n"
     ]
    }
   ],
   "source": [
    "%%time\n",
    "distance_list = [0.5, 1, 2, 3, 4, 5] #unit:km\n",
    "\n",
    "# left join various entropy indices and number of resturants\n",
    "for distance_threshold in distance_list:\n",
    "    entropy_col_name = 'entropy_'+str(distance_threshold)+'km'\n",
    "    poi_col_name = 'poi_count_'+str(distance_threshold)+'km'\n",
    "    entropy_file_path = './data/entropy_'+str(distance_threshold)+'km_customerlocations_oct.csv'\n",
    "    poicount_file_path = './data/poi_count_'+str(distance_threshold)+'km_customerlocations_oct.csv'\n",
    "    \n",
    "    entropy_bycustomerloc1 = pd.read_csv(entropy_file_path,header=0)\n",
    "    df_localness = df_localness.merge(entropy_bycustomerloc1, how='left',on='order_id')\n",
    "    df_localness[entropy_col_name] = df_localness[entropy_col_name].fillna(0)\n",
    "    \n",
    "    poi_bycustomerloc1 = pd.read_csv(poicount_file_path,header=0)\n",
    "    df_localness = df_localness.merge(poi_bycustomerloc1, how='left',on='order_id')\n",
    "    df_localness[poi_col_name] = df_localness[poi_col_name].fillna(0)\n",
    "    print(df_localness.shape[0])"
   ]
  },
  {
   "cell_type": "code",
   "execution_count": 7,
   "metadata": {},
   "outputs": [],
   "source": [
    "df_localness['poi_count_0.5_1km'] = df_localness['poi_count_1km'] - df_localness['poi_count_0.5km']\n",
    "df_localness['poi_count_1_2km'] = df_localness['poi_count_2km'] - df_localness['poi_count_1km']\n",
    "df_localness['poi_count_2_3km'] = df_localness['poi_count_3km'] - df_localness['poi_count_2km']\n",
    "df_localness['poi_count_3_4km'] = df_localness['poi_count_4km'] - df_localness['poi_count_3km']\n",
    "df_localness['poi_count_4_5km'] = df_localness['poi_count_5km'] - df_localness['poi_count_4km']"
   ]
  },
  {
   "cell_type": "code",
   "execution_count": 9,
   "metadata": {},
   "outputs": [],
   "source": [
    "# df_localness.head(3)"
   ]
  },
  {
   "cell_type": "markdown",
   "metadata": {},
   "source": [
    "## Merge with rent data"
   ]
  },
  {
   "cell_type": "code",
   "execution_count": 8,
   "metadata": {},
   "outputs": [
    {
     "name": "stdout",
     "output_type": "stream",
     "text": [
      "791511\n"
     ]
    },
    {
     "data": {
      "text/html": [
       "<div>\n",
       "<style scoped>\n",
       "    .dataframe tbody tr th:only-of-type {\n",
       "        vertical-align: middle;\n",
       "    }\n",
       "\n",
       "    .dataframe tbody tr th {\n",
       "        vertical-align: top;\n",
       "    }\n",
       "\n",
       "    .dataframe thead th {\n",
       "        text-align: right;\n",
       "    }\n",
       "</style>\n",
       "<table border=\"1\" class=\"dataframe\">\n",
       "  <thead>\n",
       "    <tr style=\"text-align: right;\">\n",
       "      <th></th>\n",
       "      <th>customer_loc_id</th>\n",
       "      <th>approxi_rent</th>\n",
       "    </tr>\n",
       "  </thead>\n",
       "  <tbody>\n",
       "    <tr>\n",
       "      <th>0</th>\n",
       "      <td>55.21387725.155851</td>\n",
       "      <td>90.44289</td>\n",
       "    </tr>\n",
       "    <tr>\n",
       "      <th>1</th>\n",
       "      <td>55.213885121047525.1557155663109</td>\n",
       "      <td>90.65273</td>\n",
       "    </tr>\n",
       "    <tr>\n",
       "      <th>2</th>\n",
       "      <td>55.21368825.15563</td>\n",
       "      <td>91.13944</td>\n",
       "    </tr>\n",
       "    <tr>\n",
       "      <th>3</th>\n",
       "      <td>55.2138425.155878</td>\n",
       "      <td>90.46375</td>\n",
       "    </tr>\n",
       "    <tr>\n",
       "      <th>4</th>\n",
       "      <td>55.213881433010125.1557653365541</td>\n",
       "      <td>90.57859</td>\n",
       "    </tr>\n",
       "  </tbody>\n",
       "</table>\n",
       "</div>"
      ],
      "text/plain": [
       "                    customer_loc_id  approxi_rent\n",
       "0  55.21387725.155851               90.44289     \n",
       "1  55.213885121047525.1557155663109 90.65273     \n",
       "2  55.21368825.15563                91.13944     \n",
       "3  55.2138425.155878                90.46375     \n",
       "4  55.213881433010125.1557653365541 90.57859     "
      ]
     },
     "execution_count": 8,
     "metadata": {},
     "output_type": "execute_result"
    }
   ],
   "source": [
    "unique_customerlocs_withrent = pd.read_csv('./data/estimated_rent_customerlocations_oct.csv')\n",
    "print(unique_customerlocs_withrent.shape[0])\n",
    "unique_customerlocs_withrent.head()"
   ]
  },
  {
   "cell_type": "code",
   "execution_count": 9,
   "metadata": {},
   "outputs": [
    {
     "name": "stdout",
     "output_type": "stream",
     "text": [
      "2809076\n"
     ]
    }
   ],
   "source": [
    "df_localness = df_localness.merge(unique_customerlocs_withrent, how='left',on='customer_loc_id')\n",
    "print(df_localness.shape[0])"
   ]
  },
  {
   "cell_type": "code",
   "execution_count": 10,
   "metadata": {},
   "outputs": [
    {
     "data": {
      "text/html": [
       "<div>\n",
       "<style scoped>\n",
       "    .dataframe tbody tr th:only-of-type {\n",
       "        vertical-align: middle;\n",
       "    }\n",
       "\n",
       "    .dataframe tbody tr th {\n",
       "        vertical-align: top;\n",
       "    }\n",
       "\n",
       "    .dataframe thead th {\n",
       "        text-align: right;\n",
       "    }\n",
       "</style>\n",
       "<table border=\"1\" class=\"dataframe\">\n",
       "  <thead>\n",
       "    <tr style=\"text-align: right;\">\n",
       "      <th></th>\n",
       "      <th>account_id</th>\n",
       "      <th>order_id</th>\n",
       "      <th>order_date</th>\n",
       "      <th>order_time</th>\n",
       "      <th>vendor_id</th>\n",
       "      <th>vendor_name</th>\n",
       "      <th>main_cuisine</th>\n",
       "      <th>vertical</th>\n",
       "      <th>delivery_fee_amount_lc</th>\n",
       "      <th>service_fee_amount_lc</th>\n",
       "      <th>basket_amount_lc</th>\n",
       "      <th>is_incentive_applied</th>\n",
       "      <th>incentive_amount_lc</th>\n",
       "      <th>pickup_id</th>\n",
       "      <th>customer_lon</th>\n",
       "      <th>customer_lat</th>\n",
       "      <th>vendor_lon</th>\n",
       "      <th>vendor_lat</th>\n",
       "      <th>order_time_hour</th>\n",
       "      <th>delivery_duration</th>\n",
       "      <th>total_duration</th>\n",
       "      <th>node_id</th>\n",
       "      <th>nearest_dist1</th>\n",
       "      <th>poi1</th>\n",
       "      <th>n_vertical</th>\n",
       "      <th>n_vendor_id</th>\n",
       "      <th>n_main_cuisine</th>\n",
       "      <th>n_vendor_name</th>\n",
       "      <th>n_vendor_lon</th>\n",
       "      <th>n_vendor_lat</th>\n",
       "      <th>vendor_index</th>\n",
       "      <th>pandana_distance_realdist</th>\n",
       "      <th>pandana_localness</th>\n",
       "      <th>speed</th>\n",
       "      <th>customer_loc_id</th>\n",
       "      <th>isweekend</th>\n",
       "      <th>item_price</th>\n",
       "      <th>entropy_0.5km</th>\n",
       "      <th>poi_count_0.5km</th>\n",
       "      <th>entropy_1km</th>\n",
       "      <th>poi_count_1km</th>\n",
       "      <th>entropy_2km</th>\n",
       "      <th>poi_count_2km</th>\n",
       "      <th>entropy_3km</th>\n",
       "      <th>poi_count_3km</th>\n",
       "      <th>entropy_4km</th>\n",
       "      <th>poi_count_4km</th>\n",
       "      <th>entropy_5km</th>\n",
       "      <th>poi_count_5km</th>\n",
       "      <th>poi_count_0.5_1km</th>\n",
       "      <th>poi_count_1_2km</th>\n",
       "      <th>poi_count_2_3km</th>\n",
       "      <th>poi_count_3_4km</th>\n",
       "      <th>poi_count_4_5km</th>\n",
       "      <th>approxi_rent</th>\n",
       "    </tr>\n",
       "  </thead>\n",
       "  <tbody>\n",
       "    <tr>\n",
       "      <th>0</th>\n",
       "      <td>1237695</td>\n",
       "      <td>1304769890</td>\n",
       "      <td>2023-10-10</td>\n",
       "      <td>2023-10-10 00:54:08</td>\n",
       "      <td>701885</td>\n",
       "      <td>Subz, AlBarsha 3</td>\n",
       "      <td>american</td>\n",
       "      <td>food</td>\n",
       "      <td>7.50000</td>\n",
       "      <td>1.92000</td>\n",
       "      <td>64.00000</td>\n",
       "      <td>True</td>\n",
       "      <td>30.00000</td>\n",
       "      <td>249052903.00000</td>\n",
       "      <td>55.14407</td>\n",
       "      <td>25.06988</td>\n",
       "      <td>55.19383</td>\n",
       "      <td>25.08783</td>\n",
       "      <td>0</td>\n",
       "      <td>21</td>\n",
       "      <td>50</td>\n",
       "      <td>2669233716</td>\n",
       "      <td>0.68707</td>\n",
       "      <td>1778</td>\n",
       "      <td>food</td>\n",
       "      <td>660366</td>\n",
       "      <td>american</td>\n",
       "      <td>Cheat Day - Burgers &amp; Salads, Jumeirah Lakes Towers</td>\n",
       "      <td>55.14022</td>\n",
       "      <td>25.06550</td>\n",
       "      <td>1778</td>\n",
       "      <td>7.29795</td>\n",
       "      <td>0.09415</td>\n",
       "      <td>20.85127</td>\n",
       "      <td>55.14406625.069883</td>\n",
       "      <td>False</td>\n",
       "      <td>NaN</td>\n",
       "      <td>0.60866</td>\n",
       "      <td>70.00000</td>\n",
       "      <td>0.67502</td>\n",
       "      <td>137.00000</td>\n",
       "      <td>0.71957</td>\n",
       "      <td>368.00000</td>\n",
       "      <td>0.71832</td>\n",
       "      <td>376.00000</td>\n",
       "      <td>0.71478</td>\n",
       "      <td>394.00000</td>\n",
       "      <td>0.70749</td>\n",
       "      <td>461.00000</td>\n",
       "      <td>67.00000</td>\n",
       "      <td>231.00000</td>\n",
       "      <td>8.00000</td>\n",
       "      <td>18.00000</td>\n",
       "      <td>67.00000</td>\n",
       "      <td>87.94369</td>\n",
       "    </tr>\n",
       "    <tr>\n",
       "      <th>1</th>\n",
       "      <td>1027548</td>\n",
       "      <td>1304769334</td>\n",
       "      <td>2023-10-10</td>\n",
       "      <td>2023-10-10 00:53:16</td>\n",
       "      <td>701885</td>\n",
       "      <td>Subz, AlBarsha 3</td>\n",
       "      <td>american</td>\n",
       "      <td>food</td>\n",
       "      <td>7.50000</td>\n",
       "      <td>1.92000</td>\n",
       "      <td>64.00000</td>\n",
       "      <td>True</td>\n",
       "      <td>30.00000</td>\n",
       "      <td>249052903.00000</td>\n",
       "      <td>55.14435</td>\n",
       "      <td>25.06983</td>\n",
       "      <td>55.19383</td>\n",
       "      <td>25.08783</td>\n",
       "      <td>0</td>\n",
       "      <td>16</td>\n",
       "      <td>46</td>\n",
       "      <td>2669233716</td>\n",
       "      <td>0.68707</td>\n",
       "      <td>1778</td>\n",
       "      <td>food</td>\n",
       "      <td>660366</td>\n",
       "      <td>american</td>\n",
       "      <td>Cheat Day - Burgers &amp; Salads, Jumeirah Lakes Towers</td>\n",
       "      <td>55.14022</td>\n",
       "      <td>25.06550</td>\n",
       "      <td>1778</td>\n",
       "      <td>7.29795</td>\n",
       "      <td>0.09415</td>\n",
       "      <td>27.36730</td>\n",
       "      <td>55.1443525.06983</td>\n",
       "      <td>False</td>\n",
       "      <td>NaN</td>\n",
       "      <td>0.50297</td>\n",
       "      <td>37.00000</td>\n",
       "      <td>0.67241</td>\n",
       "      <td>133.00000</td>\n",
       "      <td>0.71957</td>\n",
       "      <td>368.00000</td>\n",
       "      <td>0.71832</td>\n",
       "      <td>376.00000</td>\n",
       "      <td>0.71478</td>\n",
       "      <td>394.00000</td>\n",
       "      <td>0.70749</td>\n",
       "      <td>461.00000</td>\n",
       "      <td>96.00000</td>\n",
       "      <td>235.00000</td>\n",
       "      <td>8.00000</td>\n",
       "      <td>18.00000</td>\n",
       "      <td>67.00000</td>\n",
       "      <td>88.00245</td>\n",
       "    </tr>\n",
       "  </tbody>\n",
       "</table>\n",
       "</div>"
      ],
      "text/plain": [
       "   account_id    order_id order_date           order_time  vendor_id       vendor_name main_cuisine vertical  delivery_fee_amount_lc  service_fee_amount_lc  basket_amount_lc is_incentive_applied  incentive_amount_lc       pickup_id  customer_lon  customer_lat  vendor_lon  vendor_lat  order_time_hour  delivery_duration  total_duration     node_id  nearest_dist1  poi1 n_vertical  n_vendor_id n_main_cuisine                                        n_vendor_name  n_vendor_lon  n_vendor_lat  vendor_index  pandana_distance_realdist  pandana_localness    speed     customer_loc_id  isweekend  item_price  entropy_0.5km  poi_count_0.5km  entropy_1km  poi_count_1km  entropy_2km  poi_count_2km  entropy_3km  poi_count_3km  entropy_4km  poi_count_4km  entropy_5km  poi_count_5km  poi_count_0.5_1km  poi_count_1_2km  poi_count_2_3km  poi_count_3_4km  poi_count_4_5km  approxi_rent\n",
       "0  1237695     1304769890 2023-10-10  2023-10-10 00:54:08  701885     Subz, AlBarsha 3  american     food    7.50000                 1.92000                64.00000           True                30.00000             249052903.00000 55.14407      25.06988      55.19383    25.08783     0                21                 50              2669233716 0.68707         1778  food       660366       american       Cheat Day - Burgers & Salads, Jumeirah Lakes Towers 55.14022      25.06550       1778         7.29795                    0.09415            20.85127  55.14406625.069883  False     NaN         0.60866        70.00000         0.67502      137.00000      0.71957      368.00000      0.71832      376.00000      0.71478      394.00000      0.70749      461.00000      67.00000           231.00000        8.00000          18.00000         67.00000         87.94369     \n",
       "1  1027548     1304769334 2023-10-10  2023-10-10 00:53:16  701885     Subz, AlBarsha 3  american     food    7.50000                 1.92000                64.00000           True                30.00000             249052903.00000 55.14435      25.06983      55.19383    25.08783     0                16                 46              2669233716 0.68707         1778  food       660366       american       Cheat Day - Burgers & Salads, Jumeirah Lakes Towers 55.14022      25.06550       1778         7.29795                    0.09415            27.36730  55.1443525.06983    False     NaN         0.50297        37.00000         0.67241      133.00000      0.71957      368.00000      0.71832      376.00000      0.71478      394.00000      0.70749      461.00000      96.00000           235.00000        8.00000          18.00000         67.00000         88.00245     "
      ]
     },
     "execution_count": 10,
     "metadata": {},
     "output_type": "execute_result"
    }
   ],
   "source": [
    "df_localness.head(2)"
   ]
  },
  {
   "cell_type": "markdown",
   "metadata": {},
   "source": [
    "## merge incentives data"
   ]
  },
  {
   "cell_type": "code",
   "execution_count": 11,
   "metadata": {},
   "outputs": [
    {
     "data": {
      "text/html": [
       "<div>\n",
       "<style scoped>\n",
       "    .dataframe tbody tr th:only-of-type {\n",
       "        vertical-align: middle;\n",
       "    }\n",
       "\n",
       "    .dataframe tbody tr th {\n",
       "        vertical-align: top;\n",
       "    }\n",
       "\n",
       "    .dataframe thead th {\n",
       "        text-align: right;\n",
       "    }\n",
       "</style>\n",
       "<table border=\"1\" class=\"dataframe\">\n",
       "  <thead>\n",
       "    <tr style=\"text-align: right;\">\n",
       "      <th></th>\n",
       "      <th>order_id</th>\n",
       "      <th>compensation</th>\n",
       "      <th>discounted delivery</th>\n",
       "      <th>free delivery</th>\n",
       "      <th>gem</th>\n",
       "      <th>item discount</th>\n",
       "      <th>menu discount</th>\n",
       "      <th>voucher wallet</th>\n",
       "    </tr>\n",
       "  </thead>\n",
       "  <tbody>\n",
       "    <tr>\n",
       "      <th>0</th>\n",
       "      <td>1293286909</td>\n",
       "      <td>0.00000</td>\n",
       "      <td>0.00000</td>\n",
       "      <td>0.00000</td>\n",
       "      <td>0.00000</td>\n",
       "      <td>0.00000</td>\n",
       "      <td>30.00000</td>\n",
       "      <td>0.00000</td>\n",
       "    </tr>\n",
       "    <tr>\n",
       "      <th>1</th>\n",
       "      <td>1293286912</td>\n",
       "      <td>0.00000</td>\n",
       "      <td>0.00000</td>\n",
       "      <td>0.00000</td>\n",
       "      <td>0.00000</td>\n",
       "      <td>0.00000</td>\n",
       "      <td>30.00000</td>\n",
       "      <td>0.00000</td>\n",
       "    </tr>\n",
       "  </tbody>\n",
       "</table>\n",
       "</div>"
      ],
      "text/plain": [
       "     order_id  compensation  discounted delivery  free delivery     gem  item discount  menu discount  voucher wallet\n",
       "0  1293286909 0.00000       0.00000              0.00000        0.00000 0.00000        30.00000       0.00000        \n",
       "1  1293286912 0.00000       0.00000              0.00000        0.00000 0.00000        30.00000       0.00000        "
      ]
     },
     "execution_count": 11,
     "metadata": {},
     "output_type": "execute_result"
    }
   ],
   "source": [
    "df_incentives = pd.read_csv('./data/mit_base_orders_incentives_oct.csv')\n",
    "df_incentives.head(2)"
   ]
  },
  {
   "cell_type": "code",
   "execution_count": 12,
   "metadata": {},
   "outputs": [
    {
     "name": "stdout",
     "output_type": "stream",
     "text": [
      "2809076\n",
      "CPU times: user 9.7 s, sys: 4.45 s, total: 14.1 s\n",
      "Wall time: 14.3 s\n"
     ]
    }
   ],
   "source": [
    "%%time\n",
    "df_localness = df_localness.merge(df_incentives, on='order_id',how='left')\n",
    "print(df_localness.shape[0])\n",
    "df_localness.fillna(0,inplace=True)"
   ]
  },
  {
   "cell_type": "code",
   "execution_count": 13,
   "metadata": {},
   "outputs": [],
   "source": [
    "# create one categorical var for incentive types\n",
    "df_localness['incentives_type'] = 'none'\n",
    "df_localness.loc[df_localness['compensation'] != 0,'incentives_type'] = 'compensation'\n",
    "df_localness.loc[df_localness['discounted delivery'] != 0,'incentives_type'] = 'discounted delivery'\n",
    "df_localness.loc[df_localness['free delivery'] != 0,'incentives_type'] = 'free delivery'\n",
    "df_localness.loc[df_localness['gem'] != 0,'incentives_type'] = 'gem'\n",
    "df_localness.loc[df_localness['item discount'] != 0,'incentives_type'] = 'item discount'\n",
    "df_localness.loc[df_localness['menu discount'] != 0,'incentives_type'] = 'menu discount'\n",
    "df_localness.loc[df_localness['voucher wallet'] != 0,'incentives_type'] = 'voucher wallet'"
   ]
  },
  {
   "cell_type": "code",
   "execution_count": 14,
   "metadata": {},
   "outputs": [],
   "source": [
    "# create three dummy vars for three most important incentives\n",
    "df_localness['incentive_delivery'] = 'False'\n",
    "df_localness.loc[df_localness['discounted delivery'] != 0,'incentive_delivery'] = 'True'\n",
    "df_localness.loc[df_localness['free delivery'] != 0,'incentive_delivery'] = 'True'\n",
    "\n",
    "df_localness['incentive_menu_discount'] = 'False'\n",
    "df_localness.loc[df_localness['menu discount'] != 0,'incentive_menu_discount'] = 'True'\n",
    "\n",
    "df_localness['incentive_voucher_wallet'] = 'False'\n",
    "df_localness.loc[df_localness['voucher wallet'] != 0,'incentive_voucher_wallet'] = 'True'"
   ]
  },
  {
   "cell_type": "markdown",
   "metadata": {},
   "source": [
    "## Merge with rating data"
   ]
  },
  {
   "cell_type": "code",
   "execution_count": 15,
   "metadata": {},
   "outputs": [
    {
     "name": "stdout",
     "output_type": "stream",
     "text": [
      "9349\n",
      "Very good    6275\n",
      "Amazing      2239\n",
      "Good         698 \n",
      "OK           137 \n",
      "Name: rating, dtype: int64\n"
     ]
    },
    {
     "data": {
      "text/html": [
       "<div>\n",
       "<style scoped>\n",
       "    .dataframe tbody tr th:only-of-type {\n",
       "        vertical-align: middle;\n",
       "    }\n",
       "\n",
       "    .dataframe tbody tr th {\n",
       "        vertical-align: top;\n",
       "    }\n",
       "\n",
       "    .dataframe thead th {\n",
       "        text-align: right;\n",
       "    }\n",
       "</style>\n",
       "<table border=\"1\" class=\"dataframe\">\n",
       "  <thead>\n",
       "    <tr style=\"text-align: right;\">\n",
       "      <th></th>\n",
       "      <th>vendor_id</th>\n",
       "      <th>rating</th>\n",
       "    </tr>\n",
       "  </thead>\n",
       "  <tbody>\n",
       "    <tr>\n",
       "      <th>0</th>\n",
       "      <td>728391</td>\n",
       "      <td>Amazing</td>\n",
       "    </tr>\n",
       "    <tr>\n",
       "      <th>1</th>\n",
       "      <td>637519</td>\n",
       "      <td>Amazing</td>\n",
       "    </tr>\n",
       "    <tr>\n",
       "      <th>2</th>\n",
       "      <td>707758</td>\n",
       "      <td>Amazing</td>\n",
       "    </tr>\n",
       "    <tr>\n",
       "      <th>3</th>\n",
       "      <td>673790</td>\n",
       "      <td>Amazing</td>\n",
       "    </tr>\n",
       "    <tr>\n",
       "      <th>4</th>\n",
       "      <td>8440</td>\n",
       "      <td>Very good</td>\n",
       "    </tr>\n",
       "  </tbody>\n",
       "</table>\n",
       "</div>"
      ],
      "text/plain": [
       "   vendor_id     rating\n",
       "0  728391     Amazing  \n",
       "1  637519     Amazing  \n",
       "2  707758     Amazing  \n",
       "3  673790     Amazing  \n",
       "4  8440       Very good"
      ]
     },
     "execution_count": 15,
     "metadata": {},
     "output_type": "execute_result"
    }
   ],
   "source": [
    "df_ratings = pd.read_csv('./data/restaurant_ratings.csv')\n",
    "df_ratings = df_ratings[['vendor_id','rating']]\n",
    "print(df_ratings.shape[0])\n",
    "print(df_ratings.rating.value_counts())\n",
    "df_ratings.head()"
   ]
  },
  {
   "cell_type": "code",
   "execution_count": 16,
   "metadata": {},
   "outputs": [
    {
     "name": "stdout",
     "output_type": "stream",
     "text": [
      "2809076\n",
      "2809076\n"
     ]
    }
   ],
   "source": [
    "# left join with the picked resturants\n",
    "df_localness = df_localness.merge(df_ratings, how='left')\n",
    "print(df_localness.shape[0])\n",
    "df_localness['rating'] = df_localness['rating'].fillna('None')\n",
    "print(df_localness.shape[0])"
   ]
  },
  {
   "cell_type": "code",
   "execution_count": 17,
   "metadata": {},
   "outputs": [
    {
     "name": "stdout",
     "output_type": "stream",
     "text": [
      "2809076\n"
     ]
    }
   ],
   "source": [
    "# left join with nearest restaurants\n",
    "df_ratings = df_ratings.rename(columns={\"vendor_id\": \"n_vendor_id\", \"rating\":\"n_rating\"})\n",
    "df_localness = df_localness.merge(df_ratings, how='left')\n",
    "df_localness['n_rating'] = df_localness['n_rating'].fillna('None')\n",
    "print(df_localness.shape[0])"
   ]
  },
  {
   "cell_type": "markdown",
   "metadata": {},
   "source": [
    "## Merge with individual order consistency indicator: entropy\n",
    "Lower value of entropy means high consistency"
   ]
  },
  {
   "cell_type": "code",
   "execution_count": 18,
   "metadata": {},
   "outputs": [
    {
     "name": "stdout",
     "output_type": "stream",
     "text": [
      "563561\n"
     ]
    },
    {
     "data": {
      "text/html": [
       "<div>\n",
       "<style scoped>\n",
       "    .dataframe tbody tr th:only-of-type {\n",
       "        vertical-align: middle;\n",
       "    }\n",
       "\n",
       "    .dataframe tbody tr th {\n",
       "        vertical-align: top;\n",
       "    }\n",
       "\n",
       "    .dataframe thead th {\n",
       "        text-align: right;\n",
       "    }\n",
       "</style>\n",
       "<table border=\"1\" class=\"dataframe\">\n",
       "  <thead>\n",
       "    <tr style=\"text-align: right;\">\n",
       "      <th></th>\n",
       "      <th>account_id</th>\n",
       "      <th>consistency</th>\n",
       "    </tr>\n",
       "  </thead>\n",
       "  <tbody>\n",
       "    <tr>\n",
       "      <th>0</th>\n",
       "      <td>1008</td>\n",
       "      <td>1.00000</td>\n",
       "    </tr>\n",
       "    <tr>\n",
       "      <th>1</th>\n",
       "      <td>4626</td>\n",
       "      <td>0.76372</td>\n",
       "    </tr>\n",
       "  </tbody>\n",
       "</table>\n",
       "</div>"
      ],
      "text/plain": [
       "   account_id  consistency\n",
       "0  1008       1.00000     \n",
       "1  4626       0.76372     "
      ]
     },
     "execution_count": 18,
     "metadata": {},
     "output_type": "execute_result"
    }
   ],
   "source": [
    "df_consistency = pd.read_csv('./data/order_consistency_oct.csv')\n",
    "print(df_consistency.shape[0])\n",
    "df_consistency.head(2)"
   ]
  },
  {
   "cell_type": "code",
   "execution_count": 19,
   "metadata": {},
   "outputs": [
    {
     "name": "stdout",
     "output_type": "stream",
     "text": [
      "False\n",
      "2809076\n"
     ]
    }
   ],
   "source": [
    "df_localness = df_localness.merge(df_consistency, how='left')\n",
    "print(df_localness['consistency'].isnull().values.any())\n",
    "print(df_localness.shape[0])"
   ]
  },
  {
   "cell_type": "markdown",
   "metadata": {},
   "source": [
    "## Merge with total number of orders in one month for each individual\n",
    "entropy of consistency itself may be biased so also incorporate total number of orders each person placed in Oct"
   ]
  },
  {
   "cell_type": "code",
   "execution_count": 20,
   "metadata": {},
   "outputs": [
    {
     "name": "stdout",
     "output_type": "stream",
     "text": [
      "False\n",
      "2809076\n"
     ]
    }
   ],
   "source": [
    "df_totalorders = df_localness[['account_id','vendor_id']].groupby('account_id').count().reset_index()\n",
    "df_totalorders.columns = ['account_id', 'total_orders']\n",
    "# df_totalorders.head()\n",
    "df_localness = df_localness.merge(df_totalorders, how='left')\n",
    "print(df_localness['total_orders'].isnull().values.any())\n",
    "print(df_localness.shape[0])"
   ]
  },
  {
   "cell_type": "markdown",
   "metadata": {},
   "source": [
    "## Rename columns to avoid confusions"
   ]
  },
  {
   "cell_type": "code",
   "execution_count": 21,
   "metadata": {},
   "outputs": [
    {
     "name": "stdout",
     "output_type": "stream",
     "text": [
      "no rent data points: 30354\n",
      "2778722\n"
     ]
    }
   ],
   "source": [
    "# exclude rows without rent data\n",
    "print('no rent data points:',df_localness[df_localness.approxi_rent==0].shape[0])\n",
    "df_localness_filter = df_localness[df_localness.approxi_rent!=0]\n",
    "print(df_localness_filter.shape[0])"
   ]
  },
  {
   "cell_type": "code",
   "execution_count": 22,
   "metadata": {},
   "outputs": [],
   "source": [
    "df_localness_filter.loc[df_localness_filter.rating == 'Amazing', 'rating'] = '1.Amazing'\n",
    "df_localness_filter.loc[df_localness_filter.rating == 'Very good', 'rating'] = '2.Very good'\n",
    "df_localness_filter.loc[df_localness_filter.rating == 'Good', 'rating'] = '3.Good'\n",
    "df_localness_filter.loc[df_localness_filter.rating == 'OK', 'rating'] = '4.OK'\n",
    "df_localness_filter.loc[df_localness_filter.rating == 'None', 'rating'] = '5.None'\n",
    "\n",
    "df_localness_filter.loc[df_localness_filter.n_rating == 'Amazing', 'n_rating'] = '1.Amazing'\n",
    "df_localness_filter.loc[df_localness_filter.n_rating == 'Very good', 'n_rating'] = '2.Very good'\n",
    "df_localness_filter.loc[df_localness_filter.n_rating == 'Good', 'n_rating'] = '3.Good'\n",
    "df_localness_filter.loc[df_localness_filter.n_rating == 'OK', 'n_rating'] = '4.OK'\n",
    "df_localness_filter.loc[df_localness_filter.n_rating == 'None', 'n_rating'] = '5.None'\n",
    "\n",
    "df_localness_filter.loc[df_localness_filter.isweekend == True, 'isweekend'] = 'Yes'\n",
    "df_localness_filter.loc[df_localness_filter.isweekend == False, 'isweekend'] = 'No'\n",
    "\n",
    "df_localness_filter.loc[df_localness_filter.incentive_delivery == True, 'incentive_delivery'] = 'Yes'\n",
    "df_localness_filter.loc[df_localness_filter.incentive_delivery == False, 'incentive_delivery'] = 'No'\n",
    "\n",
    "df_localness_filter.loc[df_localness_filter.incentive_menu_discount == True, 'incentive_menu_discount'] = 'Yes'\n",
    "df_localness_filter.loc[df_localness_filter.incentive_menu_discount == False, 'incentive_menu_discount'] = 'No'\n",
    "\n",
    "df_localness_filter.loc[df_localness_filter.incentive_voucher_wallet == True, 'incentive_voucher_wallet'] = 'Yes'\n",
    "df_localness_filter.loc[df_localness_filter.incentive_voucher_wallet == False, 'incentive_voucher_wallet'] = 'No'"
   ]
  },
  {
   "cell_type": "code",
   "execution_count": 23,
   "metadata": {},
   "outputs": [],
   "source": [
    "df_localness_filter = df_localness_filter.rename(columns={\"item_price\": \"price_per_item\", \"approxi_rent\":\"estimated_rent\",\n",
    "  \"poi_count_0.5km\" : \"restaurant_count_0.5km\", \"poi_count_0.5_1km\": \"restaurant_count_0.5_1km\",\n",
    "  \"poi_count_1_2km\": \"restaurant_count_1_2km\", \"poi_count_2_3km\" : \"restaurant_count_2_3km\", \n",
    "  \"poi_count_3_4km\" : \"restaurant_count_3_4km\", \"poi_count_4_5km\" : \"restaurant_count_4_5km\"\n",
    "})"
   ]
  },
  {
   "cell_type": "markdown",
   "metadata": {},
   "source": [
    "## Correct localness value"
   ]
  },
  {
   "cell_type": "code",
   "execution_count": 24,
   "metadata": {},
   "outputs": [
    {
     "data": {
      "text/html": [
       "<div>\n",
       "<style scoped>\n",
       "    .dataframe tbody tr th:only-of-type {\n",
       "        vertical-align: middle;\n",
       "    }\n",
       "\n",
       "    .dataframe tbody tr th {\n",
       "        vertical-align: top;\n",
       "    }\n",
       "\n",
       "    .dataframe thead th {\n",
       "        text-align: right;\n",
       "    }\n",
       "</style>\n",
       "<table border=\"1\" class=\"dataframe\">\n",
       "  <thead>\n",
       "    <tr style=\"text-align: right;\">\n",
       "      <th></th>\n",
       "      <th>account_id</th>\n",
       "      <th>order_id</th>\n",
       "      <th>order_date</th>\n",
       "      <th>order_time</th>\n",
       "      <th>vendor_id</th>\n",
       "      <th>vendor_name</th>\n",
       "      <th>main_cuisine</th>\n",
       "      <th>vertical</th>\n",
       "      <th>delivery_fee_amount_lc</th>\n",
       "      <th>service_fee_amount_lc</th>\n",
       "      <th>basket_amount_lc</th>\n",
       "      <th>is_incentive_applied</th>\n",
       "      <th>incentive_amount_lc</th>\n",
       "      <th>pickup_id</th>\n",
       "      <th>customer_lon</th>\n",
       "      <th>customer_lat</th>\n",
       "      <th>vendor_lon</th>\n",
       "      <th>vendor_lat</th>\n",
       "      <th>order_time_hour</th>\n",
       "      <th>delivery_duration</th>\n",
       "      <th>total_duration</th>\n",
       "      <th>node_id</th>\n",
       "      <th>nearest_dist1</th>\n",
       "      <th>poi1</th>\n",
       "      <th>n_vertical</th>\n",
       "      <th>n_vendor_id</th>\n",
       "      <th>n_main_cuisine</th>\n",
       "      <th>n_vendor_name</th>\n",
       "      <th>n_vendor_lon</th>\n",
       "      <th>n_vendor_lat</th>\n",
       "      <th>vendor_index</th>\n",
       "      <th>pandana_distance_realdist</th>\n",
       "      <th>pandana_localness</th>\n",
       "      <th>speed</th>\n",
       "      <th>customer_loc_id</th>\n",
       "      <th>isweekend</th>\n",
       "      <th>price_per_item</th>\n",
       "      <th>entropy_0.5km</th>\n",
       "      <th>restaurant_count_0.5km</th>\n",
       "      <th>entropy_1km</th>\n",
       "      <th>poi_count_1km</th>\n",
       "      <th>entropy_2km</th>\n",
       "      <th>poi_count_2km</th>\n",
       "      <th>entropy_3km</th>\n",
       "      <th>poi_count_3km</th>\n",
       "      <th>entropy_4km</th>\n",
       "      <th>poi_count_4km</th>\n",
       "      <th>entropy_5km</th>\n",
       "      <th>poi_count_5km</th>\n",
       "      <th>restaurant_count_0.5_1km</th>\n",
       "      <th>restaurant_count_1_2km</th>\n",
       "      <th>restaurant_count_2_3km</th>\n",
       "      <th>restaurant_count_3_4km</th>\n",
       "      <th>restaurant_count_4_5km</th>\n",
       "      <th>estimated_rent</th>\n",
       "      <th>compensation</th>\n",
       "      <th>discounted delivery</th>\n",
       "      <th>free delivery</th>\n",
       "      <th>gem</th>\n",
       "      <th>item discount</th>\n",
       "      <th>menu discount</th>\n",
       "      <th>voucher wallet</th>\n",
       "      <th>incentives_type</th>\n",
       "      <th>incentive_delivery</th>\n",
       "      <th>incentive_menu_discount</th>\n",
       "      <th>incentive_voucher_wallet</th>\n",
       "      <th>rating</th>\n",
       "      <th>n_rating</th>\n",
       "      <th>consistency</th>\n",
       "      <th>total_orders</th>\n",
       "    </tr>\n",
       "  </thead>\n",
       "  <tbody>\n",
       "    <tr>\n",
       "      <th>0</th>\n",
       "      <td>1237695</td>\n",
       "      <td>1304769890</td>\n",
       "      <td>2023-10-10</td>\n",
       "      <td>2023-10-10 00:54:08</td>\n",
       "      <td>701885</td>\n",
       "      <td>Subz, AlBarsha 3</td>\n",
       "      <td>american</td>\n",
       "      <td>food</td>\n",
       "      <td>7.50000</td>\n",
       "      <td>1.92000</td>\n",
       "      <td>64.00000</td>\n",
       "      <td>True</td>\n",
       "      <td>30.00000</td>\n",
       "      <td>249052903.00000</td>\n",
       "      <td>55.14407</td>\n",
       "      <td>25.06988</td>\n",
       "      <td>55.19383</td>\n",
       "      <td>25.08783</td>\n",
       "      <td>0</td>\n",
       "      <td>21</td>\n",
       "      <td>50</td>\n",
       "      <td>2669233716</td>\n",
       "      <td>0.68707</td>\n",
       "      <td>1778</td>\n",
       "      <td>food</td>\n",
       "      <td>660366</td>\n",
       "      <td>american</td>\n",
       "      <td>Cheat Day - Burgers &amp; Salads, Jumeirah Lakes Towers</td>\n",
       "      <td>55.14022</td>\n",
       "      <td>25.06550</td>\n",
       "      <td>1778</td>\n",
       "      <td>7.29795</td>\n",
       "      <td>0.09415</td>\n",
       "      <td>20.85127</td>\n",
       "      <td>55.14406625.069883</td>\n",
       "      <td>No</td>\n",
       "      <td>0.00000</td>\n",
       "      <td>0.60866</td>\n",
       "      <td>70.00000</td>\n",
       "      <td>0.67502</td>\n",
       "      <td>137.00000</td>\n",
       "      <td>0.71957</td>\n",
       "      <td>368.00000</td>\n",
       "      <td>0.71832</td>\n",
       "      <td>376.00000</td>\n",
       "      <td>0.71478</td>\n",
       "      <td>394.00000</td>\n",
       "      <td>0.70749</td>\n",
       "      <td>461.00000</td>\n",
       "      <td>67.00000</td>\n",
       "      <td>231.00000</td>\n",
       "      <td>8.00000</td>\n",
       "      <td>18.00000</td>\n",
       "      <td>67.00000</td>\n",
       "      <td>87.94369</td>\n",
       "      <td>0.00000</td>\n",
       "      <td>0.00000</td>\n",
       "      <td>0.00000</td>\n",
       "      <td>0.00000</td>\n",
       "      <td>0.00000</td>\n",
       "      <td>30.00000</td>\n",
       "      <td>0.00000</td>\n",
       "      <td>menu discount</td>\n",
       "      <td>False</td>\n",
       "      <td>True</td>\n",
       "      <td>False</td>\n",
       "      <td>5.None</td>\n",
       "      <td>2.Very good</td>\n",
       "      <td>0.87874</td>\n",
       "      <td>11</td>\n",
       "    </tr>\n",
       "    <tr>\n",
       "      <th>1</th>\n",
       "      <td>1027548</td>\n",
       "      <td>1304769334</td>\n",
       "      <td>2023-10-10</td>\n",
       "      <td>2023-10-10 00:53:16</td>\n",
       "      <td>701885</td>\n",
       "      <td>Subz, AlBarsha 3</td>\n",
       "      <td>american</td>\n",
       "      <td>food</td>\n",
       "      <td>7.50000</td>\n",
       "      <td>1.92000</td>\n",
       "      <td>64.00000</td>\n",
       "      <td>True</td>\n",
       "      <td>30.00000</td>\n",
       "      <td>249052903.00000</td>\n",
       "      <td>55.14435</td>\n",
       "      <td>25.06983</td>\n",
       "      <td>55.19383</td>\n",
       "      <td>25.08783</td>\n",
       "      <td>0</td>\n",
       "      <td>16</td>\n",
       "      <td>46</td>\n",
       "      <td>2669233716</td>\n",
       "      <td>0.68707</td>\n",
       "      <td>1778</td>\n",
       "      <td>food</td>\n",
       "      <td>660366</td>\n",
       "      <td>american</td>\n",
       "      <td>Cheat Day - Burgers &amp; Salads, Jumeirah Lakes Towers</td>\n",
       "      <td>55.14022</td>\n",
       "      <td>25.06550</td>\n",
       "      <td>1778</td>\n",
       "      <td>7.29795</td>\n",
       "      <td>0.09415</td>\n",
       "      <td>27.36730</td>\n",
       "      <td>55.1443525.06983</td>\n",
       "      <td>No</td>\n",
       "      <td>0.00000</td>\n",
       "      <td>0.50297</td>\n",
       "      <td>37.00000</td>\n",
       "      <td>0.67241</td>\n",
       "      <td>133.00000</td>\n",
       "      <td>0.71957</td>\n",
       "      <td>368.00000</td>\n",
       "      <td>0.71832</td>\n",
       "      <td>376.00000</td>\n",
       "      <td>0.71478</td>\n",
       "      <td>394.00000</td>\n",
       "      <td>0.70749</td>\n",
       "      <td>461.00000</td>\n",
       "      <td>96.00000</td>\n",
       "      <td>235.00000</td>\n",
       "      <td>8.00000</td>\n",
       "      <td>18.00000</td>\n",
       "      <td>67.00000</td>\n",
       "      <td>88.00245</td>\n",
       "      <td>0.00000</td>\n",
       "      <td>0.00000</td>\n",
       "      <td>0.00000</td>\n",
       "      <td>0.00000</td>\n",
       "      <td>0.00000</td>\n",
       "      <td>30.00000</td>\n",
       "      <td>0.00000</td>\n",
       "      <td>menu discount</td>\n",
       "      <td>False</td>\n",
       "      <td>True</td>\n",
       "      <td>False</td>\n",
       "      <td>5.None</td>\n",
       "      <td>2.Very good</td>\n",
       "      <td>0.88989</td>\n",
       "      <td>23</td>\n",
       "    </tr>\n",
       "  </tbody>\n",
       "</table>\n",
       "</div>"
      ],
      "text/plain": [
       "   account_id    order_id order_date           order_time  vendor_id       vendor_name main_cuisine vertical  delivery_fee_amount_lc  service_fee_amount_lc  basket_amount_lc is_incentive_applied  incentive_amount_lc       pickup_id  customer_lon  customer_lat  vendor_lon  vendor_lat  order_time_hour  delivery_duration  total_duration     node_id  nearest_dist1  poi1 n_vertical  n_vendor_id n_main_cuisine                                        n_vendor_name  n_vendor_lon  n_vendor_lat  vendor_index  pandana_distance_realdist  pandana_localness    speed     customer_loc_id isweekend  price_per_item  entropy_0.5km  restaurant_count_0.5km  entropy_1km  poi_count_1km  entropy_2km  poi_count_2km  entropy_3km  poi_count_3km  entropy_4km  poi_count_4km  entropy_5km  poi_count_5km  restaurant_count_0.5_1km  restaurant_count_1_2km  restaurant_count_2_3km  restaurant_count_3_4km  restaurant_count_4_5km  estimated_rent  compensation  discounted delivery  free delivery     gem  item discount  \\\n",
       "0  1237695     1304769890 2023-10-10  2023-10-10 00:54:08  701885     Subz, AlBarsha 3  american     food    7.50000                 1.92000                64.00000           True                30.00000             249052903.00000 55.14407      25.06988      55.19383    25.08783     0                21                 50              2669233716 0.68707         1778  food       660366       american       Cheat Day - Burgers & Salads, Jumeirah Lakes Towers 55.14022      25.06550       1778         7.29795                    0.09415            20.85127  55.14406625.069883  No       0.00000         0.60866        70.00000                0.67502      137.00000      0.71957      368.00000      0.71832      376.00000      0.71478      394.00000      0.70749      461.00000      67.00000                  231.00000               8.00000                 18.00000                67.00000                87.94369        0.00000       0.00000              0.00000        0.00000 0.00000          \n",
       "1  1027548     1304769334 2023-10-10  2023-10-10 00:53:16  701885     Subz, AlBarsha 3  american     food    7.50000                 1.92000                64.00000           True                30.00000             249052903.00000 55.14435      25.06983      55.19383    25.08783     0                16                 46              2669233716 0.68707         1778  food       660366       american       Cheat Day - Burgers & Salads, Jumeirah Lakes Towers 55.14022      25.06550       1778         7.29795                    0.09415            27.36730  55.1443525.06983    No       0.00000         0.50297        37.00000                0.67241      133.00000      0.71957      368.00000      0.71832      376.00000      0.71478      394.00000      0.70749      461.00000      96.00000                  235.00000               8.00000                 18.00000                67.00000                88.00245        0.00000       0.00000              0.00000        0.00000 0.00000          \n",
       "\n",
       "   menu discount  voucher wallet incentives_type incentive_delivery incentive_menu_discount incentive_voucher_wallet  rating     n_rating  consistency  total_orders  \n",
       "0 30.00000       0.00000          menu discount   False              True                    False                    5.None  2.Very good 0.87874       11            \n",
       "1 30.00000       0.00000          menu discount   False              True                    False                    5.None  2.Very good 0.88989       23            "
      ]
     },
     "execution_count": 24,
     "metadata": {},
     "output_type": "execute_result"
    }
   ],
   "source": [
    "df_localness_filter.head(2)"
   ]
  },
  {
   "cell_type": "code",
   "execution_count": 25,
   "metadata": {},
   "outputs": [],
   "source": [
    "df_localness_filter['nearest_dist1'] = df_localness_filter['nearest_dist1']+0.001 # plus one meter to correct zero localness when both pandana_distance_realdist and nearest_dist1 are zero\n",
    "df_localness_filter['pandana_distance_realdist'] = df_localness_filter['pandana_distance_realdist']+0.001\n",
    "df_localness_filter['pandana_localness'] = df_localness_filter['nearest_dist1']/df_localness_filter['pandana_distance_realdist']"
   ]
  },
  {
   "cell_type": "code",
   "execution_count": 28,
   "metadata": {},
   "outputs": [
    {
     "name": "stdout",
     "output_type": "stream",
     "text": [
      "2778722\n"
     ]
    }
   ],
   "source": [
    "print(df_localness_filter.shape[0])"
   ]
  },
  {
   "cell_type": "markdown",
   "metadata": {},
   "source": [
    "## Save processed data for ML model"
   ]
  },
  {
   "cell_type": "code",
   "execution_count": 27,
   "metadata": {},
   "outputs": [
    {
     "name": "stdout",
     "output_type": "stream",
     "text": [
      "CPU times: user 1min 50s, sys: 1.6 s, total: 1min 51s\n",
      "Wall time: 1min 54s\n"
     ]
    }
   ],
   "source": [
    "%%time\n",
    "df_localness_filter.to_csv('./data/food_localness_final_oct_new.csv',index=False)"
   ]
  },
  {
   "cell_type": "code",
   "execution_count": 52,
   "metadata": {},
   "outputs": [
    {
     "name": "stdout",
     "output_type": "stream",
     "text": [
      "CPU times: user 2min 38s, sys: 1.96 s, total: 2min 40s\n",
      "Wall time: 4min 49s\n"
     ]
    }
   ],
   "source": [
    "# %%time\n",
    "# df_localness.to_csv('./data/food_localness_final_oct(withoutfilter_rent).csv',index=False)"
   ]
  },
  {
   "cell_type": "code",
   "execution_count": null,
   "metadata": {},
   "outputs": [],
   "source": []
  },
  {
   "cell_type": "code",
   "execution_count": null,
   "metadata": {},
   "outputs": [],
   "source": []
  },
  {
   "cell_type": "code",
   "execution_count": null,
   "metadata": {},
   "outputs": [],
   "source": []
  },
  {
   "cell_type": "code",
   "execution_count": null,
   "metadata": {},
   "outputs": [],
   "source": []
  },
  {
   "cell_type": "code",
   "execution_count": null,
   "metadata": {},
   "outputs": [],
   "source": []
  },
  {
   "cell_type": "code",
   "execution_count": null,
   "metadata": {},
   "outputs": [],
   "source": []
  }
 ],
 "metadata": {
  "kernelspec": {
   "display_name": "python3.8",
   "language": "python",
   "name": "python3.8"
  },
  "language_info": {
   "codemirror_mode": {
    "name": "ipython",
    "version": 3
   },
   "file_extension": ".py",
   "mimetype": "text/x-python",
   "name": "python",
   "nbconvert_exporter": "python",
   "pygments_lexer": "ipython3",
   "version": "3.8.5"
  }
 },
 "nbformat": 4,
 "nbformat_minor": 2
}
