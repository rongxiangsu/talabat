{
 "cells": [
  {
   "cell_type": "code",
   "execution_count": 3,
   "metadata": {},
   "outputs": [],
   "source": [
    "import datetime\n",
    "import geopandas as gpd\n",
    "import matplotlib.pyplot as plt\n",
    "import pandas as pd\n",
    "import numpy as np\n",
    "from shapely.geometry import Point\n",
    "from geopandas import GeoDataFrame\n",
    "import os\n",
    "pd.options.display.float_format = '{:.5f}'.format\n",
    "\n",
    "import seaborn as sns\n",
    "pd.set_option(\"display.max_colwidth\", 0)\n",
    "pd.set_option(\"display.max_rows\", 500)\n",
    "pd.set_option(\"display.max_columns\", 500)\n",
    "pd.set_option(\"display.width\", 1000)\n",
    "import warnings\n",
    "warnings.filterwarnings(\"ignore\")"
   ]
  },
  {
   "cell_type": "code",
   "execution_count": 4,
   "metadata": {},
   "outputs": [
    {
     "data": {
      "application/javascript": [
       "IPython.notebook.set_autosave_interval(5000)"
      ]
     },
     "metadata": {},
     "output_type": "display_data"
    },
    {
     "name": "stdout",
     "output_type": "stream",
     "text": [
      "Autosaving every 5 seconds\n"
     ]
    }
   ],
   "source": [
    "import sys\n",
    "import logging\n",
    "\n",
    "nblog = open(\"./logs/entropy_\"+str(datetime.datetime.now())+\".log\", \"a+\")\n",
    "sys.stdout.echo = nblog\n",
    "sys.stderr.echo = nblog\n",
    "\n",
    "get_ipython().log.handlers[0].stream = nblog\n",
    "get_ipython().log.setLevel(logging.INFO)\n",
    "\n",
    "%autosave 5"
   ]
  },
  {
   "cell_type": "code",
   "execution_count": 5,
   "metadata": {
    "scrolled": true
   },
   "outputs": [
    {
     "name": "stdout",
     "output_type": "stream",
     "text": [
      "CPU times: user 13.8 s, sys: 6.52 s, total: 20.3 s\n",
      "Wall time: 58.2 s\n"
     ]
    }
   ],
   "source": [
    "%%time\n",
    "df_localness = pd.read_csv('./data/food_localness_oct.csv',header=0)"
   ]
  },
  {
   "cell_type": "markdown",
   "metadata": {
    "tags": []
   },
   "source": [
    "## Compute entropy of restaurant cusine types based on a buffer around customer location"
   ]
  },
  {
   "cell_type": "code",
   "execution_count": 6,
   "metadata": {},
   "outputs": [
    {
     "name": "stdout",
     "output_type": "stream",
     "text": [
      "791511\n",
      "CPU times: user 12.7 s, sys: 532 ms, total: 13.3 s\n",
      "Wall time: 29.7 s\n"
     ]
    }
   ],
   "source": [
    "%%time\n",
    "# create geodf for customer locations\n",
    "df_localness['customer_loc_id'] = df_localness['customer_lon'].astype(str)+df_localness['customer_lat'].astype(str)\n",
    "df_unique_customers = df_localness[['customer_loc_id','customer_lon','customer_lat']].drop_duplicates()\n",
    "print(df_unique_customers.shape[0])\n",
    "geometry = [Point(xy) for xy in zip(df_unique_customers.customer_lon, df_unique_customers.customer_lat)]\n",
    "gdf_customer_loc = GeoDataFrame(df_unique_customers, crs=\"EPSG:4326\", geometry=geometry)\n",
    "gdf_customer_loc = gdf_customer_loc.to_crs(epsg=3857)#convert customer locations to 3857\n",
    "gdf_customer_loc = gdf_customer_loc.rename(columns={\"geometry\": \"customer_geometry\"})"
   ]
  },
  {
   "cell_type": "code",
   "execution_count": 7,
   "metadata": {},
   "outputs": [
    {
     "name": "stdout",
     "output_type": "stream",
     "text": [
      "total number of restaurants regardless of cusine types: 8105\n",
      "CPU times: user 273 ms, sys: 0 ns, total: 273 ms\n",
      "Wall time: 838 ms\n"
     ]
    }
   ],
   "source": [
    "%%time\n",
    "# prepare vendor geodf for spatial join\n",
    "df_vendor = pd.read_csv('./data/all_vendor_oct_processed.csv',header=0)\n",
    "geometry = [Point(xy) for xy in zip(df_vendor.vendor_lon, df_vendor.vendor_lat)]\n",
    "gdf_vendor = GeoDataFrame(df_vendor, crs=\"EPSG:4326\", geometry=geometry)\n",
    "gdf_vendor = gdf_vendor.rename(columns={\"vendor_id\": \"n_vendor_id\",\"main_cuisine\":\"n_main_cuisine\",'vendor_name':'n_vendor_name',\n",
    "                                       'vendor_lon':'n_vendor_lon','vendor_lat':'n_vendor_lat','vertical':'n_vertical'})\n",
    "gdf_vendor = gdf_vendor.to_crs(epsg=3857)\n",
    "\n",
    "gdf_foodvendor_need = gdf_vendor[['geometry','n_main_cuisine']]\n",
    "print('total number of restaurants regardless of cusine types:',gdf_foodvendor_need.shape[0])\n",
    "total_cuisines = gdf_foodvendor_need.n_main_cuisine.unique().shape[0] #66 types"
   ]
  },
  {
   "cell_type": "code",
   "execution_count": 8,
   "metadata": {},
   "outputs": [
    {
     "data": {
      "text/plain": [
       "20"
      ]
     },
     "execution_count": 8,
     "metadata": {},
     "output_type": "execute_result"
    }
   ],
   "source": [
    "import gc\n",
    "del df_localness\n",
    "del df_vendor\n",
    "del gdf_vendor\n",
    "del df_unique_customers\n",
    "gc.collect()"
   ]
  },
  {
   "cell_type": "code",
   "execution_count": 9,
   "metadata": {},
   "outputs": [],
   "source": [
    "def compute_entropy_function(x):\n",
    "    sum_nominator = 0\n",
    "    for prop in x[col_name].tolist(): # each element is a proportion of one cuisine\n",
    "        sum_nominator += prop*(np.log(1/prop))\n",
    "    entropy = sum_nominator/np.log(total_cuisines)\n",
    "    return entropy"
   ]
  },
  {
   "cell_type": "code",
   "execution_count": null,
   "metadata": {
    "scrolled": true
   },
   "outputs": [
    {
     "name": "stdout",
     "output_type": "stream",
     "text": [
      "TESTING: False\n",
      "2024-06-04 13:37:06.456183 ************** Distance: 3 , ./data/entropy_3km_customerlocations_oct.csv **************\n",
      "791511 791511\n",
      "2024-06-04 13:37:48.563621 0 40000 / 791511\n",
      "2024-06-04 13:39:48.281246 done spatial join! Distance: 3\n",
      "2024-06-04 13:39:56.245117 done entropy computation! Distance: 3\n",
      "2024-06-04 13:39:56.497747 40000 80000 / 791511\n",
      "2024-06-04 13:42:16.673250 done spatial join! Distance: 3\n",
      "2024-06-04 13:42:29.301674 done entropy computation! Distance: 3\n",
      "2024-06-04 13:42:29.627451 80000 120000 / 791511\n",
      "2024-06-04 13:44:42.108906 done spatial join! Distance: 3\n",
      "2024-06-04 13:44:48.289886 done entropy computation! Distance: 3\n",
      "2024-06-04 13:44:48.451210 120000 160000 / 791511\n",
      "2024-06-04 13:46:45.696274 done spatial join! Distance: 3\n",
      "2024-06-04 13:46:55.732954 done entropy computation! Distance: 3\n",
      "2024-06-04 13:46:55.990192 160000 200000 / 791511\n",
      "2024-06-04 13:48:22.826992 done spatial join! Distance: 3\n",
      "2024-06-04 13:48:31.328109 done entropy computation! Distance: 3\n",
      "2024-06-04 13:48:31.556885 200000 240000 / 791511\n",
      "2024-06-04 13:50:47.568018 done spatial join! Distance: 3\n",
      "2024-06-04 13:50:55.367735 done entropy computation! Distance: 3\n",
      "2024-06-04 13:50:55.495332 240000 280000 / 791511\n",
      "2024-06-04 13:53:07.095806 done spatial join! Distance: 3\n",
      "2024-06-04 13:53:16.157910 done entropy computation! Distance: 3\n",
      "2024-06-04 13:53:16.391688 280000 320000 / 791511\n",
      "2024-06-04 13:55:08.874862 done spatial join! Distance: 3\n",
      "2024-06-04 13:55:18.376735 done entropy computation! Distance: 3\n",
      "2024-06-04 13:55:18.622671 320000 360000 / 791511\n",
      "2024-06-04 13:57:20.027595 done spatial join! Distance: 3\n",
      "2024-06-04 13:57:31.135992 done entropy computation! Distance: 3\n",
      "2024-06-04 13:57:31.395994 360000 400000 / 791511\n",
      "2024-06-04 13:59:28.991945 done spatial join! Distance: 3\n",
      "2024-06-04 13:59:38.353975 done entropy computation! Distance: 3\n",
      "2024-06-04 13:59:38.636678 400000 440000 / 791511\n",
      "2024-06-04 14:01:34.966730 done spatial join! Distance: 3\n",
      "2024-06-04 14:01:40.228852 done entropy computation! Distance: 3\n",
      "2024-06-04 14:01:40.359616 440000 480000 / 791511\n",
      "2024-06-04 14:03:39.102160 done spatial join! Distance: 3\n",
      "2024-06-04 14:03:51.926030 done entropy computation! Distance: 3\n",
      "2024-06-04 14:03:52.188326 480000 520000 / 791511\n",
      "2024-06-04 14:06:17.488907 done spatial join! Distance: 3\n",
      "2024-06-04 14:06:30.224136 done entropy computation! Distance: 3\n",
      "2024-06-04 14:06:30.583175 520000 560000 / 791511\n",
      "2024-06-04 14:08:40.695005 done spatial join! Distance: 3\n",
      "2024-06-04 14:08:50.318340 done entropy computation! Distance: 3\n",
      "2024-06-04 14:08:50.482811 560000 600000 / 791511\n",
      "2024-06-04 14:11:14.873736 done spatial join! Distance: 3\n",
      "2024-06-04 14:11:26.713180 done entropy computation! Distance: 3\n",
      "2024-06-04 14:11:26.846325 600000 640000 / 791511\n",
      "2024-06-04 14:13:23.456301 done spatial join! Distance: 3\n",
      "2024-06-04 14:13:32.391823 done entropy computation! Distance: 3\n",
      "2024-06-04 14:13:32.718892 640000 680000 / 791511\n",
      "2024-06-04 14:16:00.409011 done spatial join! Distance: 3\n",
      "2024-06-04 14:16:10.720461 done entropy computation! Distance: 3\n",
      "2024-06-04 14:16:11.044107 680000 720000 / 791511\n",
      "2024-06-04 14:18:57.458239 done spatial join! Distance: 3\n",
      "2024-06-04 14:19:11.926294 done entropy computation! Distance: 3\n",
      "2024-06-04 14:19:12.325014 720000 760000 / 791511\n",
      "2024-06-04 14:22:17.971168 done spatial join! Distance: 3\n",
      "2024-06-04 14:22:30.061747 done entropy computation! Distance: 3\n",
      "2024-06-04 14:22:30.311005 760000 800000 / 791511\n",
      "2024-06-04 14:24:34.921459 done spatial join! Distance: 3\n",
      "2024-06-04 14:24:41.398428 done entropy computation! Distance: 3\n",
      "2024-06-04 14:24:41.621818 ************** Distance: 4 , ./data/entropy_4km_customerlocations_oct.csv **************\n",
      "791511 791511\n",
      "2024-06-04 14:25:08.198868 0 40000 / 791511\n",
      "2024-06-04 14:27:13.800569 done spatial join! Distance: 4\n",
      "2024-06-04 14:27:23.643614 done entropy computation! Distance: 4\n",
      "2024-06-04 14:27:23.780580 40000 80000 / 791511\n",
      "2024-06-04 14:29:50.142606 done spatial join! Distance: 4\n",
      "2024-06-04 14:29:57.454280 done entropy computation! Distance: 4\n",
      "2024-06-04 14:29:57.583154 80000 120000 / 791511\n",
      "2024-06-04 14:32:32.944982 done spatial join! Distance: 4\n",
      "2024-06-04 14:32:42.654457 done entropy computation! Distance: 4\n",
      "2024-06-04 14:32:42.909119 120000 160000 / 791511\n",
      "2024-06-04 14:35:51.808992 done spatial join! Distance: 4\n",
      "2024-06-04 14:36:02.766962 done entropy computation! Distance: 4\n",
      "2024-06-04 14:36:03.005508 160000 200000 / 791511\n",
      "2024-06-04 14:38:34.679753 done spatial join! Distance: 4\n",
      "2024-06-04 14:38:47.940256 done entropy computation! Distance: 4\n",
      "2024-06-04 14:38:48.258602 200000 240000 / 791511\n",
      "2024-06-04 14:41:58.987064 done spatial join! Distance: 4\n",
      "2024-06-04 14:42:12.611515 done entropy computation! Distance: 4\n",
      "2024-06-04 14:42:12.857285 240000 280000 / 791511\n",
      "2024-06-04 14:46:14.346509 done spatial join! Distance: 4\n",
      "2024-06-04 14:46:27.436684 done entropy computation! Distance: 4\n",
      "2024-06-04 14:46:27.693229 280000 320000 / 791511\n",
      "2024-06-04 14:49:56.107372 done spatial join! Distance: 4\n",
      "2024-06-04 14:50:08.288423 done entropy computation! Distance: 4\n",
      "2024-06-04 14:50:08.638171 320000 360000 / 791511\n",
      "2024-06-04 14:53:00.810152 done spatial join! Distance: 4\n",
      "2024-06-04 14:53:13.085628 done entropy computation! Distance: 4\n",
      "2024-06-04 14:53:13.464726 360000 400000 / 791511\n",
      "2024-06-04 14:56:02.912176 done spatial join! Distance: 4\n",
      "2024-06-04 14:56:12.718662 done entropy computation! Distance: 4\n",
      "2024-06-04 14:56:13.089404 400000 440000 / 791511\n",
      "2024-06-04 14:59:22.352737 done spatial join! Distance: 4\n",
      "2024-06-04 14:59:32.160629 done entropy computation! Distance: 4\n",
      "2024-06-04 14:59:32.433955 440000 480000 / 791511\n",
      "2024-06-04 15:02:23.486069 done spatial join! Distance: 4\n",
      "2024-06-04 15:02:32.493112 done entropy computation! Distance: 4\n",
      "2024-06-04 15:02:32.765915 480000 520000 / 791511\n",
      "2024-06-04 15:04:58.502759 done spatial join! Distance: 4\n",
      "2024-06-04 15:05:05.476462 done entropy computation! Distance: 4\n",
      "2024-06-04 15:05:05.641127 520000 560000 / 791511\n",
      "2024-06-04 15:07:23.951560 done spatial join! Distance: 4\n",
      "2024-06-04 15:07:31.724195 done entropy computation! Distance: 4\n",
      "2024-06-04 15:07:31.846796 560000 600000 / 791511\n",
      "2024-06-04 15:10:26.590077 done spatial join! Distance: 4\n",
      "2024-06-04 15:10:39.304867 done entropy computation! Distance: 4\n",
      "2024-06-04 15:10:39.616720 600000 640000 / 791511\n",
      "2024-06-04 15:14:25.549977 done spatial join! Distance: 4\n",
      "2024-06-04 15:14:38.726562 done entropy computation! Distance: 4\n",
      "2024-06-04 15:14:39.119735 640000 680000 / 791511\n",
      "2024-06-04 15:17:32.194471 done spatial join! Distance: 4\n",
      "2024-06-04 15:17:43.228812 done entropy computation! Distance: 4\n",
      "2024-06-04 15:17:43.477435 680000 720000 / 791511\n",
      "2024-06-04 15:20:57.681705 done spatial join! Distance: 4\n",
      "2024-06-04 15:21:09.520020 done entropy computation! Distance: 4\n",
      "2024-06-04 15:21:09.703963 720000 760000 / 791511\n",
      "2024-06-04 15:23:11.405044 done spatial join! Distance: 4\n",
      "2024-06-04 15:23:19.470714 done entropy computation! Distance: 4\n",
      "2024-06-04 15:23:19.856455 760000 800000 / 791511\n",
      "2024-06-04 15:25:20.854188 done spatial join! Distance: 4\n",
      "2024-06-04 15:25:29.955574 done entropy computation! Distance: 4\n",
      "2024-06-04 15:25:30.063146 ************** Distance: 5 , ./data/entropy_5km_customerlocations_oct.csv **************\n",
      "791511 791511\n",
      "2024-06-04 15:26:04.110323 0 40000 / 791511\n",
      "2024-06-04 15:29:07.027042 done spatial join! Distance: 5\n",
      "2024-06-04 15:29:14.714997 done entropy computation! Distance: 5\n",
      "2024-06-04 15:29:14.845163 40000 80000 / 791511\n",
      "2024-06-04 15:32:04.882997 done spatial join! Distance: 5\n",
      "2024-06-04 15:32:12.617239 done entropy computation! Distance: 5\n",
      "2024-06-04 15:32:12.945664 80000 120000 / 791511\n",
      "2024-06-04 15:36:18.869143 done spatial join! Distance: 5\n",
      "2024-06-04 15:36:29.859832 done entropy computation! Distance: 5\n",
      "2024-06-04 15:36:30.023023 120000 160000 / 791511\n",
      "2024-06-04 15:39:47.113675 done spatial join! Distance: 5\n",
      "2024-06-04 15:39:55.078688 done entropy computation! Distance: 5\n",
      "2024-06-04 15:39:55.246172 160000 200000 / 791511\n",
      "2024-06-04 15:42:19.783550 done spatial join! Distance: 5\n",
      "2024-06-04 15:42:30.511970 done entropy computation! Distance: 5\n",
      "2024-06-04 15:42:30.793371 200000 240000 / 791511\n"
     ]
    },
    {
     "name": "stdout",
     "output_type": "stream",
     "text": [
      "2024-06-04 15:45:54.285739 done spatial join! Distance: 5\n",
      "2024-06-04 15:46:05.928417 done entropy computation! Distance: 5\n",
      "2024-06-04 15:46:06.204850 240000 280000 / 791511\n",
      "2024-06-04 15:50:17.368920 done spatial join! Distance: 5\n",
      "2024-06-04 15:50:28.368619 done entropy computation! Distance: 5\n",
      "2024-06-04 15:50:28.627551 280000 320000 / 791511\n",
      "2024-06-04 15:53:42.258061 done spatial join! Distance: 5\n",
      "2024-06-04 15:53:51.747372 done entropy computation! Distance: 5\n",
      "2024-06-04 15:53:52.172127 320000 360000 / 791511\n",
      "2024-06-04 15:57:06.706460 done spatial join! Distance: 5\n",
      "2024-06-04 15:57:19.685196 done entropy computation! Distance: 5\n",
      "2024-06-04 15:57:19.980107 360000 400000 / 791511\n",
      "2024-06-04 16:00:32.886800 done spatial join! Distance: 5\n",
      "2024-06-04 16:00:46.272759 done entropy computation! Distance: 5\n",
      "2024-06-04 16:00:46.665259 400000 440000 / 791511\n",
      "2024-06-04 16:04:25.486522 done spatial join! Distance: 5\n",
      "2024-06-04 16:04:37.397014 done entropy computation! Distance: 5\n",
      "2024-06-04 16:04:37.673507 440000 480000 / 791511\n",
      "2024-06-04 16:08:18.735516 done spatial join! Distance: 5\n",
      "2024-06-04 16:08:27.819500 done entropy computation! Distance: 5\n",
      "2024-06-04 16:08:28.042665 480000 520000 / 791511\n",
      "2024-06-04 16:11:54.674496 done spatial join! Distance: 5\n",
      "2024-06-04 16:12:02.946224 done entropy computation! Distance: 5\n",
      "2024-06-04 16:12:03.144653 520000 560000 / 791511\n",
      "2024-06-04 16:16:10.951576 done spatial join! Distance: 5\n",
      "2024-06-04 16:16:24.937347 done entropy computation! Distance: 5\n",
      "2024-06-04 16:16:25.243382 560000 600000 / 791511\n"
     ]
    }
   ],
   "source": [
    "%%time\n",
    "\n",
    "TESTING = False #False, True\n",
    "# distance_list = [0.5, 1, 2, 3, 4, 5] #unit:km\n",
    "distance_list = [3, 4, 5] #unit:km\n",
    "batch_size = 40000 #100000 50000\n",
    "print('TESTING:',TESTING)\n",
    "\n",
    "for distance_threshold in distance_list:\n",
    "    col_name = 'entropy_'+str(distance_threshold)+'km'\n",
    "    output_file = './data/entropy_'+str(distance_threshold)+'km_customerlocations_oct.csv'\n",
    "    print(datetime.datetime.now(), '************** Distance:',distance_threshold,',', output_file, '**************')\n",
    "\n",
    "    # Create buffer in meters around customer locations\n",
    "    gdf_customer_loc_buffer = gdf_customer_loc.copy()\n",
    "    gdf_customer_loc_buffer['buffer'] = gdf_customer_loc_buffer.customer_geometry.buffer(distance_threshold*1000)\n",
    "    gdf_customer_loc_buffer = gdf_customer_loc_buffer.set_geometry('buffer')\n",
    "    print(gdf_customer_loc_buffer.shape[0],gdf_customer_loc_buffer.customer_loc_id.unique().shape[0])\n",
    "    \n",
    "    # Spatial join to find points within the buffer\n",
    "    gdf_foodvendor_need[col_name] = 1\n",
    "    \n",
    "    for i in range(0,gdf_customer_loc_buffer.shape[0],batch_size):\n",
    "        print(datetime.datetime.now(),i,i+batch_size,'/',gdf_customer_loc_buffer.shape[0])\n",
    "        if TESTING:\n",
    "            groupped_data = gpd.sjoin(gdf_foodvendor_need, gdf_customer_loc_buffer.head(5), op='within').groupby(\n",
    "                ['customer_loc_id','n_main_cuisine']).agg({col_name: 'sum'}) # debugging line\n",
    "        else:\n",
    "            groupped_data = gpd.sjoin(gdf_foodvendor_need, gdf_customer_loc_buffer.iloc[i:i+batch_size], op='within').groupby(\n",
    "                ['customer_loc_id','n_main_cuisine']).agg({col_name: 'sum'})\n",
    "        groupped_data = groupped_data.groupby(level=0).apply(lambda x:  x / x.sum()) #convert to proportions\n",
    "        print(datetime.datetime.now(),'done spatial join! Distance:',distance_threshold)\n",
    "\n",
    "        groupped_data = groupped_data.groupby('customer_loc_id').apply(compute_entropy_function).reset_index()  #compute entropy\n",
    "        groupped_data.columns = ['customer_loc_id', col_name]\n",
    "        print(datetime.datetime.now(),'done entropy computation! Distance:',distance_threshold)\n",
    "        \n",
    "        if not TESTING:\n",
    "            if not os.path.isfile(output_file):# if file does not exist write header\n",
    "                groupped_data.to_csv(output_file,index=False)\n",
    "            else: # else it exists so append without writing the header\n",
    "                groupped_data.to_csv(output_file, mode='a', header=False,index=False)"
   ]
  },
  {
   "cell_type": "code",
   "execution_count": null,
   "metadata": {},
   "outputs": [],
   "source": [
    "# %%time\n",
    "# Optional step: check if entropy results are reliable\n",
    "# examine_entropy = df_nearest_compute_entropy[['customer_lon','customer_lat','customer_loc_id','entropy_3.6km']].drop_duplicates()\n",
    "# print(examine_entropy.shape[0])\n",
    "# geometry = [Point(xy) for xy in zip(examine_entropy.customer_lon, examine_entropy.customer_lat)]\n",
    "# gdf_examine_entropy = GeoDataFrame(examine_entropy, crs=\"EPSG:4326\", geometry=geometry)\n",
    "# gdf_examine_entropy.head(10000).explore(column='entropy_3.6km',cmap=\"rainbow\",tiles=\"CartoDB positron\")"
   ]
  },
  {
   "cell_type": "code",
   "execution_count": 17,
   "metadata": {},
   "outputs": [
    {
     "data": {
      "text/plain": [
       "[('gdf_customer_loc', 88942994),\n",
       " ('gdf_customer_loc_buffer', 88942994),\n",
       " ('gdf_foodvendor_need', 584149),\n",
       " ('geometry', 69152),\n",
       " ('GeoDataFrame', 1192),\n",
       " ('Point', 896),\n",
       " ('nblog', 208),\n",
       " ('compute_entropy_function', 136),\n",
       " ('distance_list', 96),\n",
       " ('output_file', 93),\n",
       " ('gpd', 72),\n",
       " ('np', 72),\n",
       " ('pd', 72),\n",
       " ('plt', 72),\n",
       " ('sns', 72),\n",
       " ('col_name', 60),\n",
       " ('batch_size', 28),\n",
       " ('distance_threshold', 28),\n",
       " ('total_cuisines', 28),\n",
       " ('TESTING', 24)]"
      ]
     },
     "execution_count": 17,
     "metadata": {},
     "output_type": "execute_result"
    }
   ],
   "source": [
    "import sys\n",
    "\n",
    "# These are the usual ipython objects, including this one you are creating\n",
    "ipython_vars = ['In', 'Out', 'exit', 'quit', 'get_ipython', 'ipython_vars']\n",
    "\n",
    "# Get a sorted list of the objects and their sizes\n",
    "sorted([(x, sys.getsizeof(globals().get(x))) for x in dir() if not x.startswith('_') and x not in sys.modules and x not in ipython_vars], key=lambda x: x[1], reverse=True)"
   ]
  },
  {
   "cell_type": "code",
   "execution_count": null,
   "metadata": {},
   "outputs": [],
   "source": []
  },
  {
   "cell_type": "code",
   "execution_count": null,
   "metadata": {},
   "outputs": [],
   "source": []
  },
  {
   "cell_type": "code",
   "execution_count": null,
   "metadata": {},
   "outputs": [],
   "source": []
  },
  {
   "cell_type": "code",
   "execution_count": null,
   "metadata": {},
   "outputs": [],
   "source": []
  }
 ],
 "metadata": {
  "kernelspec": {
   "display_name": "python3.8",
   "language": "python",
   "name": "python3.8"
  },
  "language_info": {
   "codemirror_mode": {
    "name": "ipython",
    "version": 3
   },
   "file_extension": ".py",
   "mimetype": "text/x-python",
   "name": "python",
   "nbconvert_exporter": "python",
   "pygments_lexer": "ipython3",
   "version": "3.8.5"
  },
  "widgets": {
   "application/vnd.jupyter.widget-state+json": {
    "state": {},
    "version_major": 2,
    "version_minor": 0
   }
  }
 },
 "nbformat": 4,
 "nbformat_minor": 5
}
