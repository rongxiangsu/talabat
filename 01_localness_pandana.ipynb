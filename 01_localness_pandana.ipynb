{
 "cells": [
  {
   "cell_type": "code",
   "execution_count": 6,
   "metadata": {},
   "outputs": [],
   "source": [
    "import numpy as np\n",
    "import pandas as pd\n",
    "# %pip install osmnet\n",
    "import pandana\n",
    "# print(pandana.__version__)\n",
    "import datetime\n",
    "import traceback\n",
    "import os \n",
    "\n",
    "pd.set_option(\"display.max_colwidth\", 0)\n",
    "pd.set_option(\"display.max_rows\", 500)\n",
    "pd.set_option(\"display.max_columns\", 500)\n",
    "pd.set_option(\"display.width\", 1000)\n",
    "pd.options.display.float_format = '{:.5f}'.format\n",
    "import warnings\n",
    "warnings.filterwarnings(\"ignore\")"
   ]
  },
  {
   "cell_type": "code",
   "execution_count": 58,
   "metadata": {},
   "outputs": [
    {
     "data": {
      "application/javascript": [
       "IPython.notebook.set_autosave_interval(5000)"
      ]
     },
     "metadata": {},
     "output_type": "display_data"
    },
    {
     "name": "stdout",
     "output_type": "stream",
     "text": [
      "Autosaving every 5 seconds\n"
     ]
    }
   ],
   "source": [
    "import sys\n",
    "import logging\n",
    "\n",
    "nblog = open(\"./logs/localness_pandana_\"+str(datetime.datetime.now())+\".log\", \"a+\")\n",
    "sys.stdout.echo = nblog\n",
    "sys.stderr.echo = nblog\n",
    "\n",
    "get_ipython().log.handlers[0].stream = nblog\n",
    "get_ipython().log.setLevel(logging.INFO)\n",
    "\n",
    "%autosave 5"
   ]
  },
  {
   "cell_type": "code",
   "execution_count": 11,
   "metadata": {},
   "outputs": [
    {
     "name": "stdout",
     "output_type": "stream",
     "text": [
      "2919915\n",
      "CPU times: user 5.2 s, sys: 1.6 s, total: 6.8 s\n",
      "Wall time: 7.92 s\n"
     ]
    }
   ],
   "source": [
    "%%time\n",
    "df_order = pd.read_csv(\"./data/Dubai_all_delivery_202310_processed.csv\", sep=\",\", header=0)\n",
    "print(df_order.shape[0])"
   ]
  },
  {
   "cell_type": "code",
   "execution_count": 72,
   "metadata": {},
   "outputs": [
    {
     "name": "stdout",
     "output_type": "stream",
     "text": [
      "order_time_hour\n",
      "0     72378 \n",
      "1     49848 \n",
      "2     33304 \n",
      "3     21535 \n",
      "4     16240 \n",
      "5     12167 \n",
      "6     12989 \n",
      "7     27611 \n",
      "8     60346 \n",
      "9     81523 \n",
      "10    93640 \n",
      "11    135676\n",
      "12    205737\n",
      "13    217752\n",
      "14    192542\n",
      "15    169921\n",
      "16    159401\n",
      "17    165187\n",
      "18    213923\n",
      "19    257187\n",
      "20    252441\n",
      "21    203732\n",
      "22    157684\n",
      "23    107151\n",
      "Name: account_id, dtype: int64\n"
     ]
    },
    {
     "data": {
      "text/plain": [
       "<Axes: xlabel='order_time_hour'>"
      ]
     },
     "execution_count": 72,
     "metadata": {},
     "output_type": "execute_result"
    },
    {
     "data": {
      "image/png": "[encoded data removed]",
      "text/plain": [
       "<Figure size 432x288 with 1 Axes>"
      ]
     },
     "metadata": {
      "needs_background": "light"
     },
     "output_type": "display_data"
    }
   ],
   "source": [
    "# number of orders by hour\n",
    "print(df_order.groupby('order_time_hour').count().account_id)\n",
    "df_order.groupby('order_time_hour').count().account_id.plot(kind='line')"
   ]
  },
  {
   "cell_type": "code",
   "execution_count": 81,
   "metadata": {},
   "outputs": [
    {
     "data": {
      "text/plain": [
       "order_time_hour\n",
       "0     3341\n",
       "1     2709\n",
       "2     2103\n",
       "3     1492\n",
       "4     1132\n",
       "5     1058\n",
       "6     1041\n",
       "7     1562\n",
       "8     2440\n",
       "9     3032\n",
       "10    4097\n",
       "11    5689\n",
       "12    6689\n",
       "13    6844\n",
       "14    6814\n",
       "15    6670\n",
       "16    6548\n",
       "17    6532\n",
       "18    6808\n",
       "19    6948\n",
       "20    6927\n",
       "21    6786\n",
       "22    6192\n",
       "23    5073\n",
       "Name: vendor_id, dtype: int64"
      ]
     },
     "execution_count": 81,
     "metadata": {},
     "output_type": "execute_result"
    }
   ],
   "source": [
    "# number of available vendors by hours\n",
    "df_order.groupby(['order_time_hour']).vendor_id.nunique()"
   ]
  },
  {
   "cell_type": "code",
   "execution_count": 85,
   "metadata": {},
   "outputs": [],
   "source": [
    "available_vendors_list_by_hour = df_order.groupby(['order_time_hour']).vendor_id.unique()"
   ]
  },
  {
   "cell_type": "code",
   "execution_count": 60,
   "metadata": {},
   "outputs": [],
   "source": [
    "# df_customerlocs = df_order[['account_id','customer_lon','customer_lat']]\n",
    "# df_customerlocs.drop_duplicates(inplace=True)\n",
    "# print(df_customerlocs.shape[0])\n",
    "# df_customerlocs.head()"
   ]
  },
  {
   "cell_type": "code",
   "execution_count": 87,
   "metadata": {},
   "outputs": [
    {
     "name": "stdout",
     "output_type": "stream",
     "text": [
      "8105\n"
     ]
    },
    {
     "data": {
      "text/html": [
       "<div>\n",
       "<style scoped>\n",
       "    .dataframe tbody tr th:only-of-type {\n",
       "        vertical-align: middle;\n",
       "    }\n",
       "\n",
       "    .dataframe tbody tr th {\n",
       "        vertical-align: top;\n",
       "    }\n",
       "\n",
       "    .dataframe thead th {\n",
       "        text-align: right;\n",
       "    }\n",
       "</style>\n",
       "<table border=\"1\" class=\"dataframe\">\n",
       "  <thead>\n",
       "    <tr style=\"text-align: right;\">\n",
       "      <th></th>\n",
       "      <th>vertical</th>\n",
       "      <th>vendor_id</th>\n",
       "      <th>main_cuisine</th>\n",
       "      <th>vendor_name</th>\n",
       "      <th>vendor_lon</th>\n",
       "      <th>vendor_lat</th>\n",
       "      <th>vendor_index</th>\n",
       "    </tr>\n",
       "  </thead>\n",
       "  <tbody>\n",
       "    <tr>\n",
       "      <th>0</th>\n",
       "      <td>food</td>\n",
       "      <td>682312</td>\n",
       "      <td>coffee</td>\n",
       "      <td>Starbucks, Al Jada</td>\n",
       "      <td>55.48008</td>\n",
       "      <td>25.31986</td>\n",
       "      <td>0</td>\n",
       "    </tr>\n",
       "    <tr>\n",
       "      <th>1</th>\n",
       "      <td>food</td>\n",
       "      <td>663746</td>\n",
       "      <td>emirati</td>\n",
       "      <td>Harees &amp; Mahashi, Al Mujarah</td>\n",
       "      <td>55.39292</td>\n",
       "      <td>25.36944</td>\n",
       "      <td>1</td>\n",
       "    </tr>\n",
       "    <tr>\n",
       "      <th>2</th>\n",
       "      <td>food</td>\n",
       "      <td>39238</td>\n",
       "      <td>yemeni</td>\n",
       "      <td>Al Rukn Al Arabi, Al Sawan,Al Rashidiya 3</td>\n",
       "      <td>55.43238</td>\n",
       "      <td>25.39337</td>\n",
       "      <td>2</td>\n",
       "    </tr>\n",
       "    <tr>\n",
       "      <th>3</th>\n",
       "      <td>food</td>\n",
       "      <td>714271</td>\n",
       "      <td>seafood</td>\n",
       "      <td>Not Only Fish, Jumeirah Lakes Towers - JLT</td>\n",
       "      <td>55.14158</td>\n",
       "      <td>25.06848</td>\n",
       "      <td>3</td>\n",
       "    </tr>\n",
       "    <tr>\n",
       "      <th>4</th>\n",
       "      <td>food</td>\n",
       "      <td>709554</td>\n",
       "      <td>fast food</td>\n",
       "      <td>Pasta La Pizza, Bluewaters Island</td>\n",
       "      <td>55.12460</td>\n",
       "      <td>25.07763</td>\n",
       "      <td>4</td>\n",
       "    </tr>\n",
       "  </tbody>\n",
       "</table>\n",
       "</div>"
      ],
      "text/plain": [
       "  vertical  vendor_id main_cuisine                                 vendor_name  vendor_lon  vendor_lat  vendor_index\n",
       "0  food     682312     coffee       Starbucks, Al Jada                         55.48008    25.31986     0           \n",
       "1  food     663746     emirati      Harees & Mahashi, Al Mujarah               55.39292    25.36944     1           \n",
       "2  food     39238      yemeni       Al Rukn Al Arabi, Al Sawan,Al Rashidiya 3  55.43238    25.39337     2           \n",
       "3  food     714271     seafood      Not Only Fish, Jumeirah Lakes Towers - JLT 55.14158    25.06848     3           \n",
       "4  food     709554     fast food    Pasta La Pizza, Bluewaters Island          55.12460    25.07763     4           "
      ]
     },
     "execution_count": 87,
     "metadata": {},
     "output_type": "execute_result"
    }
   ],
   "source": [
    "df_vendor = pd.read_csv('./data/all_vendor_oct_processed.csv',header=0)\n",
    "df_vendor['vendor_index'] = df_vendor.index\n",
    "print(df_vendor.shape[0])\n",
    "df_vendor.head()"
   ]
  },
  {
   "cell_type": "markdown",
   "metadata": {},
   "source": [
    "# Retrieve OSM driving road network of Dubai by bouding box\n",
    "only need to run download code once, can load the saved network data in the future"
   ]
  },
  {
   "cell_type": "code",
   "execution_count": 3,
   "metadata": {},
   "outputs": [],
   "source": [
    "# %%time\n",
    "# ## Wall time: 5min\n",
    "# from pandana.loaders import osm\n",
    "# network = osm.pdna_network_from_bbox(24.849396, 54.928797, 25.474479, 55.773907, network_type='drive')"
   ]
  },
  {
   "cell_type": "code",
   "execution_count": 10,
   "metadata": {},
   "outputs": [
    {
     "data": {
      "text/html": [
       "<div>\n",
       "<style scoped>\n",
       "    .dataframe tbody tr th:only-of-type {\n",
       "        vertical-align: middle;\n",
       "    }\n",
       "\n",
       "    .dataframe tbody tr th {\n",
       "        vertical-align: top;\n",
       "    }\n",
       "\n",
       "    .dataframe thead th {\n",
       "        text-align: right;\n",
       "    }\n",
       "</style>\n",
       "<table border=\"1\" class=\"dataframe\">\n",
       "  <thead>\n",
       "    <tr style=\"text-align: right;\">\n",
       "      <th></th>\n",
       "      <th></th>\n",
       "      <th>from</th>\n",
       "      <th>to</th>\n",
       "      <th>distance</th>\n",
       "    </tr>\n",
       "  </thead>\n",
       "  <tbody>\n",
       "    <tr>\n",
       "      <th rowspan=\"2\" valign=\"top\">21133789</th>\n",
       "      <th>95063474</th>\n",
       "      <td>21133789</td>\n",
       "      <td>95063474</td>\n",
       "      <td>264.64985</td>\n",
       "    </tr>\n",
       "    <tr>\n",
       "      <th>642942771</th>\n",
       "      <td>21133789</td>\n",
       "      <td>642942771</td>\n",
       "      <td>95.63152</td>\n",
       "    </tr>\n",
       "    <tr>\n",
       "      <th rowspan=\"2\" valign=\"top\">21162710</th>\n",
       "      <th>267369795</th>\n",
       "      <td>21162710</td>\n",
       "      <td>267369795</td>\n",
       "      <td>679.96710</td>\n",
       "    </tr>\n",
       "    <tr>\n",
       "      <th>1014768766</th>\n",
       "      <td>21162710</td>\n",
       "      <td>1014768766</td>\n",
       "      <td>1180.95844</td>\n",
       "    </tr>\n",
       "    <tr>\n",
       "      <th>21162918</th>\n",
       "      <th>1014766460</th>\n",
       "      <td>21162918</td>\n",
       "      <td>1014766460</td>\n",
       "      <td>1221.37087</td>\n",
       "    </tr>\n",
       "  </tbody>\n",
       "</table>\n",
       "</div>"
      ],
      "text/plain": [
       "                         from          to   distance\n",
       "21133789 95063474    21133789  95063474   264.64985 \n",
       "         642942771   21133789  642942771  95.63152  \n",
       "21162710 267369795   21162710  267369795  679.96710 \n",
       "         1014768766  21162710  1014768766 1180.95844\n",
       "21162918 1014766460  21162918  1014766460 1221.37087"
      ]
     },
     "execution_count": 10,
     "metadata": {},
     "output_type": "execute_result"
    }
   ],
   "source": [
    "# network.nodes_df.to_csv('./output/nodes.csv')\n",
    "# network.edges_df.to_csv('./output/edges.csv')\n",
    "# network.edges_df.head()"
   ]
  },
  {
   "cell_type": "code",
   "execution_count": 8,
   "metadata": {},
   "outputs": [
    {
     "name": "stdout",
     "output_type": "stream",
     "text": [
      "110123\n",
      "CPU times: user 50.8 s, sys: 1.5 s, total: 52.3 s\n",
      "Wall time: 3.25 s\n"
     ]
    }
   ],
   "source": [
    "%%time\n",
    "# load existing network data\n",
    "nodes = pd.read_csv('./output/nodes.csv', index_col=0)\n",
    "print(nodes.shape[0])\n",
    "edges = pd.read_csv('./output/edges.csv', index_col=[0,1])\n",
    "network = pandana.Network(nodes['x'], nodes['y'], \n",
    "                          edges['from'], edges['to'], edges[['distance']])"
   ]
  },
  {
   "cell_type": "markdown",
   "metadata": {},
   "source": [
    "# Assign nearest network node_ids to each customer location"
   ]
  },
  {
   "cell_type": "code",
   "execution_count": 12,
   "metadata": {},
   "outputs": [
    {
     "name": "stdout",
     "output_type": "stream",
     "text": [
      "2919915\n",
      "41921\n",
      "CPU times: user 3.14 s, sys: 20.4 ms, total: 3.16 s\n",
      "Wall time: 3.16 s\n"
     ]
    }
   ],
   "source": [
    "%%time\n",
    "all_nodes = network.get_node_ids(df_order.customer_lon, df_order.customer_lat).values\n",
    "print(all_nodes.shape[0]) #2919915\n",
    "df_order['node_id'] = all_nodes\n",
    "print(df_order.node_id.unique().shape[0])  #87601"
   ]
  },
  {
   "cell_type": "code",
   "execution_count": 35,
   "metadata": {},
   "outputs": [],
   "source": [
    "# %%time\n",
    "# customer_nodes = network.get_node_ids(df_customerlocs.customer_lon, df_customerlocs.customer_lat).values\n",
    "# print(customer_nodes.shape[0])\n",
    "# df_customerlocs['node_id'] = customer_nodes\n",
    "# df_customerlocs.node_id.unique().shape[0]"
   ]
  },
  {
   "cell_type": "markdown",
   "metadata": {},
   "source": [
    "# Identify nearest restaurants\n",
    "https://github.com/UDST/pandana/blob/dev/examples/Pandana-demo.ipynb"
   ]
  },
  {
   "cell_type": "code",
   "execution_count": 90,
   "metadata": {},
   "outputs": [
    {
     "name": "stdout",
     "output_type": "stream",
     "text": [
      "8105\n",
      "66\n"
     ]
    },
    {
     "data": {
      "text/html": [
       "<div>\n",
       "<style scoped>\n",
       "    .dataframe tbody tr th:only-of-type {\n",
       "        vertical-align: middle;\n",
       "    }\n",
       "\n",
       "    .dataframe tbody tr th {\n",
       "        vertical-align: top;\n",
       "    }\n",
       "\n",
       "    .dataframe thead th {\n",
       "        text-align: right;\n",
       "    }\n",
       "</style>\n",
       "<table border=\"1\" class=\"dataframe\">\n",
       "  <thead>\n",
       "    <tr style=\"text-align: right;\">\n",
       "      <th></th>\n",
       "      <th>n_vertical</th>\n",
       "      <th>n_vendor_id</th>\n",
       "      <th>n_main_cuisine</th>\n",
       "      <th>n_vendor_name</th>\n",
       "      <th>n_vendor_lon</th>\n",
       "      <th>n_vendor_lat</th>\n",
       "      <th>vendor_index</th>\n",
       "    </tr>\n",
       "  </thead>\n",
       "  <tbody>\n",
       "    <tr>\n",
       "      <th>0</th>\n",
       "      <td>food</td>\n",
       "      <td>682312</td>\n",
       "      <td>coffee</td>\n",
       "      <td>Starbucks, Al Jada</td>\n",
       "      <td>55.48008</td>\n",
       "      <td>25.31986</td>\n",
       "      <td>0</td>\n",
       "    </tr>\n",
       "    <tr>\n",
       "      <th>1</th>\n",
       "      <td>food</td>\n",
       "      <td>663746</td>\n",
       "      <td>emirati</td>\n",
       "      <td>Harees &amp; Mahashi, Al Mujarah</td>\n",
       "      <td>55.39292</td>\n",
       "      <td>25.36944</td>\n",
       "      <td>1</td>\n",
       "    </tr>\n",
       "    <tr>\n",
       "      <th>2</th>\n",
       "      <td>food</td>\n",
       "      <td>39238</td>\n",
       "      <td>yemeni</td>\n",
       "      <td>Al Rukn Al Arabi, Al Sawan,Al Rashidiya 3</td>\n",
       "      <td>55.43238</td>\n",
       "      <td>25.39337</td>\n",
       "      <td>2</td>\n",
       "    </tr>\n",
       "    <tr>\n",
       "      <th>3</th>\n",
       "      <td>food</td>\n",
       "      <td>714271</td>\n",
       "      <td>seafood</td>\n",
       "      <td>Not Only Fish, Jumeirah Lakes Towers - JLT</td>\n",
       "      <td>55.14158</td>\n",
       "      <td>25.06848</td>\n",
       "      <td>3</td>\n",
       "    </tr>\n",
       "    <tr>\n",
       "      <th>4</th>\n",
       "      <td>food</td>\n",
       "      <td>709554</td>\n",
       "      <td>fast food</td>\n",
       "      <td>Pasta La Pizza, Bluewaters Island</td>\n",
       "      <td>55.12460</td>\n",
       "      <td>25.07763</td>\n",
       "      <td>4</td>\n",
       "    </tr>\n",
       "  </tbody>\n",
       "</table>\n",
       "</div>"
      ],
      "text/plain": [
       "  n_vertical  n_vendor_id n_main_cuisine                               n_vendor_name  n_vendor_lon  n_vendor_lat  vendor_index\n",
       "0  food       682312       coffee         Starbucks, Al Jada                         55.48008      25.31986       0           \n",
       "1  food       663746       emirati        Harees & Mahashi, Al Mujarah               55.39292      25.36944       1           \n",
       "2  food       39238        yemeni         Al Rukn Al Arabi, Al Sawan,Al Rashidiya 3  55.43238      25.39337       2           \n",
       "3  food       714271       seafood        Not Only Fish, Jumeirah Lakes Towers - JLT 55.14158      25.06848       3           \n",
       "4  food       709554       fast food      Pasta La Pizza, Bluewaters Island          55.12460      25.07763       4           "
      ]
     },
     "execution_count": 90,
     "metadata": {},
     "output_type": "execute_result"
    }
   ],
   "source": [
    "df_vendor = df_vendor.rename(columns={\"vendor_id\": \"n_vendor_id\",\"main_cuisine\":\"n_main_cuisine\",'vendor_name':'n_vendor_name',\n",
    "                                       'vendor_lon':'n_vendor_lon','vendor_lat':'n_vendor_lat','vertical':'n_vertical'})\n",
    "print(df_vendor.shape[0])\n",
    "print(df_vendor.n_main_cuisine.unique().shape[0])\n",
    "df_vendor.head()"
   ]
  },
  {
   "cell_type": "code",
   "execution_count": 1,
   "metadata": {},
   "outputs": [],
   "source": [
    "%%time\n",
    "\n",
    "max_search_resturants = 1 \n",
    "max_dist = 50000 # 50km \n",
    "output_file = './data/Dubai_all_delivery_202310_processed_nearest_new.csv'\n",
    "\n",
    "# loop hour, for each hour we construct different network with different available restaurants\n",
    "for hour in range(0,24):\n",
    "    df_order_byhour = df_order[df_order['order_time_hour']==hour]\n",
    "    print(datetime.datetime.now(),'Hour:',hour,', total orders in this hour:',df_order_byhour.shape[0])\n",
    "    df_vendor_byhour = df_vendor[df_vendor['n_vendor_id'].isin(available_vendors_list_by_hour[hour])]\n",
    "    print(' Number of available restaurants:',len(available_vendors_list_by_hour[hour]),df_vendor_byhour.n_vendor_id.unique().shape[0])\n",
    "    \n",
    "    # Step 1. Add different types of restaurants into the network. We assume these are the available restaurants to people.\n",
    "    network = pandana.Network(nodes['x'], nodes['y'], \n",
    "                          edges['from'], edges['to'], edges[['distance']])\n",
    "    for cat in df_vendor_byhour.n_main_cuisine.unique().tolist():\n",
    "        df_vendor_onetype = df_vendor_byhour[df_vendor_byhour['n_main_cuisine']==cat]\n",
    "        network.set_pois(category = cat,\n",
    "                         maxdist = max_dist,\n",
    "                         maxitems = max_search_resturants, # max number of restaurants to search\n",
    "                         x_col = df_vendor_onetype.n_vendor_lon, \n",
    "                         y_col = df_vendor_onetype.n_vendor_lat)\n",
    "    \n",
    "    \n",
    "    # Step 2. Search the nearest same type of restaurants\n",
    "    i = 1\n",
    "    for cat in df_vendor_byhour.n_main_cuisine.unique().tolist():\n",
    "        try:\n",
    "            print(datetime.datetime.now(), cat, i,'/',df_vendor_byhour.n_main_cuisine.unique().shape[0])\n",
    "            i+=1\n",
    "            # return the nearest restaurants offering the same cuisine\n",
    "            df_nearest_samerest = network.nearest_pois(distance = max_dist,\n",
    "                                       category = cat,\n",
    "                                       num_pois = max_search_resturants,\n",
    "                                       include_poi_ids = True)\n",
    "            df_nearest_samerest = df_nearest_samerest.reset_index()\n",
    "            df_nearest_samerest.dropna(inplace=True) # drop nodes without any nearest restaurants within max_dist\n",
    "            df_nearest_samerest.poi1 = df_nearest_samerest.poi1.astype(int)\n",
    "            df_nearest_samerest = df_nearest_samerest.rename(columns={\"id\": \"node_id\", 1:\"nearest_dist1\"})# nearest_dist1: this is the distance to the nearest restaurant\n",
    "            #,\"poi1\":\"vendor_index\"\n",
    "\n",
    "            # left join the identified nearest restaurant with the order data, make sure controling the same cuisine types\n",
    "            df_order_onetype = df_order_byhour[df_order_byhour['main_cuisine']==cat] \n",
    "            df_order_onetype_mergedist = df_order_onetype.merge(df_nearest_samerest, on='node_id')\n",
    "            df_order_onetype_mergedist = df_order_onetype_mergedist.merge(df_vendor_byhour,left_on='poi1',right_on='vendor_index')\n",
    "\n",
    "            if not os.path.isfile(output_file):\n",
    "                df_order_onetype_mergedist.to_csv(output_file,index=False)\n",
    "            else: # else it exists so append without writing the header\n",
    "                df_order_onetype_mergedist.to_csv(output_file, mode='a', header=False,index=False)\n",
    "\n",
    "        except Exception:\n",
    "            traceback.print_exc()\n",
    "            print(cat)    "
   ]
  },
  {
   "cell_type": "code",
   "execution_count": 104,
   "metadata": {},
   "outputs": [],
   "source": []
  },
  {
   "cell_type": "markdown",
   "metadata": {},
   "source": [
    "# Compute shortest path (network distance) between customer and restaurants actually ordering from"
   ]
  },
  {
   "cell_type": "code",
   "execution_count": 2,
   "metadata": {},
   "outputs": [
    {
     "name": "stdout",
     "output_type": "stream",
     "text": [
      "2916590\n",
      "CPU times: user 13.7 s, sys: 2.23 s, total: 16 s\n",
      "Wall time: 22.2 s\n"
     ]
    }
   ],
   "source": [
    "%%time\n",
    "output_file = './data/Dubai_all_delivery_202310_processed_nearest_new.csv'\n",
    "df_localness = pd.read_csv(output_file, sep=\",\", header=0)\n",
    "print(df_localness.shape[0])\n",
    "df_localness.head(2)"
   ]
  },
  {
   "cell_type": "code",
   "execution_count": 5,
   "metadata": {},
   "outputs": [
    {
     "ename": "NameError",
     "evalue": "name 'network' is not defined",
     "output_type": "error",
     "traceback": [
      "\u001b[0;31m---------------------------------------------------------------------------\u001b[0m",
      "\u001b[0;31mNameError\u001b[0m                                 Traceback (most recent call last)",
      "\u001b[0;32m<timed exec>\u001b[0m in \u001b[0;36m<module>\u001b[0;34m\u001b[0m\n",
      "\u001b[0;31mNameError\u001b[0m: name 'network' is not defined"
     ]
    }
   ],
   "source": [
    "%%time\n",
    "df_localness['nearest_dist1'] = df_localness['nearest_dist1']/1000  # convert to km\n",
    "\n",
    "# first, identify the nearest node to each lon lat coordinate\n",
    "customer_nodes = network.get_node_ids(df_localness.customer_lon, df_localness.customer_lat).values\n",
    "vendor_nodes = network.get_node_ids(df_localness.vendor_lon, df_localness.vendor_lat).values\n",
    "\n",
    "# second, compute the shortest network distance for each pair of nodes\n",
    "distances_order = network.shortest_path_lengths(vendor_nodes, customer_nodes)\n",
    "print(len(distances_order))\n",
    "# pandana_distance_realdist: this is the real network distance between customer and the vendor\n",
    "df_localness['pandana_distance_realdist'] = [x / 1000 for x in distances_order] # convert to km"
   ]
  },
  {
   "cell_type": "code",
   "execution_count": 23,
   "metadata": {},
   "outputs": [],
   "source": [
    "# %%time\n",
    "# n_vendor_nodes = G.get_node_ids(df_order.n_vendor_lon, df_order.n_vendor_lat).values\n",
    "# distances_to_nearest_restaurants = G.shortest_path_lengths(n_vendor_nodes, customer_nodes)\n",
    "# df_localness['pandana_distance_nearest_dist'] = [x / 1000 for x in distances_to_nearest_restaurants] "
   ]
  },
  {
   "cell_type": "markdown",
   "metadata": {},
   "source": [
    "# Compute localness index"
   ]
  },
  {
   "cell_type": "code",
   "execution_count": 10,
   "metadata": {},
   "outputs": [
    {
     "name": "stdout",
     "output_type": "stream",
     "text": [
      "CPU times: user 18.2 s, sys: 896 ms, total: 19.1 s\n",
      "Wall time: 1min 13s\n"
     ]
    }
   ],
   "source": [
    "# %%time\n",
    "# df_localness = pd.read_csv('./data/food_localness_oct.csv',header=0)"
   ]
  },
  {
   "cell_type": "code",
   "execution_count": 9,
   "metadata": {},
   "outputs": [],
   "source": [
    "df_localness['pandana_localness'] = df_localness['nearest_dist1']/df_localness['pandana_distance_realdist']"
   ]
  },
  {
   "cell_type": "code",
   "execution_count": null,
   "metadata": {},
   "outputs": [],
   "source": [
    "# exclude some extreme or abnormal orders based on distance and speed\n",
    "df_localness = df_localness[df_localness['pandana_distance_realdist']<50] # order distance must be less than 50km\n",
    "df_localness['speed'] = df_localness['pandana_distance_realdist']/(df_localness['delivery_duration']/60) # order travel speed, km/h\n",
    "df_localness = df_localness[df_localness['speed']<60] #must be < 60km/h\n",
    "\n",
    "# around 5% of the orders are from the nearest restaurants: \n",
    "print(df_localness[df_localness['pandana_localness']>=1].shape[0])\n",
    "print(df_localness[df_localness['pandana_localness']>=1].shape[0]/df_localness.shape[0])"
   ]
  },
  {
   "cell_type": "code",
   "execution_count": 1,
   "metadata": {},
   "outputs": [],
   "source": [
    "df_localness.to_csv('./data/food_localness_oct.csv',sep=',',index=False)"
   ]
  },
  {
   "cell_type": "markdown",
   "metadata": {},
   "source": [
    "# (Optional) Localness index exploration"
   ]
  },
  {
   "cell_type": "code",
   "execution_count": 19,
   "metadata": {},
   "outputs": [
    {
     "name": "stdout",
     "output_type": "stream",
     "text": [
      "2824594\n"
     ]
    },
    {
     "data": {
      "text/plain": [
       "count   2824594.00000\n",
       "mean    5.64253      \n",
       "std     4.04874      \n",
       "min     0.00000      \n",
       "25%     2.47330      \n",
       "50%     4.74912      \n",
       "75%     7.99198      \n",
       "max     46.27318     \n",
       "Name: pandana_distance_realdist, dtype: float64"
      ]
     },
     "execution_count": 19,
     "metadata": {},
     "output_type": "execute_result"
    }
   ],
   "source": [
    "# before excluding abnormal values\n",
    "# print(df_localness.shape[0])\n",
    "# df_localness.pandana_distance_realdist.describe()\n",
    "# df_localness.delivery_duration.describe()\n",
    "# df_localness.total_duration.describe()\n",
    "\n",
    "# After exclude abnormal values: 2.8 million orders\n",
    "print(df_localness.shape[0])\n",
    "df_localness.pandana_distance_realdist.describe()"
   ]
  },
  {
   "cell_type": "code",
   "execution_count": 130,
   "metadata": {
    "scrolled": true
   },
   "outputs": [
    {
     "data": {
      "text/plain": [
       "main_cuisine\n",
       "specialty store   1.00000\n",
       "peruvian          1.00000\n",
       "kuwaiti           1.00000\n",
       "iraqi             1.00000\n",
       "spanish           1.00000\n",
       "latin american    1.00000\n",
       "french            0.99952\n",
       "mongolian         0.99422\n",
       "singaporean       0.98810\n",
       "tunisian          0.97917\n",
       "sliders           0.94545\n",
       "portuguese        0.92505\n",
       "argentinian       0.92091\n",
       "syrian            0.89866\n",
       "saudi             0.89578\n",
       "british           0.89450\n",
       "brazilian         0.88923\n",
       "gluten free       0.88877\n",
       "georgian          0.88396\n",
       "indonesian        0.86975\n",
       "nepalese          0.84101\n",
       "vietnamese        0.82927\n",
       "european          0.82430\n",
       "mediterranean     0.82418\n",
       "middle eastern    0.81357\n",
       "jordanian         0.78924\n",
       "soup              0.77629\n",
       "korean            0.76819\n",
       "greek             0.74556\n",
       "bowls             0.73142\n",
       "moroccan          0.72221\n",
       "uzbek             0.69631\n",
       "afghani           0.69397\n",
       "vegetarian        0.68598\n",
       "russian           0.67443\n",
       "palestinian       0.67259\n",
       "keto              0.67237\n",
       "chicken           0.65618\n",
       "african           0.61215\n",
       "mexican           0.59213\n",
       "thai              0.57468\n",
       "iranian           0.55961\n",
       "emirati           0.55134\n",
       "acai              0.53602\n",
       "filipino          0.52811\n",
       "international     0.52220\n",
       "salad             0.49619\n",
       "pakistani         0.49188\n",
       "turkish           0.49123\n",
       "yemeni            0.47044\n",
       "egyptian          0.46868\n",
       "chinese           0.46140\n",
       "american          0.45594\n",
       "japanese          0.42719\n",
       "coffee            0.41635\n",
       "breakfast         0.41079\n",
       "italian           0.40552\n",
       "seafood           0.40244\n",
       "lebanese          0.40045\n",
       "asian             0.38580\n",
       "healthy           0.35436\n",
       "dessert           0.33484\n",
       "arabic            0.32537\n",
       "bbq               0.31617\n",
       "fast food         0.30059\n",
       "indian            0.26014\n",
       "Name: pandana_localness, dtype: float64"
      ]
     },
     "execution_count": 130,
     "metadata": {},
     "output_type": "execute_result"
    }
   ],
   "source": [
    "df_localness.groupby('main_cuisine').pandana_localness.mean().sort_values(ascending=False)"
   ]
  },
  {
   "cell_type": "code",
   "execution_count": 22,
   "metadata": {},
   "outputs": [],
   "source": [
    "# df_localness['pandana_localness'].hist(bins=40,ec='None')"
   ]
  },
  {
   "cell_type": "code",
   "execution_count": 21,
   "metadata": {},
   "outputs": [],
   "source": []
  },
  {
   "cell_type": "code",
   "execution_count": null,
   "metadata": {},
   "outputs": [],
   "source": []
  },
  {
   "cell_type": "code",
   "execution_count": null,
   "metadata": {},
   "outputs": [],
   "source": []
  }
 ],
 "metadata": {
  "kernelspec": {
   "display_name": "python3.8",
   "language": "python",
   "name": "python3.8"
  },
  "language_info": {
   "codemirror_mode": {
    "name": "ipython",
    "version": 3
   },
   "file_extension": ".py",
   "mimetype": "text/x-python",
   "name": "python",
   "nbconvert_exporter": "python",
   "pygments_lexer": "ipython3",
   "version": "3.8.5"
  }
 },
 "nbformat": 4,
 "nbformat_minor": 4
}
