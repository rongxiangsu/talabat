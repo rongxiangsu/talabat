{
 "cells": [
  {
   "cell_type": "code",
   "execution_count": 1,
   "metadata": {},
   "outputs": [],
   "source": [
    "import numpy as np\n",
    "import pandas as pd\n",
    "# %pip install osmnet\n",
    "import pandana\n",
    "# print(pandana.__version__)\n",
    "import datetime\n",
    "\n",
    "pd.set_option(\"display.max_colwidth\", 0)\n",
    "pd.set_option(\"display.max_rows\", 500)\n",
    "pd.set_option(\"display.max_columns\", 500)\n",
    "pd.set_option(\"display.width\", 1000)\n",
    "pd.options.display.float_format = '{:.5f}'.format\n",
    "import warnings\n",
    "warnings.filterwarnings(\"ignore\")"
   ]
  },
  {
   "cell_type": "code",
   "execution_count": 2,
   "metadata": {},
   "outputs": [
    {
     "data": {
      "application/javascript": [
       "IPython.notebook.set_autosave_interval(5000)"
      ]
     },
     "metadata": {},
     "output_type": "display_data"
    },
    {
     "name": "stdout",
     "output_type": "stream",
     "text": [
      "Autosaving every 5 seconds\n"
     ]
    }
   ],
   "source": [
    "import sys\n",
    "import logging\n",
    "\n",
    "nblog = open(\"./logs/localness_pandana_\"+str(datetime.datetime.now())+\".log\", \"a+\")\n",
    "sys.stdout.echo = nblog\n",
    "sys.stderr.echo = nblog\n",
    "\n",
    "get_ipython().log.handlers[0].stream = nblog\n",
    "get_ipython().log.setLevel(logging.INFO)\n",
    "\n",
    "%autosave 5"
   ]
  },
  {
   "cell_type": "code",
   "execution_count": 3,
   "metadata": {},
   "outputs": [
    {
     "name": "stdout",
     "output_type": "stream",
     "text": [
      "2919915\n",
      "CPU times: user 8.68 s, sys: 6.79 s, total: 15.5 s\n",
      "Wall time: 46.9 s\n"
     ]
    }
   ],
   "source": [
    "%%time\n",
    "df_order = pd.read_csv(\"./data/Dubai_all_delivery_202310_processed.csv\", sep=\",\", header=0)\n",
    "print(df_order.shape[0])"
   ]
  },
  {
   "cell_type": "code",
   "execution_count": 4,
   "metadata": {},
   "outputs": [],
   "source": [
    "# df_customerlocs = df_order[['account_id','customer_lon','customer_lat']]\n",
    "# df_customerlocs.drop_duplicates(inplace=True)\n",
    "# print(df_customerlocs.shape[0])\n",
    "# df_customerlocs.head()"
   ]
  },
  {
   "cell_type": "code",
   "execution_count": 5,
   "metadata": {},
   "outputs": [
    {
     "name": "stdout",
     "output_type": "stream",
     "text": [
      "8105\n"
     ]
    },
    {
     "data": {
      "text/html": [
       "<div>\n",
       "<style scoped>\n",
       "    .dataframe tbody tr th:only-of-type {\n",
       "        vertical-align: middle;\n",
       "    }\n",
       "\n",
       "    .dataframe tbody tr th {\n",
       "        vertical-align: top;\n",
       "    }\n",
       "\n",
       "    .dataframe thead th {\n",
       "        text-align: right;\n",
       "    }\n",
       "</style>\n",
       "<table border=\"1\" class=\"dataframe\">\n",
       "  <thead>\n",
       "    <tr style=\"text-align: right;\">\n",
       "      <th></th>\n",
       "      <th>vertical</th>\n",
       "      <th>vendor_id</th>\n",
       "      <th>main_cuisine</th>\n",
       "      <th>vendor_name</th>\n",
       "      <th>vendor_lon</th>\n",
       "      <th>vendor_lat</th>\n",
       "      <th>vendor_index</th>\n",
       "    </tr>\n",
       "  </thead>\n",
       "  <tbody>\n",
       "    <tr>\n",
       "      <th>0</th>\n",
       "      <td>food</td>\n",
       "      <td>682312</td>\n",
       "      <td>coffee</td>\n",
       "      <td>Starbucks, Al Jada</td>\n",
       "      <td>55.48008</td>\n",
       "      <td>25.31986</td>\n",
       "      <td>0</td>\n",
       "    </tr>\n",
       "    <tr>\n",
       "      <th>1</th>\n",
       "      <td>food</td>\n",
       "      <td>663746</td>\n",
       "      <td>emirati</td>\n",
       "      <td>Harees &amp; Mahashi, Al Mujarah</td>\n",
       "      <td>55.39292</td>\n",
       "      <td>25.36944</td>\n",
       "      <td>1</td>\n",
       "    </tr>\n",
       "    <tr>\n",
       "      <th>2</th>\n",
       "      <td>food</td>\n",
       "      <td>39238</td>\n",
       "      <td>yemeni</td>\n",
       "      <td>Al Rukn Al Arabi, Al Sawan,Al Rashidiya 3</td>\n",
       "      <td>55.43238</td>\n",
       "      <td>25.39337</td>\n",
       "      <td>2</td>\n",
       "    </tr>\n",
       "    <tr>\n",
       "      <th>3</th>\n",
       "      <td>food</td>\n",
       "      <td>714271</td>\n",
       "      <td>seafood</td>\n",
       "      <td>Not Only Fish, Jumeirah Lakes Towers - JLT</td>\n",
       "      <td>55.14158</td>\n",
       "      <td>25.06848</td>\n",
       "      <td>3</td>\n",
       "    </tr>\n",
       "    <tr>\n",
       "      <th>4</th>\n",
       "      <td>food</td>\n",
       "      <td>709554</td>\n",
       "      <td>fast food</td>\n",
       "      <td>Pasta La Pizza, Bluewaters Island</td>\n",
       "      <td>55.12460</td>\n",
       "      <td>25.07763</td>\n",
       "      <td>4</td>\n",
       "    </tr>\n",
       "  </tbody>\n",
       "</table>\n",
       "</div>"
      ],
      "text/plain": [
       "  vertical  vendor_id main_cuisine                                 vendor_name  vendor_lon  vendor_lat  vendor_index\n",
       "0  food     682312     coffee       Starbucks, Al Jada                         55.48008    25.31986     0           \n",
       "1  food     663746     emirati      Harees & Mahashi, Al Mujarah               55.39292    25.36944     1           \n",
       "2  food     39238      yemeni       Al Rukn Al Arabi, Al Sawan,Al Rashidiya 3  55.43238    25.39337     2           \n",
       "3  food     714271     seafood      Not Only Fish, Jumeirah Lakes Towers - JLT 55.14158    25.06848     3           \n",
       "4  food     709554     fast food    Pasta La Pizza, Bluewaters Island          55.12460    25.07763     4           "
      ]
     },
     "execution_count": 5,
     "metadata": {},
     "output_type": "execute_result"
    }
   ],
   "source": [
    "df_vendor = pd.read_csv('./data/all_vendor_oct_processed.csv',header=0)\n",
    "df_vendor['vendor_index'] = df_vendor.index\n",
    "print(df_vendor.shape[0])\n",
    "df_vendor.head()"
   ]
  },
  {
   "cell_type": "markdown",
   "metadata": {},
   "source": [
    "# Retrieve OSM driving road network of Dubai by bouding box\n",
    "only need to run download code once, can load the saved network data in the future"
   ]
  },
  {
   "cell_type": "code",
   "execution_count": 9,
   "metadata": {},
   "outputs": [
    {
     "name": "stdout",
     "output_type": "stream",
     "text": [
      "Requesting network data within bounding box from Overpass API in 4 request(s)\n",
      "Posting to http://www.overpass-api.de/api/interpreter with timeout=180, \"{'data': '[out:json][timeout:180];(way[\"highway\"][\"highway\"!~\"cycleway|footway|path|pedestrian|steps|track|proposed|construction|bridleway|abandoned|platform|raceway|service\"][\"motor_vehicle\"!~\"no\"][\"motorcar\"!~\"no\"][\"service\"!~\"parking|parking_aisle|driveway|emergency_access\"](24.84939600,55.35026070,25.16669327,55.77392514);>;);out;'}\"\n",
      "Downloaded 9,466.5KB from www.overpass-api.de in 2.04 seconds\n",
      "Posting to http://www.overpass-api.de/api/interpreter with timeout=180, \"{'data': '[out:json][timeout:180];(way[\"highway\"][\"highway\"!~\"cycleway|footway|path|pedestrian|steps|track|proposed|construction|bridleway|abandoned|platform|raceway|service\"][\"motor_vehicle\"!~\"no\"][\"motorcar\"!~\"no\"][\"service\"!~\"parking|parking_aisle|driveway|emergency_access\"](24.84939600,54.92879700,25.16257778,55.35443162);>;);out;'}\"\n",
      "Downloaded 29,358.6KB from www.overpass-api.de in 1.99 seconds\n",
      "Posting to http://www.overpass-api.de/api/interpreter with timeout=180, \"{'data': '[out:json][timeout:180];(way[\"highway\"][\"highway\"!~\"cycleway|footway|path|pedestrian|steps|track|proposed|construction|bridleway|abandoned|platform|raceway|service\"][\"motor_vehicle\"!~\"no\"][\"motorcar\"!~\"no\"][\"service\"!~\"parking|parking_aisle|driveway|emergency_access\"](25.15728090,54.92879700,25.47508768,55.35026070);>;);out;'}\"\n",
      "Downloaded 14,224.2KB from www.overpass-api.de in 1.16 seconds\n",
      "Posting to http://www.overpass-api.de/api/interpreter with timeout=180, \"{'data': '[out:json][timeout:180];(way[\"highway\"][\"highway\"!~\"cycleway|footway|path|pedestrian|steps|track|proposed|construction|bridleway|abandoned|platform|raceway|service\"][\"motor_vehicle\"!~\"no\"][\"motorcar\"!~\"no\"][\"service\"!~\"parking|parking_aisle|driveway|emergency_access\"](25.16257778,55.34602032,25.47508768,55.77392514);>;);out;'}\"\n",
      "Downloaded 39,470.1KB from www.overpass-api.de in 2.18 seconds\n",
      "Downloaded OSM network data within bounding box from Overpass API in 4 request(s) and 13.01 seconds\n",
      "29,827 duplicate records removed. Took 17.05 seconds\n",
      "Returning OSM data with 695,318 nodes and 82,338 ways...\n",
      "Edge node pairs completed. Took 241.58 seconds\n",
      "Returning processed graph with 110,123 nodes and 160,058 edges...\n",
      "Completed OSM data download and Pandana node and edge table creation in 285.39 seconds\n",
      "CPU times: user 2min 46s, sys: 5.24 s, total: 2min 52s\n",
      "Wall time: 5min 3s\n"
     ]
    }
   ],
   "source": [
    "%%time\n",
    "## Wall time: 5min\n",
    "from pandana.loaders import osm\n",
    "network = osm.pdna_network_from_bbox(24.849396, 54.928797, 25.474479, 55.773907, network_type='drive')"
   ]
  },
  {
   "cell_type": "code",
   "execution_count": 10,
   "metadata": {},
   "outputs": [
    {
     "data": {
      "text/html": [
       "<div>\n",
       "<style scoped>\n",
       "    .dataframe tbody tr th:only-of-type {\n",
       "        vertical-align: middle;\n",
       "    }\n",
       "\n",
       "    .dataframe tbody tr th {\n",
       "        vertical-align: top;\n",
       "    }\n",
       "\n",
       "    .dataframe thead th {\n",
       "        text-align: right;\n",
       "    }\n",
       "</style>\n",
       "<table border=\"1\" class=\"dataframe\">\n",
       "  <thead>\n",
       "    <tr style=\"text-align: right;\">\n",
       "      <th></th>\n",
       "      <th></th>\n",
       "      <th>from</th>\n",
       "      <th>to</th>\n",
       "      <th>distance</th>\n",
       "    </tr>\n",
       "  </thead>\n",
       "  <tbody>\n",
       "    <tr>\n",
       "      <th rowspan=\"2\" valign=\"top\">21133789</th>\n",
       "      <th>95063474</th>\n",
       "      <td>21133789</td>\n",
       "      <td>95063474</td>\n",
       "      <td>264.64985</td>\n",
       "    </tr>\n",
       "    <tr>\n",
       "      <th>642942771</th>\n",
       "      <td>21133789</td>\n",
       "      <td>642942771</td>\n",
       "      <td>95.63152</td>\n",
       "    </tr>\n",
       "    <tr>\n",
       "      <th rowspan=\"2\" valign=\"top\">21162710</th>\n",
       "      <th>267369795</th>\n",
       "      <td>21162710</td>\n",
       "      <td>267369795</td>\n",
       "      <td>679.96710</td>\n",
       "    </tr>\n",
       "    <tr>\n",
       "      <th>1014768766</th>\n",
       "      <td>21162710</td>\n",
       "      <td>1014768766</td>\n",
       "      <td>1180.95844</td>\n",
       "    </tr>\n",
       "    <tr>\n",
       "      <th>21162918</th>\n",
       "      <th>1014766460</th>\n",
       "      <td>21162918</td>\n",
       "      <td>1014766460</td>\n",
       "      <td>1221.37087</td>\n",
       "    </tr>\n",
       "  </tbody>\n",
       "</table>\n",
       "</div>"
      ],
      "text/plain": [
       "                         from          to   distance\n",
       "21133789 95063474    21133789  95063474   264.64985 \n",
       "         642942771   21133789  642942771  95.63152  \n",
       "21162710 267369795   21162710  267369795  679.96710 \n",
       "         1014768766  21162710  1014768766 1180.95844\n",
       "21162918 1014766460  21162918  1014766460 1221.37087"
      ]
     },
     "execution_count": 10,
     "metadata": {},
     "output_type": "execute_result"
    }
   ],
   "source": [
    "network.nodes_df.to_csv('./output/nodes.csv')\n",
    "network.edges_df.to_csv('./output/edges.csv')\n",
    "network.edges_df.head()"
   ]
  },
  {
   "cell_type": "code",
   "execution_count": 11,
   "metadata": {},
   "outputs": [
    {
     "name": "stdout",
     "output_type": "stream",
     "text": [
      "110123\n",
      "CPU times: user 1min 15s, sys: 4.63 s, total: 1min 20s\n",
      "Wall time: 14.9 s\n"
     ]
    }
   ],
   "source": [
    "%%time\n",
    "# load existing network data\n",
    "nodes = pd.read_csv('./output/nodes.csv', index_col=0)\n",
    "print(nodes.shape[0])\n",
    "edges = pd.read_csv('./output/edges.csv', index_col=[0,1])\n",
    "network = pandana.Network(nodes['x'], nodes['y'], \n",
    "                          edges['from'], edges['to'], edges[['distance']])"
   ]
  },
  {
   "cell_type": "markdown",
   "metadata": {},
   "source": [
    "# Assign nearest network node_ids to each customer location"
   ]
  },
  {
   "cell_type": "code",
   "execution_count": 12,
   "metadata": {},
   "outputs": [
    {
     "name": "stdout",
     "output_type": "stream",
     "text": [
      "2919915\n",
      "41921\n",
      "CPU times: user 5.2 s, sys: 903 ms, total: 6.1 s\n",
      "Wall time: 16.3 s\n"
     ]
    }
   ],
   "source": [
    "%%time\n",
    "all_nodes = network.get_node_ids(df_order.customer_lon, df_order.customer_lat).values\n",
    "print(all_nodes.shape[0]) #2919915\n",
    "df_order['node_id'] = all_nodes\n",
    "print(df_order.node_id.unique().shape[0])  #87601"
   ]
  },
  {
   "cell_type": "code",
   "execution_count": 35,
   "metadata": {},
   "outputs": [],
   "source": [
    "# %%time\n",
    "# customer_nodes = network.get_node_ids(df_customerlocs.customer_lon, df_customerlocs.customer_lat).values\n",
    "# print(customer_nodes.shape[0])\n",
    "# df_customerlocs['node_id'] = customer_nodes\n",
    "# df_customerlocs.node_id.unique().shape[0]"
   ]
  },
  {
   "cell_type": "markdown",
   "metadata": {},
   "source": [
    "# Identify nearest restaurants\n",
    "https://github.com/UDST/pandana/blob/dev/examples/Pandana-demo.ipynb"
   ]
  },
  {
   "cell_type": "code",
   "execution_count": 13,
   "metadata": {},
   "outputs": [
    {
     "name": "stdout",
     "output_type": "stream",
     "text": [
      "8105\n",
      "66\n"
     ]
    },
    {
     "data": {
      "text/html": [
       "<div>\n",
       "<style scoped>\n",
       "    .dataframe tbody tr th:only-of-type {\n",
       "        vertical-align: middle;\n",
       "    }\n",
       "\n",
       "    .dataframe tbody tr th {\n",
       "        vertical-align: top;\n",
       "    }\n",
       "\n",
       "    .dataframe thead th {\n",
       "        text-align: right;\n",
       "    }\n",
       "</style>\n",
       "<table border=\"1\" class=\"dataframe\">\n",
       "  <thead>\n",
       "    <tr style=\"text-align: right;\">\n",
       "      <th></th>\n",
       "      <th>n_vertical</th>\n",
       "      <th>n_vendor_id</th>\n",
       "      <th>n_main_cuisine</th>\n",
       "      <th>n_vendor_name</th>\n",
       "      <th>n_vendor_lon</th>\n",
       "      <th>n_vendor_lat</th>\n",
       "      <th>vendor_index</th>\n",
       "    </tr>\n",
       "  </thead>\n",
       "  <tbody>\n",
       "    <tr>\n",
       "      <th>0</th>\n",
       "      <td>food</td>\n",
       "      <td>682312</td>\n",
       "      <td>coffee</td>\n",
       "      <td>Starbucks, Al Jada</td>\n",
       "      <td>55.48008</td>\n",
       "      <td>25.31986</td>\n",
       "      <td>0</td>\n",
       "    </tr>\n",
       "    <tr>\n",
       "      <th>1</th>\n",
       "      <td>food</td>\n",
       "      <td>663746</td>\n",
       "      <td>emirati</td>\n",
       "      <td>Harees &amp; Mahashi, Al Mujarah</td>\n",
       "      <td>55.39292</td>\n",
       "      <td>25.36944</td>\n",
       "      <td>1</td>\n",
       "    </tr>\n",
       "    <tr>\n",
       "      <th>2</th>\n",
       "      <td>food</td>\n",
       "      <td>39238</td>\n",
       "      <td>yemeni</td>\n",
       "      <td>Al Rukn Al Arabi, Al Sawan,Al Rashidiya 3</td>\n",
       "      <td>55.43238</td>\n",
       "      <td>25.39337</td>\n",
       "      <td>2</td>\n",
       "    </tr>\n",
       "    <tr>\n",
       "      <th>3</th>\n",
       "      <td>food</td>\n",
       "      <td>714271</td>\n",
       "      <td>seafood</td>\n",
       "      <td>Not Only Fish, Jumeirah Lakes Towers - JLT</td>\n",
       "      <td>55.14158</td>\n",
       "      <td>25.06848</td>\n",
       "      <td>3</td>\n",
       "    </tr>\n",
       "    <tr>\n",
       "      <th>4</th>\n",
       "      <td>food</td>\n",
       "      <td>709554</td>\n",
       "      <td>fast food</td>\n",
       "      <td>Pasta La Pizza, Bluewaters Island</td>\n",
       "      <td>55.12460</td>\n",
       "      <td>25.07763</td>\n",
       "      <td>4</td>\n",
       "    </tr>\n",
       "  </tbody>\n",
       "</table>\n",
       "</div>"
      ],
      "text/plain": [
       "  n_vertical  n_vendor_id n_main_cuisine                               n_vendor_name  n_vendor_lon  n_vendor_lat  vendor_index\n",
       "0  food       682312       coffee         Starbucks, Al Jada                         55.48008      25.31986       0           \n",
       "1  food       663746       emirati        Harees & Mahashi, Al Mujarah               55.39292      25.36944       1           \n",
       "2  food       39238        yemeni         Al Rukn Al Arabi, Al Sawan,Al Rashidiya 3  55.43238      25.39337       2           \n",
       "3  food       714271       seafood        Not Only Fish, Jumeirah Lakes Towers - JLT 55.14158      25.06848       3           \n",
       "4  food       709554       fast food      Pasta La Pizza, Bluewaters Island          55.12460      25.07763       4           "
      ]
     },
     "execution_count": 13,
     "metadata": {},
     "output_type": "execute_result"
    }
   ],
   "source": [
    "df_vendor = df_vendor.rename(columns={\"vendor_id\": \"n_vendor_id\",\"main_cuisine\":\"n_main_cuisine\",'vendor_name':'n_vendor_name',\n",
    "                                       'vendor_lon':'n_vendor_lon','vendor_lat':'n_vendor_lat','vertical':'n_vertical'})\n",
    "print(df_vendor.shape[0])\n",
    "print(df_vendor.n_main_cuisine.unique().shape[0])\n",
    "df_vendor.head()"
   ]
  },
  {
   "cell_type": "code",
   "execution_count": 14,
   "metadata": {},
   "outputs": [
    {
     "name": "stdout",
     "output_type": "stream",
     "text": [
      "CPU times: user 3.55 s, sys: 678 ms, total: 4.23 s\n",
      "Wall time: 12 s\n"
     ]
    }
   ],
   "source": [
    "%%time\n",
    "# Add different types of restaurants into the network.\n",
    "max_search_resturants = 1 \n",
    "max_dist = 50000 # 50km\n",
    "\n",
    "for cat in df_vendor.n_main_cuisine.unique().tolist():\n",
    "    df_vendor_onetype = df_vendor[df_vendor['n_main_cuisine']==cat]\n",
    "    network.set_pois(category = cat,\n",
    "                     maxdist = max_dist,\n",
    "                     maxitems = max_search_resturants, # max number of restaurants to search\n",
    "                     x_col = df_vendor_onetype.n_vendor_lon, \n",
    "                     y_col = df_vendor_onetype.n_vendor_lat)"
   ]
  },
  {
   "cell_type": "code",
   "execution_count": 15,
   "metadata": {},
   "outputs": [
    {
     "data": {
      "text/html": [
       "<div>\n",
       "<style scoped>\n",
       "    .dataframe tbody tr th:only-of-type {\n",
       "        vertical-align: middle;\n",
       "    }\n",
       "\n",
       "    .dataframe tbody tr th {\n",
       "        vertical-align: top;\n",
       "    }\n",
       "\n",
       "    .dataframe thead th {\n",
       "        text-align: right;\n",
       "    }\n",
       "</style>\n",
       "<table border=\"1\" class=\"dataframe\">\n",
       "  <thead>\n",
       "    <tr style=\"text-align: right;\">\n",
       "      <th></th>\n",
       "      <th>account_id</th>\n",
       "      <th>order_id</th>\n",
       "      <th>order_date</th>\n",
       "      <th>order_time</th>\n",
       "      <th>vendor_id</th>\n",
       "      <th>vendor_name</th>\n",
       "      <th>main_cuisine</th>\n",
       "      <th>vertical</th>\n",
       "      <th>delivery_fee_amount_lc</th>\n",
       "      <th>service_fee_amount_lc</th>\n",
       "      <th>basket_amount_lc</th>\n",
       "      <th>is_incentive_applied</th>\n",
       "      <th>incentive_amount_lc</th>\n",
       "      <th>pickup_id</th>\n",
       "      <th>customer_lon</th>\n",
       "      <th>customer_lat</th>\n",
       "      <th>vendor_lon</th>\n",
       "      <th>vendor_lat</th>\n",
       "      <th>order_time_hour</th>\n",
       "      <th>delivery_duration</th>\n",
       "      <th>total_duration</th>\n",
       "      <th>node_id</th>\n",
       "    </tr>\n",
       "  </thead>\n",
       "  <tbody>\n",
       "    <tr>\n",
       "      <th>0</th>\n",
       "      <td>4285647</td>\n",
       "      <td>1305786978</td>\n",
       "      <td>2023-10-10</td>\n",
       "      <td>2023-10-10 18:37:22</td>\n",
       "      <td>15921</td>\n",
       "      <td>312 , Al Sufouh 1</td>\n",
       "      <td>american</td>\n",
       "      <td>food</td>\n",
       "      <td>9.00000</td>\n",
       "      <td>2.36000</td>\n",
       "      <td>78.50000</td>\n",
       "      <td>NaN</td>\n",
       "      <td>NaN</td>\n",
       "      <td>249215302.00000</td>\n",
       "      <td>55.22939</td>\n",
       "      <td>25.16458</td>\n",
       "      <td>55.17584</td>\n",
       "      <td>25.10785</td>\n",
       "      <td>18</td>\n",
       "      <td>37</td>\n",
       "      <td>54</td>\n",
       "      <td>1016380490</td>\n",
       "    </tr>\n",
       "    <tr>\n",
       "      <th>1</th>\n",
       "      <td>6623723</td>\n",
       "      <td>1304803532</td>\n",
       "      <td>2023-10-10</td>\n",
       "      <td>2023-10-10 01:59:24</td>\n",
       "      <td>680435</td>\n",
       "      <td>Bao</td>\n",
       "      <td>asian</td>\n",
       "      <td>food</td>\n",
       "      <td>4.00000</td>\n",
       "      <td>2.82000</td>\n",
       "      <td>94.00000</td>\n",
       "      <td>True</td>\n",
       "      <td>20.00000</td>\n",
       "      <td>249057659.00000</td>\n",
       "      <td>55.51919</td>\n",
       "      <td>25.23093</td>\n",
       "      <td>55.50995</td>\n",
       "      <td>25.22327</td>\n",
       "      <td>1</td>\n",
       "      <td>5</td>\n",
       "      <td>20</td>\n",
       "      <td>4886488056</td>\n",
       "    </tr>\n",
       "  </tbody>\n",
       "</table>\n",
       "</div>"
      ],
      "text/plain": [
       "   account_id    order_id  order_date           order_time  vendor_id        vendor_name main_cuisine vertical  delivery_fee_amount_lc  service_fee_amount_lc  basket_amount_lc is_incentive_applied  incentive_amount_lc       pickup_id  customer_lon  customer_lat  vendor_lon  vendor_lat  order_time_hour  delivery_duration  total_duration     node_id\n",
       "0  4285647     1305786978  2023-10-10  2023-10-10 18:37:22  15921      312 , Al Sufouh 1  american     food    9.00000                 2.36000                78.50000           NaN                 NaN                  249215302.00000 55.22939      25.16458      55.17584    25.10785     18               37                 54              1016380490\n",
       "1  6623723     1304803532  2023-10-10  2023-10-10 01:59:24  680435     Bao                asian        food    4.00000                 2.82000                94.00000           True                20.00000             249057659.00000 55.51919      25.23093      55.50995    25.22327     1                5                  20              4886488056"
      ]
     },
     "execution_count": 15,
     "metadata": {},
     "output_type": "execute_result"
    }
   ],
   "source": [
    "df_order.head(2)"
   ]
  },
  {
   "cell_type": "code",
   "execution_count": null,
   "metadata": {},
   "outputs": [],
   "source": [
    "# df_order_onetype = df_order[df_order['main_cuisine']==cat]"
   ]
  },
  {
   "cell_type": "code",
   "execution_count": 19,
   "metadata": {},
   "outputs": [
    {
     "name": "stdout",
     "output_type": "stream",
     "text": [
      "2024-06-03 16:22:51.675084 coffee 1 / 66\n",
      "2024-06-03 16:23:02.971974 emirati 2 / 66\n",
      "2024-06-03 16:23:06.375420 yemeni 3 / 66\n",
      "2024-06-03 16:23:10.583719 seafood 4 / 66\n",
      "2024-06-03 16:23:13.809683 fast food 5 / 66\n",
      "2024-06-03 16:23:55.955145 american 6 / 66\n",
      "2024-06-03 16:24:03.974622 indian 7 / 66\n",
      "2024-06-03 16:24:24.793489 dessert 8 / 66\n",
      "2024-06-03 16:24:39.845118 healthy 9 / 66\n",
      "2024-06-03 16:24:50.416539 bbq 10 / 66\n",
      "2024-06-03 16:25:00.352559 arabic 11 / 66\n",
      "2024-06-03 16:25:20.771364 acai 12 / 66\n",
      "2024-06-03 16:25:24.432285 european 13 / 66\n",
      "2024-06-03 16:25:26.407910 african 14 / 66\n",
      "2024-06-03 16:25:29.219974 international 15 / 66\n",
      "2024-06-03 16:25:33.957086 asian 16 / 66\n",
      "2024-06-03 16:25:39.052239 japanese 17 / 66\n",
      "2024-06-03 16:25:45.046339 lebanese 18 / 66\n",
      "2024-06-03 16:25:57.297613 italian 19 / 66\n",
      "2024-06-03 16:26:03.948877 breakfast 20 / 66\n",
      "2024-06-03 16:26:10.013307 filipino 21 / 66\n",
      "2024-06-03 16:26:12.676056 chicken 22 / 66\n",
      "2024-06-03 16:26:15.082122 greek 23 / 66\n",
      "2024-06-03 16:26:16.816098 egyptian 24 / 66\n",
      "2024-06-03 16:26:20.667693 salad 25 / 66\n",
      "2024-06-03 16:26:25.314448 mexican 26 / 66\n",
      "2024-06-03 16:26:29.281173 vegetarian 27 / 66\n",
      "2024-06-03 16:26:31.757189 palestinian 28 / 66\n",
      "2024-06-03 16:26:36.371081 argentinian 29 / 66\n",
      "2024-06-03 16:26:38.387754 pakistani 30 / 66\n",
      "2024-06-03 16:26:42.713882 moroccan 31 / 66\n",
      "2024-06-03 16:26:45.940432 keto 32 / 66\n",
      "2024-06-03 16:26:48.678133 chinese 33 / 66\n",
      "2024-06-03 16:26:55.191073 british 34 / 66\n",
      "2024-06-03 16:26:57.779020 sliders 35 / 66\n",
      "2024-06-03 16:26:59.360861 iranian 36 / 66\n",
      "2024-06-03 16:27:02.553204 latin american 37 / 66\n",
      "2024-06-03 16:27:04.808698 middle eastern 38 / 66\n",
      "2024-06-03 16:27:07.008831 turkish 39 / 66\n",
      "2024-06-03 16:27:10.119035 mediterranean 40 / 66\n",
      "2024-06-03 16:27:12.653565 syrian 41 / 66\n",
      "2024-06-03 16:27:14.463883 uzbek 42 / 66\n",
      "2024-06-03 16:27:16.826409 brazilian 43 / 66\n",
      "2024-06-03 16:27:19.017225 bowls 44 / 66\n",
      "2024-06-03 16:27:21.324475 soup 45 / 66\n",
      "2024-06-03 16:27:24.078503 spanish 46 / 66\n",
      "2024-06-03 16:27:25.968423 french 47 / 66\n",
      "2024-06-03 16:27:28.262275 vietnamese 48 / 66\n",
      "2024-06-03 16:27:30.129092 korean 49 / 66\n",
      "2024-06-03 16:27:32.094099 specialty store 50 / 66\n",
      "2024-06-03 16:27:33.658030 afghani 51 / 66\n",
      "2024-06-03 16:27:36.858766 thai 52 / 66\n",
      "2024-06-03 16:27:39.988837 nepalese 53 / 66\n",
      "2024-06-03 16:27:42.135812 russian 54 / 66\n",
      "2024-06-03 16:27:44.723366 mongolian 55 / 66\n",
      "2024-06-03 16:27:46.772969 singaporean 56 / 66\n",
      "2024-06-03 16:27:48.971173 jordanian 57 / 66\n",
      "2024-06-03 16:27:50.856156 iraqi 58 / 66\n",
      "2024-06-03 16:27:52.525671 indonesian 59 / 66\n",
      "2024-06-03 16:27:54.504368 gluten free 60 / 66\n",
      "2024-06-03 16:27:56.362704 kuwaiti 61 / 66\n",
      "2024-06-03 16:27:57.559376 georgian 62 / 66\n",
      "2024-06-03 16:27:58.984251 saudi 63 / 66\n",
      "2024-06-03 16:28:00.493866 portuguese 64 / 66\n",
      "2024-06-03 16:28:01.719683 tunisian 65 / 66\n",
      "2024-06-03 16:28:03.931842 peruvian 66 / 66\n",
      "CPU times: user 7min 33s, sys: 8.1 s, total: 7min 41s\n",
      "Wall time: 5min 13s\n"
     ]
    }
   ],
   "source": [
    "%%time\n",
    "# search the nearest same type of restaurants\n",
    "import traceback\n",
    "import os \n",
    "\n",
    "output_file = './data/Dubai_all_delivery_202310_processed_nearest.csv'\n",
    "i = 1\n",
    "for cat in df_vendor.n_main_cuisine.unique().tolist():\n",
    "    try:\n",
    "        print(datetime.datetime.now(), cat, i,'/',df_vendor.n_main_cuisine.unique().shape[0])\n",
    "        i+=1\n",
    "        df_nearest_samerest = network.nearest_pois(distance = max_dist,\n",
    "                                   category = cat,\n",
    "                                   num_pois = max_search_resturants,\n",
    "                                   include_poi_ids = True)\n",
    "        df_nearest_samerest = df_nearest_samerest.reset_index()\n",
    "        df_nearest_samerest.dropna(inplace=True) # drop nodes without any nearest restaurants within max_dist\n",
    "        df_nearest_samerest.poi1 = df_nearest_samerest.poi1.astype(int)\n",
    "        df_nearest_samerest = df_nearest_samerest.rename(columns={\"id\": \"node_id\", 1:\"nearest_dist1\"}) #, \"poi1\":\"vendor_index\"\n",
    "\n",
    "        df_order_onetype = df_order[df_order['main_cuisine']==cat]\n",
    "        df_order_onetype_mergedist = df_order_onetype.merge(df_nearest_samerest, on='node_id')\n",
    "        df_order_onetype_mergedist = df_order_onetype_mergedist.merge(df_vendor,left_on='poi1',right_on='vendor_index')\n",
    "\n",
    "        if not os.path.isfile(output_file):\n",
    "            df_order_onetype_mergedist.to_csv(output_file,index=False)\n",
    "        else: # else it exists so append without writing the header\n",
    "            df_order_onetype_mergedist.to_csv(output_file, mode='a', header=False,index=False)\n",
    "        \n",
    "    except Exception:\n",
    "        traceback.print_exc()\n",
    "        print(cat)"
   ]
  },
  {
   "cell_type": "markdown",
   "metadata": {},
   "source": [
    "# Compute shortest distance between customer and restaurants actually ordering from"
   ]
  },
  {
   "cell_type": "code",
   "execution_count": 20,
   "metadata": {},
   "outputs": [
    {
     "name": "stdout",
     "output_type": "stream",
     "text": [
      "2916806\n",
      "CPU times: user 16.2 s, sys: 3.21 s, total: 19.4 s\n",
      "Wall time: 54.4 s\n"
     ]
    }
   ],
   "source": [
    "%%time\n",
    "output_file = './data/Dubai_all_delivery_202310_processed_nearest.csv'\n",
    "df_localness = pd.read_csv(output_file, sep=\",\", header=0)\n",
    "print(df_localness.shape[0])"
   ]
  },
  {
   "cell_type": "code",
   "execution_count": 21,
   "metadata": {},
   "outputs": [],
   "source": [
    "df_localness['nearest_dist1'] = df_localness['nearest_dist1']/1000  # convert to km"
   ]
  },
  {
   "cell_type": "code",
   "execution_count": 22,
   "metadata": {},
   "outputs": [
    {
     "name": "stdout",
     "output_type": "stream",
     "text": [
      "2916806\n",
      "CPU times: user 1min, sys: 522 ms, total: 1min\n",
      "Wall time: 32 s\n"
     ]
    }
   ],
   "source": [
    "%%time\n",
    "# First, identify the nearest node to each lon lat coordinate\n",
    "customer_nodes = network.get_node_ids(df_localness.customer_lon, df_localness.customer_lat).values\n",
    "vendor_nodes = network.get_node_ids(df_localness.vendor_lon, df_localness.vendor_lat).values\n",
    "distances_order = network.shortest_path_lengths(vendor_nodes, customer_nodes)\n",
    "print(len(distances_order))\n",
    "# df_localness['pandana_distance_realdist'] = distances_order\n",
    "df_localness['pandana_distance_realdist'] = [x / 1000 for x in distances_order] # convert to km"
   ]
  },
  {
   "cell_type": "code",
   "execution_count": 29,
   "metadata": {},
   "outputs": [
    {
     "data": {
      "text/plain": [
       "2916806"
      ]
     },
     "execution_count": 29,
     "metadata": {},
     "output_type": "execute_result"
    }
   ],
   "source": [
    "# len(customer_nodes)"
   ]
  },
  {
   "cell_type": "code",
   "execution_count": 23,
   "metadata": {},
   "outputs": [],
   "source": [
    "# %%time\n",
    "# n_vendor_nodes = G.get_node_ids(df_order.n_vendor_lon, df_order.n_vendor_lat).values\n",
    "# distances_to_nearest_restaurants = G.shortest_path_lengths(n_vendor_nodes, customer_nodes)\n",
    "# df_localness['pandana_distance_nearest_dist'] = [x / 1000 for x in distances_to_nearest_restaurants] "
   ]
  },
  {
   "cell_type": "markdown",
   "metadata": {},
   "source": [
    "# Localness index"
   ]
  },
  {
   "cell_type": "code",
   "execution_count": 24,
   "metadata": {},
   "outputs": [],
   "source": [
    "df_localness['pandana_localness'] = df_localness['nearest_dist1']/df_localness['pandana_distance_realdist']"
   ]
  },
  {
   "cell_type": "code",
   "execution_count": 25,
   "metadata": {},
   "outputs": [],
   "source": [
    "# df_localness['pandana_localness'].hist(bins=40,ec='None')\n",
    "# df_localness[df_localness['nearest_dist1'] > df_localness['pandana_distance_realdist']+1]"
   ]
  },
  {
   "cell_type": "code",
   "execution_count": 3,
   "metadata": {},
   "outputs": [
    {
     "data": {
      "text/plain": [
       "<Axes: >"
      ]
     },
     "execution_count": 3,
     "metadata": {},
     "output_type": "execute_result"
    },
    {
     "data": {
      "image/png": "[encoded data removed]",
      "text/plain": [
       "<Figure size 432x288 with 1 Axes>"
      ]
     },
     "metadata": {
      "needs_background": "light"
     },
     "output_type": "display_data"
    }
   ],
   "source": [
    "df_localness['pandana_localness'].hist(bins=40,ec='None')"
   ]
  },
  {
   "cell_type": "code",
   "execution_count": 2,
   "metadata": {},
   "outputs": [
    {
     "name": "stdout",
     "output_type": "stream",
     "text": [
      "CPU times: user 14.1 s, sys: 3.4 s, total: 17.5 s\n",
      "Wall time: 49.8 s\n"
     ]
    }
   ],
   "source": [
    "%%time\n",
    "df_localness = pd.read_csv('./data/food_localness_oct.csv',header=0)"
   ]
  },
  {
   "cell_type": "code",
   "execution_count": 4,
   "metadata": {},
   "outputs": [
    {
     "name": "stdout",
     "output_type": "stream",
     "text": [
      "2916806\n"
     ]
    },
    {
     "data": {
      "text/plain": [
       "count   2916806.00000\n",
       "mean    134.80899    \n",
       "std     733.01533    \n",
       "min     0.00000      \n",
       "25%     2.54944      \n",
       "50%     4.91034      \n",
       "75%     8.40528      \n",
       "max     4294.96730   \n",
       "Name: pandana_distance_realdist, dtype: float64"
      ]
     },
     "execution_count": 4,
     "metadata": {},
     "output_type": "execute_result"
    }
   ],
   "source": [
    "# before excluding abnormal values\n",
    "print(df_localness.shape[0])\n",
    "df_localness.pandana_distance_realdist.describe()"
   ]
  },
  {
   "cell_type": "code",
   "execution_count": 5,
   "metadata": {},
   "outputs": [
    {
     "name": "stdout",
     "output_type": "stream",
     "text": [
      "2828913\n"
     ]
    }
   ],
   "source": [
    "#exclude some extream values\n",
    "df_localness = df_localness[df_localness['pandana_distance_realdist']<50] # order distance must be less than 50km\n",
    "df_localness['speed'] = df_localness['pandana_distance_realdist']/(df_localness['total_duration']/60) # order travel speed, km/h\n",
    "df_localness = df_localness[df_localness['speed']<60] #must be < 60km/h"
   ]
  },
  {
   "cell_type": "code",
   "execution_count": 6,
   "metadata": {},
   "outputs": [
    {
     "name": "stdout",
     "output_type": "stream",
     "text": [
      "2828913\n"
     ]
    },
    {
     "data": {
      "text/plain": [
       "count   2828913.00000\n",
       "mean    5.65595      \n",
       "std     4.07543      \n",
       "min     0.00000      \n",
       "25%     2.47532      \n",
       "50%     4.75371      \n",
       "75%     8.00485      \n",
       "max     46.27318     \n",
       "Name: pandana_distance_realdist, dtype: float64"
      ]
     },
     "execution_count": 6,
     "metadata": {},
     "output_type": "execute_result"
    }
   ],
   "source": [
    "# After exclude abnormal values\n",
    "print(df_localness.shape[0])\n",
    "df_localness.pandana_distance_realdist.describe()"
   ]
  },
  {
   "cell_type": "code",
   "execution_count": 7,
   "metadata": {},
   "outputs": [
    {
     "name": "stdout",
     "output_type": "stream",
     "text": [
      "110986\n",
      "0.03923273709725255\n"
     ]
    }
   ],
   "source": [
    "# these are orders from nearest restaurants \n",
    "print(df_localness[df_localness['pandana_localness']>=1].shape[0])\n",
    "print(df_localness[df_localness['pandana_localness']>=1].shape[0]/df_localness.shape[0])"
   ]
  },
  {
   "cell_type": "code",
   "execution_count": 8,
   "metadata": {
    "scrolled": true
   },
   "outputs": [
    {
     "data": {
      "text/plain": [
       "main_cuisine\n",
       "specialty store   1.00000\n",
       "peruvian          1.00000\n",
       "kuwaiti           1.00000\n",
       "iraqi             1.00000\n",
       "spanish           1.00000\n",
       "latin american    1.00000\n",
       "french            0.99952\n",
       "mongolian         0.99422\n",
       "singaporean       0.98810\n",
       "tunisian          0.97509\n",
       "portuguese        0.90133\n",
       "british           0.88085\n",
       "gluten free       0.88039\n",
       "syrian            0.87939\n",
       "sliders           0.87462\n",
       "brazilian         0.87336\n",
       "saudi             0.86350\n",
       "georgian          0.86062\n",
       "indonesian        0.85507\n",
       "nepalese          0.83520\n",
       "vietnamese        0.78205\n",
       "mediterranean     0.77690\n",
       "jordanian         0.77483\n",
       "european          0.76174\n",
       "korean            0.76028\n",
       "soup              0.75230\n",
       "middle eastern    0.73628\n",
       "bowls             0.71840\n",
       "greek             0.71333\n",
       "moroccan          0.68735\n",
       "afghani           0.66473\n",
       "palestinian       0.66123\n",
       "vegetarian        0.65705\n",
       "russian           0.64286\n",
       "uzbek             0.63714\n",
       "keto              0.62790\n",
       "chicken           0.61934\n",
       "african           0.59458\n",
       "mexican           0.55264\n",
       "thai              0.54145\n",
       "iranian           0.53772\n",
       "emirati           0.52422\n",
       "argentinian       0.52190\n",
       "acai              0.51469\n",
       "filipino          0.49884\n",
       "pakistani         0.47212\n",
       "turkish           0.45543\n",
       "salad             0.45274\n",
       "international     0.44539\n",
       "yemeni            0.43900\n",
       "chinese           0.43858\n",
       "egyptian          0.43600\n",
       "american          0.39963\n",
       "japanese          0.39468\n",
       "seafood           0.37423\n",
       "lebanese          0.36903\n",
       "breakfast         0.36830\n",
       "coffee            0.36588\n",
       "italian           0.35845\n",
       "asian             0.34875\n",
       "healthy           0.32260\n",
       "dessert           0.29907\n",
       "bbq               0.28578\n",
       "arabic            0.28326\n",
       "fast food         0.26943\n",
       "indian            0.22838\n",
       "Name: pandana_localness, dtype: float64"
      ]
     },
     "execution_count": 8,
     "metadata": {},
     "output_type": "execute_result"
    }
   ],
   "source": [
    "df_localness.groupby('main_cuisine').pandana_localness.mean().sort_values(ascending=False)"
   ]
  },
  {
   "cell_type": "code",
   "execution_count": 9,
   "metadata": {},
   "outputs": [
    {
     "data": {
      "text/html": [
       "<div>\n",
       "<style scoped>\n",
       "    .dataframe tbody tr th:only-of-type {\n",
       "        vertical-align: middle;\n",
       "    }\n",
       "\n",
       "    .dataframe tbody tr th {\n",
       "        vertical-align: top;\n",
       "    }\n",
       "\n",
       "    .dataframe thead th {\n",
       "        text-align: right;\n",
       "    }\n",
       "</style>\n",
       "<table border=\"1\" class=\"dataframe\">\n",
       "  <thead>\n",
       "    <tr style=\"text-align: right;\">\n",
       "      <th></th>\n",
       "      <th>account_id</th>\n",
       "      <th>order_id</th>\n",
       "      <th>order_date</th>\n",
       "      <th>order_time</th>\n",
       "      <th>vendor_id</th>\n",
       "      <th>vendor_name</th>\n",
       "      <th>main_cuisine</th>\n",
       "      <th>vertical</th>\n",
       "      <th>delivery_fee_amount_lc</th>\n",
       "      <th>service_fee_amount_lc</th>\n",
       "      <th>basket_amount_lc</th>\n",
       "      <th>is_incentive_applied</th>\n",
       "      <th>incentive_amount_lc</th>\n",
       "      <th>pickup_id</th>\n",
       "      <th>customer_lon</th>\n",
       "      <th>customer_lat</th>\n",
       "      <th>vendor_lon</th>\n",
       "      <th>vendor_lat</th>\n",
       "      <th>order_time_hour</th>\n",
       "      <th>delivery_duration</th>\n",
       "      <th>total_duration</th>\n",
       "      <th>node_id</th>\n",
       "      <th>nearest_dist1</th>\n",
       "      <th>poi1</th>\n",
       "      <th>n_vertical</th>\n",
       "      <th>n_vendor_id</th>\n",
       "      <th>n_main_cuisine</th>\n",
       "      <th>n_vendor_name</th>\n",
       "      <th>n_vendor_lon</th>\n",
       "      <th>n_vendor_lat</th>\n",
       "      <th>vendor_index</th>\n",
       "      <th>pandana_distance_realdist</th>\n",
       "      <th>pandana_localness</th>\n",
       "      <th>speed</th>\n",
       "    </tr>\n",
       "  </thead>\n",
       "  <tbody>\n",
       "    <tr>\n",
       "      <th>0</th>\n",
       "      <td>7051337</td>\n",
       "      <td>1305576462</td>\n",
       "      <td>2023-10-10</td>\n",
       "      <td>2023-10-10 15:30:22</td>\n",
       "      <td>50868</td>\n",
       "      <td>SHAGHF, Jumeirah 3</td>\n",
       "      <td>coffee</td>\n",
       "      <td>food</td>\n",
       "      <td>0.00000</td>\n",
       "      <td>1.73000</td>\n",
       "      <td>57.75000</td>\n",
       "      <td>True</td>\n",
       "      <td>10.00000</td>\n",
       "      <td>249162013.00000</td>\n",
       "      <td>55.21388</td>\n",
       "      <td>25.15585</td>\n",
       "      <td>55.23119</td>\n",
       "      <td>25.18903</td>\n",
       "      <td>15</td>\n",
       "      <td>17</td>\n",
       "      <td>27</td>\n",
       "      <td>7584090309</td>\n",
       "      <td>0.65335</td>\n",
       "      <td>840</td>\n",
       "      <td>food</td>\n",
       "      <td>697762</td>\n",
       "      <td>coffee</td>\n",
       "      <td>Awaken Cafe, Al Wasl</td>\n",
       "      <td>55.21303</td>\n",
       "      <td>25.15146</td>\n",
       "      <td>840</td>\n",
       "      <td>4.61410</td>\n",
       "      <td>0.14160</td>\n",
       "      <td>10.25355</td>\n",
       "    </tr>\n",
       "    <tr>\n",
       "      <th>1</th>\n",
       "      <td>7051337</td>\n",
       "      <td>1313167366</td>\n",
       "      <td>2023-10-16</td>\n",
       "      <td>2023-10-16 16:43:34</td>\n",
       "      <td>50868</td>\n",
       "      <td>SHAGHF, Jumeirah 3</td>\n",
       "      <td>coffee</td>\n",
       "      <td>food</td>\n",
       "      <td>7.50000</td>\n",
       "      <td>0.90000</td>\n",
       "      <td>26.25000</td>\n",
       "      <td>True</td>\n",
       "      <td>10.00000</td>\n",
       "      <td>250948408.00000</td>\n",
       "      <td>55.21389</td>\n",
       "      <td>25.15572</td>\n",
       "      <td>55.23119</td>\n",
       "      <td>25.18903</td>\n",
       "      <td>16</td>\n",
       "      <td>13</td>\n",
       "      <td>31</td>\n",
       "      <td>7584090309</td>\n",
       "      <td>0.65335</td>\n",
       "      <td>840</td>\n",
       "      <td>food</td>\n",
       "      <td>697762</td>\n",
       "      <td>coffee</td>\n",
       "      <td>Awaken Cafe, Al Wasl</td>\n",
       "      <td>55.21303</td>\n",
       "      <td>25.15146</td>\n",
       "      <td>840</td>\n",
       "      <td>4.61410</td>\n",
       "      <td>0.14160</td>\n",
       "      <td>8.93051</td>\n",
       "    </tr>\n",
       "  </tbody>\n",
       "</table>\n",
       "</div>"
      ],
      "text/plain": [
       "   account_id    order_id  order_date           order_time  vendor_id         vendor_name main_cuisine vertical  delivery_fee_amount_lc  service_fee_amount_lc  basket_amount_lc is_incentive_applied  incentive_amount_lc       pickup_id  customer_lon  customer_lat  vendor_lon  vendor_lat  order_time_hour  delivery_duration  total_duration     node_id  nearest_dist1  poi1 n_vertical  n_vendor_id n_main_cuisine         n_vendor_name  n_vendor_lon  n_vendor_lat  vendor_index  pandana_distance_realdist  pandana_localness    speed\n",
       "0  7051337     1305576462  2023-10-10  2023-10-10 15:30:22  50868      SHAGHF, Jumeirah 3  coffee       food    0.00000                 1.73000                57.75000           True                10.00000             249162013.00000 55.21388      25.15585      55.23119    25.18903     15               17                 27              7584090309 0.65335         840   food       697762       coffee         Awaken Cafe, Al Wasl 55.21303      25.15146       840          4.61410                    0.14160            10.25355\n",
       "1  7051337     1313167366  2023-10-16  2023-10-16 16:43:34  50868      SHAGHF, Jumeirah 3  coffee       food    7.50000                 0.90000                26.25000           True                10.00000             250948408.00000 55.21389      25.15572      55.23119    25.18903     16               13                 31              7584090309 0.65335         840   food       697762       coffee         Awaken Cafe, Al Wasl 55.21303      25.15146       840          4.61410                    0.14160            8.93051 "
      ]
     },
     "execution_count": 9,
     "metadata": {},
     "output_type": "execute_result"
    }
   ],
   "source": [
    "df_localness.head(2)"
   ]
  },
  {
   "cell_type": "code",
   "execution_count": 10,
   "metadata": {},
   "outputs": [],
   "source": [
    "df_localness.to_csv('./data/food_localness_oct.csv',sep=',',index=False)"
   ]
  },
  {
   "cell_type": "code",
   "execution_count": null,
   "metadata": {},
   "outputs": [],
   "source": []
  },
  {
   "cell_type": "code",
   "execution_count": null,
   "metadata": {},
   "outputs": [],
   "source": []
  }
 ],
 "metadata": {
  "kernelspec": {
   "display_name": "python3.8",
   "language": "python",
   "name": "python3.8"
  },
  "language_info": {
   "codemirror_mode": {
    "name": "ipython",
    "version": 3
   },
   "file_extension": ".py",
   "mimetype": "text/x-python",
   "name": "python",
   "nbconvert_exporter": "python",
   "pygments_lexer": "ipython3",
   "version": "3.8.5"
  }
 },
 "nbformat": 4,
 "nbformat_minor": 2
}
