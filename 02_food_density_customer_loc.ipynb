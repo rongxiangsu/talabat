{
 "cells": [
  {
   "cell_type": "code",
   "execution_count": 1,
   "metadata": {},
   "outputs": [],
   "source": [
    "import datetime\n",
    "import geopandas as gpd\n",
    "import matplotlib.pyplot as plt\n",
    "import pandas as pd\n",
    "import numpy as np\n",
    "from shapely.geometry import Point\n",
    "from geopandas import GeoDataFrame\n",
    "import os\n",
    "pd.options.display.float_format = '{:.5f}'.format\n",
    "\n",
    "import seaborn as sns\n",
    "pd.set_option(\"display.max_colwidth\", 0)\n",
    "pd.set_option(\"display.max_rows\", 500)\n",
    "pd.set_option(\"display.max_columns\", 500)\n",
    "pd.set_option(\"display.width\", 1000)\n",
    "import warnings\n",
    "warnings.filterwarnings(\"ignore\")"
   ]
  },
  {
   "cell_type": "code",
   "execution_count": 2,
   "metadata": {},
   "outputs": [
    {
     "data": {
      "application/javascript": [
       "IPython.notebook.set_autosave_interval(5000)"
      ]
     },
     "metadata": {},
     "output_type": "display_data"
    },
    {
     "name": "stdout",
     "output_type": "stream",
     "text": [
      "Autosaving every 5 seconds\n"
     ]
    }
   ],
   "source": [
    "import sys\n",
    "import logging\n",
    "\n",
    "nblog = open(\"./logs/density_\"+str(datetime.datetime.now())+\".log\", \"a+\")\n",
    "sys.stdout.echo = nblog\n",
    "sys.stderr.echo = nblog\n",
    "\n",
    "get_ipython().log.handlers[0].stream = nblog\n",
    "get_ipython().log.setLevel(logging.INFO)\n",
    "\n",
    "%autosave 5"
   ]
  },
  {
   "cell_type": "code",
   "execution_count": 3,
   "metadata": {
    "scrolled": true
   },
   "outputs": [
    {
     "name": "stdout",
     "output_type": "stream",
     "text": [
      "CPU times: user 15.9 s, sys: 5.62 s, total: 21.5 s\n",
      "Wall time: 49.2 s\n"
     ]
    }
   ],
   "source": [
    "%%time\n",
    "df_localness = pd.read_csv('./data/food_localness_oct.csv',header=0)"
   ]
  },
  {
   "cell_type": "markdown",
   "metadata": {
    "tags": []
   },
   "source": [
    "## Compute number of restaurants based on a buffer around customer location"
   ]
  },
  {
   "cell_type": "code",
   "execution_count": 4,
   "metadata": {},
   "outputs": [
    {
     "name": "stdout",
     "output_type": "stream",
     "text": [
      "791511\n",
      "CPU times: user 14.7 s, sys: 447 ms, total: 15.1 s\n",
      "Wall time: 37 s\n"
     ]
    }
   ],
   "source": [
    "%%time\n",
    "# create geodf for customer locations\n",
    "df_localness['customer_loc_id'] = df_localness['customer_lon'].astype(str)+df_localness['customer_lat'].astype(str)\n",
    "df_unique_customers = df_localness[['customer_loc_id','customer_lon','customer_lat']].drop_duplicates()\n",
    "print(df_unique_customers.shape[0])\n",
    "geometry = [Point(xy) for xy in zip(df_unique_customers.customer_lon, df_unique_customers.customer_lat)]\n",
    "gdf_customer_loc = GeoDataFrame(df_unique_customers, crs=\"EPSG:4326\", geometry=geometry)\n",
    "gdf_customer_loc = gdf_customer_loc.to_crs(epsg=3857)#convert customer locations to 3857\n",
    "gdf_customer_loc = gdf_customer_loc.rename(columns={\"geometry\": \"customer_geometry\"})"
   ]
  },
  {
   "cell_type": "code",
   "execution_count": 5,
   "metadata": {},
   "outputs": [
    {
     "name": "stdout",
     "output_type": "stream",
     "text": [
      "total number of restaurants regardless of cusine types: 8105\n",
      "CPU times: user 321 ms, sys: 0 ns, total: 321 ms\n",
      "Wall time: 701 ms\n"
     ]
    }
   ],
   "source": [
    "%%time\n",
    "# prepare vendor geodf for spatial join\n",
    "df_vendor = pd.read_csv('./data/all_vendor_oct_processed.csv',header=0)\n",
    "geometry = [Point(xy) for xy in zip(df_vendor.vendor_lon, df_vendor.vendor_lat)]\n",
    "gdf_vendor = GeoDataFrame(df_vendor, crs=\"EPSG:4326\", geometry=geometry)\n",
    "gdf_vendor = gdf_vendor.rename(columns={\"vendor_id\": \"n_vendor_id\",\"main_cuisine\":\"n_main_cuisine\",'vendor_name':'n_vendor_name',\n",
    "                                       'vendor_lon':'n_vendor_lon','vendor_lat':'n_vendor_lat','vertical':'n_vertical'})\n",
    "gdf_vendor = gdf_vendor.to_crs(epsg=3857)\n",
    "\n",
    "gdf_foodvendor_need = gdf_vendor[['geometry']]\n",
    "print('total number of restaurants regardless of cusine types:',gdf_foodvendor_need.shape[0])"
   ]
  },
  {
   "cell_type": "code",
   "execution_count": 6,
   "metadata": {},
   "outputs": [
    {
     "data": {
      "text/plain": [
       "20"
      ]
     },
     "execution_count": 6,
     "metadata": {},
     "output_type": "execute_result"
    }
   ],
   "source": [
    "import gc\n",
    "del df_localness\n",
    "del df_vendor\n",
    "del gdf_vendor\n",
    "del df_unique_customers\n",
    "gc.collect()"
   ]
  },
  {
   "cell_type": "code",
   "execution_count": 7,
   "metadata": {
    "scrolled": true
   },
   "outputs": [
    {
     "name": "stdout",
     "output_type": "stream",
     "text": [
      "TESTING: False\n",
      "2024-06-04 12:28:15.627872 ************** Distance: 4 , ./data/poi_count_4km_customerlocations_oct.csv **************\n",
      "791511 791511\n",
      "2024-06-04 12:28:52.033585 0 20000 / 791511\n",
      "2024-06-04 12:29:34.931067 done spatial join! Distance: 4\n",
      "2024-06-04 12:29:35.049223 20000 40000 / 791511\n",
      "2024-06-04 12:32:02.493126 done spatial join! Distance: 4\n",
      "2024-06-04 12:32:02.663028 80000 100000 / 791511\n",
      "2024-06-04 12:32:53.761230 done spatial join! Distance: 4\n",
      "2024-06-04 12:32:53.844196 100000 120000 / 791511\n",
      "2024-06-04 12:33:44.188776 done spatial join! Distance: 4\n",
      "2024-06-04 12:33:44.244542 120000 140000 / 791511\n",
      "2024-06-04 12:34:39.549289 done spatial join! Distance: 4\n",
      "2024-06-04 12:34:39.613705 140000 160000 / 791511\n",
      "2024-06-04 12:35:27.967568 done spatial join! Distance: 4\n",
      "2024-06-04 12:35:28.035932 160000 180000 / 791511\n",
      "2024-06-04 12:35:55.357623 done spatial join! Distance: 4\n",
      "2024-06-04 12:35:55.462715 180000 200000 / 791511\n",
      "2024-06-04 12:36:32.688919 done spatial join! Distance: 4\n",
      "2024-06-04 12:36:32.763982 200000 220000 / 791511\n",
      "2024-06-04 12:37:26.612283 done spatial join! Distance: 4\n",
      "2024-06-04 12:37:26.685923 220000 240000 / 791511\n",
      "2024-06-04 12:38:06.930448 done spatial join! Distance: 4\n",
      "2024-06-04 12:38:07.024793 240000 260000 / 791511\n",
      "2024-06-04 12:39:08.816280 done spatial join! Distance: 4\n",
      "2024-06-04 12:39:08.894888 260000 280000 / 791511\n",
      "2024-06-04 12:40:28.181571 done spatial join! Distance: 4\n",
      "2024-06-04 12:40:28.275496 280000 300000 / 791511\n",
      "2024-06-04 12:41:24.214190 done spatial join! Distance: 4\n",
      "2024-06-04 12:41:24.314961 300000 320000 / 791511\n",
      "2024-06-04 12:42:15.393178 done spatial join! Distance: 4\n",
      "2024-06-04 12:42:15.468900 320000 340000 / 791511\n",
      "2024-06-04 12:43:14.747238 done spatial join! Distance: 4\n",
      "2024-06-04 12:43:14.830326 340000 360000 / 791511\n",
      "2024-06-04 12:43:45.956585 done spatial join! Distance: 4\n",
      "2024-06-04 12:43:46.067770 360000 380000 / 791511\n",
      "2024-06-04 12:44:14.714026 done spatial join! Distance: 4\n",
      "2024-06-04 12:44:14.749485 380000 400000 / 791511\n",
      "2024-06-04 12:45:01.418272 done spatial join! Distance: 4\n",
      "2024-06-04 12:45:01.491886 400000 420000 / 791511\n",
      "2024-06-04 12:45:52.507297 done spatial join! Distance: 4\n",
      "2024-06-04 12:45:52.587973 420000 440000 / 791511\n",
      "2024-06-04 12:46:42.220559 done spatial join! Distance: 4\n",
      "2024-06-04 12:46:42.296923 440000 460000 / 791511\n",
      "2024-06-04 12:47:23.466439 done spatial join! Distance: 4\n",
      "2024-06-04 12:47:23.507294 460000 480000 / 791511\n",
      "2024-06-04 12:48:17.747855 done spatial join! Distance: 4\n",
      "2024-06-04 12:48:17.787589 480000 500000 / 791511\n",
      "2024-06-04 12:49:16.072050 done spatial join! Distance: 4\n",
      "2024-06-04 12:49:16.223009 500000 520000 / 791511\n",
      "2024-06-04 12:49:55.324103 done spatial join! Distance: 4\n",
      "2024-06-04 12:49:55.364942 520000 540000 / 791511\n",
      "2024-06-04 12:50:44.414268 done spatial join! Distance: 4\n",
      "2024-06-04 12:50:44.466984 540000 560000 / 791511\n",
      "2024-06-04 12:51:35.939168 done spatial join! Distance: 4\n",
      "2024-06-04 12:51:36.073980 560000 580000 / 791511\n",
      "2024-06-04 12:52:37.983023 done spatial join! Distance: 4\n",
      "2024-06-04 12:52:38.065874 580000 600000 / 791511\n",
      "2024-06-04 12:53:21.962645 done spatial join! Distance: 4\n",
      "2024-06-04 12:53:22.067612 600000 620000 / 791511\n",
      "2024-06-04 12:54:33.782402 done spatial join! Distance: 4\n",
      "2024-06-04 12:54:33.885297 620000 640000 / 791511\n",
      "2024-06-04 12:55:21.922169 done spatial join! Distance: 4\n",
      "2024-06-04 12:55:22.036384 640000 660000 / 791511\n",
      "2024-06-04 12:56:29.051277 done spatial join! Distance: 4\n",
      "2024-06-04 12:56:29.123237 660000 680000 / 791511\n",
      "2024-06-04 12:57:31.055496 done spatial join! Distance: 4\n",
      "2024-06-04 12:57:31.132548 680000 700000 / 791511\n",
      "2024-06-04 12:58:16.117373 done spatial join! Distance: 4\n",
      "2024-06-04 12:58:16.153748 700000 720000 / 791511\n",
      "2024-06-04 12:58:56.748299 done spatial join! Distance: 4\n",
      "2024-06-04 12:58:56.857498 720000 740000 / 791511\n",
      "2024-06-04 12:59:40.614283 done spatial join! Distance: 4\n",
      "2024-06-04 12:59:40.697838 740000 760000 / 791511\n",
      "2024-06-04 13:00:07.738587 done spatial join! Distance: 4\n",
      "2024-06-04 13:00:07.824910 760000 780000 / 791511\n",
      "2024-06-04 13:00:43.431448 done spatial join! Distance: 4\n",
      "2024-06-04 13:00:43.505565 780000 800000 / 791511\n",
      "2024-06-04 13:00:56.503953 done spatial join! Distance: 4\n",
      "2024-06-04 13:00:56.547790 ************** Distance: 5 , ./data/poi_count_5km_customerlocations_oct.csv **************\n",
      "791511 791511\n",
      "2024-06-04 13:01:28.223309 0 20000 / 791511\n",
      "2024-06-04 13:02:05.886931 done spatial join! Distance: 5\n",
      "2024-06-04 13:02:05.973921 20000 40000 / 791511\n",
      "2024-06-04 13:02:54.648655 done spatial join! Distance: 5\n",
      "2024-06-04 13:02:54.711617 40000 60000 / 791511\n",
      "2024-06-04 13:03:37.984800 done spatial join! Distance: 5\n",
      "2024-06-04 13:03:38.063760 60000 80000 / 791511\n",
      "2024-06-04 13:04:22.313811 done spatial join! Distance: 5\n",
      "2024-06-04 13:04:22.369132 80000 100000 / 791511\n",
      "2024-06-04 13:05:02.219888 done spatial join! Distance: 5\n",
      "2024-06-04 13:05:02.288114 100000 120000 / 791511\n",
      "2024-06-04 13:05:42.351900 done spatial join! Distance: 5\n",
      "2024-06-04 13:05:42.425096 120000 140000 / 791511\n",
      "2024-06-04 13:06:24.467339 done spatial join! Distance: 5\n",
      "2024-06-04 13:06:24.544330 140000 160000 / 791511\n",
      "2024-06-04 13:07:10.018180 done spatial join! Distance: 5\n",
      "2024-06-04 13:07:10.116892 160000 180000 / 791511\n",
      "2024-06-04 13:07:36.243862 done spatial join! Distance: 5\n",
      "2024-06-04 13:07:36.355261 180000 200000 / 791511\n",
      "2024-06-04 13:08:02.293208 done spatial join! Distance: 5\n",
      "2024-06-04 13:08:02.381191 200000 220000 / 791511\n",
      "2024-06-04 13:08:53.087019 done spatial join! Distance: 5\n",
      "2024-06-04 13:08:53.151295 220000 240000 / 791511\n",
      "2024-06-04 13:09:27.858401 done spatial join! Distance: 5\n",
      "2024-06-04 13:09:27.925033 240000 260000 / 791511\n",
      "2024-06-04 13:10:19.567576 done spatial join! Distance: 5\n",
      "2024-06-04 13:10:19.690766 260000 280000 / 791511\n",
      "2024-06-04 13:11:27.168122 done spatial join! Distance: 5\n",
      "2024-06-04 13:11:27.208608 280000 300000 / 791511\n",
      "2024-06-04 13:12:22.991822 done spatial join! Distance: 5\n",
      "2024-06-04 13:12:23.059431 300000 320000 / 791511\n",
      "2024-06-04 13:12:58.431313 done spatial join! Distance: 5\n",
      "2024-06-04 13:12:58.474902 320000 340000 / 791511\n",
      "2024-06-04 13:13:54.901624 done spatial join! Distance: 5\n",
      "2024-06-04 13:13:55.003315 340000 360000 / 791511\n",
      "2024-06-04 13:14:22.393036 done spatial join! Distance: 5\n",
      "2024-06-04 13:14:22.469265 360000 380000 / 791511\n",
      "2024-06-04 13:14:46.763138 done spatial join! Distance: 5\n",
      "2024-06-04 13:14:46.836391 380000 400000 / 791511\n",
      "2024-06-04 13:15:26.764093 done spatial join! Distance: 5\n",
      "2024-06-04 13:15:26.835175 400000 420000 / 791511\n",
      "2024-06-04 13:16:17.305841 done spatial join! Distance: 5\n",
      "2024-06-04 13:16:17.389493 420000 440000 / 791511\n",
      "2024-06-04 13:17:11.633820 done spatial join! Distance: 5\n",
      "2024-06-04 13:17:11.704631 440000 460000 / 791511\n",
      "2024-06-04 13:18:00.399506 done spatial join! Distance: 5\n",
      "2024-06-04 13:18:00.475149 460000 480000 / 791511\n",
      "2024-06-04 13:19:02.567824 done spatial join! Distance: 5\n",
      "2024-06-04 13:19:02.608643 480000 500000 / 791511\n",
      "2024-06-04 13:20:00.746590 done spatial join! Distance: 5\n",
      "2024-06-04 13:20:00.852456 500000 520000 / 791511\n",
      "2024-06-04 13:20:42.009328 done spatial join! Distance: 5\n",
      "2024-06-04 13:20:42.139147 520000 540000 / 791511\n",
      "2024-06-04 13:21:33.665892 done spatial join! Distance: 5\n",
      "2024-06-04 13:21:33.765155 540000 560000 / 791511\n",
      "2024-06-04 13:22:12.358368 done spatial join! Distance: 5\n",
      "2024-06-04 13:22:12.392932 560000 580000 / 791511\n",
      "2024-06-04 13:23:03.491577 done spatial join! Distance: 5\n",
      "2024-06-04 13:23:03.537249 580000 600000 / 791511\n",
      "2024-06-04 13:23:42.955256 done spatial join! Distance: 5\n",
      "2024-06-04 13:23:43.069433 600000 620000 / 791511\n",
      "2024-06-04 13:24:42.858855 done spatial join! Distance: 5\n",
      "2024-06-04 13:24:42.977793 620000 640000 / 791511\n",
      "2024-06-04 13:25:17.875239 done spatial join! Distance: 5\n",
      "2024-06-04 13:25:17.990129 640000 660000 / 791511\n",
      "2024-06-04 13:26:12.648591 done spatial join! Distance: 5\n",
      "2024-06-04 13:26:12.706572 660000 680000 / 791511\n",
      "2024-06-04 13:27:05.937589 done spatial join! Distance: 5\n",
      "2024-06-04 13:27:05.978021 680000 700000 / 791511\n",
      "2024-06-04 13:27:50.263314 done spatial join! Distance: 5\n",
      "2024-06-04 13:27:50.391969 700000 720000 / 791511\n",
      "2024-06-04 13:28:48.100171 done spatial join! Distance: 5\n",
      "2024-06-04 13:28:48.183741 720000 740000 / 791511\n"
     ]
    },
    {
     "name": "stdout",
     "output_type": "stream",
     "text": [
      "2024-06-04 13:29:51.267836 done spatial join! Distance: 5\n",
      "2024-06-04 13:29:51.347099 740000 760000 / 791511\n",
      "2024-06-04 13:30:43.487839 done spatial join! Distance: 5\n",
      "2024-06-04 13:30:43.577281 760000 780000 / 791511\n",
      "2024-06-04 13:31:37.080700 done spatial join! Distance: 5\n",
      "2024-06-04 13:31:37.123996 780000 800000 / 791511\n",
      "2024-06-04 13:32:03.319481 done spatial join! Distance: 5\n",
      "CPU times: user 16min 11s, sys: 15min 4s, total: 31min 16s\n",
      "Wall time: 1h 3min 47s\n"
     ]
    }
   ],
   "source": [
    "%%time\n",
    "\n",
    "TESTING = False #False, True\n",
    "# distance_list = [0.5, 1, 2, 3, 4, 5] #unit:km\n",
    "distance_list = [4, 5] #unit:km\n",
    "\n",
    "batch_size = 20000 #100000 50000\n",
    "print('TESTING:',TESTING)\n",
    "\n",
    "for distance_threshold in distance_list:\n",
    "    col_name = 'poi_count_'+str(distance_threshold)+'km'\n",
    "    output_file = './data/poi_count_'+str(distance_threshold)+'km_customerlocations_oct.csv'\n",
    "    print(datetime.datetime.now(), '************** Distance:',distance_threshold,',', output_file, '**************')\n",
    "\n",
    "    # Create buffer in meters around customer locations\n",
    "    gdf_customer_loc_buffer = gdf_customer_loc.copy()\n",
    "    gdf_customer_loc_buffer['buffer'] = gdf_customer_loc_buffer.customer_geometry.buffer(distance_threshold*1000)\n",
    "    gdf_customer_loc_buffer = gdf_customer_loc_buffer.set_geometry('buffer')\n",
    "    print(gdf_customer_loc_buffer.shape[0],gdf_customer_loc_buffer.customer_loc_id.unique().shape[0])\n",
    "    \n",
    "    # Spatial join to find points within the buffer\n",
    "    gdf_foodvendor_need[col_name] = 1\n",
    "    \n",
    "    for i in range(0,gdf_customer_loc_buffer.shape[0],batch_size):\n",
    "        print(datetime.datetime.now(),i,i+batch_size,'/',gdf_customer_loc_buffer.shape[0])\n",
    "        if TESTING:\n",
    "            groupped_data = gpd.sjoin(gdf_foodvendor_need, gdf_customer_loc_buffer.head(5), op='within').groupby(\n",
    "                'customer_loc_id').agg({col_name: 'sum'}).reset_index() # debugging line\n",
    "        else:\n",
    "            groupped_data = gpd.sjoin(gdf_foodvendor_need, gdf_customer_loc_buffer.iloc[i:i+batch_size], op='within').groupby(\n",
    "                'customer_loc_id').agg({col_name: 'sum'}).reset_index()\n",
    "        groupped_data.columns = ['customer_loc_id', col_name]\n",
    "        print(datetime.datetime.now(),'done spatial join! Distance:',distance_threshold)\n",
    "        \n",
    "        if TESTING:\n",
    "            display(groupped_data)\n",
    "            break\n",
    "        \n",
    "        if not TESTING:\n",
    "            if not os.path.isfile(output_file):# if file does not exist write header\n",
    "                groupped_data.to_csv(output_file,index=False)\n",
    "            else: # else it exists so append without writing the header\n",
    "                groupped_data.to_csv(output_file, mode='a', header=False,index=False)"
   ]
  },
  {
   "cell_type": "code",
   "execution_count": null,
   "metadata": {},
   "outputs": [],
   "source": []
  },
  {
   "cell_type": "code",
   "execution_count": null,
   "metadata": {},
   "outputs": [],
   "source": []
  },
  {
   "cell_type": "code",
   "execution_count": null,
   "metadata": {},
   "outputs": [],
   "source": []
  },
  {
   "cell_type": "code",
   "execution_count": null,
   "metadata": {},
   "outputs": [],
   "source": []
  },
  {
   "cell_type": "code",
   "execution_count": null,
   "metadata": {},
   "outputs": [],
   "source": []
  },
  {
   "cell_type": "code",
   "execution_count": null,
   "metadata": {},
   "outputs": [],
   "source": []
  },
  {
   "cell_type": "code",
   "execution_count": null,
   "metadata": {},
   "outputs": [],
   "source": []
  }
 ],
 "metadata": {
  "kernelspec": {
   "display_name": "python3.8",
   "language": "python",
   "name": "python3.8"
  },
  "language_info": {
   "codemirror_mode": {
    "name": "ipython",
    "version": 3
   },
   "file_extension": ".py",
   "mimetype": "text/x-python",
   "name": "python",
   "nbconvert_exporter": "python",
   "pygments_lexer": "ipython3",
   "version": "3.8.5"
  },
  "widgets": {
   "application/vnd.jupyter.widget-state+json": {
    "state": {},
    "version_major": 2,
    "version_minor": 0
   }
  }
 },
 "nbformat": 4,
 "nbformat_minor": 5
}
