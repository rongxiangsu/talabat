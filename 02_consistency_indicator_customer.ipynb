{
 "cells": [
  {
   "cell_type": "code",
   "execution_count": 1,
   "metadata": {},
   "outputs": [],
   "source": [
    "import datetime\n",
    "import pandas as pd\n",
    "import numpy as np\n",
    "\n",
    "pd.options.display.float_format = '{:.5f}'.format\n",
    "pd.set_option(\"display.max_colwidth\", 0)\n",
    "pd.set_option(\"display.max_rows\", 500)\n",
    "pd.set_option(\"display.max_columns\", 500)\n",
    "pd.set_option(\"display.width\", 1000)\n",
    "import warnings\n",
    "warnings.filterwarnings(\"ignore\")"
   ]
  },
  {
   "cell_type": "code",
   "execution_count": 2,
   "metadata": {},
   "outputs": [
    {
     "name": "stdout",
     "output_type": "stream",
     "text": [
      "CPU times: user 14.5 s, sys: 3.89 s, total: 18.4 s\n",
      "Wall time: 35.4 s\n"
     ]
    }
   ],
   "source": [
    "%%time\n",
    "df_localness = pd.read_csv('./data/food_localness_oct.csv',header=0) #,nrows=10"
   ]
  },
  {
   "cell_type": "code",
   "execution_count": 3,
   "metadata": {},
   "outputs": [],
   "source": [
    "def compute_entropy_function(x):\n",
    "    x = x.reset_index()\n",
    "    total_cuisines = x.main_cuisine.unique().shape[0]  # individual based entropy, entropy according to all orders placed by one person\n",
    "    if total_cuisines == 1:\n",
    "        return 0\n",
    "    sum_nominator = 0\n",
    "    for prop in x['consistency'].tolist(): # each element is a proportion of one cuisine\n",
    "        sum_nominator += prop*(np.log(1/prop))\n",
    "    entropy = sum_nominator/np.log(total_cuisines)\n",
    "    return entropy"
   ]
  },
  {
   "cell_type": "code",
   "execution_count": 6,
   "metadata": {},
   "outputs": [
    {
     "name": "stdout",
     "output_type": "stream",
     "text": [
      "1423371\n",
      "2024-06-05 09:00:57.047391 Compute proportions...\n",
      "2024-06-05 09:12:13.899189 Done computing proportions!\n",
      "2024-06-05 09:12:13.900267 Compute entropy...\n",
      "2024-06-05 09:25:31.546224 Done computing entropy!\n",
      "CPU times: user 13min 41s, sys: 2.61 s, total: 13min 43s\n",
      "Wall time: 24min 36s\n"
     ]
    }
   ],
   "source": [
    "%%time\n",
    "# ~27min\n",
    "df_localness['consistency'] = 1\n",
    "groupped_data = df_localness.groupby(['account_id','main_cuisine']).agg({'consistency': 'sum'})\n",
    "print(groupped_data.shape[0])\n",
    "\n",
    "print(datetime.datetime.now(),'Compute proportions...')\n",
    "groupped_data = groupped_data.groupby(level=0).apply(lambda x:  x / x.sum()) # convert to proportions\n",
    "print(datetime.datetime.now(),'Done computing proportions!')\n",
    "\n",
    "print(datetime.datetime.now(),'Compute entropy...')\n",
    "groupped_data_entropy = groupped_data.groupby('account_id').apply(compute_entropy_function).reset_index() # compute entropy\n",
    "print(datetime.datetime.now(),'Done computing entropy!')"
   ]
  },
  {
   "cell_type": "code",
   "execution_count": 7,
   "metadata": {},
   "outputs": [
    {
     "data": {
      "text/plain": [
       "<Axes: >"
      ]
     },
     "execution_count": 7,
     "metadata": {},
     "output_type": "execute_result"
    },
    {
     "data": {
      "image/png": "[encoded data removed]",
      "text/plain": [
       "<Figure size 432x288 with 1 Axes>"
      ]
     },
     "metadata": {
      "needs_background": "light"
     },
     "output_type": "display_data"
    }
   ],
   "source": [
    "groupped_data_entropy.columns = ['account_id', 'consistency']\n",
    "groupped_data_entropy.consistency.hist()\n",
    "# Two peaks: either very consistent (0) or very inconsistent (1)"
   ]
  },
  {
   "cell_type": "code",
   "execution_count": 8,
   "metadata": {},
   "outputs": [
    {
     "data": {
      "text/html": [
       "<div>\n",
       "<style scoped>\n",
       "    .dataframe tbody tr th:only-of-type {\n",
       "        vertical-align: middle;\n",
       "    }\n",
       "\n",
       "    .dataframe tbody tr th {\n",
       "        vertical-align: top;\n",
       "    }\n",
       "\n",
       "    .dataframe thead th {\n",
       "        text-align: right;\n",
       "    }\n",
       "</style>\n",
       "<table border=\"1\" class=\"dataframe\">\n",
       "  <thead>\n",
       "    <tr style=\"text-align: right;\">\n",
       "      <th></th>\n",
       "      <th>account_id</th>\n",
       "      <th>consistency</th>\n",
       "    </tr>\n",
       "  </thead>\n",
       "  <tbody>\n",
       "    <tr>\n",
       "      <th>0</th>\n",
       "      <td>1008</td>\n",
       "      <td>1.00000</td>\n",
       "    </tr>\n",
       "    <tr>\n",
       "      <th>1</th>\n",
       "      <td>4626</td>\n",
       "      <td>0.76372</td>\n",
       "    </tr>\n",
       "  </tbody>\n",
       "</table>\n",
       "</div>"
      ],
      "text/plain": [
       "   account_id  consistency\n",
       "0  1008       1.00000     \n",
       "1  4626       0.76372     "
      ]
     },
     "execution_count": 8,
     "metadata": {},
     "output_type": "execute_result"
    }
   ],
   "source": [
    "groupped_data_entropy.head(2)"
   ]
  },
  {
   "cell_type": "code",
   "execution_count": 9,
   "metadata": {},
   "outputs": [],
   "source": [
    "groupped_data_entropy.to_csv('./data/order_consistency_oct.csv',index=False)"
   ]
  },
  {
   "cell_type": "code",
   "execution_count": null,
   "metadata": {},
   "outputs": [],
   "source": []
  }
 ],
 "metadata": {
  "kernelspec": {
   "display_name": "python3.8",
   "language": "python",
   "name": "python3.8"
  },
  "language_info": {
   "codemirror_mode": {
    "name": "ipython",
    "version": 3
   },
   "file_extension": ".py",
   "mimetype": "text/x-python",
   "name": "python",
   "nbconvert_exporter": "python",
   "pygments_lexer": "ipython3",
   "version": "3.8.5"
  }
 },
 "nbformat": 4,
 "nbformat_minor": 2
}
